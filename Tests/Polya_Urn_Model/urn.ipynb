{
 "cells": [
  {
   "cell_type": "code",
   "execution_count": 2,
   "metadata": {},
   "outputs": [],
   "source": [
    "import pandas as pd\n",
    "import numpy as np\n",
    "import matplotlib.pyplot as plt\n",
    "import plotly.express as px"
   ]
  },
  {
   "cell_type": "code",
   "execution_count": 3,
   "metadata": {},
   "outputs": [],
   "source": [
    "df = pd.read_csv('/Users/jeremyhudsonchan/Dropbox/Files/Boston_College_Courses/Thesis/Data/2000-2016/allegations.csv', low_memory=False)"
   ]
  },
  {
   "cell_type": "code",
   "execution_count": 4,
   "metadata": {},
   "outputs": [
    {
     "data": {
      "text/plain": [
       "Index(['CRID', 'OfficerID', 'OfficeFirst', 'OfficerLast', 'AllegationCode',\n",
       "       'Category', 'Allegation', 'RecommendedFinding', 'RecommendedOutcome',\n",
       "       'FinalFinding', 'FinalOutcome', 'Finding', 'Outcome', 'Beat',\n",
       "       'Location', 'Add1', 'Add2', 'City', 'IncidentDate', 'StartDate',\n",
       "       'EndDate', 'InvestigatorName', 'InvestigatorRank', 'Latitude',\n",
       "       'Longitude'],\n",
       "      dtype='object')"
      ]
     },
     "execution_count": 4,
     "metadata": {},
     "output_type": "execute_result"
    }
   ],
   "source": [
    "df.columns"
   ]
  },
  {
   "cell_type": "code",
   "execution_count": 5,
   "metadata": {},
   "outputs": [
    {
     "data": {
      "text/plain": [
       "(138677, 25)"
      ]
     },
     "execution_count": 5,
     "metadata": {},
     "output_type": "execute_result"
    }
   ],
   "source": [
    "df.shape"
   ]
  },
  {
   "cell_type": "code",
   "execution_count": 6,
   "metadata": {},
   "outputs": [
    {
     "data": {
      "text/plain": [
       "75017"
      ]
     },
     "execution_count": 6,
     "metadata": {},
     "output_type": "execute_result"
    }
   ],
   "source": [
    "len(pd.unique(df['CRID']))"
   ]
  },
  {
   "cell_type": "code",
   "execution_count": 7,
   "metadata": {},
   "outputs": [],
   "source": [
    "# add beat count column\n",
    "df[\"Beat Count\"] = 0"
   ]
  },
  {
   "cell_type": "code",
   "execution_count": 8,
   "metadata": {},
   "outputs": [],
   "source": [
    "# if beat is nan, drop\n",
    "df = df.dropna(subset=['Beat'])"
   ]
  },
  {
   "cell_type": "code",
   "execution_count": 9,
   "metadata": {},
   "outputs": [],
   "source": [
    "# Drop all allegations that are not Use Of Force\n",
    "df = df[df['Category'] == 'Use Of Force']"
   ]
  },
  {
   "cell_type": "code",
   "execution_count": 10,
   "metadata": {},
   "outputs": [
    {
     "data": {
      "text/plain": [
       "531.0     302\n",
       "1134.0    301\n",
       "713.0     290\n",
       "1822.0    262\n",
       "3100.0    251\n",
       "         ... \n",
       "235.0       4\n",
       "1221.0      3\n",
       "1655.0      2\n",
       "1653.0      2\n",
       "1935.0      1\n",
       "Name: Beat, Length: 274, dtype: int64"
      ]
     },
     "execution_count": 10,
     "metadata": {},
     "output_type": "execute_result"
    }
   ],
   "source": [
    "# Count how many times each beat appears throughout the dataset, and add that count to the Beat Count column, for each row, matching the beat\n",
    "# use value counts on beat column\n",
    "beat_counts = df['Beat'].value_counts()\n",
    "beat_counts"
   ]
  },
  {
   "cell_type": "code",
   "execution_count": 11,
   "metadata": {},
   "outputs": [],
   "source": [
    "# match beat to beat count\n",
    "for index, row in df.iterrows():\n",
    "    df.loc[index, 'Beat Count'] = beat_counts[row['Beat']]"
   ]
  },
  {
   "cell_type": "code",
   "execution_count": 12,
   "metadata": {},
   "outputs": [
    {
     "data": {
      "text/html": [
       "<div>\n",
       "<style scoped>\n",
       "    .dataframe tbody tr th:only-of-type {\n",
       "        vertical-align: middle;\n",
       "    }\n",
       "\n",
       "    .dataframe tbody tr th {\n",
       "        vertical-align: top;\n",
       "    }\n",
       "\n",
       "    .dataframe thead th {\n",
       "        text-align: right;\n",
       "    }\n",
       "</style>\n",
       "<table border=\"1\" class=\"dataframe\">\n",
       "  <thead>\n",
       "    <tr style=\"text-align: right;\">\n",
       "      <th></th>\n",
       "      <th>CRID</th>\n",
       "      <th>OfficerID</th>\n",
       "      <th>OfficeFirst</th>\n",
       "      <th>OfficerLast</th>\n",
       "      <th>AllegationCode</th>\n",
       "      <th>Category</th>\n",
       "      <th>Allegation</th>\n",
       "      <th>RecommendedFinding</th>\n",
       "      <th>RecommendedOutcome</th>\n",
       "      <th>FinalFinding</th>\n",
       "      <th>...</th>\n",
       "      <th>Add2</th>\n",
       "      <th>City</th>\n",
       "      <th>IncidentDate</th>\n",
       "      <th>StartDate</th>\n",
       "      <th>EndDate</th>\n",
       "      <th>InvestigatorName</th>\n",
       "      <th>InvestigatorRank</th>\n",
       "      <th>Latitude</th>\n",
       "      <th>Longitude</th>\n",
       "      <th>Beat Count</th>\n",
       "    </tr>\n",
       "  </thead>\n",
       "  <tbody>\n",
       "    <tr>\n",
       "      <th>8797</th>\n",
       "      <td>259002</td>\n",
       "      <td>3055</td>\n",
       "      <td>Cornelius</td>\n",
       "      <td>Brown</td>\n",
       "      <td>05A</td>\n",
       "      <td>Use Of Force</td>\n",
       "      <td>Excessive Force / On Duty - Injury</td>\n",
       "      <td>NS</td>\n",
       "      <td>600.0</td>\n",
       "      <td>NS</td>\n",
       "      <td>...</td>\n",
       "      <td>S MARSHFIELD</td>\n",
       "      <td>CHICAGO IL</td>\n",
       "      <td>2000-01-01 00:00:00</td>\n",
       "      <td>2000-01-01</td>\n",
       "      <td>2001-02-09</td>\n",
       "      <td>NaN</td>\n",
       "      <td>NaN</td>\n",
       "      <td>41.734875</td>\n",
       "      <td>-87.664490</td>\n",
       "      <td>50</td>\n",
       "    </tr>\n",
       "    <tr>\n",
       "      <th>8798</th>\n",
       "      <td>259002</td>\n",
       "      <td>19347</td>\n",
       "      <td>Kenneth</td>\n",
       "      <td>Molesky</td>\n",
       "      <td>05A</td>\n",
       "      <td>Use Of Force</td>\n",
       "      <td>Excessive Force / On Duty - Injury</td>\n",
       "      <td>NS</td>\n",
       "      <td>600.0</td>\n",
       "      <td>NS</td>\n",
       "      <td>...</td>\n",
       "      <td>S MARSHFIELD</td>\n",
       "      <td>CHICAGO IL</td>\n",
       "      <td>2000-01-01 00:00:00</td>\n",
       "      <td>2000-01-01</td>\n",
       "      <td>2001-02-09</td>\n",
       "      <td>NaN</td>\n",
       "      <td>NaN</td>\n",
       "      <td>41.734875</td>\n",
       "      <td>-87.664490</td>\n",
       "      <td>50</td>\n",
       "    </tr>\n",
       "    <tr>\n",
       "      <th>8804</th>\n",
       "      <td>259011</td>\n",
       "      <td>10864</td>\n",
       "      <td>Mark</td>\n",
       "      <td>Grohovena</td>\n",
       "      <td>05D</td>\n",
       "      <td>Use Of Force</td>\n",
       "      <td>Excessive Force / Off Duty - No Injury</td>\n",
       "      <td>NS</td>\n",
       "      <td>600.0</td>\n",
       "      <td>NS</td>\n",
       "      <td>...</td>\n",
       "      <td>W 43RD PLACE</td>\n",
       "      <td>CHICAGO IL 60609</td>\n",
       "      <td>2000-01-01 00:00:00</td>\n",
       "      <td>2000-01-01</td>\n",
       "      <td>2000-12-11</td>\n",
       "      <td>NaN</td>\n",
       "      <td>NaN</td>\n",
       "      <td>41.815088</td>\n",
       "      <td>-87.643150</td>\n",
       "      <td>142</td>\n",
       "    </tr>\n",
       "    <tr>\n",
       "      <th>8807</th>\n",
       "      <td>259013</td>\n",
       "      <td>20651</td>\n",
       "      <td>James</td>\n",
       "      <td>Norwood</td>\n",
       "      <td>05C</td>\n",
       "      <td>Use Of Force</td>\n",
       "      <td>Excessive Force / Off Duty - Injury</td>\n",
       "      <td>NS</td>\n",
       "      <td>600.0</td>\n",
       "      <td>NS</td>\n",
       "      <td>...</td>\n",
       "      <td>W 105TH</td>\n",
       "      <td>CHICAGO IL 60643</td>\n",
       "      <td>2000-01-01 00:00:00</td>\n",
       "      <td>2000-01-01</td>\n",
       "      <td>2001-02-01</td>\n",
       "      <td>NaN</td>\n",
       "      <td>NaN</td>\n",
       "      <td>41.703681</td>\n",
       "      <td>-87.625984</td>\n",
       "      <td>105</td>\n",
       "    </tr>\n",
       "    <tr>\n",
       "      <th>8808</th>\n",
       "      <td>259013</td>\n",
       "      <td>3055</td>\n",
       "      <td>Cornelius</td>\n",
       "      <td>Brown</td>\n",
       "      <td>05A</td>\n",
       "      <td>Use Of Force</td>\n",
       "      <td>Excessive Force / On Duty - Injury</td>\n",
       "      <td>NS</td>\n",
       "      <td>600.0</td>\n",
       "      <td>NS</td>\n",
       "      <td>...</td>\n",
       "      <td>W 105TH</td>\n",
       "      <td>CHICAGO IL 60643</td>\n",
       "      <td>2000-01-01 00:00:00</td>\n",
       "      <td>2000-01-01</td>\n",
       "      <td>2001-02-01</td>\n",
       "      <td>NaN</td>\n",
       "      <td>NaN</td>\n",
       "      <td>41.703681</td>\n",
       "      <td>-87.625984</td>\n",
       "      <td>105</td>\n",
       "    </tr>\n",
       "  </tbody>\n",
       "</table>\n",
       "<p>5 rows × 26 columns</p>\n",
       "</div>"
      ],
      "text/plain": [
       "        CRID  OfficerID OfficeFirst OfficerLast AllegationCode      Category  \\\n",
       "8797  259002       3055   Cornelius       Brown            05A  Use Of Force   \n",
       "8798  259002      19347     Kenneth     Molesky            05A  Use Of Force   \n",
       "8804  259011      10864        Mark   Grohovena            05D  Use Of Force   \n",
       "8807  259013      20651       James     Norwood            05C  Use Of Force   \n",
       "8808  259013       3055   Cornelius       Brown            05A  Use Of Force   \n",
       "\n",
       "                                  Allegation RecommendedFinding  \\\n",
       "8797      Excessive Force / On Duty - Injury                 NS   \n",
       "8798      Excessive Force / On Duty - Injury                 NS   \n",
       "8804  Excessive Force / Off Duty - No Injury                 NS   \n",
       "8807     Excessive Force / Off Duty - Injury                 NS   \n",
       "8808      Excessive Force / On Duty - Injury                 NS   \n",
       "\n",
       "      RecommendedOutcome FinalFinding  ...          Add2              City  \\\n",
       "8797               600.0           NS  ...  S MARSHFIELD        CHICAGO IL   \n",
       "8798               600.0           NS  ...  S MARSHFIELD        CHICAGO IL   \n",
       "8804               600.0           NS  ...  W 43RD PLACE  CHICAGO IL 60609   \n",
       "8807               600.0           NS  ...       W 105TH  CHICAGO IL 60643   \n",
       "8808               600.0           NS  ...       W 105TH  CHICAGO IL 60643   \n",
       "\n",
       "             IncidentDate   StartDate     EndDate InvestigatorName  \\\n",
       "8797  2000-01-01 00:00:00  2000-01-01  2001-02-09              NaN   \n",
       "8798  2000-01-01 00:00:00  2000-01-01  2001-02-09              NaN   \n",
       "8804  2000-01-01 00:00:00  2000-01-01  2000-12-11              NaN   \n",
       "8807  2000-01-01 00:00:00  2000-01-01  2001-02-01              NaN   \n",
       "8808  2000-01-01 00:00:00  2000-01-01  2001-02-01              NaN   \n",
       "\n",
       "     InvestigatorRank   Latitude  Longitude Beat Count  \n",
       "8797              NaN  41.734875 -87.664490         50  \n",
       "8798              NaN  41.734875 -87.664490         50  \n",
       "8804              NaN  41.815088 -87.643150        142  \n",
       "8807              NaN  41.703681 -87.625984        105  \n",
       "8808              NaN  41.703681 -87.625984        105  \n",
       "\n",
       "[5 rows x 26 columns]"
      ]
     },
     "execution_count": 12,
     "metadata": {},
     "output_type": "execute_result"
    }
   ],
   "source": [
    "df.head()"
   ]
  },
  {
   "cell_type": "code",
   "execution_count": 13,
   "metadata": {},
   "outputs": [],
   "source": [
    "# calculate proportion of beat count to total number of allegations\n",
    "# normalize beat count with sum of all beat counts\n",
    "df['Beat Count'] = df['Beat Count'] / df['Beat Count'].sum()"
   ]
  },
  {
   "cell_type": "code",
   "execution_count": 14,
   "metadata": {},
   "outputs": [
    {
     "data": {
      "text/html": [
       "<div>\n",
       "<style scoped>\n",
       "    .dataframe tbody tr th:only-of-type {\n",
       "        vertical-align: middle;\n",
       "    }\n",
       "\n",
       "    .dataframe tbody tr th {\n",
       "        vertical-align: top;\n",
       "    }\n",
       "\n",
       "    .dataframe thead th {\n",
       "        text-align: right;\n",
       "    }\n",
       "</style>\n",
       "<table border=\"1\" class=\"dataframe\">\n",
       "  <thead>\n",
       "    <tr style=\"text-align: right;\">\n",
       "      <th></th>\n",
       "      <th>CRID</th>\n",
       "      <th>OfficerID</th>\n",
       "      <th>OfficeFirst</th>\n",
       "      <th>OfficerLast</th>\n",
       "      <th>AllegationCode</th>\n",
       "      <th>Category</th>\n",
       "      <th>Allegation</th>\n",
       "      <th>RecommendedFinding</th>\n",
       "      <th>RecommendedOutcome</th>\n",
       "      <th>FinalFinding</th>\n",
       "      <th>...</th>\n",
       "      <th>Add2</th>\n",
       "      <th>City</th>\n",
       "      <th>IncidentDate</th>\n",
       "      <th>StartDate</th>\n",
       "      <th>EndDate</th>\n",
       "      <th>InvestigatorName</th>\n",
       "      <th>InvestigatorRank</th>\n",
       "      <th>Latitude</th>\n",
       "      <th>Longitude</th>\n",
       "      <th>Beat Count</th>\n",
       "    </tr>\n",
       "  </thead>\n",
       "  <tbody>\n",
       "    <tr>\n",
       "      <th>8797</th>\n",
       "      <td>259002</td>\n",
       "      <td>3055</td>\n",
       "      <td>Cornelius</td>\n",
       "      <td>Brown</td>\n",
       "      <td>05A</td>\n",
       "      <td>Use Of Force</td>\n",
       "      <td>Excessive Force / On Duty - Injury</td>\n",
       "      <td>NS</td>\n",
       "      <td>600.0</td>\n",
       "      <td>NS</td>\n",
       "      <td>...</td>\n",
       "      <td>S MARSHFIELD</td>\n",
       "      <td>CHICAGO IL</td>\n",
       "      <td>2000-01-01 00:00:00</td>\n",
       "      <td>2000-01-01</td>\n",
       "      <td>2001-02-09</td>\n",
       "      <td>NaN</td>\n",
       "      <td>NaN</td>\n",
       "      <td>41.734875</td>\n",
       "      <td>-87.664490</td>\n",
       "      <td>0.000018</td>\n",
       "    </tr>\n",
       "    <tr>\n",
       "      <th>8798</th>\n",
       "      <td>259002</td>\n",
       "      <td>19347</td>\n",
       "      <td>Kenneth</td>\n",
       "      <td>Molesky</td>\n",
       "      <td>05A</td>\n",
       "      <td>Use Of Force</td>\n",
       "      <td>Excessive Force / On Duty - Injury</td>\n",
       "      <td>NS</td>\n",
       "      <td>600.0</td>\n",
       "      <td>NS</td>\n",
       "      <td>...</td>\n",
       "      <td>S MARSHFIELD</td>\n",
       "      <td>CHICAGO IL</td>\n",
       "      <td>2000-01-01 00:00:00</td>\n",
       "      <td>2000-01-01</td>\n",
       "      <td>2001-02-09</td>\n",
       "      <td>NaN</td>\n",
       "      <td>NaN</td>\n",
       "      <td>41.734875</td>\n",
       "      <td>-87.664490</td>\n",
       "      <td>0.000018</td>\n",
       "    </tr>\n",
       "    <tr>\n",
       "      <th>8804</th>\n",
       "      <td>259011</td>\n",
       "      <td>10864</td>\n",
       "      <td>Mark</td>\n",
       "      <td>Grohovena</td>\n",
       "      <td>05D</td>\n",
       "      <td>Use Of Force</td>\n",
       "      <td>Excessive Force / Off Duty - No Injury</td>\n",
       "      <td>NS</td>\n",
       "      <td>600.0</td>\n",
       "      <td>NS</td>\n",
       "      <td>...</td>\n",
       "      <td>W 43RD PLACE</td>\n",
       "      <td>CHICAGO IL 60609</td>\n",
       "      <td>2000-01-01 00:00:00</td>\n",
       "      <td>2000-01-01</td>\n",
       "      <td>2000-12-11</td>\n",
       "      <td>NaN</td>\n",
       "      <td>NaN</td>\n",
       "      <td>41.815088</td>\n",
       "      <td>-87.643150</td>\n",
       "      <td>0.000051</td>\n",
       "    </tr>\n",
       "    <tr>\n",
       "      <th>8807</th>\n",
       "      <td>259013</td>\n",
       "      <td>20651</td>\n",
       "      <td>James</td>\n",
       "      <td>Norwood</td>\n",
       "      <td>05C</td>\n",
       "      <td>Use Of Force</td>\n",
       "      <td>Excessive Force / Off Duty - Injury</td>\n",
       "      <td>NS</td>\n",
       "      <td>600.0</td>\n",
       "      <td>NS</td>\n",
       "      <td>...</td>\n",
       "      <td>W 105TH</td>\n",
       "      <td>CHICAGO IL 60643</td>\n",
       "      <td>2000-01-01 00:00:00</td>\n",
       "      <td>2000-01-01</td>\n",
       "      <td>2001-02-01</td>\n",
       "      <td>NaN</td>\n",
       "      <td>NaN</td>\n",
       "      <td>41.703681</td>\n",
       "      <td>-87.625984</td>\n",
       "      <td>0.000037</td>\n",
       "    </tr>\n",
       "    <tr>\n",
       "      <th>8808</th>\n",
       "      <td>259013</td>\n",
       "      <td>3055</td>\n",
       "      <td>Cornelius</td>\n",
       "      <td>Brown</td>\n",
       "      <td>05A</td>\n",
       "      <td>Use Of Force</td>\n",
       "      <td>Excessive Force / On Duty - Injury</td>\n",
       "      <td>NS</td>\n",
       "      <td>600.0</td>\n",
       "      <td>NS</td>\n",
       "      <td>...</td>\n",
       "      <td>W 105TH</td>\n",
       "      <td>CHICAGO IL 60643</td>\n",
       "      <td>2000-01-01 00:00:00</td>\n",
       "      <td>2000-01-01</td>\n",
       "      <td>2001-02-01</td>\n",
       "      <td>NaN</td>\n",
       "      <td>NaN</td>\n",
       "      <td>41.703681</td>\n",
       "      <td>-87.625984</td>\n",
       "      <td>0.000037</td>\n",
       "    </tr>\n",
       "  </tbody>\n",
       "</table>\n",
       "<p>5 rows × 26 columns</p>\n",
       "</div>"
      ],
      "text/plain": [
       "        CRID  OfficerID OfficeFirst OfficerLast AllegationCode      Category  \\\n",
       "8797  259002       3055   Cornelius       Brown            05A  Use Of Force   \n",
       "8798  259002      19347     Kenneth     Molesky            05A  Use Of Force   \n",
       "8804  259011      10864        Mark   Grohovena            05D  Use Of Force   \n",
       "8807  259013      20651       James     Norwood            05C  Use Of Force   \n",
       "8808  259013       3055   Cornelius       Brown            05A  Use Of Force   \n",
       "\n",
       "                                  Allegation RecommendedFinding  \\\n",
       "8797      Excessive Force / On Duty - Injury                 NS   \n",
       "8798      Excessive Force / On Duty - Injury                 NS   \n",
       "8804  Excessive Force / Off Duty - No Injury                 NS   \n",
       "8807     Excessive Force / Off Duty - Injury                 NS   \n",
       "8808      Excessive Force / On Duty - Injury                 NS   \n",
       "\n",
       "      RecommendedOutcome FinalFinding  ...          Add2              City  \\\n",
       "8797               600.0           NS  ...  S MARSHFIELD        CHICAGO IL   \n",
       "8798               600.0           NS  ...  S MARSHFIELD        CHICAGO IL   \n",
       "8804               600.0           NS  ...  W 43RD PLACE  CHICAGO IL 60609   \n",
       "8807               600.0           NS  ...       W 105TH  CHICAGO IL 60643   \n",
       "8808               600.0           NS  ...       W 105TH  CHICAGO IL 60643   \n",
       "\n",
       "             IncidentDate   StartDate     EndDate InvestigatorName  \\\n",
       "8797  2000-01-01 00:00:00  2000-01-01  2001-02-09              NaN   \n",
       "8798  2000-01-01 00:00:00  2000-01-01  2001-02-09              NaN   \n",
       "8804  2000-01-01 00:00:00  2000-01-01  2000-12-11              NaN   \n",
       "8807  2000-01-01 00:00:00  2000-01-01  2001-02-01              NaN   \n",
       "8808  2000-01-01 00:00:00  2000-01-01  2001-02-01              NaN   \n",
       "\n",
       "     InvestigatorRank   Latitude  Longitude Beat Count  \n",
       "8797              NaN  41.734875 -87.664490   0.000018  \n",
       "8798              NaN  41.734875 -87.664490   0.000018  \n",
       "8804              NaN  41.815088 -87.643150   0.000051  \n",
       "8807              NaN  41.703681 -87.625984   0.000037  \n",
       "8808              NaN  41.703681 -87.625984   0.000037  \n",
       "\n",
       "[5 rows x 26 columns]"
      ]
     },
     "execution_count": 14,
     "metadata": {},
     "output_type": "execute_result"
    }
   ],
   "source": [
    "df.head()"
   ]
  },
  {
   "cell_type": "code",
   "execution_count": 15,
   "metadata": {},
   "outputs": [],
   "source": [
    "# get list of unique officers in the dataset\n",
    "officer_list = pd.unique(df['OfficerID'])"
   ]
  },
  {
   "cell_type": "code",
   "execution_count": 16,
   "metadata": {},
   "outputs": [],
   "source": [
    "# group by CRID\n",
    "df_grouped = df.groupby('CRID')"
   ]
  },
  {
   "cell_type": "code",
   "execution_count": 17,
   "metadata": {},
   "outputs": [
    {
     "data": {
      "text/html": [
       "<div>\n",
       "<style scoped>\n",
       "    .dataframe tbody tr th:only-of-type {\n",
       "        vertical-align: middle;\n",
       "    }\n",
       "\n",
       "    .dataframe tbody tr th {\n",
       "        vertical-align: top;\n",
       "    }\n",
       "\n",
       "    .dataframe thead th {\n",
       "        text-align: right;\n",
       "    }\n",
       "</style>\n",
       "<table border=\"1\" class=\"dataframe\">\n",
       "  <thead>\n",
       "    <tr style=\"text-align: right;\">\n",
       "      <th></th>\n",
       "      <th>CRID</th>\n",
       "      <th>OfficerID</th>\n",
       "      <th>OfficeFirst</th>\n",
       "      <th>OfficerLast</th>\n",
       "      <th>AllegationCode</th>\n",
       "      <th>Category</th>\n",
       "      <th>Allegation</th>\n",
       "      <th>RecommendedFinding</th>\n",
       "      <th>RecommendedOutcome</th>\n",
       "      <th>FinalFinding</th>\n",
       "      <th>...</th>\n",
       "      <th>Add2</th>\n",
       "      <th>City</th>\n",
       "      <th>IncidentDate</th>\n",
       "      <th>StartDate</th>\n",
       "      <th>EndDate</th>\n",
       "      <th>InvestigatorName</th>\n",
       "      <th>InvestigatorRank</th>\n",
       "      <th>Latitude</th>\n",
       "      <th>Longitude</th>\n",
       "      <th>Beat Count</th>\n",
       "    </tr>\n",
       "  </thead>\n",
       "  <tbody>\n",
       "    <tr>\n",
       "      <th>8797</th>\n",
       "      <td>259002</td>\n",
       "      <td>3055</td>\n",
       "      <td>Cornelius</td>\n",
       "      <td>Brown</td>\n",
       "      <td>05A</td>\n",
       "      <td>Use Of Force</td>\n",
       "      <td>Excessive Force / On Duty - Injury</td>\n",
       "      <td>NS</td>\n",
       "      <td>600.0</td>\n",
       "      <td>NS</td>\n",
       "      <td>...</td>\n",
       "      <td>S MARSHFIELD</td>\n",
       "      <td>CHICAGO IL</td>\n",
       "      <td>2000-01-01 00:00:00</td>\n",
       "      <td>2000-01-01</td>\n",
       "      <td>2001-02-09</td>\n",
       "      <td>NaN</td>\n",
       "      <td>NaN</td>\n",
       "      <td>41.734875</td>\n",
       "      <td>-87.664490</td>\n",
       "      <td>0.000018</td>\n",
       "    </tr>\n",
       "    <tr>\n",
       "      <th>8798</th>\n",
       "      <td>259002</td>\n",
       "      <td>19347</td>\n",
       "      <td>Kenneth</td>\n",
       "      <td>Molesky</td>\n",
       "      <td>05A</td>\n",
       "      <td>Use Of Force</td>\n",
       "      <td>Excessive Force / On Duty - Injury</td>\n",
       "      <td>NS</td>\n",
       "      <td>600.0</td>\n",
       "      <td>NS</td>\n",
       "      <td>...</td>\n",
       "      <td>S MARSHFIELD</td>\n",
       "      <td>CHICAGO IL</td>\n",
       "      <td>2000-01-01 00:00:00</td>\n",
       "      <td>2000-01-01</td>\n",
       "      <td>2001-02-09</td>\n",
       "      <td>NaN</td>\n",
       "      <td>NaN</td>\n",
       "      <td>41.734875</td>\n",
       "      <td>-87.664490</td>\n",
       "      <td>0.000018</td>\n",
       "    </tr>\n",
       "    <tr>\n",
       "      <th>8804</th>\n",
       "      <td>259011</td>\n",
       "      <td>10864</td>\n",
       "      <td>Mark</td>\n",
       "      <td>Grohovena</td>\n",
       "      <td>05D</td>\n",
       "      <td>Use Of Force</td>\n",
       "      <td>Excessive Force / Off Duty - No Injury</td>\n",
       "      <td>NS</td>\n",
       "      <td>600.0</td>\n",
       "      <td>NS</td>\n",
       "      <td>...</td>\n",
       "      <td>W 43RD PLACE</td>\n",
       "      <td>CHICAGO IL 60609</td>\n",
       "      <td>2000-01-01 00:00:00</td>\n",
       "      <td>2000-01-01</td>\n",
       "      <td>2000-12-11</td>\n",
       "      <td>NaN</td>\n",
       "      <td>NaN</td>\n",
       "      <td>41.815088</td>\n",
       "      <td>-87.643150</td>\n",
       "      <td>0.000051</td>\n",
       "    </tr>\n",
       "    <tr>\n",
       "      <th>8807</th>\n",
       "      <td>259013</td>\n",
       "      <td>20651</td>\n",
       "      <td>James</td>\n",
       "      <td>Norwood</td>\n",
       "      <td>05C</td>\n",
       "      <td>Use Of Force</td>\n",
       "      <td>Excessive Force / Off Duty - Injury</td>\n",
       "      <td>NS</td>\n",
       "      <td>600.0</td>\n",
       "      <td>NS</td>\n",
       "      <td>...</td>\n",
       "      <td>W 105TH</td>\n",
       "      <td>CHICAGO IL 60643</td>\n",
       "      <td>2000-01-01 00:00:00</td>\n",
       "      <td>2000-01-01</td>\n",
       "      <td>2001-02-01</td>\n",
       "      <td>NaN</td>\n",
       "      <td>NaN</td>\n",
       "      <td>41.703681</td>\n",
       "      <td>-87.625984</td>\n",
       "      <td>0.000037</td>\n",
       "    </tr>\n",
       "    <tr>\n",
       "      <th>8808</th>\n",
       "      <td>259013</td>\n",
       "      <td>3055</td>\n",
       "      <td>Cornelius</td>\n",
       "      <td>Brown</td>\n",
       "      <td>05A</td>\n",
       "      <td>Use Of Force</td>\n",
       "      <td>Excessive Force / On Duty - Injury</td>\n",
       "      <td>NS</td>\n",
       "      <td>600.0</td>\n",
       "      <td>NS</td>\n",
       "      <td>...</td>\n",
       "      <td>W 105TH</td>\n",
       "      <td>CHICAGO IL 60643</td>\n",
       "      <td>2000-01-01 00:00:00</td>\n",
       "      <td>2000-01-01</td>\n",
       "      <td>2001-02-01</td>\n",
       "      <td>NaN</td>\n",
       "      <td>NaN</td>\n",
       "      <td>41.703681</td>\n",
       "      <td>-87.625984</td>\n",
       "      <td>0.000037</td>\n",
       "    </tr>\n",
       "    <tr>\n",
       "      <th>...</th>\n",
       "      <td>...</td>\n",
       "      <td>...</td>\n",
       "      <td>...</td>\n",
       "      <td>...</td>\n",
       "      <td>...</td>\n",
       "      <td>...</td>\n",
       "      <td>...</td>\n",
       "      <td>...</td>\n",
       "      <td>...</td>\n",
       "      <td>...</td>\n",
       "      <td>...</td>\n",
       "      <td>...</td>\n",
       "      <td>...</td>\n",
       "      <td>...</td>\n",
       "      <td>...</td>\n",
       "      <td>...</td>\n",
       "      <td>...</td>\n",
       "      <td>...</td>\n",
       "      <td>...</td>\n",
       "      <td>...</td>\n",
       "      <td>...</td>\n",
       "    </tr>\n",
       "    <tr>\n",
       "      <th>138652</th>\n",
       "      <td>1080707</td>\n",
       "      <td>403</td>\n",
       "      <td>Regan</td>\n",
       "      <td>Allen</td>\n",
       "      <td>05A</td>\n",
       "      <td>Use Of Force</td>\n",
       "      <td>Excessive Force / On Duty - Injury</td>\n",
       "      <td>NaN</td>\n",
       "      <td>NaN</td>\n",
       "      <td>NaN</td>\n",
       "      <td>...</td>\n",
       "      <td>S JEFFERY BLVD</td>\n",
       "      <td>CHICAGO IL</td>\n",
       "      <td>2016-04-16 00:00:00</td>\n",
       "      <td>2016-05-27</td>\n",
       "      <td>2016-09-30</td>\n",
       "      <td>NaN</td>\n",
       "      <td>NaN</td>\n",
       "      <td>41.771969</td>\n",
       "      <td>-87.576156</td>\n",
       "      <td>0.000038</td>\n",
       "    </tr>\n",
       "    <tr>\n",
       "      <th>138657</th>\n",
       "      <td>1081176</td>\n",
       "      <td>9597</td>\n",
       "      <td>Julio</td>\n",
       "      <td>Garcia</td>\n",
       "      <td>S021</td>\n",
       "      <td>Use Of Force</td>\n",
       "      <td>Miscellaneous</td>\n",
       "      <td>NaN</td>\n",
       "      <td>NaN</td>\n",
       "      <td>UN</td>\n",
       "      <td>...</td>\n",
       "      <td>East 71ST ST</td>\n",
       "      <td>CHICAGO ILLINOIS 60649</td>\n",
       "      <td>2016-06-28 00:00:00</td>\n",
       "      <td>2016-06-28</td>\n",
       "      <td>2017-03-03</td>\n",
       "      <td>NaN</td>\n",
       "      <td>NaN</td>\n",
       "      <td>41.766444</td>\n",
       "      <td>-87.575869</td>\n",
       "      <td>0.000038</td>\n",
       "    </tr>\n",
       "    <tr>\n",
       "      <th>138658</th>\n",
       "      <td>1080321</td>\n",
       "      <td>2425</td>\n",
       "      <td>Stephen</td>\n",
       "      <td>Borozan</td>\n",
       "      <td>S021</td>\n",
       "      <td>Use Of Force</td>\n",
       "      <td>Miscellaneous</td>\n",
       "      <td>NaN</td>\n",
       "      <td>NaN</td>\n",
       "      <td>UN</td>\n",
       "      <td>...</td>\n",
       "      <td>South MICHIGAN AVE</td>\n",
       "      <td>CHICAGO ILLINOIS 60628</td>\n",
       "      <td>2016-04-27 00:00:00</td>\n",
       "      <td>2016-04-29</td>\n",
       "      <td>2017-04-11</td>\n",
       "      <td>Alexis L. Serio</td>\n",
       "      <td>NaN</td>\n",
       "      <td>41.688973</td>\n",
       "      <td>-87.620994</td>\n",
       "      <td>0.000108</td>\n",
       "    </tr>\n",
       "    <tr>\n",
       "      <th>138671</th>\n",
       "      <td>1079449</td>\n",
       "      <td>21483</td>\n",
       "      <td>Joseph</td>\n",
       "      <td>Oskvarek</td>\n",
       "      <td>05A</td>\n",
       "      <td>Use Of Force</td>\n",
       "      <td>Excessive Force / On Duty - Injury</td>\n",
       "      <td>NaN</td>\n",
       "      <td>NaN</td>\n",
       "      <td>UN</td>\n",
       "      <td>...</td>\n",
       "      <td>NaN</td>\n",
       "      <td>NaN</td>\n",
       "      <td>2016-01-10 00:00:00</td>\n",
       "      <td>2016-03-01</td>\n",
       "      <td>NaN</td>\n",
       "      <td>NaN</td>\n",
       "      <td>NaN</td>\n",
       "      <td>NaN</td>\n",
       "      <td>NaN</td>\n",
       "      <td>0.000029</td>\n",
       "    </tr>\n",
       "    <tr>\n",
       "      <th>138673</th>\n",
       "      <td>1081570</td>\n",
       "      <td>27341</td>\n",
       "      <td>Todd</td>\n",
       "      <td>Stanley</td>\n",
       "      <td>05M</td>\n",
       "      <td>Use Of Force</td>\n",
       "      <td>Unnecessary Physical Contact / On Duty - No In...</td>\n",
       "      <td>NaN</td>\n",
       "      <td>NaN</td>\n",
       "      <td>NaN</td>\n",
       "      <td>...</td>\n",
       "      <td>East ROOSEVELT RD</td>\n",
       "      <td>CHICAGO ILLINOIS 60605</td>\n",
       "      <td>2016-07-23 00:00:00</td>\n",
       "      <td>2016-07-23</td>\n",
       "      <td>2016-10-31</td>\n",
       "      <td>NaN</td>\n",
       "      <td>NaN</td>\n",
       "      <td>41.874184</td>\n",
       "      <td>-87.626423</td>\n",
       "      <td>0.000022</td>\n",
       "    </tr>\n",
       "  </tbody>\n",
       "</table>\n",
       "<p>22045 rows × 26 columns</p>\n",
       "</div>"
      ],
      "text/plain": [
       "           CRID  OfficerID OfficeFirst OfficerLast AllegationCode  \\\n",
       "8797     259002       3055   Cornelius       Brown            05A   \n",
       "8798     259002      19347     Kenneth     Molesky            05A   \n",
       "8804     259011      10864        Mark   Grohovena            05D   \n",
       "8807     259013      20651       James     Norwood            05C   \n",
       "8808     259013       3055   Cornelius       Brown            05A   \n",
       "...         ...        ...         ...         ...            ...   \n",
       "138652  1080707        403       Regan       Allen            05A   \n",
       "138657  1081176       9597       Julio      Garcia           S021   \n",
       "138658  1080321       2425     Stephen     Borozan           S021   \n",
       "138671  1079449      21483      Joseph    Oskvarek            05A   \n",
       "138673  1081570      27341        Todd     Stanley            05M   \n",
       "\n",
       "            Category                                         Allegation  \\\n",
       "8797    Use Of Force                 Excessive Force / On Duty - Injury   \n",
       "8798    Use Of Force                 Excessive Force / On Duty - Injury   \n",
       "8804    Use Of Force             Excessive Force / Off Duty - No Injury   \n",
       "8807    Use Of Force                Excessive Force / Off Duty - Injury   \n",
       "8808    Use Of Force                 Excessive Force / On Duty - Injury   \n",
       "...              ...                                                ...   \n",
       "138652  Use Of Force                 Excessive Force / On Duty - Injury   \n",
       "138657  Use Of Force                                      Miscellaneous   \n",
       "138658  Use Of Force                                      Miscellaneous   \n",
       "138671  Use Of Force                 Excessive Force / On Duty - Injury   \n",
       "138673  Use Of Force  Unnecessary Physical Contact / On Duty - No In...   \n",
       "\n",
       "       RecommendedFinding  RecommendedOutcome FinalFinding  ...  \\\n",
       "8797                   NS               600.0           NS  ...   \n",
       "8798                   NS               600.0           NS  ...   \n",
       "8804                   NS               600.0           NS  ...   \n",
       "8807                   NS               600.0           NS  ...   \n",
       "8808                   NS               600.0           NS  ...   \n",
       "...                   ...                 ...          ...  ...   \n",
       "138652                NaN                 NaN          NaN  ...   \n",
       "138657                NaN                 NaN           UN  ...   \n",
       "138658                NaN                 NaN           UN  ...   \n",
       "138671                NaN                 NaN           UN  ...   \n",
       "138673                NaN                 NaN          NaN  ...   \n",
       "\n",
       "                      Add2                    City         IncidentDate  \\\n",
       "8797          S MARSHFIELD              CHICAGO IL  2000-01-01 00:00:00   \n",
       "8798          S MARSHFIELD              CHICAGO IL  2000-01-01 00:00:00   \n",
       "8804          W 43RD PLACE        CHICAGO IL 60609  2000-01-01 00:00:00   \n",
       "8807               W 105TH        CHICAGO IL 60643  2000-01-01 00:00:00   \n",
       "8808               W 105TH        CHICAGO IL 60643  2000-01-01 00:00:00   \n",
       "...                    ...                     ...                  ...   \n",
       "138652      S JEFFERY BLVD              CHICAGO IL  2016-04-16 00:00:00   \n",
       "138657        East 71ST ST  CHICAGO ILLINOIS 60649  2016-06-28 00:00:00   \n",
       "138658  South MICHIGAN AVE  CHICAGO ILLINOIS 60628  2016-04-27 00:00:00   \n",
       "138671                 NaN                     NaN  2016-01-10 00:00:00   \n",
       "138673   East ROOSEVELT RD  CHICAGO ILLINOIS 60605  2016-07-23 00:00:00   \n",
       "\n",
       "         StartDate     EndDate InvestigatorName InvestigatorRank   Latitude  \\\n",
       "8797    2000-01-01  2001-02-09              NaN              NaN  41.734875   \n",
       "8798    2000-01-01  2001-02-09              NaN              NaN  41.734875   \n",
       "8804    2000-01-01  2000-12-11              NaN              NaN  41.815088   \n",
       "8807    2000-01-01  2001-02-01              NaN              NaN  41.703681   \n",
       "8808    2000-01-01  2001-02-01              NaN              NaN  41.703681   \n",
       "...            ...         ...              ...              ...        ...   \n",
       "138652  2016-05-27  2016-09-30              NaN              NaN  41.771969   \n",
       "138657  2016-06-28  2017-03-03              NaN              NaN  41.766444   \n",
       "138658  2016-04-29  2017-04-11  Alexis L. Serio              NaN  41.688973   \n",
       "138671  2016-03-01         NaN              NaN              NaN        NaN   \n",
       "138673  2016-07-23  2016-10-31              NaN              NaN  41.874184   \n",
       "\n",
       "        Longitude Beat Count  \n",
       "8797   -87.664490   0.000018  \n",
       "8798   -87.664490   0.000018  \n",
       "8804   -87.643150   0.000051  \n",
       "8807   -87.625984   0.000037  \n",
       "8808   -87.625984   0.000037  \n",
       "...           ...        ...  \n",
       "138652 -87.576156   0.000038  \n",
       "138657 -87.575869   0.000038  \n",
       "138658 -87.620994   0.000108  \n",
       "138671        NaN   0.000029  \n",
       "138673 -87.626423   0.000022  \n",
       "\n",
       "[22045 rows x 26 columns]"
      ]
     },
     "execution_count": 17,
     "metadata": {},
     "output_type": "execute_result"
    }
   ],
   "source": [
    "df_grouped.head()"
   ]
  },
  {
   "cell_type": "code",
   "execution_count": 18,
   "metadata": {},
   "outputs": [],
   "source": [
    "# permutation test\n",
    "# probabilities are in df[\"Beat Count\"]\n",
    "officers = pd.read_csv('/Users/jeremyhudsonchan/Dropbox/Files/Boston_College_Courses/Thesis/Data/2000-2016/officer_profile.csv', low_memory=False)"
   ]
  },
  {
   "cell_type": "code",
   "execution_count": 19,
   "metadata": {},
   "outputs": [
    {
     "data": {
      "text/html": [
       "<div>\n",
       "<style scoped>\n",
       "    .dataframe tbody tr th:only-of-type {\n",
       "        vertical-align: middle;\n",
       "    }\n",
       "\n",
       "    .dataframe tbody tr th {\n",
       "        vertical-align: top;\n",
       "    }\n",
       "\n",
       "    .dataframe thead th {\n",
       "        text-align: right;\n",
       "    }\n",
       "</style>\n",
       "<table border=\"1\" class=\"dataframe\">\n",
       "  <thead>\n",
       "    <tr style=\"text-align: right;\">\n",
       "      <th></th>\n",
       "      <th>OfficerID</th>\n",
       "      <th>OfficerFirst</th>\n",
       "      <th>OfficerLast</th>\n",
       "      <th>Gender</th>\n",
       "      <th>Race</th>\n",
       "      <th>ApptDate</th>\n",
       "      <th>Unit</th>\n",
       "      <th>Rank</th>\n",
       "      <th>Star</th>\n",
       "      <th>Age</th>\n",
       "    </tr>\n",
       "  </thead>\n",
       "  <tbody>\n",
       "    <tr>\n",
       "      <th>0</th>\n",
       "      <td>4</td>\n",
       "      <td>Carmel</td>\n",
       "      <td>Abbate</td>\n",
       "      <td>M</td>\n",
       "      <td>White</td>\n",
       "      <td>25209.0</td>\n",
       "      <td>NaN</td>\n",
       "      <td>Po As Detective</td>\n",
       "      <td>NaN</td>\n",
       "      <td>80</td>\n",
       "    </tr>\n",
       "    <tr>\n",
       "      <th>1</th>\n",
       "      <td>13</td>\n",
       "      <td>Dale</td>\n",
       "      <td>Abbott</td>\n",
       "      <td>M</td>\n",
       "      <td>White</td>\n",
       "      <td>30284.0</td>\n",
       "      <td>NaN</td>\n",
       "      <td>Police Officer</td>\n",
       "      <td>NaN</td>\n",
       "      <td>69</td>\n",
       "    </tr>\n",
       "    <tr>\n",
       "      <th>2</th>\n",
       "      <td>17</td>\n",
       "      <td>Moulay</td>\n",
       "      <td>Abdullah</td>\n",
       "      <td>M</td>\n",
       "      <td>Black</td>\n",
       "      <td>32868.0</td>\n",
       "      <td>NaN</td>\n",
       "      <td>Police Officer</td>\n",
       "      <td>NaN</td>\n",
       "      <td>64</td>\n",
       "    </tr>\n",
       "    <tr>\n",
       "      <th>3</th>\n",
       "      <td>19</td>\n",
       "      <td>Restituto</td>\n",
       "      <td>Abejero</td>\n",
       "      <td>M</td>\n",
       "      <td>Asian/Pacific</td>\n",
       "      <td>36507.0</td>\n",
       "      <td>NaN</td>\n",
       "      <td>Police Officer</td>\n",
       "      <td>NaN</td>\n",
       "      <td>73</td>\n",
       "    </tr>\n",
       "    <tr>\n",
       "      <th>4</th>\n",
       "      <td>34</td>\n",
       "      <td>Floyd</td>\n",
       "      <td>Abron</td>\n",
       "      <td>M</td>\n",
       "      <td>Black</td>\n",
       "      <td>35975.0</td>\n",
       "      <td>NaN</td>\n",
       "      <td>Police Officer</td>\n",
       "      <td>NaN</td>\n",
       "      <td>49</td>\n",
       "    </tr>\n",
       "  </tbody>\n",
       "</table>\n",
       "</div>"
      ],
      "text/plain": [
       "   OfficerID OfficerFirst OfficerLast Gender           Race  ApptDate  Unit  \\\n",
       "0          4       Carmel      Abbate      M          White   25209.0   NaN   \n",
       "1         13         Dale      Abbott      M          White   30284.0   NaN   \n",
       "2         17       Moulay    Abdullah      M          Black   32868.0   NaN   \n",
       "3         19    Restituto     Abejero      M  Asian/Pacific   36507.0   NaN   \n",
       "4         34        Floyd       Abron      M          Black   35975.0   NaN   \n",
       "\n",
       "              Rank  Star  Age  \n",
       "0  Po As Detective   NaN   80  \n",
       "1   Police Officer   NaN   69  \n",
       "2   Police Officer   NaN   64  \n",
       "3   Police Officer   NaN   73  \n",
       "4   Police Officer   NaN   49  "
      ]
     },
     "execution_count": 19,
     "metadata": {},
     "output_type": "execute_result"
    }
   ],
   "source": [
    "officers.head()"
   ]
  },
  {
   "cell_type": "code",
   "execution_count": 20,
   "metadata": {},
   "outputs": [],
   "source": [
    "# map beat of offcers in officer_list to officers dataframe\n",
    "officers['Beat'] = 0\n",
    "for index, row in officers.iterrows():\n",
    "    if row['OfficerID'] in officer_list:\n",
    "        officers.loc[index, 'Beat'] = df.loc[df['OfficerID'] == row['OfficerID'], 'Beat'].iloc[0]"
   ]
  },
  {
   "cell_type": "code",
   "execution_count": 21,
   "metadata": {},
   "outputs": [],
   "source": [
    "# if beat is 0, drop\n",
    "officers = officers[officers['Beat'] != 0]"
   ]
  },
  {
   "cell_type": "code",
   "execution_count": 22,
   "metadata": {},
   "outputs": [],
   "source": [
    "officers.to_csv('/Users/jeremyhudsonchan/Dropbox/Files/Boston_College_Courses/Thesis/Data/Processed/2000-2016/officers_plus_beat.csv')"
   ]
  },
  {
   "cell_type": "code",
   "execution_count": 23,
   "metadata": {},
   "outputs": [],
   "source": [
    "officers[\"Probability\"] = 0"
   ]
  },
  {
   "cell_type": "code",
   "execution_count": 24,
   "metadata": {},
   "outputs": [
    {
     "data": {
      "text/html": [
       "<div>\n",
       "<style scoped>\n",
       "    .dataframe tbody tr th:only-of-type {\n",
       "        vertical-align: middle;\n",
       "    }\n",
       "\n",
       "    .dataframe tbody tr th {\n",
       "        vertical-align: top;\n",
       "    }\n",
       "\n",
       "    .dataframe thead th {\n",
       "        text-align: right;\n",
       "    }\n",
       "</style>\n",
       "<table border=\"1\" class=\"dataframe\">\n",
       "  <thead>\n",
       "    <tr style=\"text-align: right;\">\n",
       "      <th></th>\n",
       "      <th>OfficerID</th>\n",
       "      <th>OfficerFirst</th>\n",
       "      <th>OfficerLast</th>\n",
       "      <th>Gender</th>\n",
       "      <th>Race</th>\n",
       "      <th>ApptDate</th>\n",
       "      <th>Unit</th>\n",
       "      <th>Rank</th>\n",
       "      <th>Star</th>\n",
       "      <th>Age</th>\n",
       "      <th>Beat</th>\n",
       "      <th>Probability</th>\n",
       "    </tr>\n",
       "  </thead>\n",
       "  <tbody>\n",
       "    <tr>\n",
       "      <th>1</th>\n",
       "      <td>13</td>\n",
       "      <td>Dale</td>\n",
       "      <td>Abbott</td>\n",
       "      <td>M</td>\n",
       "      <td>White</td>\n",
       "      <td>30284.0</td>\n",
       "      <td>NaN</td>\n",
       "      <td>Police Officer</td>\n",
       "      <td>NaN</td>\n",
       "      <td>69</td>\n",
       "      <td>1655</td>\n",
       "      <td>0</td>\n",
       "    </tr>\n",
       "    <tr>\n",
       "      <th>4</th>\n",
       "      <td>34</td>\n",
       "      <td>Floyd</td>\n",
       "      <td>Abron</td>\n",
       "      <td>M</td>\n",
       "      <td>Black</td>\n",
       "      <td>35975.0</td>\n",
       "      <td>NaN</td>\n",
       "      <td>Police Officer</td>\n",
       "      <td>NaN</td>\n",
       "      <td>49</td>\n",
       "      <td>1134</td>\n",
       "      <td>0</td>\n",
       "    </tr>\n",
       "    <tr>\n",
       "      <th>5</th>\n",
       "      <td>38</td>\n",
       "      <td>Abdalla</td>\n",
       "      <td>Abuzanat</td>\n",
       "      <td>M</td>\n",
       "      <td>Asian/Pacific</td>\n",
       "      <td>35975.0</td>\n",
       "      <td>NaN</td>\n",
       "      <td>Po As Detective</td>\n",
       "      <td>NaN</td>\n",
       "      <td>51</td>\n",
       "      <td>813</td>\n",
       "      <td>0</td>\n",
       "    </tr>\n",
       "    <tr>\n",
       "      <th>6</th>\n",
       "      <td>44</td>\n",
       "      <td>Marco</td>\n",
       "      <td>Acevedo</td>\n",
       "      <td>M</td>\n",
       "      <td>Hispanic</td>\n",
       "      <td>34947.0</td>\n",
       "      <td>NaN</td>\n",
       "      <td>Po As Detective</td>\n",
       "      <td>NaN</td>\n",
       "      <td>53</td>\n",
       "      <td>1433</td>\n",
       "      <td>0</td>\n",
       "    </tr>\n",
       "    <tr>\n",
       "      <th>7</th>\n",
       "      <td>58</td>\n",
       "      <td>Manuel</td>\n",
       "      <td>Acevedo</td>\n",
       "      <td>M</td>\n",
       "      <td>Hispanic</td>\n",
       "      <td>30151.0</td>\n",
       "      <td>NaN</td>\n",
       "      <td>Police Officer</td>\n",
       "      <td>NaN</td>\n",
       "      <td>66</td>\n",
       "      <td>1023</td>\n",
       "      <td>0</td>\n",
       "    </tr>\n",
       "  </tbody>\n",
       "</table>\n",
       "</div>"
      ],
      "text/plain": [
       "   OfficerID OfficerFirst OfficerLast Gender           Race  ApptDate  Unit  \\\n",
       "1         13         Dale      Abbott      M          White   30284.0   NaN   \n",
       "4         34        Floyd       Abron      M          Black   35975.0   NaN   \n",
       "5         38      Abdalla    Abuzanat      M  Asian/Pacific   35975.0   NaN   \n",
       "6         44        Marco     Acevedo      M       Hispanic   34947.0   NaN   \n",
       "7         58       Manuel     Acevedo      M       Hispanic   30151.0   NaN   \n",
       "\n",
       "              Rank  Star  Age  Beat  Probability  \n",
       "1   Police Officer   NaN   69  1655            0  \n",
       "4   Police Officer   NaN   49  1134            0  \n",
       "5  Po As Detective   NaN   51   813            0  \n",
       "6  Po As Detective   NaN   53  1433            0  \n",
       "7   Police Officer   NaN   66  1023            0  "
      ]
     },
     "execution_count": 24,
     "metadata": {},
     "output_type": "execute_result"
    }
   ],
   "source": [
    "officers.head()"
   ]
  },
  {
   "cell_type": "code",
   "execution_count": 25,
   "metadata": {},
   "outputs": [],
   "source": [
    "# groupby beat\n",
    "officers_grouped = officers.groupby('Beat')"
   ]
  },
  {
   "cell_type": "code",
   "execution_count": 26,
   "metadata": {},
   "outputs": [],
   "source": [
    "# make probabilities add to one in each group\n",
    "for name, group in officers_grouped:\n",
    "    officers.loc[officers['Beat'] == name, 'Probability'] = 1 / len(group)"
   ]
  },
  {
   "cell_type": "code",
   "execution_count": 27,
   "metadata": {},
   "outputs": [
    {
     "data": {
      "text/html": [
       "<div>\n",
       "<style scoped>\n",
       "    .dataframe tbody tr th:only-of-type {\n",
       "        vertical-align: middle;\n",
       "    }\n",
       "\n",
       "    .dataframe tbody tr th {\n",
       "        vertical-align: top;\n",
       "    }\n",
       "\n",
       "    .dataframe thead th {\n",
       "        text-align: right;\n",
       "    }\n",
       "</style>\n",
       "<table border=\"1\" class=\"dataframe\">\n",
       "  <thead>\n",
       "    <tr style=\"text-align: right;\">\n",
       "      <th></th>\n",
       "      <th>OfficerID</th>\n",
       "      <th>OfficerFirst</th>\n",
       "      <th>OfficerLast</th>\n",
       "      <th>Gender</th>\n",
       "      <th>Race</th>\n",
       "      <th>ApptDate</th>\n",
       "      <th>Unit</th>\n",
       "      <th>Rank</th>\n",
       "      <th>Star</th>\n",
       "      <th>Age</th>\n",
       "      <th>Beat</th>\n",
       "      <th>Probability</th>\n",
       "    </tr>\n",
       "  </thead>\n",
       "  <tbody>\n",
       "    <tr>\n",
       "      <th>1</th>\n",
       "      <td>13</td>\n",
       "      <td>Dale</td>\n",
       "      <td>Abbott</td>\n",
       "      <td>M</td>\n",
       "      <td>White</td>\n",
       "      <td>30284.0</td>\n",
       "      <td>NaN</td>\n",
       "      <td>Police Officer</td>\n",
       "      <td>NaN</td>\n",
       "      <td>69</td>\n",
       "      <td>1655</td>\n",
       "      <td>0.333333</td>\n",
       "    </tr>\n",
       "    <tr>\n",
       "      <th>4</th>\n",
       "      <td>34</td>\n",
       "      <td>Floyd</td>\n",
       "      <td>Abron</td>\n",
       "      <td>M</td>\n",
       "      <td>Black</td>\n",
       "      <td>35975.0</td>\n",
       "      <td>NaN</td>\n",
       "      <td>Police Officer</td>\n",
       "      <td>NaN</td>\n",
       "      <td>49</td>\n",
       "      <td>1134</td>\n",
       "      <td>0.001513</td>\n",
       "    </tr>\n",
       "    <tr>\n",
       "      <th>5</th>\n",
       "      <td>38</td>\n",
       "      <td>Abdalla</td>\n",
       "      <td>Abuzanat</td>\n",
       "      <td>M</td>\n",
       "      <td>Asian/Pacific</td>\n",
       "      <td>35975.0</td>\n",
       "      <td>NaN</td>\n",
       "      <td>Po As Detective</td>\n",
       "      <td>NaN</td>\n",
       "      <td>51</td>\n",
       "      <td>813</td>\n",
       "      <td>0.004785</td>\n",
       "    </tr>\n",
       "    <tr>\n",
       "      <th>6</th>\n",
       "      <td>44</td>\n",
       "      <td>Marco</td>\n",
       "      <td>Acevedo</td>\n",
       "      <td>M</td>\n",
       "      <td>Hispanic</td>\n",
       "      <td>34947.0</td>\n",
       "      <td>NaN</td>\n",
       "      <td>Po As Detective</td>\n",
       "      <td>NaN</td>\n",
       "      <td>53</td>\n",
       "      <td>1433</td>\n",
       "      <td>0.007463</td>\n",
       "    </tr>\n",
       "    <tr>\n",
       "      <th>7</th>\n",
       "      <td>58</td>\n",
       "      <td>Manuel</td>\n",
       "      <td>Acevedo</td>\n",
       "      <td>M</td>\n",
       "      <td>Hispanic</td>\n",
       "      <td>30151.0</td>\n",
       "      <td>NaN</td>\n",
       "      <td>Police Officer</td>\n",
       "      <td>NaN</td>\n",
       "      <td>66</td>\n",
       "      <td>1023</td>\n",
       "      <td>0.007874</td>\n",
       "    </tr>\n",
       "    <tr>\n",
       "      <th>...</th>\n",
       "      <td>...</td>\n",
       "      <td>...</td>\n",
       "      <td>...</td>\n",
       "      <td>...</td>\n",
       "      <td>...</td>\n",
       "      <td>...</td>\n",
       "      <td>...</td>\n",
       "      <td>...</td>\n",
       "      <td>...</td>\n",
       "      <td>...</td>\n",
       "      <td>...</td>\n",
       "      <td>...</td>\n",
       "    </tr>\n",
       "    <tr>\n",
       "      <th>52747</th>\n",
       "      <td>20866</td>\n",
       "      <td>Daniel</td>\n",
       "      <td>O Connor</td>\n",
       "      <td>M</td>\n",
       "      <td>White</td>\n",
       "      <td>34583.0</td>\n",
       "      <td>NaN</td>\n",
       "      <td>Police Officer</td>\n",
       "      <td>NaN</td>\n",
       "      <td>58</td>\n",
       "      <td>1655</td>\n",
       "      <td>0.333333</td>\n",
       "    </tr>\n",
       "    <tr>\n",
       "      <th>53748</th>\n",
       "      <td>29258</td>\n",
       "      <td>Nigel</td>\n",
       "      <td>Valentine</td>\n",
       "      <td>M</td>\n",
       "      <td>Black</td>\n",
       "      <td>39202.0</td>\n",
       "      <td>NaN</td>\n",
       "      <td>Police Officer</td>\n",
       "      <td>NaN</td>\n",
       "      <td>43</td>\n",
       "      <td>1225</td>\n",
       "      <td>0.250000</td>\n",
       "    </tr>\n",
       "    <tr>\n",
       "      <th>64848</th>\n",
       "      <td>29258</td>\n",
       "      <td>Nigel</td>\n",
       "      <td>Valentine</td>\n",
       "      <td>M</td>\n",
       "      <td>Black</td>\n",
       "      <td>39202.0</td>\n",
       "      <td>NaN</td>\n",
       "      <td>Police Officer</td>\n",
       "      <td>NaN</td>\n",
       "      <td>43</td>\n",
       "      <td>1225</td>\n",
       "      <td>0.250000</td>\n",
       "    </tr>\n",
       "    <tr>\n",
       "      <th>66610</th>\n",
       "      <td>12256</td>\n",
       "      <td>Randall</td>\n",
       "      <td>Hiller</td>\n",
       "      <td>M</td>\n",
       "      <td>White</td>\n",
       "      <td>31768.0</td>\n",
       "      <td>NaN</td>\n",
       "      <td>Sergeant Of Police</td>\n",
       "      <td>NaN</td>\n",
       "      <td>62</td>\n",
       "      <td>1653</td>\n",
       "      <td>0.166667</td>\n",
       "    </tr>\n",
       "    <tr>\n",
       "      <th>71412</th>\n",
       "      <td>29258</td>\n",
       "      <td>Nigel</td>\n",
       "      <td>Valentine</td>\n",
       "      <td>M</td>\n",
       "      <td>Black</td>\n",
       "      <td>39202.0</td>\n",
       "      <td>NaN</td>\n",
       "      <td>Police Officer</td>\n",
       "      <td>NaN</td>\n",
       "      <td>43</td>\n",
       "      <td>1225</td>\n",
       "      <td>0.250000</td>\n",
       "    </tr>\n",
       "  </tbody>\n",
       "</table>\n",
       "<p>1362 rows × 12 columns</p>\n",
       "</div>"
      ],
      "text/plain": [
       "       OfficerID OfficerFirst OfficerLast Gender           Race  ApptDate  \\\n",
       "1             13         Dale      Abbott      M          White   30284.0   \n",
       "4             34        Floyd       Abron      M          Black   35975.0   \n",
       "5             38      Abdalla    Abuzanat      M  Asian/Pacific   35975.0   \n",
       "6             44        Marco     Acevedo      M       Hispanic   34947.0   \n",
       "7             58       Manuel     Acevedo      M       Hispanic   30151.0   \n",
       "...          ...          ...         ...    ...            ...       ...   \n",
       "52747      20866       Daniel    O Connor      M          White   34583.0   \n",
       "53748      29258        Nigel   Valentine      M          Black   39202.0   \n",
       "64848      29258        Nigel   Valentine      M          Black   39202.0   \n",
       "66610      12256      Randall      Hiller      M          White   31768.0   \n",
       "71412      29258        Nigel   Valentine      M          Black   39202.0   \n",
       "\n",
       "       Unit                Rank  Star  Age  Beat  Probability  \n",
       "1       NaN      Police Officer   NaN   69  1655     0.333333  \n",
       "4       NaN      Police Officer   NaN   49  1134     0.001513  \n",
       "5       NaN     Po As Detective   NaN   51   813     0.004785  \n",
       "6       NaN     Po As Detective   NaN   53  1433     0.007463  \n",
       "7       NaN      Police Officer   NaN   66  1023     0.007874  \n",
       "...     ...                 ...   ...  ...   ...          ...  \n",
       "52747   NaN      Police Officer   NaN   58  1655     0.333333  \n",
       "53748   NaN      Police Officer   NaN   43  1225     0.250000  \n",
       "64848   NaN      Police Officer   NaN   43  1225     0.250000  \n",
       "66610   NaN  Sergeant Of Police   NaN   62  1653     0.166667  \n",
       "71412   NaN      Police Officer   NaN   43  1225     0.250000  \n",
       "\n",
       "[1362 rows x 12 columns]"
      ]
     },
     "execution_count": 27,
     "metadata": {},
     "output_type": "execute_result"
    }
   ],
   "source": [
    "officers_grouped.head()"
   ]
  },
  {
   "cell_type": "code",
   "execution_count": 204,
   "metadata": {},
   "outputs": [],
   "source": [
    "new_df = pd.DataFrame(columns=['OfficerID', 'Beat', 'Occurences', 'Probability'])\n",
    "# Polya Urn Model, Rich get Richer\n",
    "alpha = 0\n",
    "for index, row in df_grouped:\n",
    "    # get num officers in group\n",
    "    num_officers = len(row)\n",
    "    # get beat of group\n",
    "    beat = row['Beat'].iloc[0]\n",
    "    # Get num_officers number of officers from officers_grouped\n",
    "    if beat not in officers_grouped.groups:\n",
    "        continue\n",
    "    probs = officers_grouped.get_group(beat)['Probability']\n",
    "    # print(probs)\n",
    "    officers_in_group = officers_grouped.get_group(beat).sample(n=num_officers, replace=False, weights=probs)\n",
    "    # add officers_in_group and their 'OfficerID', 'Beat', 'Probability' to new_df and increment 'Occurences' by 1, and update probabilities by adding 0.001\n",
    "    for index2, row2 in officers_in_group.iterrows():\n",
    "        if row2['OfficerID'] not in new_df['OfficerID'].values:\n",
    "            new_df = pd.concat([new_df, pd.DataFrame([[row2['OfficerID'], row2['Beat'], 1, row2['Probability']]], columns=['OfficerID', 'Beat', 'Occurences', 'Probability'])])\n",
    "        else:\n",
    "            new_df.loc[new_df['OfficerID'] == row2['OfficerID'], 'Occurences'] += 1\n",
    "            new_df.loc[new_df['OfficerID'] == row2['OfficerID'], 'Probability'] += alpha\n",
    "            # update probabilities in officers_grouped\n",
    "            officers.loc[officers['OfficerID'] == row2['OfficerID'], 'Probability'] += alpha"
   ]
  },
  {
   "cell_type": "code",
   "execution_count": 205,
   "metadata": {},
   "outputs": [
    {
     "data": {
      "text/html": [
       "<div>\n",
       "<style scoped>\n",
       "    .dataframe tbody tr th:only-of-type {\n",
       "        vertical-align: middle;\n",
       "    }\n",
       "\n",
       "    .dataframe tbody tr th {\n",
       "        vertical-align: top;\n",
       "    }\n",
       "\n",
       "    .dataframe thead th {\n",
       "        text-align: right;\n",
       "    }\n",
       "</style>\n",
       "<table border=\"1\" class=\"dataframe\">\n",
       "  <thead>\n",
       "    <tr style=\"text-align: right;\">\n",
       "      <th></th>\n",
       "      <th>OfficerID</th>\n",
       "      <th>OfficerFirst</th>\n",
       "      <th>OfficerLast</th>\n",
       "      <th>Gender</th>\n",
       "      <th>Race</th>\n",
       "      <th>ApptDate</th>\n",
       "      <th>Unit</th>\n",
       "      <th>Rank</th>\n",
       "      <th>Star</th>\n",
       "      <th>Age</th>\n",
       "      <th>Beat</th>\n",
       "      <th>Probability</th>\n",
       "    </tr>\n",
       "  </thead>\n",
       "  <tbody>\n",
       "    <tr>\n",
       "      <th>52519</th>\n",
       "      <td>18862</td>\n",
       "      <td>Nyls</td>\n",
       "      <td>Meredith</td>\n",
       "      <td>M</td>\n",
       "      <td>Black</td>\n",
       "      <td>39272.0</td>\n",
       "      <td>NaN</td>\n",
       "      <td>Po Asgn Evid. Techni</td>\n",
       "      <td>NaN</td>\n",
       "      <td>45</td>\n",
       "      <td>531</td>\n",
       "      <td>6185.950749</td>\n",
       "    </tr>\n",
       "    <tr>\n",
       "      <th>56508</th>\n",
       "      <td>18862</td>\n",
       "      <td>Nyls</td>\n",
       "      <td>Meredith</td>\n",
       "      <td>M</td>\n",
       "      <td>Black</td>\n",
       "      <td>39272.0</td>\n",
       "      <td>NaN</td>\n",
       "      <td>Po Asgn Evid. Techni</td>\n",
       "      <td>NaN</td>\n",
       "      <td>45</td>\n",
       "      <td>531</td>\n",
       "      <td>6185.950749</td>\n",
       "    </tr>\n",
       "    <tr>\n",
       "      <th>48069</th>\n",
       "      <td>18862</td>\n",
       "      <td>Nyls</td>\n",
       "      <td>Meredith</td>\n",
       "      <td>M</td>\n",
       "      <td>Black</td>\n",
       "      <td>39272.0</td>\n",
       "      <td>NaN</td>\n",
       "      <td>Po Asgn Evid. Techni</td>\n",
       "      <td>NaN</td>\n",
       "      <td>45</td>\n",
       "      <td>531</td>\n",
       "      <td>6185.950749</td>\n",
       "    </tr>\n",
       "    <tr>\n",
       "      <th>63763</th>\n",
       "      <td>18862</td>\n",
       "      <td>Nyls</td>\n",
       "      <td>Meredith</td>\n",
       "      <td>M</td>\n",
       "      <td>Black</td>\n",
       "      <td>39272.0</td>\n",
       "      <td>NaN</td>\n",
       "      <td>Po Asgn Evid. Techni</td>\n",
       "      <td>NaN</td>\n",
       "      <td>45</td>\n",
       "      <td>531</td>\n",
       "      <td>6185.950749</td>\n",
       "    </tr>\n",
       "    <tr>\n",
       "      <th>60209</th>\n",
       "      <td>18862</td>\n",
       "      <td>Nyls</td>\n",
       "      <td>Meredith</td>\n",
       "      <td>M</td>\n",
       "      <td>Black</td>\n",
       "      <td>39272.0</td>\n",
       "      <td>NaN</td>\n",
       "      <td>Po Asgn Evid. Techni</td>\n",
       "      <td>NaN</td>\n",
       "      <td>45</td>\n",
       "      <td>531</td>\n",
       "      <td>6185.950749</td>\n",
       "    </tr>\n",
       "    <tr>\n",
       "      <th>43319</th>\n",
       "      <td>18862</td>\n",
       "      <td>Nyls</td>\n",
       "      <td>Meredith</td>\n",
       "      <td>M</td>\n",
       "      <td>Black</td>\n",
       "      <td>39272.0</td>\n",
       "      <td>NaN</td>\n",
       "      <td>Po Asgn Evid. Techni</td>\n",
       "      <td>NaN</td>\n",
       "      <td>45</td>\n",
       "      <td>531</td>\n",
       "      <td>6185.950749</td>\n",
       "    </tr>\n",
       "    <tr>\n",
       "      <th>57374</th>\n",
       "      <td>26267</td>\n",
       "      <td>Derrick</td>\n",
       "      <td>Shinn</td>\n",
       "      <td>M</td>\n",
       "      <td>Black</td>\n",
       "      <td>31733.0</td>\n",
       "      <td>NaN</td>\n",
       "      <td>Sergeant Of Police</td>\n",
       "      <td>NaN</td>\n",
       "      <td>61</td>\n",
       "      <td>713</td>\n",
       "      <td>6135.920715</td>\n",
       "    </tr>\n",
       "    <tr>\n",
       "      <th>53431</th>\n",
       "      <td>26267</td>\n",
       "      <td>Derrick</td>\n",
       "      <td>Shinn</td>\n",
       "      <td>M</td>\n",
       "      <td>Black</td>\n",
       "      <td>31733.0</td>\n",
       "      <td>NaN</td>\n",
       "      <td>Sergeant Of Police</td>\n",
       "      <td>NaN</td>\n",
       "      <td>61</td>\n",
       "      <td>713</td>\n",
       "      <td>6135.920715</td>\n",
       "    </tr>\n",
       "    <tr>\n",
       "      <th>25936</th>\n",
       "      <td>26267</td>\n",
       "      <td>Derrick</td>\n",
       "      <td>Shinn</td>\n",
       "      <td>M</td>\n",
       "      <td>Black</td>\n",
       "      <td>31733.0</td>\n",
       "      <td>NaN</td>\n",
       "      <td>Sergeant Of Police</td>\n",
       "      <td>NaN</td>\n",
       "      <td>61</td>\n",
       "      <td>713</td>\n",
       "      <td>6135.920715</td>\n",
       "    </tr>\n",
       "    <tr>\n",
       "      <th>39437</th>\n",
       "      <td>26267</td>\n",
       "      <td>Derrick</td>\n",
       "      <td>Shinn</td>\n",
       "      <td>M</td>\n",
       "      <td>Black</td>\n",
       "      <td>31733.0</td>\n",
       "      <td>NaN</td>\n",
       "      <td>Sergeant Of Police</td>\n",
       "      <td>NaN</td>\n",
       "      <td>61</td>\n",
       "      <td>713</td>\n",
       "      <td>6135.920715</td>\n",
       "    </tr>\n",
       "  </tbody>\n",
       "</table>\n",
       "</div>"
      ],
      "text/plain": [
       "       OfficerID OfficerFirst OfficerLast Gender   Race  ApptDate  Unit  \\\n",
       "52519      18862         Nyls    Meredith      M  Black   39272.0   NaN   \n",
       "56508      18862         Nyls    Meredith      M  Black   39272.0   NaN   \n",
       "48069      18862         Nyls    Meredith      M  Black   39272.0   NaN   \n",
       "63763      18862         Nyls    Meredith      M  Black   39272.0   NaN   \n",
       "60209      18862         Nyls    Meredith      M  Black   39272.0   NaN   \n",
       "43319      18862         Nyls    Meredith      M  Black   39272.0   NaN   \n",
       "57374      26267      Derrick       Shinn      M  Black   31733.0   NaN   \n",
       "53431      26267      Derrick       Shinn      M  Black   31733.0   NaN   \n",
       "25936      26267      Derrick       Shinn      M  Black   31733.0   NaN   \n",
       "39437      26267      Derrick       Shinn      M  Black   31733.0   NaN   \n",
       "\n",
       "                       Rank  Star  Age  Beat  Probability  \n",
       "52519  Po Asgn Evid. Techni   NaN   45   531  6185.950749  \n",
       "56508  Po Asgn Evid. Techni   NaN   45   531  6185.950749  \n",
       "48069  Po Asgn Evid. Techni   NaN   45   531  6185.950749  \n",
       "63763  Po Asgn Evid. Techni   NaN   45   531  6185.950749  \n",
       "60209  Po Asgn Evid. Techni   NaN   45   531  6185.950749  \n",
       "43319  Po Asgn Evid. Techni   NaN   45   531  6185.950749  \n",
       "57374    Sergeant Of Police   NaN   61   713  6135.920715  \n",
       "53431    Sergeant Of Police   NaN   61   713  6135.920715  \n",
       "25936    Sergeant Of Police   NaN   61   713  6135.920715  \n",
       "39437    Sergeant Of Police   NaN   61   713  6135.920715  "
      ]
     },
     "execution_count": 205,
     "metadata": {},
     "output_type": "execute_result"
    }
   ],
   "source": [
    "# get top 10 rows of highest probability in officers dataframe\n",
    "top_10 = officers.sort_values(by=['Probability'], ascending=False).head(10)\n",
    "top_10"
   ]
  },
  {
   "cell_type": "code",
   "execution_count": 206,
   "metadata": {},
   "outputs": [
    {
     "data": {
      "text/html": [
       "<div>\n",
       "<style scoped>\n",
       "    .dataframe tbody tr th:only-of-type {\n",
       "        vertical-align: middle;\n",
       "    }\n",
       "\n",
       "    .dataframe tbody tr th {\n",
       "        vertical-align: top;\n",
       "    }\n",
       "\n",
       "    .dataframe thead th {\n",
       "        text-align: right;\n",
       "    }\n",
       "</style>\n",
       "<table border=\"1\" class=\"dataframe\">\n",
       "  <thead>\n",
       "    <tr style=\"text-align: right;\">\n",
       "      <th></th>\n",
       "      <th>OfficerID</th>\n",
       "      <th>OfficerFirst</th>\n",
       "      <th>OfficerLast</th>\n",
       "      <th>Gender</th>\n",
       "      <th>Race</th>\n",
       "      <th>ApptDate</th>\n",
       "      <th>Unit</th>\n",
       "      <th>Rank</th>\n",
       "      <th>Star</th>\n",
       "      <th>Age</th>\n",
       "      <th>Beat</th>\n",
       "      <th>Probability</th>\n",
       "    </tr>\n",
       "  </thead>\n",
       "  <tbody>\n",
       "    <tr>\n",
       "      <th>24110</th>\n",
       "      <td>12509</td>\n",
       "      <td>Brian</td>\n",
       "      <td>Hood</td>\n",
       "      <td>M</td>\n",
       "      <td>Black</td>\n",
       "      <td>35618.0</td>\n",
       "      <td>NaN</td>\n",
       "      <td>Police Officer</td>\n",
       "      <td>NaN</td>\n",
       "      <td>59</td>\n",
       "      <td>531</td>\n",
       "      <td>0.00149</td>\n",
       "    </tr>\n",
       "    <tr>\n",
       "      <th>50134</th>\n",
       "      <td>32303</td>\n",
       "      <td>Scott</td>\n",
       "      <td>Rotkvich</td>\n",
       "      <td>M</td>\n",
       "      <td>White</td>\n",
       "      <td>31607.0</td>\n",
       "      <td>NaN</td>\n",
       "      <td>Sergeant Of Police</td>\n",
       "      <td>NaN</td>\n",
       "      <td>57</td>\n",
       "      <td>531</td>\n",
       "      <td>0.00149</td>\n",
       "    </tr>\n",
       "    <tr>\n",
       "      <th>38673</th>\n",
       "      <td>21548</td>\n",
       "      <td>Milton</td>\n",
       "      <td>Owens</td>\n",
       "      <td>M</td>\n",
       "      <td>Black</td>\n",
       "      <td>31880.0</td>\n",
       "      <td>NaN</td>\n",
       "      <td>Sergeant Of Police</td>\n",
       "      <td>NaN</td>\n",
       "      <td>63</td>\n",
       "      <td>531</td>\n",
       "      <td>0.00149</td>\n",
       "    </tr>\n",
       "    <tr>\n",
       "      <th>37299</th>\n",
       "      <td>12741</td>\n",
       "      <td>Robert</td>\n",
       "      <td>Hughes</td>\n",
       "      <td>M</td>\n",
       "      <td>Black</td>\n",
       "      <td>36976.0</td>\n",
       "      <td>NaN</td>\n",
       "      <td>Police Officer</td>\n",
       "      <td>NaN</td>\n",
       "      <td>50</td>\n",
       "      <td>531</td>\n",
       "      <td>0.00149</td>\n",
       "    </tr>\n",
       "    <tr>\n",
       "      <th>23903</th>\n",
       "      <td>11105</td>\n",
       "      <td>Kevin</td>\n",
       "      <td>Gyrion</td>\n",
       "      <td>M</td>\n",
       "      <td>White</td>\n",
       "      <td>31880.0</td>\n",
       "      <td>NaN</td>\n",
       "      <td>Lieutenant Of Police</td>\n",
       "      <td>NaN</td>\n",
       "      <td>59</td>\n",
       "      <td>531</td>\n",
       "      <td>0.00149</td>\n",
       "    </tr>\n",
       "    <tr>\n",
       "      <th>4864</th>\n",
       "      <td>28051</td>\n",
       "      <td>Linda</td>\n",
       "      <td>Szefc</td>\n",
       "      <td>F</td>\n",
       "      <td>White</td>\n",
       "      <td>32868.0</td>\n",
       "      <td>NaN</td>\n",
       "      <td>Sergeant Of Police</td>\n",
       "      <td>NaN</td>\n",
       "      <td>64</td>\n",
       "      <td>531</td>\n",
       "      <td>0.00149</td>\n",
       "    </tr>\n",
       "    <tr>\n",
       "      <th>41084</th>\n",
       "      <td>3549</td>\n",
       "      <td>Joseph</td>\n",
       "      <td>Byrne</td>\n",
       "      <td>M</td>\n",
       "      <td>White</td>\n",
       "      <td>39321.0</td>\n",
       "      <td>NaN</td>\n",
       "      <td>Police Officer</td>\n",
       "      <td>NaN</td>\n",
       "      <td>40</td>\n",
       "      <td>531</td>\n",
       "      <td>0.00149</td>\n",
       "    </tr>\n",
       "    <tr>\n",
       "      <th>44072</th>\n",
       "      <td>23936</td>\n",
       "      <td>Steven</td>\n",
       "      <td>Ridgner</td>\n",
       "      <td>M</td>\n",
       "      <td>Black</td>\n",
       "      <td>32868.0</td>\n",
       "      <td>NaN</td>\n",
       "      <td>Police Officer</td>\n",
       "      <td>NaN</td>\n",
       "      <td>70</td>\n",
       "      <td>531</td>\n",
       "      <td>0.00149</td>\n",
       "    </tr>\n",
       "    <tr>\n",
       "      <th>44078</th>\n",
       "      <td>23954</td>\n",
       "      <td>Damone</td>\n",
       "      <td>Riggins</td>\n",
       "      <td>M</td>\n",
       "      <td>Black</td>\n",
       "      <td>36809.0</td>\n",
       "      <td>NaN</td>\n",
       "      <td>Police Officer</td>\n",
       "      <td>NaN</td>\n",
       "      <td>62</td>\n",
       "      <td>531</td>\n",
       "      <td>0.00149</td>\n",
       "    </tr>\n",
       "    <tr>\n",
       "      <th>9477</th>\n",
       "      <td>21548</td>\n",
       "      <td>Milton</td>\n",
       "      <td>Owens</td>\n",
       "      <td>M</td>\n",
       "      <td>Black</td>\n",
       "      <td>31880.0</td>\n",
       "      <td>NaN</td>\n",
       "      <td>Sergeant Of Police</td>\n",
       "      <td>NaN</td>\n",
       "      <td>63</td>\n",
       "      <td>531</td>\n",
       "      <td>0.00149</td>\n",
       "    </tr>\n",
       "  </tbody>\n",
       "</table>\n",
       "</div>"
      ],
      "text/plain": [
       "       OfficerID OfficerFirst OfficerLast Gender   Race  ApptDate  Unit  \\\n",
       "24110      12509        Brian        Hood      M  Black   35618.0   NaN   \n",
       "50134      32303        Scott    Rotkvich      M  White   31607.0   NaN   \n",
       "38673      21548       Milton       Owens      M  Black   31880.0   NaN   \n",
       "37299      12741       Robert      Hughes      M  Black   36976.0   NaN   \n",
       "23903      11105        Kevin      Gyrion      M  White   31880.0   NaN   \n",
       "4864       28051        Linda       Szefc      F  White   32868.0   NaN   \n",
       "41084       3549       Joseph       Byrne      M  White   39321.0   NaN   \n",
       "44072      23936       Steven     Ridgner      M  Black   32868.0   NaN   \n",
       "44078      23954       Damone     Riggins      M  Black   36809.0   NaN   \n",
       "9477       21548       Milton       Owens      M  Black   31880.0   NaN   \n",
       "\n",
       "                       Rank  Star  Age  Beat  Probability  \n",
       "24110        Police Officer   NaN   59   531      0.00149  \n",
       "50134    Sergeant Of Police   NaN   57   531      0.00149  \n",
       "38673    Sergeant Of Police   NaN   63   531      0.00149  \n",
       "37299        Police Officer   NaN   50   531      0.00149  \n",
       "23903  Lieutenant Of Police   NaN   59   531      0.00149  \n",
       "4864     Sergeant Of Police   NaN   64   531      0.00149  \n",
       "41084        Police Officer   NaN   40   531      0.00149  \n",
       "44072        Police Officer   NaN   70   531      0.00149  \n",
       "44078        Police Officer   NaN   62   531      0.00149  \n",
       "9477     Sergeant Of Police   NaN   63   531      0.00149  "
      ]
     },
     "execution_count": 206,
     "metadata": {},
     "output_type": "execute_result"
    }
   ],
   "source": [
    "# get bottom 10 rows of lowest probability in officers dataframe\n",
    "bottom_10 = officers.sort_values(by=['Probability'], ascending=True).head(10)\n",
    "bottom_10"
   ]
  },
  {
   "cell_type": "code",
   "execution_count": 207,
   "metadata": {},
   "outputs": [
    {
     "data": {
      "text/plain": [
       "1      81\n",
       "2      19\n",
       "5       8\n",
       "45      7\n",
       "7       7\n",
       "       ..\n",
       "55      1\n",
       "126     1\n",
       "161     1\n",
       "83      1\n",
       "10      1\n",
       "Name: Occurences, Length: 142, dtype: int64"
      ]
     },
     "execution_count": 207,
     "metadata": {},
     "output_type": "execute_result"
    }
   ],
   "source": [
    "# value counts\n",
    "new_df_vc = new_df['Occurences'].value_counts()\n",
    "new_df_vc"
   ]
  },
  {
   "cell_type": "code",
   "execution_count": 208,
   "metadata": {},
   "outputs": [
    {
     "data": {
      "text/plain": [
       "Number of Allegations\n",
       "1      81\n",
       "2      19\n",
       "3       5\n",
       "4       5\n",
       "5       8\n",
       "       ..\n",
       "249     1\n",
       "258     1\n",
       "264     1\n",
       "290     1\n",
       "293     1\n",
       "Name: Number of Officers, Length: 142, dtype: int64"
      ]
     },
     "execution_count": 208,
     "metadata": {},
     "output_type": "execute_result"
    }
   ],
   "source": [
    "new_df_vc.index.name = 'Number of Allegations'\n",
    "new_df_vc.name = 'Number of Officers'\n",
    "# sort new_df_vc by ascending index\n",
    "new_df_vc = new_df_vc.sort_index(ascending=True)\n",
    "new_df_vc"
   ]
  },
  {
   "cell_type": "code",
   "execution_count": 209,
   "metadata": {},
   "outputs": [],
   "source": [
    "original = pd.read_csv(\"/Users/jeremyhudsonchan/Dropbox/Files/Boston_College_Courses/Thesis/Code/Undergraduate-Thesis/Tests/Results/original.csv\")\n",
    "perm = pd.read_csv(\"/Users/jeremyhudsonchan/Dropbox/Files/Boston_College_Courses/Thesis/Code/Undergraduate-Thesis/Tests/Results/permutation_test.csv\")"
   ]
  },
  {
   "cell_type": "code",
   "execution_count": 210,
   "metadata": {},
   "outputs": [
    {
     "data": {
      "application/vnd.plotly.v1+json": {
       "config": {
        "plotlyServerURL": "https://plot.ly"
       },
       "data": [
        {
         "name": "Original",
         "type": "scatter",
         "x": [
          1,
          2,
          3,
          4,
          5,
          6,
          7,
          8,
          9,
          10,
          11,
          12,
          13,
          15,
          16,
          14,
          17,
          19,
          20,
          18,
          21,
          26,
          31,
          22,
          23,
          24,
          25,
          29,
          30,
          35
         ],
         "y": [
          3592,
          1729,
          1010,
          656,
          403,
          264,
          192,
          119,
          112,
          56,
          47,
          42,
          26,
          13,
          12,
          12,
          9,
          7,
          5,
          4,
          2,
          2,
          1,
          1,
          1,
          1,
          1,
          1,
          1,
          1
         ]
        },
        {
         "mode": "lines",
         "name": "Permutation Test",
         "type": "scatter",
         "x": [
          1,
          2,
          3,
          4,
          5,
          6,
          7,
          8,
          9,
          10,
          11,
          12,
          15,
          14,
          13
         ],
         "y": [
          1663,
          1639,
          1288,
          996,
          673,
          410,
          229,
          160,
          70,
          39,
          19,
          7,
          1,
          1,
          1
         ]
        },
        {
         "mode": "lines",
         "name": "Polya Urn Model",
         "type": "scatter",
         "x": [
          1,
          2,
          3,
          4,
          5,
          6,
          7,
          8,
          9,
          10,
          11,
          12,
          13,
          14,
          15,
          16,
          17,
          18,
          19,
          20,
          21,
          22,
          23,
          24,
          25,
          26,
          27,
          28,
          29,
          30,
          31,
          32,
          33,
          34,
          35,
          36,
          37,
          38,
          39,
          40,
          41,
          42,
          43,
          44,
          45,
          46,
          47,
          48,
          49,
          50,
          51,
          52,
          53,
          55,
          56,
          57,
          58,
          59,
          60,
          61,
          62,
          63,
          64,
          65,
          66,
          67,
          68,
          69,
          70,
          71,
          72,
          73,
          74,
          75,
          76,
          77,
          78,
          79,
          80,
          81,
          83,
          86,
          87,
          88,
          89,
          91,
          94,
          97,
          98,
          99,
          100,
          101,
          103,
          104,
          105,
          106,
          108,
          109,
          110,
          111,
          112,
          113,
          114,
          115,
          116,
          121,
          122,
          123,
          125,
          126,
          127,
          131,
          132,
          134,
          135,
          137,
          138,
          142,
          148,
          156,
          157,
          158,
          160,
          161,
          163,
          164,
          165,
          168,
          173,
          181,
          183,
          188,
          202,
          207,
          217,
          223,
          225,
          249,
          258,
          264,
          290,
          293
         ],
         "y": [
          81,
          19,
          5,
          5,
          8,
          7,
          7,
          3,
          5,
          1,
          6,
          1,
          6,
          5,
          6,
          2,
          5,
          1,
          4,
          1,
          3,
          2,
          1,
          5,
          2,
          2,
          5,
          2,
          2,
          2,
          2,
          4,
          3,
          2,
          6,
          1,
          1,
          3,
          2,
          3,
          4,
          2,
          2,
          2,
          7,
          3,
          5,
          3,
          6,
          4,
          1,
          1,
          1,
          1,
          1,
          2,
          1,
          2,
          2,
          4,
          2,
          4,
          3,
          3,
          5,
          2,
          3,
          2,
          1,
          3,
          1,
          3,
          2,
          2,
          5,
          2,
          1,
          2,
          1,
          4,
          1,
          4,
          3,
          1,
          3,
          1,
          4,
          3,
          3,
          2,
          3,
          3,
          1,
          2,
          3,
          3,
          3,
          2,
          3,
          2,
          2,
          2,
          1,
          2,
          3,
          3,
          1,
          2,
          1,
          1,
          1,
          2,
          3,
          1,
          2,
          2,
          1,
          1,
          1,
          2,
          1,
          1,
          1,
          1,
          1,
          1,
          2,
          2,
          1,
          1,
          1,
          1,
          1,
          1,
          1,
          1,
          1,
          1,
          1,
          1,
          1,
          1
         ]
        }
       ],
       "layout": {
        "legend": {
         "tracegroupgap": 0
        },
        "template": {
         "data": {
          "bar": [
           {
            "error_x": {
             "color": "#2a3f5f"
            },
            "error_y": {
             "color": "#2a3f5f"
            },
            "marker": {
             "line": {
              "color": "#E5ECF6",
              "width": 0.5
             },
             "pattern": {
              "fillmode": "overlay",
              "size": 10,
              "solidity": 0.2
             }
            },
            "type": "bar"
           }
          ],
          "barpolar": [
           {
            "marker": {
             "line": {
              "color": "#E5ECF6",
              "width": 0.5
             },
             "pattern": {
              "fillmode": "overlay",
              "size": 10,
              "solidity": 0.2
             }
            },
            "type": "barpolar"
           }
          ],
          "carpet": [
           {
            "aaxis": {
             "endlinecolor": "#2a3f5f",
             "gridcolor": "white",
             "linecolor": "white",
             "minorgridcolor": "white",
             "startlinecolor": "#2a3f5f"
            },
            "baxis": {
             "endlinecolor": "#2a3f5f",
             "gridcolor": "white",
             "linecolor": "white",
             "minorgridcolor": "white",
             "startlinecolor": "#2a3f5f"
            },
            "type": "carpet"
           }
          ],
          "choropleth": [
           {
            "colorbar": {
             "outlinewidth": 0,
             "ticks": ""
            },
            "type": "choropleth"
           }
          ],
          "contour": [
           {
            "colorbar": {
             "outlinewidth": 0,
             "ticks": ""
            },
            "colorscale": [
             [
              0,
              "#0d0887"
             ],
             [
              0.1111111111111111,
              "#46039f"
             ],
             [
              0.2222222222222222,
              "#7201a8"
             ],
             [
              0.3333333333333333,
              "#9c179e"
             ],
             [
              0.4444444444444444,
              "#bd3786"
             ],
             [
              0.5555555555555556,
              "#d8576b"
             ],
             [
              0.6666666666666666,
              "#ed7953"
             ],
             [
              0.7777777777777778,
              "#fb9f3a"
             ],
             [
              0.8888888888888888,
              "#fdca26"
             ],
             [
              1,
              "#f0f921"
             ]
            ],
            "type": "contour"
           }
          ],
          "contourcarpet": [
           {
            "colorbar": {
             "outlinewidth": 0,
             "ticks": ""
            },
            "type": "contourcarpet"
           }
          ],
          "heatmap": [
           {
            "colorbar": {
             "outlinewidth": 0,
             "ticks": ""
            },
            "colorscale": [
             [
              0,
              "#0d0887"
             ],
             [
              0.1111111111111111,
              "#46039f"
             ],
             [
              0.2222222222222222,
              "#7201a8"
             ],
             [
              0.3333333333333333,
              "#9c179e"
             ],
             [
              0.4444444444444444,
              "#bd3786"
             ],
             [
              0.5555555555555556,
              "#d8576b"
             ],
             [
              0.6666666666666666,
              "#ed7953"
             ],
             [
              0.7777777777777778,
              "#fb9f3a"
             ],
             [
              0.8888888888888888,
              "#fdca26"
             ],
             [
              1,
              "#f0f921"
             ]
            ],
            "type": "heatmap"
           }
          ],
          "heatmapgl": [
           {
            "colorbar": {
             "outlinewidth": 0,
             "ticks": ""
            },
            "colorscale": [
             [
              0,
              "#0d0887"
             ],
             [
              0.1111111111111111,
              "#46039f"
             ],
             [
              0.2222222222222222,
              "#7201a8"
             ],
             [
              0.3333333333333333,
              "#9c179e"
             ],
             [
              0.4444444444444444,
              "#bd3786"
             ],
             [
              0.5555555555555556,
              "#d8576b"
             ],
             [
              0.6666666666666666,
              "#ed7953"
             ],
             [
              0.7777777777777778,
              "#fb9f3a"
             ],
             [
              0.8888888888888888,
              "#fdca26"
             ],
             [
              1,
              "#f0f921"
             ]
            ],
            "type": "heatmapgl"
           }
          ],
          "histogram": [
           {
            "marker": {
             "pattern": {
              "fillmode": "overlay",
              "size": 10,
              "solidity": 0.2
             }
            },
            "type": "histogram"
           }
          ],
          "histogram2d": [
           {
            "colorbar": {
             "outlinewidth": 0,
             "ticks": ""
            },
            "colorscale": [
             [
              0,
              "#0d0887"
             ],
             [
              0.1111111111111111,
              "#46039f"
             ],
             [
              0.2222222222222222,
              "#7201a8"
             ],
             [
              0.3333333333333333,
              "#9c179e"
             ],
             [
              0.4444444444444444,
              "#bd3786"
             ],
             [
              0.5555555555555556,
              "#d8576b"
             ],
             [
              0.6666666666666666,
              "#ed7953"
             ],
             [
              0.7777777777777778,
              "#fb9f3a"
             ],
             [
              0.8888888888888888,
              "#fdca26"
             ],
             [
              1,
              "#f0f921"
             ]
            ],
            "type": "histogram2d"
           }
          ],
          "histogram2dcontour": [
           {
            "colorbar": {
             "outlinewidth": 0,
             "ticks": ""
            },
            "colorscale": [
             [
              0,
              "#0d0887"
             ],
             [
              0.1111111111111111,
              "#46039f"
             ],
             [
              0.2222222222222222,
              "#7201a8"
             ],
             [
              0.3333333333333333,
              "#9c179e"
             ],
             [
              0.4444444444444444,
              "#bd3786"
             ],
             [
              0.5555555555555556,
              "#d8576b"
             ],
             [
              0.6666666666666666,
              "#ed7953"
             ],
             [
              0.7777777777777778,
              "#fb9f3a"
             ],
             [
              0.8888888888888888,
              "#fdca26"
             ],
             [
              1,
              "#f0f921"
             ]
            ],
            "type": "histogram2dcontour"
           }
          ],
          "mesh3d": [
           {
            "colorbar": {
             "outlinewidth": 0,
             "ticks": ""
            },
            "type": "mesh3d"
           }
          ],
          "parcoords": [
           {
            "line": {
             "colorbar": {
              "outlinewidth": 0,
              "ticks": ""
             }
            },
            "type": "parcoords"
           }
          ],
          "pie": [
           {
            "automargin": true,
            "type": "pie"
           }
          ],
          "scatter": [
           {
            "marker": {
             "colorbar": {
              "outlinewidth": 0,
              "ticks": ""
             }
            },
            "type": "scatter"
           }
          ],
          "scatter3d": [
           {
            "line": {
             "colorbar": {
              "outlinewidth": 0,
              "ticks": ""
             }
            },
            "marker": {
             "colorbar": {
              "outlinewidth": 0,
              "ticks": ""
             }
            },
            "type": "scatter3d"
           }
          ],
          "scattercarpet": [
           {
            "marker": {
             "colorbar": {
              "outlinewidth": 0,
              "ticks": ""
             }
            },
            "type": "scattercarpet"
           }
          ],
          "scattergeo": [
           {
            "marker": {
             "colorbar": {
              "outlinewidth": 0,
              "ticks": ""
             }
            },
            "type": "scattergeo"
           }
          ],
          "scattergl": [
           {
            "marker": {
             "colorbar": {
              "outlinewidth": 0,
              "ticks": ""
             }
            },
            "type": "scattergl"
           }
          ],
          "scattermapbox": [
           {
            "marker": {
             "colorbar": {
              "outlinewidth": 0,
              "ticks": ""
             }
            },
            "type": "scattermapbox"
           }
          ],
          "scatterpolar": [
           {
            "marker": {
             "colorbar": {
              "outlinewidth": 0,
              "ticks": ""
             }
            },
            "type": "scatterpolar"
           }
          ],
          "scatterpolargl": [
           {
            "marker": {
             "colorbar": {
              "outlinewidth": 0,
              "ticks": ""
             }
            },
            "type": "scatterpolargl"
           }
          ],
          "scatterternary": [
           {
            "marker": {
             "colorbar": {
              "outlinewidth": 0,
              "ticks": ""
             }
            },
            "type": "scatterternary"
           }
          ],
          "surface": [
           {
            "colorbar": {
             "outlinewidth": 0,
             "ticks": ""
            },
            "colorscale": [
             [
              0,
              "#0d0887"
             ],
             [
              0.1111111111111111,
              "#46039f"
             ],
             [
              0.2222222222222222,
              "#7201a8"
             ],
             [
              0.3333333333333333,
              "#9c179e"
             ],
             [
              0.4444444444444444,
              "#bd3786"
             ],
             [
              0.5555555555555556,
              "#d8576b"
             ],
             [
              0.6666666666666666,
              "#ed7953"
             ],
             [
              0.7777777777777778,
              "#fb9f3a"
             ],
             [
              0.8888888888888888,
              "#fdca26"
             ],
             [
              1,
              "#f0f921"
             ]
            ],
            "type": "surface"
           }
          ],
          "table": [
           {
            "cells": {
             "fill": {
              "color": "#EBF0F8"
             },
             "line": {
              "color": "white"
             }
            },
            "header": {
             "fill": {
              "color": "#C8D4E3"
             },
             "line": {
              "color": "white"
             }
            },
            "type": "table"
           }
          ]
         },
         "layout": {
          "annotationdefaults": {
           "arrowcolor": "#2a3f5f",
           "arrowhead": 0,
           "arrowwidth": 1
          },
          "autotypenumbers": "strict",
          "coloraxis": {
           "colorbar": {
            "outlinewidth": 0,
            "ticks": ""
           }
          },
          "colorscale": {
           "diverging": [
            [
             0,
             "#8e0152"
            ],
            [
             0.1,
             "#c51b7d"
            ],
            [
             0.2,
             "#de77ae"
            ],
            [
             0.3,
             "#f1b6da"
            ],
            [
             0.4,
             "#fde0ef"
            ],
            [
             0.5,
             "#f7f7f7"
            ],
            [
             0.6,
             "#e6f5d0"
            ],
            [
             0.7,
             "#b8e186"
            ],
            [
             0.8,
             "#7fbc41"
            ],
            [
             0.9,
             "#4d9221"
            ],
            [
             1,
             "#276419"
            ]
           ],
           "sequential": [
            [
             0,
             "#0d0887"
            ],
            [
             0.1111111111111111,
             "#46039f"
            ],
            [
             0.2222222222222222,
             "#7201a8"
            ],
            [
             0.3333333333333333,
             "#9c179e"
            ],
            [
             0.4444444444444444,
             "#bd3786"
            ],
            [
             0.5555555555555556,
             "#d8576b"
            ],
            [
             0.6666666666666666,
             "#ed7953"
            ],
            [
             0.7777777777777778,
             "#fb9f3a"
            ],
            [
             0.8888888888888888,
             "#fdca26"
            ],
            [
             1,
             "#f0f921"
            ]
           ],
           "sequentialminus": [
            [
             0,
             "#0d0887"
            ],
            [
             0.1111111111111111,
             "#46039f"
            ],
            [
             0.2222222222222222,
             "#7201a8"
            ],
            [
             0.3333333333333333,
             "#9c179e"
            ],
            [
             0.4444444444444444,
             "#bd3786"
            ],
            [
             0.5555555555555556,
             "#d8576b"
            ],
            [
             0.6666666666666666,
             "#ed7953"
            ],
            [
             0.7777777777777778,
             "#fb9f3a"
            ],
            [
             0.8888888888888888,
             "#fdca26"
            ],
            [
             1,
             "#f0f921"
            ]
           ]
          },
          "colorway": [
           "#636efa",
           "#EF553B",
           "#00cc96",
           "#ab63fa",
           "#FFA15A",
           "#19d3f3",
           "#FF6692",
           "#B6E880",
           "#FF97FF",
           "#FECB52"
          ],
          "font": {
           "color": "#2a3f5f"
          },
          "geo": {
           "bgcolor": "white",
           "lakecolor": "white",
           "landcolor": "#E5ECF6",
           "showlakes": true,
           "showland": true,
           "subunitcolor": "white"
          },
          "hoverlabel": {
           "align": "left"
          },
          "hovermode": "closest",
          "mapbox": {
           "style": "light"
          },
          "paper_bgcolor": "white",
          "plot_bgcolor": "#E5ECF6",
          "polar": {
           "angularaxis": {
            "gridcolor": "white",
            "linecolor": "white",
            "ticks": ""
           },
           "bgcolor": "#E5ECF6",
           "radialaxis": {
            "gridcolor": "white",
            "linecolor": "white",
            "ticks": ""
           }
          },
          "scene": {
           "xaxis": {
            "backgroundcolor": "#E5ECF6",
            "gridcolor": "white",
            "gridwidth": 2,
            "linecolor": "white",
            "showbackground": true,
            "ticks": "",
            "zerolinecolor": "white"
           },
           "yaxis": {
            "backgroundcolor": "#E5ECF6",
            "gridcolor": "white",
            "gridwidth": 2,
            "linecolor": "white",
            "showbackground": true,
            "ticks": "",
            "zerolinecolor": "white"
           },
           "zaxis": {
            "backgroundcolor": "#E5ECF6",
            "gridcolor": "white",
            "gridwidth": 2,
            "linecolor": "white",
            "showbackground": true,
            "ticks": "",
            "zerolinecolor": "white"
           }
          },
          "shapedefaults": {
           "line": {
            "color": "#2a3f5f"
           }
          },
          "ternary": {
           "aaxis": {
            "gridcolor": "white",
            "linecolor": "white",
            "ticks": ""
           },
           "baxis": {
            "gridcolor": "white",
            "linecolor": "white",
            "ticks": ""
           },
           "bgcolor": "#E5ECF6",
           "caxis": {
            "gridcolor": "white",
            "linecolor": "white",
            "ticks": ""
           }
          },
          "title": {
           "x": 0.05
          },
          "xaxis": {
           "automargin": true,
           "gridcolor": "white",
           "linecolor": "white",
           "ticks": "",
           "title": {
            "standoff": 15
           },
           "zerolinecolor": "white",
           "zerolinewidth": 2
          },
          "yaxis": {
           "automargin": true,
           "gridcolor": "white",
           "linecolor": "white",
           "ticks": "",
           "title": {
            "standoff": 15
           },
           "zerolinecolor": "white",
           "zerolinewidth": 2
          }
         }
        },
        "title": {
         "text": "Number of Allegations vs Number of Officers (Original, Permutation Test, Polya Urn Model)"
        },
        "xaxis": {
         "anchor": "y",
         "domain": [
          0,
          1
         ],
         "title": {
          "text": "Number of Allegations"
         }
        },
        "yaxis": {
         "anchor": "x",
         "domain": [
          0,
          1
         ],
         "title": {
          "text": "Number of Officers"
         }
        }
       }
      }
     },
     "metadata": {},
     "output_type": "display_data"
    }
   ],
   "source": [
    "# Plot original, perm, and new_df_vc using px\n",
    "# create empty fig\n",
    "fig = px.line(title=\"Number of Allegations vs Number of Officers (Original, Permutation Test, Polya Urn Model)\")\n",
    "# add name to original\n",
    "fig.add_scatter(x=original['Number of Allegations'], y=original['Number of Officers'], name='Original')\n",
    "fig.add_scatter(x=perm['Number of Allegations'], y=perm['Number of Officers'], mode='lines', name='Permutation Test')\n",
    "fig.add_scatter(x=new_df_vc.index, y=new_df_vc, mode='lines', name='Polya Urn Model')\n",
    "# add x and y axis titles\n",
    "fig.update_xaxes(title_text='Number of Allegations')\n",
    "fig.update_yaxes(title_text='Number of Officers')\n",
    "fig.show()"
   ]
  },
  {
   "cell_type": "code",
   "execution_count": null,
   "metadata": {},
   "outputs": [],
   "source": []
  }
 ],
 "metadata": {
  "kernelspec": {
   "display_name": "Python 3.9.12 ('base')",
   "language": "python",
   "name": "python3"
  },
  "language_info": {
   "codemirror_mode": {
    "name": "ipython",
    "version": 3
   },
   "file_extension": ".py",
   "mimetype": "text/x-python",
   "name": "python",
   "nbconvert_exporter": "python",
   "pygments_lexer": "ipython3",
   "version": "3.9.12"
  },
  "orig_nbformat": 4,
  "vscode": {
   "interpreter": {
    "hash": "7d070d07219d78435f9a014cf028f78a39f3816bb48d44baa7b1c4c726092051"
   }
  }
 },
 "nbformat": 4,
 "nbformat_minor": 2
}

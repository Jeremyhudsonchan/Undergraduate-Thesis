{
 "cells": [
  {
   "cell_type": "code",
   "execution_count": 1,
   "metadata": {},
   "outputs": [
    {
     "name": "stdout",
     "output_type": "stream",
     "text": [
      "16015\n"
     ]
    }
   ],
   "source": [
    "import pandas as pd\n",
    "import time\n",
    "import plotly.graph_objs as go\n",
    "\n",
    "df = pd.read_csv(\n",
    "    '/Users/jeremyhudsonchan/Dropbox/Files/Boston_College_Courses/Thesis/Code/Undergraduate-Thesis/Preprocessing_Code/final/data/proportions.csv', low_memory=False)\n",
    "officers = pd.read_csv(\n",
    "    '/Users/jeremyhudsonchan/Dropbox/Files/Boston_College_Courses/Thesis/Code/Undergraduate-Thesis/Preprocessing_Code/final/data/perm_unique_officers.csv', low_memory=False)\n",
    "\n",
    "# group by CRID\n",
    "df_grouped = df.groupby('CRID')\n",
    "# find number of groups that have more than one officer\n",
    "print(len(df_grouped.filter(lambda x: len(x) > 1)))"
   ]
  },
  {
   "cell_type": "code",
   "execution_count": 2,
   "metadata": {},
   "outputs": [
    {
     "data": {
      "application/vnd.plotly.v1+json": {
       "config": {
        "plotlyServerURL": "https://plot.ly"
       },
       "data": [
        {
         "mode": "lines",
         "name": "lines",
         "type": "scatter",
         "x": [
          1,
          2,
          3,
          4,
          5,
          6,
          7,
          8,
          9,
          10,
          11,
          12,
          13,
          14,
          15,
          16,
          17,
          19,
          20,
          18,
          21,
          26,
          31,
          22,
          23,
          24,
          25,
          29,
          30,
          35
         ],
         "y": [
          3593,
          1734,
          1006,
          658,
          404,
          264,
          193,
          119,
          111,
          57,
          47,
          41,
          26,
          13,
          13,
          12,
          9,
          7,
          5,
          4,
          2,
          2,
          1,
          1,
          1,
          1,
          1,
          1,
          1,
          1
         ]
        }
       ],
       "layout": {
        "template": {
         "data": {
          "bar": [
           {
            "error_x": {
             "color": "#2a3f5f"
            },
            "error_y": {
             "color": "#2a3f5f"
            },
            "marker": {
             "line": {
              "color": "#E5ECF6",
              "width": 0.5
             },
             "pattern": {
              "fillmode": "overlay",
              "size": 10,
              "solidity": 0.2
             }
            },
            "type": "bar"
           }
          ],
          "barpolar": [
           {
            "marker": {
             "line": {
              "color": "#E5ECF6",
              "width": 0.5
             },
             "pattern": {
              "fillmode": "overlay",
              "size": 10,
              "solidity": 0.2
             }
            },
            "type": "barpolar"
           }
          ],
          "carpet": [
           {
            "aaxis": {
             "endlinecolor": "#2a3f5f",
             "gridcolor": "white",
             "linecolor": "white",
             "minorgridcolor": "white",
             "startlinecolor": "#2a3f5f"
            },
            "baxis": {
             "endlinecolor": "#2a3f5f",
             "gridcolor": "white",
             "linecolor": "white",
             "minorgridcolor": "white",
             "startlinecolor": "#2a3f5f"
            },
            "type": "carpet"
           }
          ],
          "choropleth": [
           {
            "colorbar": {
             "outlinewidth": 0,
             "ticks": ""
            },
            "type": "choropleth"
           }
          ],
          "contour": [
           {
            "colorbar": {
             "outlinewidth": 0,
             "ticks": ""
            },
            "colorscale": [
             [
              0,
              "#0d0887"
             ],
             [
              0.1111111111111111,
              "#46039f"
             ],
             [
              0.2222222222222222,
              "#7201a8"
             ],
             [
              0.3333333333333333,
              "#9c179e"
             ],
             [
              0.4444444444444444,
              "#bd3786"
             ],
             [
              0.5555555555555556,
              "#d8576b"
             ],
             [
              0.6666666666666666,
              "#ed7953"
             ],
             [
              0.7777777777777778,
              "#fb9f3a"
             ],
             [
              0.8888888888888888,
              "#fdca26"
             ],
             [
              1,
              "#f0f921"
             ]
            ],
            "type": "contour"
           }
          ],
          "contourcarpet": [
           {
            "colorbar": {
             "outlinewidth": 0,
             "ticks": ""
            },
            "type": "contourcarpet"
           }
          ],
          "heatmap": [
           {
            "colorbar": {
             "outlinewidth": 0,
             "ticks": ""
            },
            "colorscale": [
             [
              0,
              "#0d0887"
             ],
             [
              0.1111111111111111,
              "#46039f"
             ],
             [
              0.2222222222222222,
              "#7201a8"
             ],
             [
              0.3333333333333333,
              "#9c179e"
             ],
             [
              0.4444444444444444,
              "#bd3786"
             ],
             [
              0.5555555555555556,
              "#d8576b"
             ],
             [
              0.6666666666666666,
              "#ed7953"
             ],
             [
              0.7777777777777778,
              "#fb9f3a"
             ],
             [
              0.8888888888888888,
              "#fdca26"
             ],
             [
              1,
              "#f0f921"
             ]
            ],
            "type": "heatmap"
           }
          ],
          "heatmapgl": [
           {
            "colorbar": {
             "outlinewidth": 0,
             "ticks": ""
            },
            "colorscale": [
             [
              0,
              "#0d0887"
             ],
             [
              0.1111111111111111,
              "#46039f"
             ],
             [
              0.2222222222222222,
              "#7201a8"
             ],
             [
              0.3333333333333333,
              "#9c179e"
             ],
             [
              0.4444444444444444,
              "#bd3786"
             ],
             [
              0.5555555555555556,
              "#d8576b"
             ],
             [
              0.6666666666666666,
              "#ed7953"
             ],
             [
              0.7777777777777778,
              "#fb9f3a"
             ],
             [
              0.8888888888888888,
              "#fdca26"
             ],
             [
              1,
              "#f0f921"
             ]
            ],
            "type": "heatmapgl"
           }
          ],
          "histogram": [
           {
            "marker": {
             "pattern": {
              "fillmode": "overlay",
              "size": 10,
              "solidity": 0.2
             }
            },
            "type": "histogram"
           }
          ],
          "histogram2d": [
           {
            "colorbar": {
             "outlinewidth": 0,
             "ticks": ""
            },
            "colorscale": [
             [
              0,
              "#0d0887"
             ],
             [
              0.1111111111111111,
              "#46039f"
             ],
             [
              0.2222222222222222,
              "#7201a8"
             ],
             [
              0.3333333333333333,
              "#9c179e"
             ],
             [
              0.4444444444444444,
              "#bd3786"
             ],
             [
              0.5555555555555556,
              "#d8576b"
             ],
             [
              0.6666666666666666,
              "#ed7953"
             ],
             [
              0.7777777777777778,
              "#fb9f3a"
             ],
             [
              0.8888888888888888,
              "#fdca26"
             ],
             [
              1,
              "#f0f921"
             ]
            ],
            "type": "histogram2d"
           }
          ],
          "histogram2dcontour": [
           {
            "colorbar": {
             "outlinewidth": 0,
             "ticks": ""
            },
            "colorscale": [
             [
              0,
              "#0d0887"
             ],
             [
              0.1111111111111111,
              "#46039f"
             ],
             [
              0.2222222222222222,
              "#7201a8"
             ],
             [
              0.3333333333333333,
              "#9c179e"
             ],
             [
              0.4444444444444444,
              "#bd3786"
             ],
             [
              0.5555555555555556,
              "#d8576b"
             ],
             [
              0.6666666666666666,
              "#ed7953"
             ],
             [
              0.7777777777777778,
              "#fb9f3a"
             ],
             [
              0.8888888888888888,
              "#fdca26"
             ],
             [
              1,
              "#f0f921"
             ]
            ],
            "type": "histogram2dcontour"
           }
          ],
          "mesh3d": [
           {
            "colorbar": {
             "outlinewidth": 0,
             "ticks": ""
            },
            "type": "mesh3d"
           }
          ],
          "parcoords": [
           {
            "line": {
             "colorbar": {
              "outlinewidth": 0,
              "ticks": ""
             }
            },
            "type": "parcoords"
           }
          ],
          "pie": [
           {
            "automargin": true,
            "type": "pie"
           }
          ],
          "scatter": [
           {
            "marker": {
             "colorbar": {
              "outlinewidth": 0,
              "ticks": ""
             }
            },
            "type": "scatter"
           }
          ],
          "scatter3d": [
           {
            "line": {
             "colorbar": {
              "outlinewidth": 0,
              "ticks": ""
             }
            },
            "marker": {
             "colorbar": {
              "outlinewidth": 0,
              "ticks": ""
             }
            },
            "type": "scatter3d"
           }
          ],
          "scattercarpet": [
           {
            "marker": {
             "colorbar": {
              "outlinewidth": 0,
              "ticks": ""
             }
            },
            "type": "scattercarpet"
           }
          ],
          "scattergeo": [
           {
            "marker": {
             "colorbar": {
              "outlinewidth": 0,
              "ticks": ""
             }
            },
            "type": "scattergeo"
           }
          ],
          "scattergl": [
           {
            "marker": {
             "colorbar": {
              "outlinewidth": 0,
              "ticks": ""
             }
            },
            "type": "scattergl"
           }
          ],
          "scattermapbox": [
           {
            "marker": {
             "colorbar": {
              "outlinewidth": 0,
              "ticks": ""
             }
            },
            "type": "scattermapbox"
           }
          ],
          "scatterpolar": [
           {
            "marker": {
             "colorbar": {
              "outlinewidth": 0,
              "ticks": ""
             }
            },
            "type": "scatterpolar"
           }
          ],
          "scatterpolargl": [
           {
            "marker": {
             "colorbar": {
              "outlinewidth": 0,
              "ticks": ""
             }
            },
            "type": "scatterpolargl"
           }
          ],
          "scatterternary": [
           {
            "marker": {
             "colorbar": {
              "outlinewidth": 0,
              "ticks": ""
             }
            },
            "type": "scatterternary"
           }
          ],
          "surface": [
           {
            "colorbar": {
             "outlinewidth": 0,
             "ticks": ""
            },
            "colorscale": [
             [
              0,
              "#0d0887"
             ],
             [
              0.1111111111111111,
              "#46039f"
             ],
             [
              0.2222222222222222,
              "#7201a8"
             ],
             [
              0.3333333333333333,
              "#9c179e"
             ],
             [
              0.4444444444444444,
              "#bd3786"
             ],
             [
              0.5555555555555556,
              "#d8576b"
             ],
             [
              0.6666666666666666,
              "#ed7953"
             ],
             [
              0.7777777777777778,
              "#fb9f3a"
             ],
             [
              0.8888888888888888,
              "#fdca26"
             ],
             [
              1,
              "#f0f921"
             ]
            ],
            "type": "surface"
           }
          ],
          "table": [
           {
            "cells": {
             "fill": {
              "color": "#EBF0F8"
             },
             "line": {
              "color": "white"
             }
            },
            "header": {
             "fill": {
              "color": "#C8D4E3"
             },
             "line": {
              "color": "white"
             }
            },
            "type": "table"
           }
          ]
         },
         "layout": {
          "annotationdefaults": {
           "arrowcolor": "#2a3f5f",
           "arrowhead": 0,
           "arrowwidth": 1
          },
          "autotypenumbers": "strict",
          "coloraxis": {
           "colorbar": {
            "outlinewidth": 0,
            "ticks": ""
           }
          },
          "colorscale": {
           "diverging": [
            [
             0,
             "#8e0152"
            ],
            [
             0.1,
             "#c51b7d"
            ],
            [
             0.2,
             "#de77ae"
            ],
            [
             0.3,
             "#f1b6da"
            ],
            [
             0.4,
             "#fde0ef"
            ],
            [
             0.5,
             "#f7f7f7"
            ],
            [
             0.6,
             "#e6f5d0"
            ],
            [
             0.7,
             "#b8e186"
            ],
            [
             0.8,
             "#7fbc41"
            ],
            [
             0.9,
             "#4d9221"
            ],
            [
             1,
             "#276419"
            ]
           ],
           "sequential": [
            [
             0,
             "#0d0887"
            ],
            [
             0.1111111111111111,
             "#46039f"
            ],
            [
             0.2222222222222222,
             "#7201a8"
            ],
            [
             0.3333333333333333,
             "#9c179e"
            ],
            [
             0.4444444444444444,
             "#bd3786"
            ],
            [
             0.5555555555555556,
             "#d8576b"
            ],
            [
             0.6666666666666666,
             "#ed7953"
            ],
            [
             0.7777777777777778,
             "#fb9f3a"
            ],
            [
             0.8888888888888888,
             "#fdca26"
            ],
            [
             1,
             "#f0f921"
            ]
           ],
           "sequentialminus": [
            [
             0,
             "#0d0887"
            ],
            [
             0.1111111111111111,
             "#46039f"
            ],
            [
             0.2222222222222222,
             "#7201a8"
            ],
            [
             0.3333333333333333,
             "#9c179e"
            ],
            [
             0.4444444444444444,
             "#bd3786"
            ],
            [
             0.5555555555555556,
             "#d8576b"
            ],
            [
             0.6666666666666666,
             "#ed7953"
            ],
            [
             0.7777777777777778,
             "#fb9f3a"
            ],
            [
             0.8888888888888888,
             "#fdca26"
            ],
            [
             1,
             "#f0f921"
            ]
           ]
          },
          "colorway": [
           "#636efa",
           "#EF553B",
           "#00cc96",
           "#ab63fa",
           "#FFA15A",
           "#19d3f3",
           "#FF6692",
           "#B6E880",
           "#FF97FF",
           "#FECB52"
          ],
          "font": {
           "color": "#2a3f5f"
          },
          "geo": {
           "bgcolor": "white",
           "lakecolor": "white",
           "landcolor": "#E5ECF6",
           "showlakes": true,
           "showland": true,
           "subunitcolor": "white"
          },
          "hoverlabel": {
           "align": "left"
          },
          "hovermode": "closest",
          "mapbox": {
           "style": "light"
          },
          "paper_bgcolor": "white",
          "plot_bgcolor": "#E5ECF6",
          "polar": {
           "angularaxis": {
            "gridcolor": "white",
            "linecolor": "white",
            "ticks": ""
           },
           "bgcolor": "#E5ECF6",
           "radialaxis": {
            "gridcolor": "white",
            "linecolor": "white",
            "ticks": ""
           }
          },
          "scene": {
           "xaxis": {
            "backgroundcolor": "#E5ECF6",
            "gridcolor": "white",
            "gridwidth": 2,
            "linecolor": "white",
            "showbackground": true,
            "ticks": "",
            "zerolinecolor": "white"
           },
           "yaxis": {
            "backgroundcolor": "#E5ECF6",
            "gridcolor": "white",
            "gridwidth": 2,
            "linecolor": "white",
            "showbackground": true,
            "ticks": "",
            "zerolinecolor": "white"
           },
           "zaxis": {
            "backgroundcolor": "#E5ECF6",
            "gridcolor": "white",
            "gridwidth": 2,
            "linecolor": "white",
            "showbackground": true,
            "ticks": "",
            "zerolinecolor": "white"
           }
          },
          "shapedefaults": {
           "line": {
            "color": "#2a3f5f"
           }
          },
          "ternary": {
           "aaxis": {
            "gridcolor": "white",
            "linecolor": "white",
            "ticks": ""
           },
           "baxis": {
            "gridcolor": "white",
            "linecolor": "white",
            "ticks": ""
           },
           "bgcolor": "#E5ECF6",
           "caxis": {
            "gridcolor": "white",
            "linecolor": "white",
            "ticks": ""
           }
          },
          "title": {
           "x": 0.05
          },
          "xaxis": {
           "automargin": true,
           "gridcolor": "white",
           "linecolor": "white",
           "ticks": "",
           "title": {
            "standoff": 15
           },
           "zerolinecolor": "white",
           "zerolinewidth": 2
          },
          "yaxis": {
           "automargin": true,
           "gridcolor": "white",
           "linecolor": "white",
           "ticks": "",
           "title": {
            "standoff": 15
           },
           "zerolinecolor": "white",
           "zerolinewidth": 2
          }
         }
        },
        "title": {
         "text": "Original"
        }
       }
      }
     },
     "metadata": {},
     "output_type": "display_data"
    }
   ],
   "source": [
    "# ----------- Start of Original -----------\n",
    "# original\n",
    "df_vc = df['OfficerID'].value_counts()\n",
    "\n",
    "# get number of times each value appears in df_vc\n",
    "df_vc = df_vc.value_counts()\n",
    "\n",
    "# change index title to number of allegations, value to number of officers\n",
    "df_vc.index.name = 'Number of Allegations'\n",
    "df_vc.name = 'Number of Officers'\n",
    "\n",
    "# plot density curve of df_vc using plotly\n",
    "# fig = px.line(df_vc, x=df_vc.index, y=df_vc.values, labels={\n",
    "#               'x': 'Number of Allegations', 'y': 'Number of Officers'})\n",
    "fig = go.Figure()\n",
    "fig.add_trace(go.Scatter(x=df_vc.index, y=df_vc.values,\n",
    "                         mode='lines',\n",
    "                         name='lines'))\n",
    "fig.update_layout(title_text='Original')\n",
    "fig.show()\n",
    "# ----------- End of Original -----------"
   ]
  },
  {
   "cell_type": "code",
   "execution_count": 4,
   "metadata": {},
   "outputs": [
    {
     "name": "stdout",
     "output_type": "stream",
     "text": [
      "0\n",
      "1\n",
      "2\n",
      "3\n",
      "4\n",
      "5\n",
      "6\n",
      "7\n",
      "8\n",
      "9\n"
     ]
    }
   ],
   "source": [
    "# ----------- Start of Permutation Test -----------\n",
    "# permutation test loop 1000 simulations\n",
    "start_time = time.time()\n",
    "perm_test_results = []\n",
    "for i in range(10):\n",
    "    print(i)\n",
    "    # probabilities are in df_grouped[\"Beat Count\"]\n",
    "    # new_df to store permutation test results\n",
    "    new_df = pd.DataFrame(columns=['OfficerID', 'Beat'])\n",
    "    for index, row in df_grouped:\n",
    "        # get num officers in group\n",
    "        num_officers = len(row)\n",
    "        # get beat of group\n",
    "        beat = row['Beat'].iloc[0]\n",
    "        # get beat count of group\n",
    "        # beat_count = row['Beat'].iloc[0]\n",
    "        # print(beat_count)\n",
    "        # check if beat exists in officers dataframe\n",
    "        if beat not in officers['Beat'].values:\n",
    "            continue\n",
    "        # get officers in beat\n",
    "        officers_in_beat = officers.loc[officers['Beat'] == beat]\n",
    "        if num_officers > len(officers_in_beat):\n",
    "            # ts += 1\n",
    "            # print(\"troubleshoot\", ts)\n",
    "            continue\n",
    "        # randomly sample officers without replacement from officers dataframe\n",
    "        officers_sample = officers.sample(n=num_officers)\n",
    "        # add officers to new dataframe\n",
    "        for index, row in officers_sample.iterrows():\n",
    "            # pd concat\n",
    "            new_df = pd.concat([new_df, pd.DataFrame(\n",
    "                [[row['OfficerID'], row['Beat']]], columns=['OfficerID', 'Beat'])])\n",
    "\n",
    "    # value counts of officers appearing in new_df\n",
    "    new_df_vc = new_df['OfficerID'].value_counts()\n",
    "\n",
    "    # get number of times each value appears in new_df_vc\n",
    "    new_df_vc = new_df_vc.value_counts()\n",
    "    # change index title to number of allegations, value to number of officers\n",
    "    new_df_vc.index.name = 'Number of Allegations'\n",
    "    new_df_vc.name = 'Number of Officers'\n",
    "\n",
    "    perm_test_results.append(new_df_vc)\n",
    "end_time = time.time()\n",
    "# get 95% confidence interval\n",
    "conf_intv = pd.concat(perm_test_results).groupby(level=0).quantile(\n",
    "    [0.025, 0.975]).unstack()\n",
    "\n",
    "# get average of perm_test_results\n",
    "new_df_vc = pd.concat(perm_test_results).groupby(level=0).mean()"
   ]
  },
  {
   "cell_type": "code",
   "execution_count": 5,
   "metadata": {},
   "outputs": [
    {
     "name": "stdout",
     "output_type": "stream",
     "text": [
      "Runtime: 240.3065960407257\n"
     ]
    }
   ],
   "source": [
    "print(\"Runtime: \" + str(end_time - start_time))"
   ]
  },
  {
   "cell_type": "code",
   "execution_count": 40,
   "metadata": {},
   "outputs": [
    {
     "data": {
      "application/vnd.plotly.v1+json": {
       "config": {
        "plotlyServerURL": "https://plot.ly"
       },
       "data": [
        {
         "mode": "lines",
         "name": "Permutation Test Results",
         "type": "scatter",
         "x": [
          1,
          2,
          3,
          4,
          5,
          6,
          7,
          8,
          9,
          10,
          11,
          12
         ],
         "y": [
          1478.9,
          2003.1,
          1844.8,
          1255,
          704.1,
          311.7,
          126.6,
          41.8,
          14.3,
          3.5,
          1.2857142857142858,
          1.5
         ]
        },
        {
         "line": {
          "color": "rgb(87, 245, 66)"
         },
         "mode": "lines",
         "name": "95% Confidence Interval Permutation Test",
         "type": "scatter",
         "x": [
          1,
          2,
          3,
          4,
          5,
          6,
          7,
          8,
          9,
          10,
          11,
          12
         ],
         "y": [
          1452.8,
          1949.625,
          1813.8,
          1215.85,
          669.35,
          286.25,
          111.675,
          32.35,
          10.225,
          2,
          1,
          1.025
         ]
        },
        {
         "fill": "tonexty",
         "fillcolor": "rgba(87, 245, 66,0.2)",
         "line": {
          "color": "rgba(87, 245, 66,1)"
         },
         "mode": "lines",
         "name": "95% Confidence Interval Permutation Test",
         "type": "scatter",
         "x": [
          1,
          2,
          3,
          4,
          5,
          6,
          7,
          8,
          9,
          10,
          11,
          12
         ],
         "y": [
          1503.3,
          2043.2,
          1899.85,
          1277.325,
          741.075,
          323,
          145.07500000000002,
          49.55,
          20.325000000000003,
          5.775,
          2,
          1.975
         ]
        },
        {
         "line": {
          "color": "rgb(0,0,0)"
         },
         "mode": "lines",
         "name": "Original",
         "type": "scatter",
         "x": [
          1,
          2,
          3,
          4,
          5,
          6,
          7,
          8,
          9,
          10,
          11,
          12,
          13,
          14,
          15,
          16,
          17,
          19,
          20,
          18,
          21,
          26,
          31,
          22,
          23,
          24,
          25,
          29,
          30,
          35
         ],
         "y": [
          3593,
          1734,
          1006,
          658,
          404,
          264,
          193,
          119,
          111,
          57,
          47,
          41,
          26,
          13,
          13,
          12,
          9,
          7,
          5,
          4,
          2,
          2,
          1,
          1,
          1,
          1,
          1,
          1,
          1,
          1
         ]
        }
       ],
       "layout": {
        "template": {
         "data": {
          "bar": [
           {
            "error_x": {
             "color": "#2a3f5f"
            },
            "error_y": {
             "color": "#2a3f5f"
            },
            "marker": {
             "line": {
              "color": "#E5ECF6",
              "width": 0.5
             },
             "pattern": {
              "fillmode": "overlay",
              "size": 10,
              "solidity": 0.2
             }
            },
            "type": "bar"
           }
          ],
          "barpolar": [
           {
            "marker": {
             "line": {
              "color": "#E5ECF6",
              "width": 0.5
             },
             "pattern": {
              "fillmode": "overlay",
              "size": 10,
              "solidity": 0.2
             }
            },
            "type": "barpolar"
           }
          ],
          "carpet": [
           {
            "aaxis": {
             "endlinecolor": "#2a3f5f",
             "gridcolor": "white",
             "linecolor": "white",
             "minorgridcolor": "white",
             "startlinecolor": "#2a3f5f"
            },
            "baxis": {
             "endlinecolor": "#2a3f5f",
             "gridcolor": "white",
             "linecolor": "white",
             "minorgridcolor": "white",
             "startlinecolor": "#2a3f5f"
            },
            "type": "carpet"
           }
          ],
          "choropleth": [
           {
            "colorbar": {
             "outlinewidth": 0,
             "ticks": ""
            },
            "type": "choropleth"
           }
          ],
          "contour": [
           {
            "colorbar": {
             "outlinewidth": 0,
             "ticks": ""
            },
            "colorscale": [
             [
              0,
              "#0d0887"
             ],
             [
              0.1111111111111111,
              "#46039f"
             ],
             [
              0.2222222222222222,
              "#7201a8"
             ],
             [
              0.3333333333333333,
              "#9c179e"
             ],
             [
              0.4444444444444444,
              "#bd3786"
             ],
             [
              0.5555555555555556,
              "#d8576b"
             ],
             [
              0.6666666666666666,
              "#ed7953"
             ],
             [
              0.7777777777777778,
              "#fb9f3a"
             ],
             [
              0.8888888888888888,
              "#fdca26"
             ],
             [
              1,
              "#f0f921"
             ]
            ],
            "type": "contour"
           }
          ],
          "contourcarpet": [
           {
            "colorbar": {
             "outlinewidth": 0,
             "ticks": ""
            },
            "type": "contourcarpet"
           }
          ],
          "heatmap": [
           {
            "colorbar": {
             "outlinewidth": 0,
             "ticks": ""
            },
            "colorscale": [
             [
              0,
              "#0d0887"
             ],
             [
              0.1111111111111111,
              "#46039f"
             ],
             [
              0.2222222222222222,
              "#7201a8"
             ],
             [
              0.3333333333333333,
              "#9c179e"
             ],
             [
              0.4444444444444444,
              "#bd3786"
             ],
             [
              0.5555555555555556,
              "#d8576b"
             ],
             [
              0.6666666666666666,
              "#ed7953"
             ],
             [
              0.7777777777777778,
              "#fb9f3a"
             ],
             [
              0.8888888888888888,
              "#fdca26"
             ],
             [
              1,
              "#f0f921"
             ]
            ],
            "type": "heatmap"
           }
          ],
          "heatmapgl": [
           {
            "colorbar": {
             "outlinewidth": 0,
             "ticks": ""
            },
            "colorscale": [
             [
              0,
              "#0d0887"
             ],
             [
              0.1111111111111111,
              "#46039f"
             ],
             [
              0.2222222222222222,
              "#7201a8"
             ],
             [
              0.3333333333333333,
              "#9c179e"
             ],
             [
              0.4444444444444444,
              "#bd3786"
             ],
             [
              0.5555555555555556,
              "#d8576b"
             ],
             [
              0.6666666666666666,
              "#ed7953"
             ],
             [
              0.7777777777777778,
              "#fb9f3a"
             ],
             [
              0.8888888888888888,
              "#fdca26"
             ],
             [
              1,
              "#f0f921"
             ]
            ],
            "type": "heatmapgl"
           }
          ],
          "histogram": [
           {
            "marker": {
             "pattern": {
              "fillmode": "overlay",
              "size": 10,
              "solidity": 0.2
             }
            },
            "type": "histogram"
           }
          ],
          "histogram2d": [
           {
            "colorbar": {
             "outlinewidth": 0,
             "ticks": ""
            },
            "colorscale": [
             [
              0,
              "#0d0887"
             ],
             [
              0.1111111111111111,
              "#46039f"
             ],
             [
              0.2222222222222222,
              "#7201a8"
             ],
             [
              0.3333333333333333,
              "#9c179e"
             ],
             [
              0.4444444444444444,
              "#bd3786"
             ],
             [
              0.5555555555555556,
              "#d8576b"
             ],
             [
              0.6666666666666666,
              "#ed7953"
             ],
             [
              0.7777777777777778,
              "#fb9f3a"
             ],
             [
              0.8888888888888888,
              "#fdca26"
             ],
             [
              1,
              "#f0f921"
             ]
            ],
            "type": "histogram2d"
           }
          ],
          "histogram2dcontour": [
           {
            "colorbar": {
             "outlinewidth": 0,
             "ticks": ""
            },
            "colorscale": [
             [
              0,
              "#0d0887"
             ],
             [
              0.1111111111111111,
              "#46039f"
             ],
             [
              0.2222222222222222,
              "#7201a8"
             ],
             [
              0.3333333333333333,
              "#9c179e"
             ],
             [
              0.4444444444444444,
              "#bd3786"
             ],
             [
              0.5555555555555556,
              "#d8576b"
             ],
             [
              0.6666666666666666,
              "#ed7953"
             ],
             [
              0.7777777777777778,
              "#fb9f3a"
             ],
             [
              0.8888888888888888,
              "#fdca26"
             ],
             [
              1,
              "#f0f921"
             ]
            ],
            "type": "histogram2dcontour"
           }
          ],
          "mesh3d": [
           {
            "colorbar": {
             "outlinewidth": 0,
             "ticks": ""
            },
            "type": "mesh3d"
           }
          ],
          "parcoords": [
           {
            "line": {
             "colorbar": {
              "outlinewidth": 0,
              "ticks": ""
             }
            },
            "type": "parcoords"
           }
          ],
          "pie": [
           {
            "automargin": true,
            "type": "pie"
           }
          ],
          "scatter": [
           {
            "marker": {
             "colorbar": {
              "outlinewidth": 0,
              "ticks": ""
             }
            },
            "type": "scatter"
           }
          ],
          "scatter3d": [
           {
            "line": {
             "colorbar": {
              "outlinewidth": 0,
              "ticks": ""
             }
            },
            "marker": {
             "colorbar": {
              "outlinewidth": 0,
              "ticks": ""
             }
            },
            "type": "scatter3d"
           }
          ],
          "scattercarpet": [
           {
            "marker": {
             "colorbar": {
              "outlinewidth": 0,
              "ticks": ""
             }
            },
            "type": "scattercarpet"
           }
          ],
          "scattergeo": [
           {
            "marker": {
             "colorbar": {
              "outlinewidth": 0,
              "ticks": ""
             }
            },
            "type": "scattergeo"
           }
          ],
          "scattergl": [
           {
            "marker": {
             "colorbar": {
              "outlinewidth": 0,
              "ticks": ""
             }
            },
            "type": "scattergl"
           }
          ],
          "scattermapbox": [
           {
            "marker": {
             "colorbar": {
              "outlinewidth": 0,
              "ticks": ""
             }
            },
            "type": "scattermapbox"
           }
          ],
          "scatterpolar": [
           {
            "marker": {
             "colorbar": {
              "outlinewidth": 0,
              "ticks": ""
             }
            },
            "type": "scatterpolar"
           }
          ],
          "scatterpolargl": [
           {
            "marker": {
             "colorbar": {
              "outlinewidth": 0,
              "ticks": ""
             }
            },
            "type": "scatterpolargl"
           }
          ],
          "scatterternary": [
           {
            "marker": {
             "colorbar": {
              "outlinewidth": 0,
              "ticks": ""
             }
            },
            "type": "scatterternary"
           }
          ],
          "surface": [
           {
            "colorbar": {
             "outlinewidth": 0,
             "ticks": ""
            },
            "colorscale": [
             [
              0,
              "#0d0887"
             ],
             [
              0.1111111111111111,
              "#46039f"
             ],
             [
              0.2222222222222222,
              "#7201a8"
             ],
             [
              0.3333333333333333,
              "#9c179e"
             ],
             [
              0.4444444444444444,
              "#bd3786"
             ],
             [
              0.5555555555555556,
              "#d8576b"
             ],
             [
              0.6666666666666666,
              "#ed7953"
             ],
             [
              0.7777777777777778,
              "#fb9f3a"
             ],
             [
              0.8888888888888888,
              "#fdca26"
             ],
             [
              1,
              "#f0f921"
             ]
            ],
            "type": "surface"
           }
          ],
          "table": [
           {
            "cells": {
             "fill": {
              "color": "#EBF0F8"
             },
             "line": {
              "color": "white"
             }
            },
            "header": {
             "fill": {
              "color": "#C8D4E3"
             },
             "line": {
              "color": "white"
             }
            },
            "type": "table"
           }
          ]
         },
         "layout": {
          "annotationdefaults": {
           "arrowcolor": "#2a3f5f",
           "arrowhead": 0,
           "arrowwidth": 1
          },
          "autotypenumbers": "strict",
          "coloraxis": {
           "colorbar": {
            "outlinewidth": 0,
            "ticks": ""
           }
          },
          "colorscale": {
           "diverging": [
            [
             0,
             "#8e0152"
            ],
            [
             0.1,
             "#c51b7d"
            ],
            [
             0.2,
             "#de77ae"
            ],
            [
             0.3,
             "#f1b6da"
            ],
            [
             0.4,
             "#fde0ef"
            ],
            [
             0.5,
             "#f7f7f7"
            ],
            [
             0.6,
             "#e6f5d0"
            ],
            [
             0.7,
             "#b8e186"
            ],
            [
             0.8,
             "#7fbc41"
            ],
            [
             0.9,
             "#4d9221"
            ],
            [
             1,
             "#276419"
            ]
           ],
           "sequential": [
            [
             0,
             "#0d0887"
            ],
            [
             0.1111111111111111,
             "#46039f"
            ],
            [
             0.2222222222222222,
             "#7201a8"
            ],
            [
             0.3333333333333333,
             "#9c179e"
            ],
            [
             0.4444444444444444,
             "#bd3786"
            ],
            [
             0.5555555555555556,
             "#d8576b"
            ],
            [
             0.6666666666666666,
             "#ed7953"
            ],
            [
             0.7777777777777778,
             "#fb9f3a"
            ],
            [
             0.8888888888888888,
             "#fdca26"
            ],
            [
             1,
             "#f0f921"
            ]
           ],
           "sequentialminus": [
            [
             0,
             "#0d0887"
            ],
            [
             0.1111111111111111,
             "#46039f"
            ],
            [
             0.2222222222222222,
             "#7201a8"
            ],
            [
             0.3333333333333333,
             "#9c179e"
            ],
            [
             0.4444444444444444,
             "#bd3786"
            ],
            [
             0.5555555555555556,
             "#d8576b"
            ],
            [
             0.6666666666666666,
             "#ed7953"
            ],
            [
             0.7777777777777778,
             "#fb9f3a"
            ],
            [
             0.8888888888888888,
             "#fdca26"
            ],
            [
             1,
             "#f0f921"
            ]
           ]
          },
          "colorway": [
           "#636efa",
           "#EF553B",
           "#00cc96",
           "#ab63fa",
           "#FFA15A",
           "#19d3f3",
           "#FF6692",
           "#B6E880",
           "#FF97FF",
           "#FECB52"
          ],
          "font": {
           "color": "#2a3f5f"
          },
          "geo": {
           "bgcolor": "white",
           "lakecolor": "white",
           "landcolor": "#E5ECF6",
           "showlakes": true,
           "showland": true,
           "subunitcolor": "white"
          },
          "hoverlabel": {
           "align": "left"
          },
          "hovermode": "closest",
          "mapbox": {
           "style": "light"
          },
          "paper_bgcolor": "white",
          "plot_bgcolor": "#E5ECF6",
          "polar": {
           "angularaxis": {
            "gridcolor": "white",
            "linecolor": "white",
            "ticks": ""
           },
           "bgcolor": "#E5ECF6",
           "radialaxis": {
            "gridcolor": "white",
            "linecolor": "white",
            "ticks": ""
           }
          },
          "scene": {
           "xaxis": {
            "backgroundcolor": "#E5ECF6",
            "gridcolor": "white",
            "gridwidth": 2,
            "linecolor": "white",
            "showbackground": true,
            "ticks": "",
            "zerolinecolor": "white"
           },
           "yaxis": {
            "backgroundcolor": "#E5ECF6",
            "gridcolor": "white",
            "gridwidth": 2,
            "linecolor": "white",
            "showbackground": true,
            "ticks": "",
            "zerolinecolor": "white"
           },
           "zaxis": {
            "backgroundcolor": "#E5ECF6",
            "gridcolor": "white",
            "gridwidth": 2,
            "linecolor": "white",
            "showbackground": true,
            "ticks": "",
            "zerolinecolor": "white"
           }
          },
          "shapedefaults": {
           "line": {
            "color": "#2a3f5f"
           }
          },
          "ternary": {
           "aaxis": {
            "gridcolor": "white",
            "linecolor": "white",
            "ticks": ""
           },
           "baxis": {
            "gridcolor": "white",
            "linecolor": "white",
            "ticks": ""
           },
           "bgcolor": "#E5ECF6",
           "caxis": {
            "gridcolor": "white",
            "linecolor": "white",
            "ticks": ""
           }
          },
          "title": {
           "x": 0.05
          },
          "xaxis": {
           "automargin": true,
           "gridcolor": "white",
           "linecolor": "white",
           "ticks": "",
           "title": {
            "standoff": 15
           },
           "zerolinecolor": "white",
           "zerolinewidth": 2
          },
          "yaxis": {
           "automargin": true,
           "gridcolor": "white",
           "linecolor": "white",
           "ticks": "",
           "title": {
            "standoff": 15
           },
           "zerolinecolor": "white",
           "zerolinewidth": 2
          }
         }
        },
        "title": {
         "text": "Permutation Test Results"
        },
        "xaxis": {
         "title": {
          "text": "Number of Allegations"
         }
        },
        "yaxis": {
         "title": {
          "text": "Number of Officers"
         }
        }
       }
      }
     },
     "metadata": {},
     "output_type": "display_data"
    }
   ],
   "source": [
    "# Plot\n",
    "# plot new_df_vc using plotly, also include 95% confidence interval\n",
    "# title is Perumtation Test Results\n",
    "fig = go.Figure()\n",
    "fig.add_trace(go.Scatter(x=new_df_vc.index,\n",
    "              y=new_df_vc.values, mode='lines', name='Permutation Test Results'))\n",
    "# https://stackoverflow.com/questions/44695999/shade-area-between-two-curves-plotly\n",
    "# Plot 95% confidence interval\n",
    "fig.add_trace(go.Scatter(x=conf_intv.index, y=conf_intv[0.025],\n",
    "                            mode='lines',\n",
    "                            name='95% Confidence Interval Permutation Test', line=dict(color='rgb(87, 245, 66)')))\n",
    "fig.add_trace(go.Scatter(x=conf_intv.index, y=conf_intv[0.975],\n",
    "                            mode='lines',\n",
    "                            name='95% Confidence Interval Permutation Test', line=dict(color='rgb(87, 245, 66)'), fill='tonexty', fillcolor='rgba(87, 245, 66,0.2)', line_color='rgba(87, 245, 66,1)'))\n",
    "\n",
    "fig.add_trace(go.Scatter(x=df_vc.index, y=df_vc.values,\n",
    "                         mode='lines',\n",
    "                         name='Original', line=dict(color='rgb(0,0,0)')))\n",
    "fig.update_layout(title_text='Permutation Test Results')\n",
    "# update xaxis properties\n",
    "fig.update_xaxes(title_text='Number of Allegations')\n",
    "# update yaxis properties\n",
    "fig.update_yaxes(title_text='Number of Officers')\n",
    "fig.show()\n",
    "# ----------- End of Permutation Test -----------"
   ]
  },
  {
   "cell_type": "code",
   "execution_count": null,
   "metadata": {},
   "outputs": [],
   "source": [
    "# ----------- Start of Polya Urn Model -----------\n",
    "weighted_officers = officers\n",
    "\n",
    "weighted_officers['Weights'] = 0\n",
    "weighted_officers['Occurences'] = 1\n",
    "\n",
    "# groupby beat\n",
    "weighted_officers_grouped = weighted_officers.groupby('Beat')\n",
    "# make weights sum to one in each group\n",
    "for name, group in weighted_officers_grouped:\n",
    "    weighted_officers.loc[weighted_officers['Beat'] ==\n",
    "                          name, 'Weights'] = 1 / len(group)\n",
    "\n",
    "weighted_df = pd.DataFrame(\n",
    "    columns=['OfficerID', 'Beat'])\n",
    "\n",
    "polya_urn_results = []\n",
    "# Add runtime\n",
    "start_time = time.time()\n",
    "for i in range(3):\n",
    "    alpha = 0.1\n",
    "    perm_df = pd.DataFrame(columns=['Occurences', 'Frequencies'])\n",
    "    print(i)\n",
    "    temp_weighted_officers = weighted_officers\n",
    "    ts = 0\n",
    "    for index, row in df_grouped:\n",
    "        # get num officers in group\n",
    "        num_officers = len(row)\n",
    "        # get beat of group\n",
    "        beat = row['Beat'].iloc[0]\n",
    "        if beat not in weighted_officers_grouped.groups:\n",
    "            continue\n",
    "        # polya urn model, rich get richer\n",
    "        weights = temp_weighted_officers.loc[temp_weighted_officers['Beat']\n",
    "                                             == beat, 'Weights']\n",
    "        # if num_officers > officers in beat print error\n",
    "        if num_officers > len(weights):\n",
    "            # ts += 1\n",
    "            # print(\"troubleshoot\", ts)\n",
    "            continue\n",
    "        # sample officers from the beat using the weights in the Weights column\n",
    "        officers_sample = weighted_officers_grouped.get_group(\n",
    "            beat).sample(n=num_officers, replace=False, weights=weights)\n",
    "        # add officers to new dataframe\n",
    "        for index, row in officers_sample.iterrows():\n",
    "            # pd concat\n",
    "            weighted_df = pd.concat([weighted_df, pd.DataFrame(\n",
    "                [[row['OfficerID'], row['Beat']]], columns=['OfficerID', 'Beat'])])\n",
    "            # Update officer occurences in weighted_officers\n",
    "            temp_weighted_officers.loc[temp_weighted_officers['OfficerID'] ==\n",
    "                                       row['OfficerID'], 'Occurences'] += 1\n",
    "            # update officer weights in weighted_officers\n",
    "            temp_weighted_officers.loc[temp_weighted_officers['OfficerID'] ==\n",
    "                                       row['OfficerID'], 'Weights'] += alpha\n",
    "    # if number of occurences > 35, make them equal to 35\n",
    "    temp_weighted_officers['Occurences'] = temp_weighted_officers['Occurences'].apply(\n",
    "        lambda x: 35 if x > 35 else x)\n",
    "    occurences = temp_weighted_officers['Occurences'].value_counts()\n",
    "    # add occurences to perm_df\n",
    "    occurences.index.name = 'Number of Allegations'\n",
    "    occurences.name = 'Number of Officers'\n",
    "    # save it to polya_urn_results\n",
    "    polya_urn_results.append(occurences)\n",
    "end_time = time.time()\n",
    "print(\"Runtime: \" + str(end_time - start_time))"
   ]
  },
  {
   "cell_type": "code",
   "execution_count": 5,
   "metadata": {},
   "outputs": [],
   "source": [
    "# 95% confidence interval for polya urn model\n",
    "polya_conf_intv = pd.concat(polya_urn_results).groupby(level=0).quantile(\n",
    "    [0.025, 0.975]).unstack()\n",
    "# get average\n",
    "polya_df_vc = pd.concat(polya_urn_results).groupby(level=0).mean()"
   ]
  },
  {
   "cell_type": "code",
   "execution_count": 6,
   "metadata": {},
   "outputs": [],
   "source": [
    "# get average \n",
    "polya_df_vc = pd.concat(polya_urn_results).groupby(level=0).mean()"
   ]
  },
  {
   "cell_type": "code",
   "execution_count": 7,
   "metadata": {},
   "outputs": [
    {
     "name": "stdout",
     "output_type": "stream",
     "text": [
      "Int64Index([ 1,  2,  3,  4,  5,  6,  7,  8,  9, 10, 11, 12, 13, 14, 15, 16, 17,\n",
      "            18, 19, 20, 21, 22, 23, 24, 25, 26, 27, 28, 29, 30, 31, 32, 33, 34,\n",
      "            35],\n",
      "           dtype='int64', name='Number of Allegations')\n"
     ]
    }
   ],
   "source": [
    "# plot polya_df_vc, polya_conf_intv\n",
    "fig = go.Figure()\n",
    "fig.add_trace(go.Scatter(x=polya_df_vc.index, y=polya_df_vc.values,\n",
    "                         mode='lines', name='Polya Urn Model Results'))\n",
    "fig.add_trace(go.Scatter(x=polya_conf_intv.index, y=polya_conf_intv[0.025], fill='toself',\n",
    "                         mode='lines', line=dict(color='rgb(0,100,80)'), fillcolor='rgba(0,200,80,0.2)', line_color='rgba(255,255,255,1)'))\n",
    "fig.add_trace(go.Scatter(x=polya_conf_intv.index, y=polya_conf_intv[0.975],\n",
    "                         mode='lines', line=dict(color='rgb(0,100,80)')))\n",
    "fig.data[0].name = 'Polya Urn Model'\n",
    "fig.data[1].name = 'Polya Urn Model 95% Confidence Interval'\n",
    "fig.data[2].name = 'Polya Urn Model 95% Confidence Interval'\n",
    "fig.update_layout(title_text='Polya Urn Model Results')\n",
    "# update xaxis properties\n",
    "fig.update_xaxes(title_text='Number of Allegations')\n",
    "# update yaxis properties\n",
    "fig.update_yaxes(title_text='Number of Officers')\n",
    "fig.show()"
   ]
  },
  {
   "cell_type": "code",
   "execution_count": null,
   "metadata": {},
   "outputs": [],
   "source": [
    "# plot all on same graph, add names to legend\n",
    "# create empty px figure with x and y labels\n",
    "fig = go.Figure()\n",
    "\n",
    "fig.add_trace(go.Scatter(x=df_vc.index, y=df_vc.values,\n",
    "                         mode='lines', name='Original Results'))\n",
    "fig.add_trace(go.Scatter(x=conf_intv.index, y=conf_intv[0.025], fill='toself',\n",
    "                         mode='lines', line=dict(color='rgb(0,100,80)'), fillcolor='rgba(0,200,80,0.2)', line_color='rgba(255,255,255,1)'))\n",
    "fig.add_trace(go.Scatter(x=conf_intv.index, y=conf_intv[0.975], fill='tonexty',\n",
    "                         mode='lines', line=dict(color='rgb(0,100,80)'), fillcolor='rgba(0,200,80,0.2)', line_color='rgba(255,255,255,1)'))\n",
    "fig.add_trace(go.Scatter(x=new_df_vc.index, y=new_df_vc.values,\n",
    "                         mode='lines', name='Permutation Test Results'))\n",
    "fig.add_trace(go.Scatter(x=polya_df_vc.index, y=polya_df_vc.values,\n",
    "                         mode='lines', name='Polya Urn Model Results'))\n",
    "fig.add_trace(go.Scatter(x=polya_conf_intv.index, y=polya_conf_intv[0.025], fill='toself',\n",
    "                         mode='lines', line=dict(color='rgb(0,100,80)'), fillcolor='rgba(0,100,200,0.2)', line_color='rgba(255,255,255,1)'))\n",
    "fig.add_trace(go.Scatter(x=polya_conf_intv.index, y=polya_conf_intv[0.975], fill='tonexty',\n",
    "                         mode='lines', line=dict(color='rgb(0,100,80)'), fillcolor='rgba(0,100,200,0.2)', line_color='rgba(255,255,255,1)'))\n",
    "\n"
   ]
  },
  {
   "cell_type": "code",
   "execution_count": null,
   "metadata": {},
   "outputs": [],
   "source": [
    "fig.update_layout(title_text='Combined Results')\n",
    "# add label to legend\n",
    "fig['data'][0]['name'] = 'Original Results'\n",
    "fig['data'][1]['name'] = 'Permutation Test 95% Confidence Interval'\n",
    "fig['data'][2]['name'] = 'Permutation Test 95% Confidence Interval'\n",
    "fig['data'][3]['name'] = 'Permutation Test Results'\n",
    "fig['data'][4]['name'] = 'Polya Urn Model Results'\n",
    "fig['data'][5]['name'] = 'Polya Urn Model 95% Confidence Interval'\n",
    "fig['data'][6]['name'] = 'Polya Urn Model 95% Confidence Interval'\n",
    "fig.update_layout(showlegend=True)\n",
    "fig.update_xaxes(title_text='Number of Allegations')\n",
    "fig.update_yaxes(title_text='Number of Officers')\n",
    "fig.show()\n"
   ]
  },
  {
   "cell_type": "code",
   "execution_count": null,
   "metadata": {},
   "outputs": [],
   "source": [
    "\n",
    "# fig.add_scatter(x=df_vc.index, y=df_vc.values,\n",
    "#                 mode='lines', name='Original Results')\n",
    "\n",
    "# fig.add_scatter(x=conf_intv.index, y=conf_intv[0.025],\n",
    "#                 mode='lines', name='Permutation Test 95% Confidence Interval')\n",
    "\n",
    "# fig.add_scatter(x=conf_intv.index, y=conf_intv[0.975],\n",
    "#                 mode='lines', name='Permutation Test 95% Confidence Interval')\n",
    "\n",
    "# fig.add_scatter(x=new_df_vc.index, y=new_df_vc.values,\n",
    "#                 mode='lines', name='Permutation Test Results')\n",
    "\n",
    "# fig.add_scatter(x=polya_conf_intv.index, y=polya_conf_intv[0.025],\n",
    "#                 mode='lines', name='Polya Urn Model 95% Confidence Interval')\n",
    "\n",
    "# fig.add_scatter(x=polya_conf_intv.index, y=polya_conf_intv[0.975],\n",
    "#                 mode='lines', name='Polya Urn Model 95% Confidence Interval')\n",
    "\n",
    "# fig.add_scatter(x=polya_df_vc.index, y=polya_df_vc.values,\n",
    "#                 mode='lines', name='Polya Urn Model Results')"
   ]
  }
 ],
 "metadata": {
  "kernelspec": {
   "display_name": "base",
   "language": "python",
   "name": "python3"
  },
  "language_info": {
   "codemirror_mode": {
    "name": "ipython",
    "version": 3
   },
   "file_extension": ".py",
   "mimetype": "text/x-python",
   "name": "python",
   "nbconvert_exporter": "python",
   "pygments_lexer": "ipython3",
   "version": "3.9.12"
  },
  "orig_nbformat": 4,
  "vscode": {
   "interpreter": {
    "hash": "7d070d07219d78435f9a014cf028f78a39f3816bb48d44baa7b1c4c726092051"
   }
  }
 },
 "nbformat": 4,
 "nbformat_minor": 2
}

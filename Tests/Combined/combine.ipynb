{
 "cells": [
  {
   "cell_type": "code",
   "execution_count": 1,
   "metadata": {},
   "outputs": [],
   "source": [
    "import pandas as pd\n",
    "import time\n",
    "import plotly.express as px\n",
    "\n",
    "df = pd.read_csv(\n",
    "    '/Users/jeremyhudsonchan/Dropbox/Files/Boston_College_Courses/Thesis/Code/Undergraduate-Thesis/Preprocessing_Code/final/data/proportions.csv', low_memory=False)\n",
    "officers = pd.read_csv(\n",
    "    '/Users/jeremyhudsonchan/Dropbox/Files/Boston_College_Courses/Thesis/Code/Undergraduate-Thesis/Preprocessing_Code/final/data/perm_unique_officers.csv', low_memory=False)\n",
    "\n",
    "# group by CRID\n",
    "df_grouped = df.groupby('CRID')"
   ]
  },
  {
   "cell_type": "code",
   "execution_count": 2,
   "metadata": {},
   "outputs": [
    {
     "name": "stdout",
     "output_type": "stream",
     "text": [
      "0\n",
      "1\n",
      "2\n"
     ]
    }
   ],
   "source": [
    "# ----------- Start of Polya Urn Model -----------\n",
    "weighted_officers = officers\n",
    "\n",
    "weighted_officers['Weights'] = 0\n",
    "weighted_officers['Occurences'] = 1\n",
    "\n",
    "# groupby beat\n",
    "weighted_officers_grouped = weighted_officers.groupby('Beat')\n",
    "# make weights sum to one in each group\n",
    "for name, group in weighted_officers_grouped:\n",
    "    weighted_officers.loc[weighted_officers['Beat'] ==\n",
    "                          name, 'Weights'] = 1 / len(group)\n",
    "\n",
    "weighted_df = pd.DataFrame(\n",
    "    columns=['OfficerID', 'Beat'])\n",
    "\n",
    "polya_urn_results = []\n",
    "# Add runtime\n",
    "start_time = time.time()\n",
    "for i in range(3):\n",
    "    alpha = 0.1\n",
    "    perm_df = pd.DataFrame(columns=['Occurences', 'Frequencies'])\n",
    "    print(i)\n",
    "    temp_weighted_officers = weighted_officers\n",
    "    ts = 0\n",
    "    for index, row in df_grouped:\n",
    "        # get num officers in group\n",
    "        num_officers = len(row)\n",
    "        # get beat of group\n",
    "        beat = row['Beat'].iloc[0]\n",
    "        if beat not in weighted_officers_grouped.groups:\n",
    "            continue\n",
    "        # polya urn model, rich get richer\n",
    "        weights = temp_weighted_officers.loc[temp_weighted_officers['Beat']\n",
    "                                             == beat, 'Weights']\n",
    "        # if num_officers > officers in beat print error\n",
    "        if num_officers > len(weights):\n",
    "            # ts += 1\n",
    "            # print(\"troubleshoot\", ts)\n",
    "            continue\n",
    "        # sample officers from the beat using the weights in the Weights column\n",
    "        officers_sample = weighted_officers_grouped.get_group(\n",
    "            beat).sample(n=num_officers, replace=False, weights=weights)\n",
    "        # add officers to new dataframe\n",
    "        for index, row in officers_sample.iterrows():\n",
    "            # pd concat\n",
    "            weighted_df = pd.concat([weighted_df, pd.DataFrame(\n",
    "                [[row['OfficerID'], row['Beat']]], columns=['OfficerID', 'Beat'])])\n",
    "            # Update officer occurences in weighted_officers\n",
    "            temp_weighted_officers.loc[temp_weighted_officers['OfficerID'] ==\n",
    "                                       row['OfficerID'], 'Occurences'] += 1\n",
    "            # update officer weights in weighted_officers\n",
    "            temp_weighted_officers.loc[temp_weighted_officers['OfficerID'] ==\n",
    "                                       row['OfficerID'], 'Weights'] += alpha\n",
    "    # if number of occurences > 35, make them equal to 35\n",
    "    temp_weighted_officers['Occurences'] = temp_weighted_officers['Occurences'].apply(\n",
    "        lambda x: 35 if x > 35 else x)\n",
    "    occurences = temp_weighted_officers['Occurences'].value_counts()\n",
    "    # add occurences to perm_df\n",
    "    occurences.index.name = 'Number of Allegations'\n",
    "    occurences.name = 'Number of Officers'\n",
    "    # save it to polya_urn_results\n",
    "    polya_urn_results.append(occurences)\n",
    "end_time = time.time()"
   ]
  },
  {
   "cell_type": "code",
   "execution_count": 3,
   "metadata": {},
   "outputs": [
    {
     "name": "stdout",
     "output_type": "stream",
     "text": [
      "Runtime: 151.51331114768982\n"
     ]
    }
   ],
   "source": [
    "print(\"Runtime: \" + str(end_time - start_time))"
   ]
  },
  {
   "cell_type": "code",
   "execution_count": 4,
   "metadata": {},
   "outputs": [
    {
     "name": "stdout",
     "output_type": "stream",
     "text": [
      "[Number of Allegations\n",
      "1     4044\n",
      "2     1034\n",
      "3      704\n",
      "4      501\n",
      "5      368\n",
      "6      266\n",
      "7      238\n",
      "9      174\n",
      "8      166\n",
      "10     136\n",
      "11     112\n",
      "12     103\n",
      "13      80\n",
      "14      57\n",
      "15      51\n",
      "16      44\n",
      "17      31\n",
      "18      29\n",
      "19      25\n",
      "20      24\n",
      "21      24\n",
      "22      17\n",
      "24      16\n",
      "35      15\n",
      "25      11\n",
      "23      11\n",
      "30      10\n",
      "28       9\n",
      "27       8\n",
      "33       5\n",
      "29       4\n",
      "32       4\n",
      "31       4\n",
      "26       2\n",
      "34       1\n",
      "Name: Number of Officers, dtype: int64, Number of Allegations\n",
      "1     3368\n",
      "2      839\n",
      "3      560\n",
      "4      421\n",
      "5      388\n",
      "6      298\n",
      "7      277\n",
      "8      213\n",
      "35     204\n",
      "9      179\n",
      "10     168\n",
      "11     144\n",
      "12     142\n",
      "13     117\n",
      "17     100\n",
      "16      96\n",
      "15      92\n",
      "14      90\n",
      "19      78\n",
      "18      75\n",
      "20      67\n",
      "23      53\n",
      "21      50\n",
      "24      47\n",
      "22      40\n",
      "25      33\n",
      "28      30\n",
      "26      30\n",
      "30      26\n",
      "32      23\n",
      "27      20\n",
      "29      18\n",
      "33      18\n",
      "31      17\n",
      "34       7\n",
      "Name: Number of Officers, dtype: int64, Number of Allegations\n",
      "1     2990\n",
      "2      774\n",
      "35     462\n",
      "3      460\n",
      "4      394\n",
      "5      323\n",
      "6      278\n",
      "7      258\n",
      "8      207\n",
      "9      193\n",
      "11     174\n",
      "10     170\n",
      "12     149\n",
      "14     137\n",
      "13     117\n",
      "15     114\n",
      "17     111\n",
      "16     104\n",
      "18      85\n",
      "20      76\n",
      "19      76\n",
      "21      66\n",
      "27      64\n",
      "25      62\n",
      "23      60\n",
      "22      58\n",
      "30      49\n",
      "24      48\n",
      "26      48\n",
      "29      43\n",
      "31      41\n",
      "28      40\n",
      "33      36\n",
      "34      32\n",
      "32      29\n",
      "Name: Number of Officers, dtype: int64]\n"
     ]
    }
   ],
   "source": [
    "print(polya_urn_results)"
   ]
  },
  {
   "cell_type": "code",
   "execution_count": 5,
   "metadata": {},
   "outputs": [],
   "source": [
    "# 95% confidence interval for polya urn model\n",
    "polya_conf_intv = pd.concat(polya_urn_results).groupby(level=0).quantile(\n",
    "    [0.025, 0.975]).unstack()"
   ]
  },
  {
   "cell_type": "code",
   "execution_count": 6,
   "metadata": {},
   "outputs": [],
   "source": [
    "# get average \n",
    "polya_df_vc = pd.concat(polya_urn_results).groupby(level=0).mean()"
   ]
  },
  {
   "cell_type": "code",
   "execution_count": 7,
   "metadata": {},
   "outputs": [
    {
     "name": "stdout",
     "output_type": "stream",
     "text": [
      "Int64Index([ 1,  2,  3,  4,  5,  6,  7,  8,  9, 10, 11, 12, 13, 14, 15, 16, 17,\n",
      "            18, 19, 20, 21, 22, 23, 24, 25, 26, 27, 28, 29, 30, 31, 32, 33, 34,\n",
      "            35],\n",
      "           dtype='int64', name='Number of Allegations')\n"
     ]
    }
   ],
   "source": [
    "print(polya_df_vc.index)"
   ]
  },
  {
   "cell_type": "code",
   "execution_count": 8,
   "metadata": {},
   "outputs": [
    {
     "name": "stdout",
     "output_type": "stream",
     "text": [
      "[3467.33333333  882.33333333  574.66666667  438.66666667  359.66666667\n",
      "  280.66666667  257.66666667  195.33333333  182.          158.\n",
      "  143.33333333  131.33333333  104.66666667   94.66666667   85.66666667\n",
      "   81.33333333   80.66666667   63.           59.66666667   55.66666667\n",
      "   46.66666667   38.33333333   41.33333333   37.           35.33333333\n",
      "   26.66666667   30.66666667   26.33333333   21.66666667   28.33333333\n",
      "   20.66666667   18.66666667   19.66666667   13.33333333  227.        ]\n"
     ]
    }
   ],
   "source": [
    "print(polya_df_vc.values)"
   ]
  },
  {
   "cell_type": "code",
   "execution_count": 11,
   "metadata": {},
   "outputs": [
    {
     "data": {
      "application/vnd.plotly.v1+json": {
       "config": {
        "plotlyServerURL": "https://plot.ly"
       },
       "data": [
        {
         "mode": "lines",
         "name": "Original Results",
         "type": "scatter",
         "x": [
          1,
          2,
          3,
          4,
          5,
          6,
          7,
          8,
          9,
          10,
          11,
          12,
          13,
          14,
          15,
          16,
          17,
          18,
          19,
          20,
          21,
          22,
          23,
          24,
          25,
          26,
          27,
          28,
          29,
          30,
          31,
          32,
          33,
          34,
          35
         ],
         "y": [
          3467.3333333333335,
          882.3333333333334,
          574.6666666666666,
          438.6666666666667,
          359.6666666666667,
          280.6666666666667,
          257.6666666666667,
          195.33333333333334,
          182,
          158,
          143.33333333333334,
          131.33333333333334,
          104.66666666666667,
          94.66666666666667,
          85.66666666666667,
          81.33333333333333,
          80.66666666666667,
          63,
          59.666666666666664,
          55.666666666666664,
          46.666666666666664,
          38.333333333333336,
          41.333333333333336,
          37,
          35.333333333333336,
          26.666666666666668,
          30.666666666666668,
          26.333333333333332,
          21.666666666666668,
          28.333333333333332,
          20.666666666666668,
          18.666666666666668,
          19.666666666666668,
          13.333333333333334,
          227
         ]
        },
        {
         "mode": "lines",
         "name": "Polya Urn Model 95% Confidence Interval",
         "type": "scatter",
         "x": [
          1,
          2,
          3,
          4,
          5,
          6,
          7,
          8,
          9,
          10,
          11,
          12,
          13,
          14,
          15,
          16,
          17,
          18,
          19,
          20,
          21,
          22,
          23,
          24,
          25,
          26,
          27,
          28,
          29,
          30,
          31,
          32,
          33,
          34,
          35
         ],
         "y": [
          3008.9,
          777.25,
          465,
          395.35,
          325.25,
          266.6,
          239,
          168.05,
          174.25,
          137.6,
          113.6,
          104.95,
          81.85,
          58.65,
          53.05,
          46.6,
          34.45,
          31.3,
          27.55,
          26.15,
          25.3,
          18.15,
          13.1,
          17.55,
          12.1,
          3.4000000000000004,
          8.6,
          10.05,
          4.7,
          10.8,
          4.65,
          4.95,
          5.65,
          1.3,
          24.450000000000003
         ]
        },
        {
         "mode": "lines",
         "name": "Polya Urn Model 95% Confidence Interval",
         "type": "scatter",
         "x": [
          1,
          2,
          3,
          4,
          5,
          6,
          7,
          8,
          9,
          10,
          11,
          12,
          13,
          14,
          15,
          16,
          17,
          18,
          19,
          20,
          21,
          22,
          23,
          24,
          25,
          26,
          27,
          28,
          29,
          30,
          31,
          32,
          33,
          34,
          35
         ],
         "y": [
          4010.2,
          1024.25,
          696.8,
          497,
          387,
          297,
          276.05,
          212.7,
          192.3,
          169.9,
          172.5,
          148.65,
          117,
          134.65,
          112.9,
          103.6,
          110.45,
          84.5,
          77.9,
          75.55,
          65.2,
          57.099999999999994,
          59.65,
          47.95,
          60.55,
          47.099999999999994,
          61.8,
          39.5,
          41.75,
          47.849999999999994,
          39.8,
          28.7,
          35.099999999999994,
          30.75,
          449.1
         ]
        }
       ],
       "layout": {
        "legend": {
         "tracegroupgap": 0
        },
        "margin": {
         "t": 60
        },
        "showlegend": true,
        "template": {
         "data": {
          "bar": [
           {
            "error_x": {
             "color": "#2a3f5f"
            },
            "error_y": {
             "color": "#2a3f5f"
            },
            "marker": {
             "line": {
              "color": "#E5ECF6",
              "width": 0.5
             },
             "pattern": {
              "fillmode": "overlay",
              "size": 10,
              "solidity": 0.2
             }
            },
            "type": "bar"
           }
          ],
          "barpolar": [
           {
            "marker": {
             "line": {
              "color": "#E5ECF6",
              "width": 0.5
             },
             "pattern": {
              "fillmode": "overlay",
              "size": 10,
              "solidity": 0.2
             }
            },
            "type": "barpolar"
           }
          ],
          "carpet": [
           {
            "aaxis": {
             "endlinecolor": "#2a3f5f",
             "gridcolor": "white",
             "linecolor": "white",
             "minorgridcolor": "white",
             "startlinecolor": "#2a3f5f"
            },
            "baxis": {
             "endlinecolor": "#2a3f5f",
             "gridcolor": "white",
             "linecolor": "white",
             "minorgridcolor": "white",
             "startlinecolor": "#2a3f5f"
            },
            "type": "carpet"
           }
          ],
          "choropleth": [
           {
            "colorbar": {
             "outlinewidth": 0,
             "ticks": ""
            },
            "type": "choropleth"
           }
          ],
          "contour": [
           {
            "colorbar": {
             "outlinewidth": 0,
             "ticks": ""
            },
            "colorscale": [
             [
              0,
              "#0d0887"
             ],
             [
              0.1111111111111111,
              "#46039f"
             ],
             [
              0.2222222222222222,
              "#7201a8"
             ],
             [
              0.3333333333333333,
              "#9c179e"
             ],
             [
              0.4444444444444444,
              "#bd3786"
             ],
             [
              0.5555555555555556,
              "#d8576b"
             ],
             [
              0.6666666666666666,
              "#ed7953"
             ],
             [
              0.7777777777777778,
              "#fb9f3a"
             ],
             [
              0.8888888888888888,
              "#fdca26"
             ],
             [
              1,
              "#f0f921"
             ]
            ],
            "type": "contour"
           }
          ],
          "contourcarpet": [
           {
            "colorbar": {
             "outlinewidth": 0,
             "ticks": ""
            },
            "type": "contourcarpet"
           }
          ],
          "heatmap": [
           {
            "colorbar": {
             "outlinewidth": 0,
             "ticks": ""
            },
            "colorscale": [
             [
              0,
              "#0d0887"
             ],
             [
              0.1111111111111111,
              "#46039f"
             ],
             [
              0.2222222222222222,
              "#7201a8"
             ],
             [
              0.3333333333333333,
              "#9c179e"
             ],
             [
              0.4444444444444444,
              "#bd3786"
             ],
             [
              0.5555555555555556,
              "#d8576b"
             ],
             [
              0.6666666666666666,
              "#ed7953"
             ],
             [
              0.7777777777777778,
              "#fb9f3a"
             ],
             [
              0.8888888888888888,
              "#fdca26"
             ],
             [
              1,
              "#f0f921"
             ]
            ],
            "type": "heatmap"
           }
          ],
          "heatmapgl": [
           {
            "colorbar": {
             "outlinewidth": 0,
             "ticks": ""
            },
            "colorscale": [
             [
              0,
              "#0d0887"
             ],
             [
              0.1111111111111111,
              "#46039f"
             ],
             [
              0.2222222222222222,
              "#7201a8"
             ],
             [
              0.3333333333333333,
              "#9c179e"
             ],
             [
              0.4444444444444444,
              "#bd3786"
             ],
             [
              0.5555555555555556,
              "#d8576b"
             ],
             [
              0.6666666666666666,
              "#ed7953"
             ],
             [
              0.7777777777777778,
              "#fb9f3a"
             ],
             [
              0.8888888888888888,
              "#fdca26"
             ],
             [
              1,
              "#f0f921"
             ]
            ],
            "type": "heatmapgl"
           }
          ],
          "histogram": [
           {
            "marker": {
             "pattern": {
              "fillmode": "overlay",
              "size": 10,
              "solidity": 0.2
             }
            },
            "type": "histogram"
           }
          ],
          "histogram2d": [
           {
            "colorbar": {
             "outlinewidth": 0,
             "ticks": ""
            },
            "colorscale": [
             [
              0,
              "#0d0887"
             ],
             [
              0.1111111111111111,
              "#46039f"
             ],
             [
              0.2222222222222222,
              "#7201a8"
             ],
             [
              0.3333333333333333,
              "#9c179e"
             ],
             [
              0.4444444444444444,
              "#bd3786"
             ],
             [
              0.5555555555555556,
              "#d8576b"
             ],
             [
              0.6666666666666666,
              "#ed7953"
             ],
             [
              0.7777777777777778,
              "#fb9f3a"
             ],
             [
              0.8888888888888888,
              "#fdca26"
             ],
             [
              1,
              "#f0f921"
             ]
            ],
            "type": "histogram2d"
           }
          ],
          "histogram2dcontour": [
           {
            "colorbar": {
             "outlinewidth": 0,
             "ticks": ""
            },
            "colorscale": [
             [
              0,
              "#0d0887"
             ],
             [
              0.1111111111111111,
              "#46039f"
             ],
             [
              0.2222222222222222,
              "#7201a8"
             ],
             [
              0.3333333333333333,
              "#9c179e"
             ],
             [
              0.4444444444444444,
              "#bd3786"
             ],
             [
              0.5555555555555556,
              "#d8576b"
             ],
             [
              0.6666666666666666,
              "#ed7953"
             ],
             [
              0.7777777777777778,
              "#fb9f3a"
             ],
             [
              0.8888888888888888,
              "#fdca26"
             ],
             [
              1,
              "#f0f921"
             ]
            ],
            "type": "histogram2dcontour"
           }
          ],
          "mesh3d": [
           {
            "colorbar": {
             "outlinewidth": 0,
             "ticks": ""
            },
            "type": "mesh3d"
           }
          ],
          "parcoords": [
           {
            "line": {
             "colorbar": {
              "outlinewidth": 0,
              "ticks": ""
             }
            },
            "type": "parcoords"
           }
          ],
          "pie": [
           {
            "automargin": true,
            "type": "pie"
           }
          ],
          "scatter": [
           {
            "marker": {
             "colorbar": {
              "outlinewidth": 0,
              "ticks": ""
             }
            },
            "type": "scatter"
           }
          ],
          "scatter3d": [
           {
            "line": {
             "colorbar": {
              "outlinewidth": 0,
              "ticks": ""
             }
            },
            "marker": {
             "colorbar": {
              "outlinewidth": 0,
              "ticks": ""
             }
            },
            "type": "scatter3d"
           }
          ],
          "scattercarpet": [
           {
            "marker": {
             "colorbar": {
              "outlinewidth": 0,
              "ticks": ""
             }
            },
            "type": "scattercarpet"
           }
          ],
          "scattergeo": [
           {
            "marker": {
             "colorbar": {
              "outlinewidth": 0,
              "ticks": ""
             }
            },
            "type": "scattergeo"
           }
          ],
          "scattergl": [
           {
            "marker": {
             "colorbar": {
              "outlinewidth": 0,
              "ticks": ""
             }
            },
            "type": "scattergl"
           }
          ],
          "scattermapbox": [
           {
            "marker": {
             "colorbar": {
              "outlinewidth": 0,
              "ticks": ""
             }
            },
            "type": "scattermapbox"
           }
          ],
          "scatterpolar": [
           {
            "marker": {
             "colorbar": {
              "outlinewidth": 0,
              "ticks": ""
             }
            },
            "type": "scatterpolar"
           }
          ],
          "scatterpolargl": [
           {
            "marker": {
             "colorbar": {
              "outlinewidth": 0,
              "ticks": ""
             }
            },
            "type": "scatterpolargl"
           }
          ],
          "scatterternary": [
           {
            "marker": {
             "colorbar": {
              "outlinewidth": 0,
              "ticks": ""
             }
            },
            "type": "scatterternary"
           }
          ],
          "surface": [
           {
            "colorbar": {
             "outlinewidth": 0,
             "ticks": ""
            },
            "colorscale": [
             [
              0,
              "#0d0887"
             ],
             [
              0.1111111111111111,
              "#46039f"
             ],
             [
              0.2222222222222222,
              "#7201a8"
             ],
             [
              0.3333333333333333,
              "#9c179e"
             ],
             [
              0.4444444444444444,
              "#bd3786"
             ],
             [
              0.5555555555555556,
              "#d8576b"
             ],
             [
              0.6666666666666666,
              "#ed7953"
             ],
             [
              0.7777777777777778,
              "#fb9f3a"
             ],
             [
              0.8888888888888888,
              "#fdca26"
             ],
             [
              1,
              "#f0f921"
             ]
            ],
            "type": "surface"
           }
          ],
          "table": [
           {
            "cells": {
             "fill": {
              "color": "#EBF0F8"
             },
             "line": {
              "color": "white"
             }
            },
            "header": {
             "fill": {
              "color": "#C8D4E3"
             },
             "line": {
              "color": "white"
             }
            },
            "type": "table"
           }
          ]
         },
         "layout": {
          "annotationdefaults": {
           "arrowcolor": "#2a3f5f",
           "arrowhead": 0,
           "arrowwidth": 1
          },
          "autotypenumbers": "strict",
          "coloraxis": {
           "colorbar": {
            "outlinewidth": 0,
            "ticks": ""
           }
          },
          "colorscale": {
           "diverging": [
            [
             0,
             "#8e0152"
            ],
            [
             0.1,
             "#c51b7d"
            ],
            [
             0.2,
             "#de77ae"
            ],
            [
             0.3,
             "#f1b6da"
            ],
            [
             0.4,
             "#fde0ef"
            ],
            [
             0.5,
             "#f7f7f7"
            ],
            [
             0.6,
             "#e6f5d0"
            ],
            [
             0.7,
             "#b8e186"
            ],
            [
             0.8,
             "#7fbc41"
            ],
            [
             0.9,
             "#4d9221"
            ],
            [
             1,
             "#276419"
            ]
           ],
           "sequential": [
            [
             0,
             "#0d0887"
            ],
            [
             0.1111111111111111,
             "#46039f"
            ],
            [
             0.2222222222222222,
             "#7201a8"
            ],
            [
             0.3333333333333333,
             "#9c179e"
            ],
            [
             0.4444444444444444,
             "#bd3786"
            ],
            [
             0.5555555555555556,
             "#d8576b"
            ],
            [
             0.6666666666666666,
             "#ed7953"
            ],
            [
             0.7777777777777778,
             "#fb9f3a"
            ],
            [
             0.8888888888888888,
             "#fdca26"
            ],
            [
             1,
             "#f0f921"
            ]
           ],
           "sequentialminus": [
            [
             0,
             "#0d0887"
            ],
            [
             0.1111111111111111,
             "#46039f"
            ],
            [
             0.2222222222222222,
             "#7201a8"
            ],
            [
             0.3333333333333333,
             "#9c179e"
            ],
            [
             0.4444444444444444,
             "#bd3786"
            ],
            [
             0.5555555555555556,
             "#d8576b"
            ],
            [
             0.6666666666666666,
             "#ed7953"
            ],
            [
             0.7777777777777778,
             "#fb9f3a"
            ],
            [
             0.8888888888888888,
             "#fdca26"
            ],
            [
             1,
             "#f0f921"
            ]
           ]
          },
          "colorway": [
           "#636efa",
           "#EF553B",
           "#00cc96",
           "#ab63fa",
           "#FFA15A",
           "#19d3f3",
           "#FF6692",
           "#B6E880",
           "#FF97FF",
           "#FECB52"
          ],
          "font": {
           "color": "#2a3f5f"
          },
          "geo": {
           "bgcolor": "white",
           "lakecolor": "white",
           "landcolor": "#E5ECF6",
           "showlakes": true,
           "showland": true,
           "subunitcolor": "white"
          },
          "hoverlabel": {
           "align": "left"
          },
          "hovermode": "closest",
          "mapbox": {
           "style": "light"
          },
          "paper_bgcolor": "white",
          "plot_bgcolor": "#E5ECF6",
          "polar": {
           "angularaxis": {
            "gridcolor": "white",
            "linecolor": "white",
            "ticks": ""
           },
           "bgcolor": "#E5ECF6",
           "radialaxis": {
            "gridcolor": "white",
            "linecolor": "white",
            "ticks": ""
           }
          },
          "scene": {
           "xaxis": {
            "backgroundcolor": "#E5ECF6",
            "gridcolor": "white",
            "gridwidth": 2,
            "linecolor": "white",
            "showbackground": true,
            "ticks": "",
            "zerolinecolor": "white"
           },
           "yaxis": {
            "backgroundcolor": "#E5ECF6",
            "gridcolor": "white",
            "gridwidth": 2,
            "linecolor": "white",
            "showbackground": true,
            "ticks": "",
            "zerolinecolor": "white"
           },
           "zaxis": {
            "backgroundcolor": "#E5ECF6",
            "gridcolor": "white",
            "gridwidth": 2,
            "linecolor": "white",
            "showbackground": true,
            "ticks": "",
            "zerolinecolor": "white"
           }
          },
          "shapedefaults": {
           "line": {
            "color": "#2a3f5f"
           }
          },
          "ternary": {
           "aaxis": {
            "gridcolor": "white",
            "linecolor": "white",
            "ticks": ""
           },
           "baxis": {
            "gridcolor": "white",
            "linecolor": "white",
            "ticks": ""
           },
           "bgcolor": "#E5ECF6",
           "caxis": {
            "gridcolor": "white",
            "linecolor": "white",
            "ticks": ""
           }
          },
          "title": {
           "x": 0.05
          },
          "xaxis": {
           "automargin": true,
           "gridcolor": "white",
           "linecolor": "white",
           "ticks": "",
           "title": {
            "standoff": 15
           },
           "zerolinecolor": "white",
           "zerolinewidth": 2
          },
          "yaxis": {
           "automargin": true,
           "gridcolor": "white",
           "linecolor": "white",
           "ticks": "",
           "title": {
            "standoff": 15
           },
           "zerolinecolor": "white",
           "zerolinewidth": 2
          }
         }
        },
        "title": {
         "text": "Polya Urn Model Results"
        },
        "xaxis": {
         "anchor": "y",
         "domain": [
          0,
          1
         ]
        },
        "yaxis": {
         "anchor": "x",
         "domain": [
          0,
          1
         ]
        }
       }
      }
     },
     "metadata": {},
     "output_type": "display_data"
    }
   ],
   "source": [
    "# plot polya_df_vc, polya_conf_intv\n",
    "fig = px.line(labels={\n",
    "    'x': 'Number of Allegations', 'y': 'Number of Officers'})\n",
    "fig.add_scatter(x=polya_df_vc.index, y=polya_df_vc.values,\n",
    "                mode='lines', name='Polya Urn Model')\n",
    "fig.add_scatter(x=polya_conf_intv.index, y=polya_conf_intv[0.025],\n",
    "                mode='lines', name='Polya Urn Model 95% Confidence Interval')\n",
    "fig.add_scatter(x=polya_conf_intv.index, y=polya_conf_intv[0.975],\n",
    "                mode='lines', name='Polya Urn Model 95% Confidence Interval')\n",
    "fig.update_layout(title_text='Polya Urn Model Results')\n",
    "# add legend for each line\n",
    "fig.update_layout(showlegend=True)\n",
    "fig.show()"
   ]
  }
 ],
 "metadata": {
  "kernelspec": {
   "display_name": "base",
   "language": "python",
   "name": "python3"
  },
  "language_info": {
   "codemirror_mode": {
    "name": "ipython",
    "version": 3
   },
   "file_extension": ".py",
   "mimetype": "text/x-python",
   "name": "python",
   "nbconvert_exporter": "python",
   "pygments_lexer": "ipython3",
   "version": "3.9.12"
  },
  "orig_nbformat": 4,
  "vscode": {
   "interpreter": {
    "hash": "7d070d07219d78435f9a014cf028f78a39f3816bb48d44baa7b1c4c726092051"
   }
  }
 },
 "nbformat": 4,
 "nbformat_minor": 2
}

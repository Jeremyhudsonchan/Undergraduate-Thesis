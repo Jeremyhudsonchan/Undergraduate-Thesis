{
  "cells": [
    {
      "cell_type": "code",
      "execution_count": null,
      "metadata": {
        "colab": {
          "base_uri": "https://localhost:8080/"
        },
        "id": "HjwgzGydmJ5v",
        "outputId": "446ad2be-c9d2-4bd4-bbf6-c893005bcbe1"
      },
      "outputs": [
        {
          "name": "stdout",
          "output_type": "stream",
          "text": [
            "Mounted at /content/gdrive\n"
          ]
        }
      ],
      "source": [
        "from google.colab import drive\n",
        "\n",
        "drive.mount('/content/gdrive')"
      ]
    },
    {
      "cell_type": "code",
      "execution_count": null,
      "metadata": {
        "id": "CJEYR9jvmDyH"
      },
      "outputs": [],
      "source": [
        "import pandas as pd\n",
        "import time\n",
        "import numpy as np\n",
        "import plotly.graph_objs as go\n",
        "\n",
        "# df = pd.read_csv(\n",
        "#     '/Users/jeremyhudsonchan/Dropbox/Files/Boston_College_Courses/Thesis/Code/Undergraduate-Thesis/Preprocessing_Code/final/data/proportions.csv', low_memory=False)\n",
        "# officers = pd.read_csv(\n",
        "#     '/Users/jeremyhudsonchan/Dropbox/Files/Boston_College_Courses/Thesis/Code/Undergraduate-Thesis/Preprocessing_Code/final/data/perm_unique_officers.csv', low_memory=False)\n",
        "\n",
        "df = pd.read_csv('/content/gdrive/MyDrive/Thesis_Data/proportions.csv')\n",
        "officers = pd.read_csv('/content/gdrive/MyDrive/Thesis_Data/perm_unique_officers.csv')"
      ]
    },
    {
      "cell_type": "code",
      "execution_count": null,
      "metadata": {
        "colab": {
          "base_uri": "https://localhost:8080/"
        },
        "id": "bCiBZilemDyI",
        "outputId": "9bd34bb0-f2ce-48a8-82c9-19dfb5a4ead3"
      },
      "outputs": [
        {
          "name": "stdout",
          "output_type": "stream",
          "text": [
            "Index(['CRID', 'OfficerID', 'OfficeFirst', 'OfficerLast', 'Category',\n",
            "       'Allegation', 'Beat', 'IncidentDate', 'Beat Count', 'Beat Proportion'],\n",
            "      dtype='object')\n",
            "     CRID  OfficerID OfficeFirst OfficerLast      Category  \\\n",
            "0  259002       3055   Cornelius       Brown  Use Of Force   \n",
            "1  259002      19347     Kenneth     Molesky  Use Of Force   \n",
            "2  259011      10864        Mark   Grohovena  Use Of Force   \n",
            "3  259013      20651       James     Norwood  Use Of Force   \n",
            "4  259013       3055   Cornelius       Brown  Use Of Force   \n",
            "\n",
            "                               Allegation    Beat         IncidentDate  \\\n",
            "0      Excessive Force / On Duty - Injury  2221.0  2000-01-01 00:00:00   \n",
            "1      Excessive Force / On Duty - Injury  2221.0  2000-01-01 00:00:00   \n",
            "2  Excessive Force / Off Duty - No Injury   925.0  2000-01-01 00:00:00   \n",
            "3     Excessive Force / Off Duty - Injury  2232.0  2000-01-01 00:00:00   \n",
            "4      Excessive Force / On Duty - Injury  2232.0  2000-01-01 00:00:00   \n",
            "\n",
            "   Beat Count  Beat Proportion  \n",
            "0          50         0.000018  \n",
            "1          50         0.000018  \n",
            "2         144         0.000051  \n",
            "3         105         0.000037  \n",
            "4         105         0.000037  \n",
            "Index(['OfficerID', 'OfficerFirst', 'OfficerLast', 'Gender', 'Race',\n",
            "       'ApptDate', 'Rank', 'Age', 'Beat'],\n",
            "      dtype='object')\n"
          ]
        }
      ],
      "source": [
        "print(df.columns)\n",
        "print(df.head())\n",
        "print(officers.columns)"
      ]
    },
    {
      "cell_type": "code",
      "execution_count": null,
      "metadata": {
        "id": "3NqCbPTQmDyJ"
      },
      "outputs": [],
      "source": [
        "# choose only OfficerID and Beat columns\n",
        "prep_df = df[['OfficerID', 'Beat', 'Beat Count', 'Beat Proportion']]\n",
        "prep_officers = officers[['OfficerID', 'Beat']]\n",
        "# group by CRID\n",
        "df_grouped = df[['CRID', 'OfficerID', 'Beat', 'Beat Count', 'Beat Proportion']].groupby('CRID')\n",
        "# make df_grouped into a numpy array\n",
        "np_grouped = df_grouped.apply(lambda x: x.to_numpy())\n",
        "# make np_grouped into a numpy array\n",
        "np_grouped = np_grouped.to_numpy()"
      ]
    },
    {
      "cell_type": "code",
      "execution_count": null,
      "metadata": {
        "id": "CYWcYIRrmDyJ"
      },
      "outputs": [],
      "source": [
        "# make df into numpy\n",
        "np_df = prep_df.to_numpy()\n",
        "np_officers = prep_officers.to_numpy()\n",
        "# make array dtype object float\n",
        "np_df = np_df.astype(float)\n",
        "np_officers = np_officers.astype(float)"
      ]
    },
    {
      "cell_type": "code",
      "execution_count": null,
      "metadata": {
        "colab": {
          "base_uri": "https://localhost:8080/",
          "height": 542
        },
        "id": "7HygXreumDyK",
        "outputId": "2c6bcccb-7250-490d-81fc-9907a6a9248d"
      },
      "outputs": [
        {
          "data": {
            "text/html": [
              "<html>\n",
              "<head><meta charset=\"utf-8\" /></head>\n",
              "<body>\n",
              "    <div>            <script src=\"https://cdnjs.cloudflare.com/ajax/libs/mathjax/2.7.5/MathJax.js?config=TeX-AMS-MML_SVG\"></script><script type=\"text/javascript\">if (window.MathJax) {MathJax.Hub.Config({SVG: {font: \"STIX-Web\"}});}</script>                <script type=\"text/javascript\">window.PlotlyConfig = {MathJaxConfig: 'local'};</script>\n",
              "        <script src=\"https://cdn.plot.ly/plotly-2.8.3.min.js\"></script>                <div id=\"f12ce487-afd8-4636-9d42-2e7e9a2959a3\" class=\"plotly-graph-div\" style=\"height:525px; width:100%;\"></div>            <script type=\"text/javascript\">                                    window.PLOTLYENV=window.PLOTLYENV || {};                                    if (document.getElementById(\"f12ce487-afd8-4636-9d42-2e7e9a2959a3\")) {                    Plotly.newPlot(                        \"f12ce487-afd8-4636-9d42-2e7e9a2959a3\",                        [{\"mode\":\"lines\",\"name\":\"Data\",\"x\":[1,2,3,4,5,6,7,8,9,10,10,10,10,10,10,10,10,10,10,10,10,10,10,10,10,10,10,10,10,10],\"y\":[3593,1734,1006,658,404,264,193,119,111,57,47,41,26,13,13,12,9,4,7,5,2,1,1,1,1,2,1,1,1,1],\"type\":\"scatter\"}],                        {\"template\":{\"data\":{\"bar\":[{\"error_x\":{\"color\":\"#2a3f5f\"},\"error_y\":{\"color\":\"#2a3f5f\"},\"marker\":{\"line\":{\"color\":\"#E5ECF6\",\"width\":0.5},\"pattern\":{\"fillmode\":\"overlay\",\"size\":10,\"solidity\":0.2}},\"type\":\"bar\"}],\"barpolar\":[{\"marker\":{\"line\":{\"color\":\"#E5ECF6\",\"width\":0.5},\"pattern\":{\"fillmode\":\"overlay\",\"size\":10,\"solidity\":0.2}},\"type\":\"barpolar\"}],\"carpet\":[{\"aaxis\":{\"endlinecolor\":\"#2a3f5f\",\"gridcolor\":\"white\",\"linecolor\":\"white\",\"minorgridcolor\":\"white\",\"startlinecolor\":\"#2a3f5f\"},\"baxis\":{\"endlinecolor\":\"#2a3f5f\",\"gridcolor\":\"white\",\"linecolor\":\"white\",\"minorgridcolor\":\"white\",\"startlinecolor\":\"#2a3f5f\"},\"type\":\"carpet\"}],\"choropleth\":[{\"colorbar\":{\"outlinewidth\":0,\"ticks\":\"\"},\"type\":\"choropleth\"}],\"contour\":[{\"colorbar\":{\"outlinewidth\":0,\"ticks\":\"\"},\"colorscale\":[[0.0,\"#0d0887\"],[0.1111111111111111,\"#46039f\"],[0.2222222222222222,\"#7201a8\"],[0.3333333333333333,\"#9c179e\"],[0.4444444444444444,\"#bd3786\"],[0.5555555555555556,\"#d8576b\"],[0.6666666666666666,\"#ed7953\"],[0.7777777777777778,\"#fb9f3a\"],[0.8888888888888888,\"#fdca26\"],[1.0,\"#f0f921\"]],\"type\":\"contour\"}],\"contourcarpet\":[{\"colorbar\":{\"outlinewidth\":0,\"ticks\":\"\"},\"type\":\"contourcarpet\"}],\"heatmap\":[{\"colorbar\":{\"outlinewidth\":0,\"ticks\":\"\"},\"colorscale\":[[0.0,\"#0d0887\"],[0.1111111111111111,\"#46039f\"],[0.2222222222222222,\"#7201a8\"],[0.3333333333333333,\"#9c179e\"],[0.4444444444444444,\"#bd3786\"],[0.5555555555555556,\"#d8576b\"],[0.6666666666666666,\"#ed7953\"],[0.7777777777777778,\"#fb9f3a\"],[0.8888888888888888,\"#fdca26\"],[1.0,\"#f0f921\"]],\"type\":\"heatmap\"}],\"heatmapgl\":[{\"colorbar\":{\"outlinewidth\":0,\"ticks\":\"\"},\"colorscale\":[[0.0,\"#0d0887\"],[0.1111111111111111,\"#46039f\"],[0.2222222222222222,\"#7201a8\"],[0.3333333333333333,\"#9c179e\"],[0.4444444444444444,\"#bd3786\"],[0.5555555555555556,\"#d8576b\"],[0.6666666666666666,\"#ed7953\"],[0.7777777777777778,\"#fb9f3a\"],[0.8888888888888888,\"#fdca26\"],[1.0,\"#f0f921\"]],\"type\":\"heatmapgl\"}],\"histogram\":[{\"marker\":{\"pattern\":{\"fillmode\":\"overlay\",\"size\":10,\"solidity\":0.2}},\"type\":\"histogram\"}],\"histogram2d\":[{\"colorbar\":{\"outlinewidth\":0,\"ticks\":\"\"},\"colorscale\":[[0.0,\"#0d0887\"],[0.1111111111111111,\"#46039f\"],[0.2222222222222222,\"#7201a8\"],[0.3333333333333333,\"#9c179e\"],[0.4444444444444444,\"#bd3786\"],[0.5555555555555556,\"#d8576b\"],[0.6666666666666666,\"#ed7953\"],[0.7777777777777778,\"#fb9f3a\"],[0.8888888888888888,\"#fdca26\"],[1.0,\"#f0f921\"]],\"type\":\"histogram2d\"}],\"histogram2dcontour\":[{\"colorbar\":{\"outlinewidth\":0,\"ticks\":\"\"},\"colorscale\":[[0.0,\"#0d0887\"],[0.1111111111111111,\"#46039f\"],[0.2222222222222222,\"#7201a8\"],[0.3333333333333333,\"#9c179e\"],[0.4444444444444444,\"#bd3786\"],[0.5555555555555556,\"#d8576b\"],[0.6666666666666666,\"#ed7953\"],[0.7777777777777778,\"#fb9f3a\"],[0.8888888888888888,\"#fdca26\"],[1.0,\"#f0f921\"]],\"type\":\"histogram2dcontour\"}],\"mesh3d\":[{\"colorbar\":{\"outlinewidth\":0,\"ticks\":\"\"},\"type\":\"mesh3d\"}],\"parcoords\":[{\"line\":{\"colorbar\":{\"outlinewidth\":0,\"ticks\":\"\"}},\"type\":\"parcoords\"}],\"pie\":[{\"automargin\":true,\"type\":\"pie\"}],\"scatter\":[{\"marker\":{\"colorbar\":{\"outlinewidth\":0,\"ticks\":\"\"}},\"type\":\"scatter\"}],\"scatter3d\":[{\"line\":{\"colorbar\":{\"outlinewidth\":0,\"ticks\":\"\"}},\"marker\":{\"colorbar\":{\"outlinewidth\":0,\"ticks\":\"\"}},\"type\":\"scatter3d\"}],\"scattercarpet\":[{\"marker\":{\"colorbar\":{\"outlinewidth\":0,\"ticks\":\"\"}},\"type\":\"scattercarpet\"}],\"scattergeo\":[{\"marker\":{\"colorbar\":{\"outlinewidth\":0,\"ticks\":\"\"}},\"type\":\"scattergeo\"}],\"scattergl\":[{\"marker\":{\"colorbar\":{\"outlinewidth\":0,\"ticks\":\"\"}},\"type\":\"scattergl\"}],\"scattermapbox\":[{\"marker\":{\"colorbar\":{\"outlinewidth\":0,\"ticks\":\"\"}},\"type\":\"scattermapbox\"}],\"scatterpolar\":[{\"marker\":{\"colorbar\":{\"outlinewidth\":0,\"ticks\":\"\"}},\"type\":\"scatterpolar\"}],\"scatterpolargl\":[{\"marker\":{\"colorbar\":{\"outlinewidth\":0,\"ticks\":\"\"}},\"type\":\"scatterpolargl\"}],\"scatterternary\":[{\"marker\":{\"colorbar\":{\"outlinewidth\":0,\"ticks\":\"\"}},\"type\":\"scatterternary\"}],\"surface\":[{\"colorbar\":{\"outlinewidth\":0,\"ticks\":\"\"},\"colorscale\":[[0.0,\"#0d0887\"],[0.1111111111111111,\"#46039f\"],[0.2222222222222222,\"#7201a8\"],[0.3333333333333333,\"#9c179e\"],[0.4444444444444444,\"#bd3786\"],[0.5555555555555556,\"#d8576b\"],[0.6666666666666666,\"#ed7953\"],[0.7777777777777778,\"#fb9f3a\"],[0.8888888888888888,\"#fdca26\"],[1.0,\"#f0f921\"]],\"type\":\"surface\"}],\"table\":[{\"cells\":{\"fill\":{\"color\":\"#EBF0F8\"},\"line\":{\"color\":\"white\"}},\"header\":{\"fill\":{\"color\":\"#C8D4E3\"},\"line\":{\"color\":\"white\"}},\"type\":\"table\"}]},\"layout\":{\"annotationdefaults\":{\"arrowcolor\":\"#2a3f5f\",\"arrowhead\":0,\"arrowwidth\":1},\"autotypenumbers\":\"strict\",\"coloraxis\":{\"colorbar\":{\"outlinewidth\":0,\"ticks\":\"\"}},\"colorscale\":{\"diverging\":[[0,\"#8e0152\"],[0.1,\"#c51b7d\"],[0.2,\"#de77ae\"],[0.3,\"#f1b6da\"],[0.4,\"#fde0ef\"],[0.5,\"#f7f7f7\"],[0.6,\"#e6f5d0\"],[0.7,\"#b8e186\"],[0.8,\"#7fbc41\"],[0.9,\"#4d9221\"],[1,\"#276419\"]],\"sequential\":[[0.0,\"#0d0887\"],[0.1111111111111111,\"#46039f\"],[0.2222222222222222,\"#7201a8\"],[0.3333333333333333,\"#9c179e\"],[0.4444444444444444,\"#bd3786\"],[0.5555555555555556,\"#d8576b\"],[0.6666666666666666,\"#ed7953\"],[0.7777777777777778,\"#fb9f3a\"],[0.8888888888888888,\"#fdca26\"],[1.0,\"#f0f921\"]],\"sequentialminus\":[[0.0,\"#0d0887\"],[0.1111111111111111,\"#46039f\"],[0.2222222222222222,\"#7201a8\"],[0.3333333333333333,\"#9c179e\"],[0.4444444444444444,\"#bd3786\"],[0.5555555555555556,\"#d8576b\"],[0.6666666666666666,\"#ed7953\"],[0.7777777777777778,\"#fb9f3a\"],[0.8888888888888888,\"#fdca26\"],[1.0,\"#f0f921\"]]},\"colorway\":[\"#636efa\",\"#EF553B\",\"#00cc96\",\"#ab63fa\",\"#FFA15A\",\"#19d3f3\",\"#FF6692\",\"#B6E880\",\"#FF97FF\",\"#FECB52\"],\"font\":{\"color\":\"#2a3f5f\"},\"geo\":{\"bgcolor\":\"white\",\"lakecolor\":\"white\",\"landcolor\":\"#E5ECF6\",\"showlakes\":true,\"showland\":true,\"subunitcolor\":\"white\"},\"hoverlabel\":{\"align\":\"left\"},\"hovermode\":\"closest\",\"mapbox\":{\"style\":\"light\"},\"paper_bgcolor\":\"white\",\"plot_bgcolor\":\"#E5ECF6\",\"polar\":{\"angularaxis\":{\"gridcolor\":\"white\",\"linecolor\":\"white\",\"ticks\":\"\"},\"bgcolor\":\"#E5ECF6\",\"radialaxis\":{\"gridcolor\":\"white\",\"linecolor\":\"white\",\"ticks\":\"\"}},\"scene\":{\"xaxis\":{\"backgroundcolor\":\"#E5ECF6\",\"gridcolor\":\"white\",\"gridwidth\":2,\"linecolor\":\"white\",\"showbackground\":true,\"ticks\":\"\",\"zerolinecolor\":\"white\"},\"yaxis\":{\"backgroundcolor\":\"#E5ECF6\",\"gridcolor\":\"white\",\"gridwidth\":2,\"linecolor\":\"white\",\"showbackground\":true,\"ticks\":\"\",\"zerolinecolor\":\"white\"},\"zaxis\":{\"backgroundcolor\":\"#E5ECF6\",\"gridcolor\":\"white\",\"gridwidth\":2,\"linecolor\":\"white\",\"showbackground\":true,\"ticks\":\"\",\"zerolinecolor\":\"white\"}},\"shapedefaults\":{\"line\":{\"color\":\"#2a3f5f\"}},\"ternary\":{\"aaxis\":{\"gridcolor\":\"white\",\"linecolor\":\"white\",\"ticks\":\"\"},\"baxis\":{\"gridcolor\":\"white\",\"linecolor\":\"white\",\"ticks\":\"\"},\"bgcolor\":\"#E5ECF6\",\"caxis\":{\"gridcolor\":\"white\",\"linecolor\":\"white\",\"ticks\":\"\"}},\"title\":{\"x\":0.05},\"xaxis\":{\"automargin\":true,\"gridcolor\":\"white\",\"linecolor\":\"white\",\"ticks\":\"\",\"title\":{\"standoff\":15},\"zerolinecolor\":\"white\",\"zerolinewidth\":2},\"yaxis\":{\"automargin\":true,\"gridcolor\":\"white\",\"linecolor\":\"white\",\"ticks\":\"\",\"title\":{\"standoff\":15},\"zerolinecolor\":\"white\",\"zerolinewidth\":2}}},\"title\":{\"text\":\"Original Data\"}},                        {\"responsive\": true}                    ).then(function(){\n",
              "                            \n",
              "var gd = document.getElementById('f12ce487-afd8-4636-9d42-2e7e9a2959a3');\n",
              "var x = new MutationObserver(function (mutations, observer) {{\n",
              "        var display = window.getComputedStyle(gd).display;\n",
              "        if (!display || display === 'none') {{\n",
              "            console.log([gd, 'removed!']);\n",
              "            Plotly.purge(gd);\n",
              "            observer.disconnect();\n",
              "        }}\n",
              "}});\n",
              "\n",
              "// Listen for the removal of the full notebook cells\n",
              "var notebookContainer = gd.closest('#notebook-container');\n",
              "if (notebookContainer) {{\n",
              "    x.observe(notebookContainer, {childList: true});\n",
              "}}\n",
              "\n",
              "// Listen for the clearing of the current output cell\n",
              "var outputEl = gd.closest('.output');\n",
              "if (outputEl) {{\n",
              "    x.observe(outputEl, {childList: true});\n",
              "}}\n",
              "\n",
              "                        })                };                            </script>        </div>\n",
              "</body>\n",
              "</html>"
            ]
          },
          "metadata": {},
          "output_type": "display_data"
        }
      ],
      "source": [
        "# Column 0 is OfficerID, Column 1 is Beat\n",
        "# ----------- Start of Original -----------\n",
        "# get value counts of OfficerID\n",
        "officer_counts = np.unique(np_df[:, 0], return_counts=True)\n",
        "# get number of times each value appears in officer_counts\n",
        "# sort in descending order\n",
        "officer_counts = np.unique(officer_counts[1], return_counts=True)\n",
        "# if number of complaints exceed 20, make all of the counts into a single bin\n",
        "# make a copy of the original array to save for reference\n",
        "officer_counts_copy = np.copy(officer_counts)\n",
        "# this is to prevent the graph from being too stretched\n",
        "for i in range(len(officer_counts[0])):\n",
        "    if officer_counts[0][i] > 10:\n",
        "        officer_counts[0][i] = 10\n",
        "# plot density curve\n",
        "fig = go.Figure()\n",
        "fig.add_trace(go.Scatter(x=officer_counts[0], y=officer_counts[1], mode='lines', name='Data'))\n",
        "fig.update_layout(title_text='Original Data')\n",
        "fig.show()"
      ]
    },
    {
      "cell_type": "code",
      "execution_count": null,
      "metadata": {
        "colab": {
          "base_uri": "https://localhost:8080/"
        },
        "id": "BXjSzbAecq0l",
        "outputId": "68bc122c-dc0f-40cf-93bd-af4d26e73864"
      },
      "outputs": [
        {
          "name": "stdout",
          "output_type": "stream",
          "text": [
            "Sum of Counts:  8328\n"
          ]
        }
      ],
      "source": [
        "# print sum of counts\n",
        "print('Sum of Counts: ', np.sum(officer_counts[1]))"
      ]
    },
    {
      "cell_type": "code",
      "execution_count": null,
      "metadata": {
        "colab": {
          "base_uri": "https://localhost:8080/"
        },
        "id": "VlzQbVFozNNo",
        "outputId": "f5d9a013-89c4-4eb9-a95d-1ba9741ca6b9"
      },
      "outputs": [
        {
          "data": {
            "text/plain": [
              "array([3593, 1734, 1006,  658,  404,  264,  193,  119,  111,   57,   47,\n",
              "         41,   26,   13,   13,   12,    9,    4,    7,    5,    2,    1,\n",
              "          1,    1,    1,    2,    1,    1,    1,    1])"
            ]
          },
          "execution_count": 8,
          "metadata": {},
          "output_type": "execute_result"
        }
      ],
      "source": [
        "officer_counts[1]"
      ]
    },
    {
      "cell_type": "code",
      "execution_count": null,
      "metadata": {
        "id": "Knay2auZmDyK"
      },
      "outputs": [],
      "source": [
        "num_simulations = 1000\n",
        "# num_simulations = 10"
      ]
    },
    {
      "cell_type": "code",
      "execution_count": null,
      "metadata": {
        "id": "rFYVR9uStkNX"
      },
      "outputs": [],
      "source": [
        "# create an array for values inbetween 0.01 to 0.20\n",
        "alpha_values = np.arange(0.190, 0.201, 0.001)\n",
        "best_mse = np.inf\n",
        "best_urn_avg_complaints_dict = {}\n",
        "best_alpha = 0"
      ]
    },
    {
      "cell_type": "code",
      "execution_count": null,
      "metadata": {
        "colab": {
          "background_save": true,
          "base_uri": "https://localhost:8080/"
        },
        "id": "2DS3fk-emDyN",
        "outputId": "2390f3e7-40ff-47ec-c928-4fadc6d40b88"
      },
      "outputs": [
        {
          "name": "stdout",
          "output_type": "stream",
          "text": [
            "Current: 0.19 Best: 0 Best MSE: inf\n",
            "0.19: 0\n",
            "0.19: 100\n",
            "0.19: 200\n",
            "0.19: 300\n",
            "0.19: 400\n",
            "0.19: 500\n",
            "0.19: 600\n",
            "0.19: 700\n",
            "0.19: 800\n",
            "0.19: 900\n",
            "[3593 1734 1006  658  404  264  193  119  111   57   47   41   26   13\n",
            "   13   12    9    4    7    5    2    1    1    1    1    2    1    1\n",
            "    1    1] 0\n",
            "0.19 4862.906 3593\n",
            "0.19 786.096 1734\n",
            "0.19 477.627 1006\n",
            "0.19 350.03 658\n",
            "0.19 273.612 404\n",
            "0.19 221.767 264\n",
            "0.19 182.292 193\n",
            "0.19 152.772 119\n",
            "0.19 130.294 111\n",
            "0.19 20.272329964490577 57\n",
            "0.19 290696.7836344237\n",
            "Current: 0.191 Best: 0.19 Best MSE: 290696.7836344237\n",
            "0.191: 0\n",
            "0.191: 100\n",
            "0.191: 200\n",
            "0.191: 300\n",
            "0.191: 400\n",
            "0.191: 500\n",
            "0.191: 600\n",
            "0.191: 700\n",
            "0.191: 800\n",
            "0.191: 900\n",
            "[3593 1734 1006  658  404  264  193  119  111   57   47   41   26   13\n",
            "   13   12    9    4    7    5    2    1    1    1    1    2    1    1\n",
            "    1    1] 0\n",
            "0.191 4868.877 3593\n",
            "0.191 783.238 1734\n",
            "0.191 477.705 1006\n",
            "0.191 349.142 658\n",
            "0.191 272.529 404\n",
            "0.191 221.194 264\n",
            "0.191 181.839 193\n",
            "0.191 152.532 119\n",
            "0.191 130.489 111\n",
            "0.191 20.138750678487426 57\n",
            "0.191 292840.38842065434\n",
            "Current: 0.192 Best: 0.19 Best MSE: 290696.7836344237\n",
            "0.192: 0\n",
            "0.192: 100\n",
            "0.192: 200\n",
            "0.192: 300\n",
            "0.192: 400\n",
            "0.192: 500\n",
            "0.192: 600\n",
            "0.192: 700\n",
            "0.192: 800\n",
            "0.192: 900\n",
            "[3593 1734 1006  658  404  264  193  119  111   57   47   41   26   13\n",
            "   13   12    9    4    7    5    2    1    1    1    1    2    1    1\n",
            "    1    1] 0\n",
            "0.192 4876.697 3593\n",
            "0.192 780.811 1734\n",
            "0.192 475.194 1006\n",
            "0.192 347.417 658\n",
            "0.192 271.397 404\n",
            "0.192 220.649 264\n",
            "0.192 181.689 193\n",
            "0.192 152.728 119\n",
            "0.192 130.693 111\n",
            "0.192 20.15625353578783 57\n",
            "0.192 295713.7724472519\n",
            "Current: 0.193 Best: 0.19 Best MSE: 290696.7836344237\n",
            "0.193: 0\n",
            "0.193: 100\n",
            "0.193: 200\n",
            "0.193: 300\n",
            "0.193: 400\n",
            "0.193: 500\n",
            "0.193: 600\n",
            "0.193: 700\n",
            "0.193: 800\n",
            "0.193: 900\n",
            "[3593 1734 1006  658  404  264  193  119  111   57   47   41   26   13\n",
            "   13   12    9    4    7    5    2    1    1    1    1    2    1    1\n",
            "    1    1] 0\n",
            "0.193 4882.887 3593\n",
            "0.193 779.852 1734\n",
            "0.193 474.115 1006\n",
            "0.193 346.616 658\n",
            "0.193 270.609 404\n",
            "0.193 219.104 264\n",
            "0.193 181.099 193\n",
            "0.193 152.437 119\n",
            "0.193 130.12 111\n",
            "0.193 20.107876982783907 57\n",
            "0.193 297686.36069617164\n",
            "Current: 0.194 Best: 0.19 Best MSE: 290696.7836344237\n",
            "0.194: 0\n",
            "0.194: 100\n",
            "0.194: 200\n",
            "0.194: 300\n",
            "0.194: 400\n",
            "0.194: 500\n",
            "0.194: 600\n",
            "0.194: 700\n",
            "0.194: 800\n",
            "0.194: 900\n",
            "[3593 1734 1006  658  404  264  193  119  111   57   47   41   26   13\n",
            "   13   12    9    4    7    5    2    1    1    1    1    2    1    1\n",
            "    1    1] 0\n",
            "0.194 4888.311 3593\n",
            "0.194 776.761 1734\n",
            "0.194 474.532 1006\n",
            "0.194 345.548 658\n",
            "0.194 269.879 404\n",
            "0.194 219.87 264\n",
            "0.194 180.629 193\n",
            "0.194 152.42 119\n",
            "0.194 129.617 111\n",
            "0.194 20.057055974771934 57\n",
            "0.194 299713.87885542505\n",
            "Current: 0.195 Best: 0.19 Best MSE: 290696.7836344237\n",
            "0.195: 0\n",
            "0.195: 100\n",
            "0.195: 200\n",
            "0.195: 300\n",
            "0.195: 400\n",
            "0.195: 500\n",
            "0.195: 600\n",
            "0.195: 700\n",
            "0.195: 800\n",
            "0.195: 900\n",
            "[3593 1734 1006  658  404  264  193  119  111   57   47   41   26   13\n",
            "   13   12    9    4    7    5    2    1    1    1    1    2    1    1\n",
            "    1    1] 0\n",
            "0.195 4895.545 3593\n",
            "0.195 774.423 1734\n",
            "0.195 472.186 1006\n",
            "0.195 344.785 658\n",
            "0.195 269.524 404\n",
            "0.195 218.604 264\n",
            "0.195 180.091 193\n",
            "0.195 151.518 119\n",
            "0.195 129.603 111\n",
            "0.195 20.09059366903233 57\n",
            "0.195 302354.9548656705\n",
            "Current: 0.196 Best: 0.19 Best MSE: 290696.7836344237\n",
            "0.196: 0\n",
            "0.196: 100\n",
            "0.196: 200\n",
            "0.196: 300\n",
            "0.196: 400\n",
            "0.196: 500\n",
            "0.196: 600\n",
            "0.196: 700\n",
            "0.196: 800\n",
            "0.196: 900\n",
            "[3593 1734 1006  658  404  264  193  119  111   57   47   41   26   13\n",
            "   13   12    9    4    7    5    2    1    1    1    1    2    1    1\n",
            "    1    1] 0\n",
            "0.196 4902.219 3593\n",
            "0.196 772.779 1734\n",
            "0.196 469.967 1006\n",
            "0.196 343.266 658\n",
            "0.196 268.942 404\n",
            "0.196 218.283 264\n",
            "0.196 179.536 193\n",
            "0.196 151.256 119\n",
            "0.196 128.993 111\n",
            "0.196 20.102204408817634 57\n",
            "0.196 304762.6700300489\n",
            "Current: 0.197 Best: 0.19 Best MSE: 290696.7836344237\n",
            "0.197: 0\n",
            "0.197: 100\n",
            "0.197: 200\n",
            "0.197: 300\n",
            "0.197: 400\n",
            "0.197: 500\n",
            "0.197: 600\n",
            "0.197: 700\n",
            "0.197: 800\n",
            "0.197: 900\n",
            "[3593 1734 1006  658  404  264  193  119  111   57   47   41   26   13\n",
            "   13   12    9    4    7    5    2    1    1    1    1    2    1    1\n",
            "    1    1] 0\n",
            "0.197 4907.551 3593\n",
            "0.197 771.398 1734\n",
            "0.197 469.927 1006\n",
            "0.197 341.931 658\n",
            "0.197 268.738 404\n",
            "0.197 218.083 264\n",
            "0.197 178.92 193\n",
            "0.197 150.712 119\n",
            "0.197 128.732 111\n",
            "0.197 19.97017932701995 57\n",
            "0.197 306521.4524415074\n",
            "Current: 0.198 Best: 0.19 Best MSE: 290696.7836344237\n",
            "0.198: 0\n",
            "0.198: 100\n",
            "0.198: 200\n",
            "0.198: 300\n",
            "0.198: 400\n",
            "0.198: 500\n",
            "0.198: 600\n",
            "0.198: 700\n",
            "0.198: 800\n",
            "0.198: 900\n",
            "[3593 1734 1006  658  404  264  193  119  111   57   47   41   26   13\n",
            "   13   12    9    4    7    5    2    1    1    1    1    2    1    1\n",
            "    1    1] 0\n",
            "0.198 4914.786 3593\n",
            "0.198 768.335 1734\n",
            "0.198 468.753 1006\n",
            "0.198 341.255 658\n",
            "0.198 267.311 404\n",
            "0.198 215.947 264\n",
            "0.198 178.697 193\n",
            "0.198 150.935 119\n",
            "0.198 128.803 111\n",
            "0.198 20.088118210647053 57\n",
            "0.198 309248.5683445231\n",
            "Current: 0.199 Best: 0.19 Best MSE: 290696.7836344237\n",
            "0.199: 0\n",
            "0.199: 100\n",
            "0.199: 200\n",
            "0.199: 300\n",
            "0.199: 400\n",
            "0.199: 500\n",
            "0.199: 600\n",
            "0.199: 700\n",
            "0.199: 800\n",
            "0.199: 900\n",
            "[3593 1734 1006  658  404  264  193  119  111   57   47   41   26   13\n",
            "   13   12    9    4    7    5    2    1    1    1    1    2    1    1\n",
            "    1    1] 0\n",
            "0.199 4919.06 3593\n",
            "0.199 767.48 1734\n",
            "0.199 465.685 1006\n",
            "0.199 340.679 658\n",
            "0.199 267.169 404\n",
            "0.199 217.095 264\n",
            "0.199 178.763 193\n",
            "0.199 150.917 119\n",
            "0.199 128.2 111\n",
            "0.199 19.988181044903076 57\n",
            "0.199 310903.8853652366\n",
            "Current: 0.2 Best: 0.19 Best MSE: 290696.7836344237\n",
            "0.2: 0\n",
            "0.2: 100\n",
            "0.2: 200\n",
            "0.2: 300\n",
            "0.2: 400\n",
            "0.2: 500\n",
            "0.2: 600\n",
            "0.2: 700\n",
            "0.2: 800\n",
            "0.2: 900\n",
            "[3593 1734 1006  658  404  264  193  119  111   57   47   41   26   13\n",
            "   13   12    9    4    7    5    2    1    1    1    1    2    1    1\n",
            "    1    1] 0\n",
            "0.2 4926.422 3593\n",
            "0.2 764.594 1734\n",
            "0.2 465.537 1006\n",
            "0.2 340.112 658\n",
            "0.2 266.331 404\n",
            "0.2 215.515 264\n",
            "0.2 177.303 193\n",
            "0.2 150.262 119\n",
            "0.2 127.548 111\n",
            "0.2 20.006173806061962 57\n",
            "0.2 313508.48945524654\n",
            "Current: 0.201 Best: 0.19 Best MSE: 290696.7836344237\n",
            "0.201: 0\n",
            "0.201: 100\n",
            "0.201: 200\n",
            "0.201: 300\n",
            "0.201: 400\n",
            "0.201: 500\n",
            "0.201: 600\n",
            "0.201: 700\n",
            "0.201: 800\n",
            "0.201: 900\n",
            "[3593 1734 1006  658  404  264  193  119  111   57   47   41   26   13\n",
            "   13   12    9    4    7    5    2    1    1    1    1    2    1    1\n",
            "    1    1] 0\n",
            "0.201 4932.155 3593\n",
            "0.201 762.729 1734\n",
            "0.201 463.29 1006\n",
            "0.201 339.209 658\n",
            "0.201 264.847 404\n",
            "0.201 215.675 264\n",
            "0.201 177.352 193\n",
            "0.201 150.061 119\n",
            "0.201 128.012 111\n",
            "0.201 20.024396248796975 57\n",
            "0.201 315743.0427322766\n",
            "65783.95053291321\n"
          ]
        }
      ],
      "source": [
        "# ----------- Start of Polya Urn Model Finding Optimal Alpha -----------\n",
        "start_time = time.time()\n",
        "for alpha in alpha_values:\n",
        "    print(\"Current:\", alpha, \"Best:\", best_alpha, \"Best MSE:\", best_mse)\n",
        "    weighted_np_officers = np_officers\n",
        "    # add 0 column to weighted_np_officers\n",
        "    weighted_np_officers = np.insert(weighted_np_officers, 2, 0, axis=1)\n",
        "    weighted_np_officers = np.insert(weighted_np_officers, 3, 1, axis=1)\n",
        "    # sort weighted_np_officers by values in second column\n",
        "    weighted_np_officers = weighted_np_officers[weighted_np_officers[:, 1].argsort()]\n",
        "    # for each unique value in the second column, get the number of times it appears\n",
        "    unique_beats, beat_counts = np.unique(weighted_np_officers[:, 1], return_counts=True)\n",
        "    # for each unique beat, make the sum of the third column equal to 1\n",
        "    for beat in unique_beats:\n",
        "        # get indices of beat\n",
        "        beat_indices = np.where(weighted_np_officers[:, 1] == beat)\n",
        "        # get number of officers in beat\n",
        "        num_officers = beat_counts[np.where(unique_beats == beat)]\n",
        "        # get weights for officers in beat\n",
        "        weighted_np_officers[beat_indices, 2] = 1 / num_officers\n",
        "\n",
        "    polya_urn_results = []\n",
        "    for i in range(num_simulations):\n",
        "        # print(i)\n",
        "        # make 1d array of 0s, length of np_officers\n",
        "        if i % 100 == 0:\n",
        "          print(f\"{alpha}: {i}\")\n",
        "        polya_urn = np.array([])\n",
        "        temp_weighted_np_officers = weighted_np_officers.copy()\n",
        "        # for each element in np_grouped, get length of each individual element\n",
        "        for incident in np_grouped:\n",
        "            # get length of each individual element\n",
        "            num_officers = len(incident)\n",
        "            # get beat of group\n",
        "            beat = incident[0][2]\n",
        "            if beat not in weighted_np_officers[:, 1]:\n",
        "                continue\n",
        "            # get officers in beat\n",
        "            officers_in_beat = temp_weighted_np_officers[temp_weighted_np_officers[:, 1] == beat]\n",
        "            if len(officers_in_beat) < num_officers:\n",
        "                continue\n",
        "            # randomly sample officers without replacement from officers in beat\n",
        "            p = officers_in_beat[:, 2] / sum(officers_in_beat[:, 2])\n",
        "            sample_officers = np.random.choice(officers_in_beat[:, 0], num_officers, replace=False, p=p)\n",
        "            # add sample officers to polya_urn\n",
        "            polya_urn = np.append(polya_urn, sample_officers)\n",
        "            # print(sample_officers)\n",
        "            # selected officers weights go up by alpha\n",
        "            for officer in sample_officers:\n",
        "                temp_weighted_np_officers[temp_weighted_np_officers[:, 0] == officer, 2] += alpha\n",
        "                temp_weighted_np_officers[temp_weighted_np_officers[:, 0] == officer, 3] += 1\n",
        "            # if officer allegations go above 35, set weight to 0\n",
        "            # temp_weighted_np_officers[temp_weighted_np_officers[:, 3] > 35, 2] = 0.000000001\n",
        "        # get value counts of OfficerID in polya_urn\n",
        "        polya_urn_counts = 0\n",
        "        polya_urn_counts = np.unique(polya_urn, return_counts=True)\n",
        "        # get number of times each value appears in polya_urn_counts\n",
        "        # sort in descending order\n",
        "        polya_urn_counts = np.unique(polya_urn_counts[1], return_counts=True)\n",
        "        # add polya_urn_counts to polya_urn_results\n",
        "        polya_urn_results.append(polya_urn_counts)\n",
        "    polya_urn_results = pd.DataFrame(polya_urn_results)\n",
        "    polya_urn_results.columns = ['Number of Complaints', 'Counts']\n",
        "    # add 0 to each datapoint in Number of Complaints\n",
        "    polya_urn_results['Number of Complaints'] = polya_urn_results['Number of Complaints'].apply(lambda x: np.concatenate(([0], x)))\n",
        "    # and insert the np.sum(officer_counts[1]) - np.sum(polya_urn_results['Counts']) into the second column\n",
        "    polya_urn_results['Counts'] = polya_urn_results['Counts'].apply(lambda x: np.concatenate(([np.sum(officer_counts[1]) - np.sum(x)], x)))\n",
        "    # add 1 to all the counts to match\n",
        "    polya_urn_results['Number of Complaints'] = polya_urn_results['Number of Complaints'].apply(lambda x: x + 1)\n",
        "    # explode the number of complaints column, then get max value\n",
        "    urn_max_complaints = max(polya_urn_results['Number of Complaints'].explode())\n",
        "    # print(urn_max_complaints)\n",
        "    # create dictionary of number of complaints and counts, key is number of complaints, value is counts\n",
        "    urn_complaints_dict = {}\n",
        "    for i in range(1, 11):\n",
        "        urn_complaints_dict[i] = []\n",
        "    # for each row in polya_urn_results, get the list of Number of Complaints, then get the list of Counts, then map them to the dictionary\n",
        "    for index, row in polya_urn_results.iterrows():\n",
        "        # get list of number of complaints\n",
        "        complaints = row['Number of Complaints']\n",
        "        # get list of counts\n",
        "        counts = row['Counts']\n",
        "        # map them to the dictionary\n",
        "        for i in range(len(complaints)):\n",
        "            if complaints[i] < 10:\n",
        "                urn_complaints_dict[complaints[i]].append(counts[i])\n",
        "            else:\n",
        "                urn_complaints_dict[10].append(counts[i])\n",
        "\n",
        "    # if the list length is not equal to num_simulations, then add 0s to the list until it is equal to num_simulations\n",
        "    for key in urn_complaints_dict:\n",
        "        if len(urn_complaints_dict[key]) != num_simulations:\n",
        "            urn_complaints_dict[key] = urn_complaints_dict[key] + [0] * (num_simulations - len(urn_complaints_dict[key]))\n",
        "    # get the average of each list in the dictionary\n",
        "    urn_avg_complaints_dict = {}\n",
        "    for key in urn_complaints_dict:\n",
        "        urn_avg_complaints_dict[key] = np.mean(urn_complaints_dict[key])\n",
        "    # compare the average number of complaints to the actual number of complaints, get the mse\n",
        "    mse = 0\n",
        "    print(officer_counts[1], mse)\n",
        "    for key in urn_avg_complaints_dict:\n",
        "        # print('Key', key)\n",
        "        print(alpha, urn_avg_complaints_dict[key], officer_counts[1][key - 1])\n",
        "        mse += (urn_avg_complaints_dict[key] - officer_counts[1][key - 1]) ** 2\n",
        "    mse = mse / len(urn_avg_complaints_dict)\n",
        "    print(alpha, mse)\n",
        "    if mse < best_mse:\n",
        "        best_mse = mse\n",
        "        best_alpha = alpha\n",
        "        best_urn_avg_complaints_dict = urn_avg_complaints_dict\n",
        "end_time = time.time()\n",
        "print(end_time - start_time)"
      ]
    },
    {
      "cell_type": "code",
      "execution_count": null,
      "metadata": {
        "colab": {
          "background_save": true
        },
        "id": "ibPKF5I7yQ9D",
        "outputId": "017fc5ed-f770-4cce-c79e-3fc4a8b0eb5b"
      },
      "outputs": [
        {
          "name": "stdout",
          "output_type": "stream",
          "text": [
            "0.201 290696.7836344237\n"
          ]
        }
      ],
      "source": [
        "print(alpha, best_mse)"
      ]
    },
    {
      "cell_type": "code",
      "execution_count": null,
      "metadata": {
        "colab": {
          "background_save": true
        },
        "id": "P-aGaLhmtkNZ"
      },
      "outputs": [],
      "source": [
        "# get the 95% confidence interval of each list in the dictionary\n",
        "upper_urn_ci_complaints_dict = {}\n",
        "lower_urn_ci_complaints_dict = {}\n",
        "for key in best_urn_avg_complaints_dict:\n",
        "    # 95% confidence interval using quantile\n",
        "    upper_urn_ci_complaints_dict[key] = np.quantile(best_urn_avg_complaints_dict[key], 0.975)\n",
        "    lower_urn_ci_complaints_dict[key] = np.quantile(best_urn_avg_complaints_dict[key], 0.025)"
      ]
    },
    {
      "cell_type": "code",
      "execution_count": null,
      "metadata": {
        "colab": {
          "background_save": true
        },
        "id": "15maa5mqmDyP",
        "outputId": "d474ba61-2bb8-4be7-895a-f55e34b6c643"
      },
      "outputs": [
        {
          "data": {
            "text/html": [
              "<html>\n",
              "<head><meta charset=\"utf-8\" /></head>\n",
              "<body>\n",
              "    <div>            <script src=\"https://cdnjs.cloudflare.com/ajax/libs/mathjax/2.7.5/MathJax.js?config=TeX-AMS-MML_SVG\"></script><script type=\"text/javascript\">if (window.MathJax) {MathJax.Hub.Config({SVG: {font: \"STIX-Web\"}});}</script>                <script type=\"text/javascript\">window.PlotlyConfig = {MathJaxConfig: 'local'};</script>\n",
              "        <script src=\"https://cdn.plot.ly/plotly-2.8.3.min.js\"></script>                <div id=\"44c6b72a-2b6b-48e2-ab2b-76261f49d123\" class=\"plotly-graph-div\" style=\"height:525px; width:100%;\"></div>            <script type=\"text/javascript\">                                    window.PLOTLYENV=window.PLOTLYENV || {};                                    if (document.getElementById(\"44c6b72a-2b6b-48e2-ab2b-76261f49d123\")) {                    Plotly.newPlot(                        \"44c6b72a-2b6b-48e2-ab2b-76261f49d123\",                        [{\"mode\":\"lines\",\"name\":\"Polya Urn Model Results\",\"x\":[1,2,3,4,5,6,7,8,9,10],\"y\":[4862.906,786.096,477.627,350.03,273.612,221.767,182.292,152.772,130.294,20.272329964490577],\"type\":\"scatter\"},{\"line\":{\"color\":\"rgb(66, 81, 245)\",\"dash\":\"dash\"},\"mode\":\"lines\",\"name\":\"Polya Urn Model 95% Confidence Interval\",\"x\":[1,2,3,4,5,6,7,8,9,10],\"y\":[4862.906,786.096,477.627,350.03,273.612,221.767,182.292,152.772,130.294,20.272329964490577],\"type\":\"scatter\"},{\"fill\":\"tonexty\",\"fillcolor\":\"rgba(66, 81, 245,0.2)\",\"line\":{\"color\":\"rgb(66, 81, 245)\",\"dash\":\"dash\"},\"mode\":\"lines\",\"name\":\"Polya Urn Model 95% Confidence Interval\",\"x\":[1,2,3,4,5,6,7,8,9,10],\"y\":[4862.906,786.096,477.627,350.03,273.612,221.767,182.292,152.772,130.294,20.272329964490577],\"type\":\"scatter\"},{\"mode\":\"lines\",\"name\":\"Data\",\"x\":[1,2,3,4,5,6,7,8,9,10,10,10,10,10,10,10,10,10,10,10,10,10,10,10,10,10,10,10,10,10],\"y\":[3593,1734,1006,658,404,264,193,119,111,57,47,41,26,13,13,12,9,4,7,5,2,1,1,1,1,2,1,1,1,1],\"type\":\"scatter\"}],                        {\"template\":{\"data\":{\"bar\":[{\"error_x\":{\"color\":\"#2a3f5f\"},\"error_y\":{\"color\":\"#2a3f5f\"},\"marker\":{\"line\":{\"color\":\"#E5ECF6\",\"width\":0.5},\"pattern\":{\"fillmode\":\"overlay\",\"size\":10,\"solidity\":0.2}},\"type\":\"bar\"}],\"barpolar\":[{\"marker\":{\"line\":{\"color\":\"#E5ECF6\",\"width\":0.5},\"pattern\":{\"fillmode\":\"overlay\",\"size\":10,\"solidity\":0.2}},\"type\":\"barpolar\"}],\"carpet\":[{\"aaxis\":{\"endlinecolor\":\"#2a3f5f\",\"gridcolor\":\"white\",\"linecolor\":\"white\",\"minorgridcolor\":\"white\",\"startlinecolor\":\"#2a3f5f\"},\"baxis\":{\"endlinecolor\":\"#2a3f5f\",\"gridcolor\":\"white\",\"linecolor\":\"white\",\"minorgridcolor\":\"white\",\"startlinecolor\":\"#2a3f5f\"},\"type\":\"carpet\"}],\"choropleth\":[{\"colorbar\":{\"outlinewidth\":0,\"ticks\":\"\"},\"type\":\"choropleth\"}],\"contour\":[{\"colorbar\":{\"outlinewidth\":0,\"ticks\":\"\"},\"colorscale\":[[0.0,\"#0d0887\"],[0.1111111111111111,\"#46039f\"],[0.2222222222222222,\"#7201a8\"],[0.3333333333333333,\"#9c179e\"],[0.4444444444444444,\"#bd3786\"],[0.5555555555555556,\"#d8576b\"],[0.6666666666666666,\"#ed7953\"],[0.7777777777777778,\"#fb9f3a\"],[0.8888888888888888,\"#fdca26\"],[1.0,\"#f0f921\"]],\"type\":\"contour\"}],\"contourcarpet\":[{\"colorbar\":{\"outlinewidth\":0,\"ticks\":\"\"},\"type\":\"contourcarpet\"}],\"heatmap\":[{\"colorbar\":{\"outlinewidth\":0,\"ticks\":\"\"},\"colorscale\":[[0.0,\"#0d0887\"],[0.1111111111111111,\"#46039f\"],[0.2222222222222222,\"#7201a8\"],[0.3333333333333333,\"#9c179e\"],[0.4444444444444444,\"#bd3786\"],[0.5555555555555556,\"#d8576b\"],[0.6666666666666666,\"#ed7953\"],[0.7777777777777778,\"#fb9f3a\"],[0.8888888888888888,\"#fdca26\"],[1.0,\"#f0f921\"]],\"type\":\"heatmap\"}],\"heatmapgl\":[{\"colorbar\":{\"outlinewidth\":0,\"ticks\":\"\"},\"colorscale\":[[0.0,\"#0d0887\"],[0.1111111111111111,\"#46039f\"],[0.2222222222222222,\"#7201a8\"],[0.3333333333333333,\"#9c179e\"],[0.4444444444444444,\"#bd3786\"],[0.5555555555555556,\"#d8576b\"],[0.6666666666666666,\"#ed7953\"],[0.7777777777777778,\"#fb9f3a\"],[0.8888888888888888,\"#fdca26\"],[1.0,\"#f0f921\"]],\"type\":\"heatmapgl\"}],\"histogram\":[{\"marker\":{\"pattern\":{\"fillmode\":\"overlay\",\"size\":10,\"solidity\":0.2}},\"type\":\"histogram\"}],\"histogram2d\":[{\"colorbar\":{\"outlinewidth\":0,\"ticks\":\"\"},\"colorscale\":[[0.0,\"#0d0887\"],[0.1111111111111111,\"#46039f\"],[0.2222222222222222,\"#7201a8\"],[0.3333333333333333,\"#9c179e\"],[0.4444444444444444,\"#bd3786\"],[0.5555555555555556,\"#d8576b\"],[0.6666666666666666,\"#ed7953\"],[0.7777777777777778,\"#fb9f3a\"],[0.8888888888888888,\"#fdca26\"],[1.0,\"#f0f921\"]],\"type\":\"histogram2d\"}],\"histogram2dcontour\":[{\"colorbar\":{\"outlinewidth\":0,\"ticks\":\"\"},\"colorscale\":[[0.0,\"#0d0887\"],[0.1111111111111111,\"#46039f\"],[0.2222222222222222,\"#7201a8\"],[0.3333333333333333,\"#9c179e\"],[0.4444444444444444,\"#bd3786\"],[0.5555555555555556,\"#d8576b\"],[0.6666666666666666,\"#ed7953\"],[0.7777777777777778,\"#fb9f3a\"],[0.8888888888888888,\"#fdca26\"],[1.0,\"#f0f921\"]],\"type\":\"histogram2dcontour\"}],\"mesh3d\":[{\"colorbar\":{\"outlinewidth\":0,\"ticks\":\"\"},\"type\":\"mesh3d\"}],\"parcoords\":[{\"line\":{\"colorbar\":{\"outlinewidth\":0,\"ticks\":\"\"}},\"type\":\"parcoords\"}],\"pie\":[{\"automargin\":true,\"type\":\"pie\"}],\"scatter\":[{\"marker\":{\"colorbar\":{\"outlinewidth\":0,\"ticks\":\"\"}},\"type\":\"scatter\"}],\"scatter3d\":[{\"line\":{\"colorbar\":{\"outlinewidth\":0,\"ticks\":\"\"}},\"marker\":{\"colorbar\":{\"outlinewidth\":0,\"ticks\":\"\"}},\"type\":\"scatter3d\"}],\"scattercarpet\":[{\"marker\":{\"colorbar\":{\"outlinewidth\":0,\"ticks\":\"\"}},\"type\":\"scattercarpet\"}],\"scattergeo\":[{\"marker\":{\"colorbar\":{\"outlinewidth\":0,\"ticks\":\"\"}},\"type\":\"scattergeo\"}],\"scattergl\":[{\"marker\":{\"colorbar\":{\"outlinewidth\":0,\"ticks\":\"\"}},\"type\":\"scattergl\"}],\"scattermapbox\":[{\"marker\":{\"colorbar\":{\"outlinewidth\":0,\"ticks\":\"\"}},\"type\":\"scattermapbox\"}],\"scatterpolar\":[{\"marker\":{\"colorbar\":{\"outlinewidth\":0,\"ticks\":\"\"}},\"type\":\"scatterpolar\"}],\"scatterpolargl\":[{\"marker\":{\"colorbar\":{\"outlinewidth\":0,\"ticks\":\"\"}},\"type\":\"scatterpolargl\"}],\"scatterternary\":[{\"marker\":{\"colorbar\":{\"outlinewidth\":0,\"ticks\":\"\"}},\"type\":\"scatterternary\"}],\"surface\":[{\"colorbar\":{\"outlinewidth\":0,\"ticks\":\"\"},\"colorscale\":[[0.0,\"#0d0887\"],[0.1111111111111111,\"#46039f\"],[0.2222222222222222,\"#7201a8\"],[0.3333333333333333,\"#9c179e\"],[0.4444444444444444,\"#bd3786\"],[0.5555555555555556,\"#d8576b\"],[0.6666666666666666,\"#ed7953\"],[0.7777777777777778,\"#fb9f3a\"],[0.8888888888888888,\"#fdca26\"],[1.0,\"#f0f921\"]],\"type\":\"surface\"}],\"table\":[{\"cells\":{\"fill\":{\"color\":\"#EBF0F8\"},\"line\":{\"color\":\"white\"}},\"header\":{\"fill\":{\"color\":\"#C8D4E3\"},\"line\":{\"color\":\"white\"}},\"type\":\"table\"}]},\"layout\":{\"annotationdefaults\":{\"arrowcolor\":\"#2a3f5f\",\"arrowhead\":0,\"arrowwidth\":1},\"autotypenumbers\":\"strict\",\"coloraxis\":{\"colorbar\":{\"outlinewidth\":0,\"ticks\":\"\"}},\"colorscale\":{\"diverging\":[[0,\"#8e0152\"],[0.1,\"#c51b7d\"],[0.2,\"#de77ae\"],[0.3,\"#f1b6da\"],[0.4,\"#fde0ef\"],[0.5,\"#f7f7f7\"],[0.6,\"#e6f5d0\"],[0.7,\"#b8e186\"],[0.8,\"#7fbc41\"],[0.9,\"#4d9221\"],[1,\"#276419\"]],\"sequential\":[[0.0,\"#0d0887\"],[0.1111111111111111,\"#46039f\"],[0.2222222222222222,\"#7201a8\"],[0.3333333333333333,\"#9c179e\"],[0.4444444444444444,\"#bd3786\"],[0.5555555555555556,\"#d8576b\"],[0.6666666666666666,\"#ed7953\"],[0.7777777777777778,\"#fb9f3a\"],[0.8888888888888888,\"#fdca26\"],[1.0,\"#f0f921\"]],\"sequentialminus\":[[0.0,\"#0d0887\"],[0.1111111111111111,\"#46039f\"],[0.2222222222222222,\"#7201a8\"],[0.3333333333333333,\"#9c179e\"],[0.4444444444444444,\"#bd3786\"],[0.5555555555555556,\"#d8576b\"],[0.6666666666666666,\"#ed7953\"],[0.7777777777777778,\"#fb9f3a\"],[0.8888888888888888,\"#fdca26\"],[1.0,\"#f0f921\"]]},\"colorway\":[\"#636efa\",\"#EF553B\",\"#00cc96\",\"#ab63fa\",\"#FFA15A\",\"#19d3f3\",\"#FF6692\",\"#B6E880\",\"#FF97FF\",\"#FECB52\"],\"font\":{\"color\":\"#2a3f5f\"},\"geo\":{\"bgcolor\":\"white\",\"lakecolor\":\"white\",\"landcolor\":\"#E5ECF6\",\"showlakes\":true,\"showland\":true,\"subunitcolor\":\"white\"},\"hoverlabel\":{\"align\":\"left\"},\"hovermode\":\"closest\",\"mapbox\":{\"style\":\"light\"},\"paper_bgcolor\":\"white\",\"plot_bgcolor\":\"#E5ECF6\",\"polar\":{\"angularaxis\":{\"gridcolor\":\"white\",\"linecolor\":\"white\",\"ticks\":\"\"},\"bgcolor\":\"#E5ECF6\",\"radialaxis\":{\"gridcolor\":\"white\",\"linecolor\":\"white\",\"ticks\":\"\"}},\"scene\":{\"xaxis\":{\"backgroundcolor\":\"#E5ECF6\",\"gridcolor\":\"white\",\"gridwidth\":2,\"linecolor\":\"white\",\"showbackground\":true,\"ticks\":\"\",\"zerolinecolor\":\"white\"},\"yaxis\":{\"backgroundcolor\":\"#E5ECF6\",\"gridcolor\":\"white\",\"gridwidth\":2,\"linecolor\":\"white\",\"showbackground\":true,\"ticks\":\"\",\"zerolinecolor\":\"white\"},\"zaxis\":{\"backgroundcolor\":\"#E5ECF6\",\"gridcolor\":\"white\",\"gridwidth\":2,\"linecolor\":\"white\",\"showbackground\":true,\"ticks\":\"\",\"zerolinecolor\":\"white\"}},\"shapedefaults\":{\"line\":{\"color\":\"#2a3f5f\"}},\"ternary\":{\"aaxis\":{\"gridcolor\":\"white\",\"linecolor\":\"white\",\"ticks\":\"\"},\"baxis\":{\"gridcolor\":\"white\",\"linecolor\":\"white\",\"ticks\":\"\"},\"bgcolor\":\"#E5ECF6\",\"caxis\":{\"gridcolor\":\"white\",\"linecolor\":\"white\",\"ticks\":\"\"}},\"title\":{\"x\":0.05},\"xaxis\":{\"automargin\":true,\"gridcolor\":\"white\",\"linecolor\":\"white\",\"ticks\":\"\",\"title\":{\"standoff\":15},\"zerolinecolor\":\"white\",\"zerolinewidth\":2},\"yaxis\":{\"automargin\":true,\"gridcolor\":\"white\",\"linecolor\":\"white\",\"ticks\":\"\",\"title\":{\"standoff\":15},\"zerolinecolor\":\"white\",\"zerolinewidth\":2}}},\"title\":{\"text\":\"Polya Urn Model Results\"}},                        {\"responsive\": true}                    ).then(function(){\n",
              "                            \n",
              "var gd = document.getElementById('44c6b72a-2b6b-48e2-ab2b-76261f49d123');\n",
              "var x = new MutationObserver(function (mutations, observer) {{\n",
              "        var display = window.getComputedStyle(gd).display;\n",
              "        if (!display || display === 'none') {{\n",
              "            console.log([gd, 'removed!']);\n",
              "            Plotly.purge(gd);\n",
              "            observer.disconnect();\n",
              "        }}\n",
              "}});\n",
              "\n",
              "// Listen for the removal of the full notebook cells\n",
              "var notebookContainer = gd.closest('#notebook-container');\n",
              "if (notebookContainer) {{\n",
              "    x.observe(notebookContainer, {childList: true});\n",
              "}}\n",
              "\n",
              "// Listen for the clearing of the current output cell\n",
              "var outputEl = gd.closest('.output');\n",
              "if (outputEl) {{\n",
              "    x.observe(outputEl, {childList: true});\n",
              "}}\n",
              "\n",
              "                        })                };                            </script>        </div>\n",
              "</body>\n",
              "</html>"
            ]
          },
          "metadata": {},
          "output_type": "display_data"
        }
      ],
      "source": [
        "# plot curve\n",
        "# Number of Complaints are on the x-axis, Counts are on the y-axis\n",
        "fig = go.Figure()\n",
        "fig.add_trace(go.Scatter(x=list(urn_avg_complaints_dict.keys()), y=list(best_urn_avg_complaints_dict.values()), mode='lines', name='Polya Urn Model Results'))\n",
        "# add line with color\n",
        "fig.add_trace(go.Scatter(x=list(upper_urn_ci_complaints_dict.keys()), y=list(upper_urn_ci_complaints_dict.values()), mode='lines', name='Polya Urn Model 95% Confidence Interval', line=dict(color='rgb(66, 81, 245)', dash='dash')))\n",
        "fig.add_trace(go.Scatter(x=list(lower_urn_ci_complaints_dict.keys()), y=list(lower_urn_ci_complaints_dict.values()), mode='lines', name='Polya Urn Model 95% Confidence Interval', line=dict(color='rgb(66, 81, 245)', dash='dash'), fill='tonexty', fillcolor='rgba(66, 81, 245,0.2)'))\n",
        "fig.add_trace(go.Scatter(x=officer_counts[0], y=officer_counts[1], mode='lines', name='Data'))\n",
        "fig.update_layout(title_text='Polya Urn Model Results')\n",
        "fig.show()"
      ]
    }
  ],
  "metadata": {
    "colab": {
      "provenance": []
    },
    "kernelspec": {
      "display_name": "base",
      "language": "python",
      "name": "python3"
    },
    "language_info": {
      "codemirror_mode": {
        "name": "ipython",
        "version": 3
      },
      "file_extension": ".py",
      "mimetype": "text/x-python",
      "name": "python",
      "nbconvert_exporter": "python",
      "pygments_lexer": "ipython3",
      "version": "3.9.12"
    },
    "vscode": {
      "interpreter": {
        "hash": "7d070d07219d78435f9a014cf028f78a39f3816bb48d44baa7b1c4c726092051"
      }
    }
  },
  "nbformat": 4,
  "nbformat_minor": 0
}
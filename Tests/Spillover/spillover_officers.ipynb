{
  "cells": [
    {
      "cell_type": "code",
      "execution_count": null,
      "metadata": {
        "colab": {
          "base_uri": "https://localhost:8080/"
        },
        "id": "HjwgzGydmJ5v",
        "outputId": "a0755541-1cfb-43a3-e550-6f8c98633adc"
      },
      "outputs": [
        {
          "output_type": "stream",
          "name": "stdout",
          "text": [
            "Mounted at /content/gdrive\n"
          ]
        }
      ],
      "source": [
        "from google.colab import drive\n",
        "\n",
        "drive.mount('/content/gdrive')"
      ]
    },
    {
      "cell_type": "code",
      "execution_count": null,
      "metadata": {
        "id": "CJEYR9jvmDyH"
      },
      "outputs": [],
      "source": [
        "import pandas as pd\n",
        "import time\n",
        "import numpy as np\n",
        "import plotly.graph_objs as go\n",
        "\n",
        "# df = pd.read_csv(\n",
        "#     '/Users/jeremyhudsonchan/Dropbox/Files/Boston_College_Courses/Thesis/Code/Undergraduate-Thesis/Preprocessing_Code/final/data/proportions.csv', low_memory=False)\n",
        "# officers = pd.read_csv(\n",
        "#     '/Users/jeremyhudsonchan/Dropbox/Files/Boston_College_Courses/Thesis/Code/Undergraduate-Thesis/Preprocessing_Code/final/data/perm_unique_officers.csv', low_memory=False)\n",
        "\n",
        "df = pd.read_csv('/content/gdrive/MyDrive/Thesis_Data/proportions.csv')\n",
        "officers = pd.read_csv('/content/gdrive/MyDrive/Thesis_Data/perm_unique_officers.csv')"
      ]
    },
    {
      "cell_type": "code",
      "execution_count": null,
      "metadata": {
        "colab": {
          "base_uri": "https://localhost:8080/"
        },
        "id": "bCiBZilemDyI",
        "outputId": "e064fec7-3339-4a5d-e0d3-4aeb775c8eae"
      },
      "outputs": [
        {
          "output_type": "stream",
          "name": "stdout",
          "text": [
            "Index(['CRID', 'OfficerID', 'OfficeFirst', 'OfficerLast', 'Category',\n",
            "       'Allegation', 'Beat', 'IncidentDate', 'Beat Count', 'Beat Proportion'],\n",
            "      dtype='object')\n",
            "     CRID  OfficerID OfficeFirst OfficerLast      Category  \\\n",
            "0  259002       3055   Cornelius       Brown  Use Of Force   \n",
            "1  259002      19347     Kenneth     Molesky  Use Of Force   \n",
            "2  259011      10864        Mark   Grohovena  Use Of Force   \n",
            "3  259013      20651       James     Norwood  Use Of Force   \n",
            "4  259013       3055   Cornelius       Brown  Use Of Force   \n",
            "\n",
            "                               Allegation    Beat         IncidentDate  \\\n",
            "0      Excessive Force / On Duty - Injury  2221.0  2000-01-01 00:00:00   \n",
            "1      Excessive Force / On Duty - Injury  2221.0  2000-01-01 00:00:00   \n",
            "2  Excessive Force / Off Duty - No Injury   925.0  2000-01-01 00:00:00   \n",
            "3     Excessive Force / Off Duty - Injury  2232.0  2000-01-01 00:00:00   \n",
            "4      Excessive Force / On Duty - Injury  2232.0  2000-01-01 00:00:00   \n",
            "\n",
            "   Beat Count  Beat Proportion  \n",
            "0          50         0.000018  \n",
            "1          50         0.000018  \n",
            "2         144         0.000051  \n",
            "3         105         0.000037  \n",
            "4         105         0.000037  \n",
            "Index(['OfficerID', 'OfficerFirst', 'OfficerLast', 'Gender', 'Race',\n",
            "       'ApptDate', 'Rank', 'Age', 'Beat'],\n",
            "      dtype='object')\n"
          ]
        }
      ],
      "source": [
        "print(df.columns)\n",
        "print(df.head())\n",
        "print(officers.columns)"
      ]
    },
    {
      "cell_type": "code",
      "execution_count": null,
      "metadata": {
        "id": "3NqCbPTQmDyJ"
      },
      "outputs": [],
      "source": [
        "# choose only OfficerID and Beat columns\n",
        "prep_df = df[['OfficerID', 'Beat', 'Beat Count', 'Beat Proportion']]\n",
        "prep_officers = officers[['OfficerID', 'Beat']]\n",
        "# group by CRID\n",
        "df_grouped = df[['CRID', 'OfficerID', 'Beat', 'Beat Count', 'Beat Proportion']].groupby('CRID')\n",
        "# make df_grouped into a numpy array\n",
        "np_grouped = df_grouped.apply(lambda x: x.to_numpy())\n",
        "# make np_grouped into a numpy array\n",
        "np_grouped = np_grouped.to_numpy()"
      ]
    },
    {
      "cell_type": "code",
      "execution_count": null,
      "metadata": {
        "id": "CYWcYIRrmDyJ"
      },
      "outputs": [],
      "source": [
        "# make df into numpy\n",
        "np_df = prep_df.to_numpy()\n",
        "np_officers = prep_officers.to_numpy()\n",
        "# make array dtype object float\n",
        "np_df = np_df.astype(float)\n",
        "np_officers = np_officers.astype(float)"
      ]
    },
    {
      "cell_type": "code",
      "execution_count": null,
      "metadata": {
        "colab": {
          "base_uri": "https://localhost:8080/",
          "height": 542
        },
        "id": "7HygXreumDyK",
        "outputId": "44cdfd7a-6551-43f7-f0ea-7bf8b961672b"
      },
      "outputs": [
        {
          "output_type": "display_data",
          "data": {
            "text/html": [
              "<html>\n",
              "<head><meta charset=\"utf-8\" /></head>\n",
              "<body>\n",
              "    <div>            <script src=\"https://cdnjs.cloudflare.com/ajax/libs/mathjax/2.7.5/MathJax.js?config=TeX-AMS-MML_SVG\"></script><script type=\"text/javascript\">if (window.MathJax) {MathJax.Hub.Config({SVG: {font: \"STIX-Web\"}});}</script>                <script type=\"text/javascript\">window.PlotlyConfig = {MathJaxConfig: 'local'};</script>\n",
              "        <script src=\"https://cdn.plot.ly/plotly-2.8.3.min.js\"></script>                <div id=\"00c12988-f994-4e38-ab43-fe7489dba8b1\" class=\"plotly-graph-div\" style=\"height:525px; width:100%;\"></div>            <script type=\"text/javascript\">                                    window.PLOTLYENV=window.PLOTLYENV || {};                                    if (document.getElementById(\"00c12988-f994-4e38-ab43-fe7489dba8b1\")) {                    Plotly.newPlot(                        \"00c12988-f994-4e38-ab43-fe7489dba8b1\",                        [{\"mode\":\"lines\",\"name\":\"Data\",\"x\":[1,2,3,4,5,6,7,8,9,10,10,10,10,10,10,10,10,10,10,10,10,10,10,10,10,10,10,10,10,10],\"y\":[3593,1734,1006,658,404,264,193,119,111,57,47,41,26,13,13,12,9,4,7,5,2,1,1,1,1,2,1,1,1,1],\"type\":\"scatter\"}],                        {\"template\":{\"data\":{\"bar\":[{\"error_x\":{\"color\":\"#2a3f5f\"},\"error_y\":{\"color\":\"#2a3f5f\"},\"marker\":{\"line\":{\"color\":\"#E5ECF6\",\"width\":0.5},\"pattern\":{\"fillmode\":\"overlay\",\"size\":10,\"solidity\":0.2}},\"type\":\"bar\"}],\"barpolar\":[{\"marker\":{\"line\":{\"color\":\"#E5ECF6\",\"width\":0.5},\"pattern\":{\"fillmode\":\"overlay\",\"size\":10,\"solidity\":0.2}},\"type\":\"barpolar\"}],\"carpet\":[{\"aaxis\":{\"endlinecolor\":\"#2a3f5f\",\"gridcolor\":\"white\",\"linecolor\":\"white\",\"minorgridcolor\":\"white\",\"startlinecolor\":\"#2a3f5f\"},\"baxis\":{\"endlinecolor\":\"#2a3f5f\",\"gridcolor\":\"white\",\"linecolor\":\"white\",\"minorgridcolor\":\"white\",\"startlinecolor\":\"#2a3f5f\"},\"type\":\"carpet\"}],\"choropleth\":[{\"colorbar\":{\"outlinewidth\":0,\"ticks\":\"\"},\"type\":\"choropleth\"}],\"contour\":[{\"colorbar\":{\"outlinewidth\":0,\"ticks\":\"\"},\"colorscale\":[[0.0,\"#0d0887\"],[0.1111111111111111,\"#46039f\"],[0.2222222222222222,\"#7201a8\"],[0.3333333333333333,\"#9c179e\"],[0.4444444444444444,\"#bd3786\"],[0.5555555555555556,\"#d8576b\"],[0.6666666666666666,\"#ed7953\"],[0.7777777777777778,\"#fb9f3a\"],[0.8888888888888888,\"#fdca26\"],[1.0,\"#f0f921\"]],\"type\":\"contour\"}],\"contourcarpet\":[{\"colorbar\":{\"outlinewidth\":0,\"ticks\":\"\"},\"type\":\"contourcarpet\"}],\"heatmap\":[{\"colorbar\":{\"outlinewidth\":0,\"ticks\":\"\"},\"colorscale\":[[0.0,\"#0d0887\"],[0.1111111111111111,\"#46039f\"],[0.2222222222222222,\"#7201a8\"],[0.3333333333333333,\"#9c179e\"],[0.4444444444444444,\"#bd3786\"],[0.5555555555555556,\"#d8576b\"],[0.6666666666666666,\"#ed7953\"],[0.7777777777777778,\"#fb9f3a\"],[0.8888888888888888,\"#fdca26\"],[1.0,\"#f0f921\"]],\"type\":\"heatmap\"}],\"heatmapgl\":[{\"colorbar\":{\"outlinewidth\":0,\"ticks\":\"\"},\"colorscale\":[[0.0,\"#0d0887\"],[0.1111111111111111,\"#46039f\"],[0.2222222222222222,\"#7201a8\"],[0.3333333333333333,\"#9c179e\"],[0.4444444444444444,\"#bd3786\"],[0.5555555555555556,\"#d8576b\"],[0.6666666666666666,\"#ed7953\"],[0.7777777777777778,\"#fb9f3a\"],[0.8888888888888888,\"#fdca26\"],[1.0,\"#f0f921\"]],\"type\":\"heatmapgl\"}],\"histogram\":[{\"marker\":{\"pattern\":{\"fillmode\":\"overlay\",\"size\":10,\"solidity\":0.2}},\"type\":\"histogram\"}],\"histogram2d\":[{\"colorbar\":{\"outlinewidth\":0,\"ticks\":\"\"},\"colorscale\":[[0.0,\"#0d0887\"],[0.1111111111111111,\"#46039f\"],[0.2222222222222222,\"#7201a8\"],[0.3333333333333333,\"#9c179e\"],[0.4444444444444444,\"#bd3786\"],[0.5555555555555556,\"#d8576b\"],[0.6666666666666666,\"#ed7953\"],[0.7777777777777778,\"#fb9f3a\"],[0.8888888888888888,\"#fdca26\"],[1.0,\"#f0f921\"]],\"type\":\"histogram2d\"}],\"histogram2dcontour\":[{\"colorbar\":{\"outlinewidth\":0,\"ticks\":\"\"},\"colorscale\":[[0.0,\"#0d0887\"],[0.1111111111111111,\"#46039f\"],[0.2222222222222222,\"#7201a8\"],[0.3333333333333333,\"#9c179e\"],[0.4444444444444444,\"#bd3786\"],[0.5555555555555556,\"#d8576b\"],[0.6666666666666666,\"#ed7953\"],[0.7777777777777778,\"#fb9f3a\"],[0.8888888888888888,\"#fdca26\"],[1.0,\"#f0f921\"]],\"type\":\"histogram2dcontour\"}],\"mesh3d\":[{\"colorbar\":{\"outlinewidth\":0,\"ticks\":\"\"},\"type\":\"mesh3d\"}],\"parcoords\":[{\"line\":{\"colorbar\":{\"outlinewidth\":0,\"ticks\":\"\"}},\"type\":\"parcoords\"}],\"pie\":[{\"automargin\":true,\"type\":\"pie\"}],\"scatter\":[{\"marker\":{\"colorbar\":{\"outlinewidth\":0,\"ticks\":\"\"}},\"type\":\"scatter\"}],\"scatter3d\":[{\"line\":{\"colorbar\":{\"outlinewidth\":0,\"ticks\":\"\"}},\"marker\":{\"colorbar\":{\"outlinewidth\":0,\"ticks\":\"\"}},\"type\":\"scatter3d\"}],\"scattercarpet\":[{\"marker\":{\"colorbar\":{\"outlinewidth\":0,\"ticks\":\"\"}},\"type\":\"scattercarpet\"}],\"scattergeo\":[{\"marker\":{\"colorbar\":{\"outlinewidth\":0,\"ticks\":\"\"}},\"type\":\"scattergeo\"}],\"scattergl\":[{\"marker\":{\"colorbar\":{\"outlinewidth\":0,\"ticks\":\"\"}},\"type\":\"scattergl\"}],\"scattermapbox\":[{\"marker\":{\"colorbar\":{\"outlinewidth\":0,\"ticks\":\"\"}},\"type\":\"scattermapbox\"}],\"scatterpolar\":[{\"marker\":{\"colorbar\":{\"outlinewidth\":0,\"ticks\":\"\"}},\"type\":\"scatterpolar\"}],\"scatterpolargl\":[{\"marker\":{\"colorbar\":{\"outlinewidth\":0,\"ticks\":\"\"}},\"type\":\"scatterpolargl\"}],\"scatterternary\":[{\"marker\":{\"colorbar\":{\"outlinewidth\":0,\"ticks\":\"\"}},\"type\":\"scatterternary\"}],\"surface\":[{\"colorbar\":{\"outlinewidth\":0,\"ticks\":\"\"},\"colorscale\":[[0.0,\"#0d0887\"],[0.1111111111111111,\"#46039f\"],[0.2222222222222222,\"#7201a8\"],[0.3333333333333333,\"#9c179e\"],[0.4444444444444444,\"#bd3786\"],[0.5555555555555556,\"#d8576b\"],[0.6666666666666666,\"#ed7953\"],[0.7777777777777778,\"#fb9f3a\"],[0.8888888888888888,\"#fdca26\"],[1.0,\"#f0f921\"]],\"type\":\"surface\"}],\"table\":[{\"cells\":{\"fill\":{\"color\":\"#EBF0F8\"},\"line\":{\"color\":\"white\"}},\"header\":{\"fill\":{\"color\":\"#C8D4E3\"},\"line\":{\"color\":\"white\"}},\"type\":\"table\"}]},\"layout\":{\"annotationdefaults\":{\"arrowcolor\":\"#2a3f5f\",\"arrowhead\":0,\"arrowwidth\":1},\"autotypenumbers\":\"strict\",\"coloraxis\":{\"colorbar\":{\"outlinewidth\":0,\"ticks\":\"\"}},\"colorscale\":{\"diverging\":[[0,\"#8e0152\"],[0.1,\"#c51b7d\"],[0.2,\"#de77ae\"],[0.3,\"#f1b6da\"],[0.4,\"#fde0ef\"],[0.5,\"#f7f7f7\"],[0.6,\"#e6f5d0\"],[0.7,\"#b8e186\"],[0.8,\"#7fbc41\"],[0.9,\"#4d9221\"],[1,\"#276419\"]],\"sequential\":[[0.0,\"#0d0887\"],[0.1111111111111111,\"#46039f\"],[0.2222222222222222,\"#7201a8\"],[0.3333333333333333,\"#9c179e\"],[0.4444444444444444,\"#bd3786\"],[0.5555555555555556,\"#d8576b\"],[0.6666666666666666,\"#ed7953\"],[0.7777777777777778,\"#fb9f3a\"],[0.8888888888888888,\"#fdca26\"],[1.0,\"#f0f921\"]],\"sequentialminus\":[[0.0,\"#0d0887\"],[0.1111111111111111,\"#46039f\"],[0.2222222222222222,\"#7201a8\"],[0.3333333333333333,\"#9c179e\"],[0.4444444444444444,\"#bd3786\"],[0.5555555555555556,\"#d8576b\"],[0.6666666666666666,\"#ed7953\"],[0.7777777777777778,\"#fb9f3a\"],[0.8888888888888888,\"#fdca26\"],[1.0,\"#f0f921\"]]},\"colorway\":[\"#636efa\",\"#EF553B\",\"#00cc96\",\"#ab63fa\",\"#FFA15A\",\"#19d3f3\",\"#FF6692\",\"#B6E880\",\"#FF97FF\",\"#FECB52\"],\"font\":{\"color\":\"#2a3f5f\"},\"geo\":{\"bgcolor\":\"white\",\"lakecolor\":\"white\",\"landcolor\":\"#E5ECF6\",\"showlakes\":true,\"showland\":true,\"subunitcolor\":\"white\"},\"hoverlabel\":{\"align\":\"left\"},\"hovermode\":\"closest\",\"mapbox\":{\"style\":\"light\"},\"paper_bgcolor\":\"white\",\"plot_bgcolor\":\"#E5ECF6\",\"polar\":{\"angularaxis\":{\"gridcolor\":\"white\",\"linecolor\":\"white\",\"ticks\":\"\"},\"bgcolor\":\"#E5ECF6\",\"radialaxis\":{\"gridcolor\":\"white\",\"linecolor\":\"white\",\"ticks\":\"\"}},\"scene\":{\"xaxis\":{\"backgroundcolor\":\"#E5ECF6\",\"gridcolor\":\"white\",\"gridwidth\":2,\"linecolor\":\"white\",\"showbackground\":true,\"ticks\":\"\",\"zerolinecolor\":\"white\"},\"yaxis\":{\"backgroundcolor\":\"#E5ECF6\",\"gridcolor\":\"white\",\"gridwidth\":2,\"linecolor\":\"white\",\"showbackground\":true,\"ticks\":\"\",\"zerolinecolor\":\"white\"},\"zaxis\":{\"backgroundcolor\":\"#E5ECF6\",\"gridcolor\":\"white\",\"gridwidth\":2,\"linecolor\":\"white\",\"showbackground\":true,\"ticks\":\"\",\"zerolinecolor\":\"white\"}},\"shapedefaults\":{\"line\":{\"color\":\"#2a3f5f\"}},\"ternary\":{\"aaxis\":{\"gridcolor\":\"white\",\"linecolor\":\"white\",\"ticks\":\"\"},\"baxis\":{\"gridcolor\":\"white\",\"linecolor\":\"white\",\"ticks\":\"\"},\"bgcolor\":\"#E5ECF6\",\"caxis\":{\"gridcolor\":\"white\",\"linecolor\":\"white\",\"ticks\":\"\"}},\"title\":{\"x\":0.05},\"xaxis\":{\"automargin\":true,\"gridcolor\":\"white\",\"linecolor\":\"white\",\"ticks\":\"\",\"title\":{\"standoff\":15},\"zerolinecolor\":\"white\",\"zerolinewidth\":2},\"yaxis\":{\"automargin\":true,\"gridcolor\":\"white\",\"linecolor\":\"white\",\"ticks\":\"\",\"title\":{\"standoff\":15},\"zerolinecolor\":\"white\",\"zerolinewidth\":2}}},\"title\":{\"text\":\"Original Data\"}},                        {\"responsive\": true}                    ).then(function(){\n",
              "                            \n",
              "var gd = document.getElementById('00c12988-f994-4e38-ab43-fe7489dba8b1');\n",
              "var x = new MutationObserver(function (mutations, observer) {{\n",
              "        var display = window.getComputedStyle(gd).display;\n",
              "        if (!display || display === 'none') {{\n",
              "            console.log([gd, 'removed!']);\n",
              "            Plotly.purge(gd);\n",
              "            observer.disconnect();\n",
              "        }}\n",
              "}});\n",
              "\n",
              "// Listen for the removal of the full notebook cells\n",
              "var notebookContainer = gd.closest('#notebook-container');\n",
              "if (notebookContainer) {{\n",
              "    x.observe(notebookContainer, {childList: true});\n",
              "}}\n",
              "\n",
              "// Listen for the clearing of the current output cell\n",
              "var outputEl = gd.closest('.output');\n",
              "if (outputEl) {{\n",
              "    x.observe(outputEl, {childList: true});\n",
              "}}\n",
              "\n",
              "                        })                };                            </script>        </div>\n",
              "</body>\n",
              "</html>"
            ]
          },
          "metadata": {}
        }
      ],
      "source": [
        "# Column 0 is OfficerID, Column 1 is Beat\n",
        "# ----------- Start of Original -----------\n",
        "# get value counts of OfficerID\n",
        "officer_counts = np.unique(np_df[:, 0], return_counts=True)\n",
        "# get number of times each value appears in officer_counts\n",
        "# sort in descending order\n",
        "officer_counts = np.unique(officer_counts[1], return_counts=True)\n",
        "# if number of complaints exceed 20, make all of the counts into a single bin\n",
        "# make a copy of the original array to save for reference\n",
        "officer_counts_copy = np.copy(officer_counts)\n",
        "# this is to prevent the graph from being too stretched\n",
        "for i in range(len(officer_counts[0])):\n",
        "    if officer_counts[0][i] > 10:\n",
        "        officer_counts[0][i] = 10\n",
        "# plot density curve\n",
        "fig = go.Figure()\n",
        "fig.add_trace(go.Scatter(x=officer_counts[0], y=officer_counts[1], mode='lines', name='Data'))\n",
        "fig.update_layout(title_text='Original Data')\n",
        "fig.show()"
      ]
    },
    {
      "cell_type": "code",
      "execution_count": null,
      "metadata": {
        "colab": {
          "base_uri": "https://localhost:8080/"
        },
        "id": "BXjSzbAecq0l",
        "outputId": "d8c65341-a12e-44f1-95a9-1f01e4bbc3d1"
      },
      "outputs": [
        {
          "output_type": "stream",
          "name": "stdout",
          "text": [
            "Sum of Counts:  8328\n"
          ]
        }
      ],
      "source": [
        "# print sum of counts\n",
        "print('Sum of Counts: ', np.sum(officer_counts[1]))"
      ]
    },
    {
      "cell_type": "code",
      "execution_count": null,
      "metadata": {
        "id": "Knay2auZmDyK"
      },
      "outputs": [],
      "source": [
        "num_simulations = 1000"
      ]
    },
    {
      "cell_type": "code",
      "execution_count": null,
      "metadata": {
        "colab": {
          "background_save": true
        },
        "id": "2DS3fk-emDyN"
      },
      "outputs": [],
      "source": [
        "# ----------- Start of Spillover Polya Urn Model -----------\n",
        "weighted_np_officers = np_officers\n",
        "# add 0 column to weighted_np_officers\n",
        "weighted_np_officers = np.insert(weighted_np_officers, 2, 0, axis=1)\n",
        "weighted_np_officers = np.insert(weighted_np_officers, 3, 1, axis=1)\n",
        "# sort weighted_np_officers by values in second column\n",
        "weighted_np_officers = weighted_np_officers[weighted_np_officers[:, 1].argsort()]\n",
        "# for each unique value in the second column, get the number of times it appears\n",
        "unique_beats, beat_counts = np.unique(weighted_np_officers[:, 1], return_counts=True)\n",
        "# for each unique beat, make the sum of the third column equal to 1\n",
        "for beat in unique_beats:\n",
        "    # get indices of beat\n",
        "    beat_indices = np.where(weighted_np_officers[:, 1] == beat)\n",
        "    # get number of officers in beat\n",
        "    num_officers = beat_counts[np.where(unique_beats == beat)]\n",
        "    # get weights for officers in beat\n",
        "    weighted_np_officers[beat_indices, 2] = 1 / num_officers\n",
        "\n",
        "polya_urn_results = []\n",
        "start_time = time.time()\n",
        "# alpha is the proportion that an officer's weight is increased by per complaint they recieve\n",
        "alpha = 0.20\n",
        "# beta is the spillover proportion of which an officer's weight is increased based on other officers involved in the same incident\n",
        "beta = 0.90\n",
        "for i in range(num_simulations):\n",
        "    print(i)\n",
        "    # make 1d array of 0s, length of np_officers\n",
        "    polya_urn = np.array([])\n",
        "    temp_weighted_np_officers = weighted_np_officers.copy()\n",
        "    # for each element in np_grouped, get length of each individual element\n",
        "    for incident in np_grouped:\n",
        "        # get length of each individual element\n",
        "        num_officers = len(incident)\n",
        "        # get beat of group\n",
        "        beat = incident[0][2]\n",
        "        if beat not in weighted_np_officers[:, 1]:\n",
        "            continue\n",
        "        # get officers in beat\n",
        "        officers_in_beat = temp_weighted_np_officers[temp_weighted_np_officers[:, 1] == beat]\n",
        "        if len(officers_in_beat) < num_officers:\n",
        "            continue\n",
        "        # randomly sample officers without replacement from officers in beat\n",
        "        p = officers_in_beat[:, 2] / sum(officers_in_beat[:, 2])\n",
        "        sample_officers = np.random.choice(officers_in_beat[:, 0], num_officers, replace=False, p=p)\n",
        "        # add sample officers to polya_urn\n",
        "        polya_urn = np.append(polya_urn, sample_officers)\n",
        "        # print(sample_officers)\n",
        "        # selected officers weights go up by alpha\n",
        "        for officer in sample_officers:\n",
        "            temp_weighted_np_officers[temp_weighted_np_officers[:, 0] == officer, 2] += alpha\n",
        "            temp_weighted_np_officers[temp_weighted_np_officers[:, 0] == officer, 3] += 1\n",
        "        # other officers in sample_officers weights go up by (1 - beta) / (len(sample_officers) - 1) * (sum of officer new weights)\n",
        "        for officer in sample_officers:\n",
        "            if sample_officers.size == 1:\n",
        "                break\n",
        "            other_officers = sample_officers[sample_officers != officer]\n",
        "            for other_officer in other_officers:\n",
        "                temp_weighted_np_officers[temp_weighted_np_officers[:, 0] == other_officer, 2] += (1 - beta) / (len(sample_officers) - 1) * temp_weighted_np_officers[temp_weighted_np_officers[:, 0] == officer, 2]\n",
        "    # get value counts of OfficerID in polya_urn\n",
        "    polya_urn_counts = np.unique(polya_urn, return_counts=True)\n",
        "    # get number of times each value appears in polya_urn_counts\n",
        "    # sort in descending order\n",
        "    polya_urn_counts = np.unique(polya_urn_counts[1], return_counts=True)\n",
        "    # add polya_urn_counts to polya_urn_results\n",
        "    polya_urn_results.append(polya_urn_counts)\n",
        "end_time = time.time()\n",
        "print(end_time - start_time)"
      ]
    },
    {
      "cell_type": "code",
      "execution_count": null,
      "metadata": {
        "colab": {
          "background_save": true
        },
        "id": "a8qllTydmDyO"
      },
      "outputs": [],
      "source": [
        "polya_urn_results = pd.DataFrame(polya_urn_results)\n",
        "polya_urn_results.columns = ['Number of Complaints', 'Counts']"
      ]
    },
    {
      "cell_type": "code",
      "execution_count": null,
      "metadata": {
        "colab": {
          "background_save": true
        },
        "id": "oxyVCocJyGLm"
      },
      "outputs": [],
      "source": [
        "# add 0 to each datapoint in Number of Complaints\n",
        "polya_urn_results['Number of Complaints'] = polya_urn_results['Number of Complaints'].apply(lambda x: np.concatenate(([0], x)))\n",
        "# and insert the np.sum(officer_counts[1]) - np.sum(polya_urn_results['Counts']) into the second column\n",
        "polya_urn_results['Counts'] = polya_urn_results['Counts'].apply(lambda x: np.concatenate(([np.sum(officer_counts[1]) - np.sum(x)], x)))\n",
        "# add 1 to all the counts to match\n",
        "polya_urn_results['Number of Complaints'] = polya_urn_results['Number of Complaints'].apply(lambda x: x + 1)"
      ]
    },
    {
      "cell_type": "code",
      "execution_count": null,
      "metadata": {
        "colab": {
          "background_save": true
        },
        "id": "eJy9dWmKmDyO"
      },
      "outputs": [],
      "source": [
        "# Remark, Data here is ascending, number of complaints seems like it gets capped, will need to look into this\n",
        "polya_urn_results.head(50)"
      ]
    },
    {
      "cell_type": "code",
      "execution_count": null,
      "metadata": {
        "colab": {
          "background_save": true
        },
        "id": "KLcvMFQXmDyO"
      },
      "outputs": [],
      "source": [
        "# explode the number of complaints column, then get max value\n",
        "urn_max_complaints = max(polya_urn_results['Number of Complaints'].explode())\n",
        "print(urn_max_complaints)\n",
        "# create dictionary of number of complaints and counts, key is number of complaints, value is counts\n",
        "urn_complaints_dict = {}\n",
        "for i in range(1, 11):\n",
        "    urn_complaints_dict[i] = []\n",
        "# for each row in polya_urn_results, get the list of Number of Complaints, then get the list of Counts, then map them to the dictionary\n",
        "for index, row in polya_urn_results.iterrows():\n",
        "    # get list of number of complaints\n",
        "    complaints = row['Number of Complaints']\n",
        "    # get list of counts\n",
        "    counts = row['Counts']\n",
        "    # map them to the dictionary\n",
        "    for i in range(len(complaints)):\n",
        "        if complaints[i] < 10:\n",
        "            urn_complaints_dict[complaints[i]].append(counts[i])\n",
        "        else:\n",
        "            urn_complaints_dict[10].append(counts[i])\n",
        "\n",
        "# if the list length is not equal to num_simulations, then add 0s to the list until it is equal to num_simulations\n",
        "for key in urn_complaints_dict:\n",
        "    if len(urn_complaints_dict[key]) != num_simulations:\n",
        "        urn_complaints_dict[key] = urn_complaints_dict[key] + [0] * (num_simulations - len(urn_complaints_dict[key]))"
      ]
    },
    {
      "cell_type": "code",
      "execution_count": null,
      "metadata": {
        "colab": {
          "background_save": true
        },
        "id": "KBboIXEQmDyP"
      },
      "outputs": [],
      "source": [
        "# get the average of each list in the dictionary\n",
        "urn_avg_complaints_dict = {}\n",
        "for key in urn_complaints_dict:\n",
        "    urn_avg_complaints_dict[key] = np.mean(urn_complaints_dict[key])"
      ]
    },
    {
      "cell_type": "code",
      "execution_count": null,
      "metadata": {
        "colab": {
          "background_save": true
        },
        "id": "aC2roH_UmDyP"
      },
      "outputs": [],
      "source": [
        "# get the 95% confidence interval of each list in the dictionary\n",
        "upper_urn_ci_complaints_dict = {}\n",
        "lower_urn_ci_complaints_dict = {}\n",
        "for key in urn_complaints_dict:\n",
        "    # 95% confidence interval using quantile\n",
        "    upper_urn_ci_complaints_dict[key] = np.quantile(urn_complaints_dict[key], 0.975)\n",
        "    lower_urn_ci_complaints_dict[key] = np.quantile(urn_complaints_dict[key], 0.025)"
      ]
    },
    {
      "cell_type": "code",
      "execution_count": null,
      "metadata": {
        "colab": {
          "background_save": true
        },
        "id": "15maa5mqmDyP"
      },
      "outputs": [],
      "source": [
        "# plot curve\n",
        "# Number of Complaints are on the x-axis, Counts are on the y-axis\n",
        "fig = go.Figure()\n",
        "fig.add_trace(go.Scatter(x=list(urn_avg_complaints_dict.keys()), y=list(urn_avg_complaints_dict.values()), mode='lines', name='Polya Urn Model Results'))\n",
        "# add line with color\n",
        "fig.add_trace(go.Scatter(x=list(upper_urn_ci_complaints_dict.keys()), y=list(upper_urn_ci_complaints_dict.values()), mode='lines', name='Polya Urn Model 95% Confidence Interval', line=dict(color='rgb(66, 81, 245)', dash='dash')))\n",
        "fig.add_trace(go.Scatter(x=list(lower_urn_ci_complaints_dict.keys()), y=list(lower_urn_ci_complaints_dict.values()), mode='lines', name='Polya Urn Model 95% Confidence Interval', line=dict(color='rgb(66, 81, 245)', dash='dash'), fill='tonexty', fillcolor='rgba(66, 81, 245,0.2)'))\n",
        "fig.add_trace(go.Scatter(x=officer_counts[0], y=officer_counts[1], mode='lines', name='Data'))\n",
        "fig.update_layout(title_text='Spillover Polya Urn Model Results')\n",
        "fig.show()"
      ]
    }
  ],
  "metadata": {
    "colab": {
      "provenance": []
    },
    "kernelspec": {
      "display_name": "base",
      "language": "python",
      "name": "python3"
    },
    "language_info": {
      "codemirror_mode": {
        "name": "ipython",
        "version": 3
      },
      "file_extension": ".py",
      "mimetype": "text/x-python",
      "name": "python",
      "nbconvert_exporter": "python",
      "pygments_lexer": "ipython3",
      "version": "3.9.12"
    },
    "vscode": {
      "interpreter": {
        "hash": "7d070d07219d78435f9a014cf028f78a39f3816bb48d44baa7b1c4c726092051"
      }
    }
  },
  "nbformat": 4,
  "nbformat_minor": 0
}
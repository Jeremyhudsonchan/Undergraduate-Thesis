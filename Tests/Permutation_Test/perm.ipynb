{
  "cells": [
    {
      "cell_type": "code",
      "execution_count": null,
      "metadata": {
        "id": "KRx27EsUnr1f"
      },
      "outputs": [],
      "source": [
        "from google.colab import drive\n",
        "\n",
        "drive.mount('/content/gdrive')"
      ]
    },
    {
      "cell_type": "code",
      "execution_count": null,
      "metadata": {
        "id": "1_9xlmpqoFQG"
      },
      "outputs": [],
      "source": [
        "import pandas as pd\n",
        "import time\n",
        "import numpy as np\n",
        "import plotly.graph_objs as go\n",
        "\n",
        "# df = pd.read_csv(\n",
        "#     '/Users/jeremyhudsonchan/Dropbox/Files/Boston_College_Courses/Thesis/Code/Undergraduate-Thesis/Preprocessing_Code/final/data/proportions.csv', low_memory=False)\n",
        "# officers = pd.read_csv(\n",
        "#     '/Users/jeremyhudsonchan/Dropbox/Files/Boston_College_Courses/Thesis/Code/Undergraduate-Thesis/Preprocessing_Code/final/data/perm_unique_officers.csv', low_memory=False)\n",
        "\n",
        "df = pd.read_csv('/content/gdrive/MyDrive/Thesis_Data/proportions.csv')\n",
        "officers = pd.read_csv('/content/gdrive/MyDrive/Thesis_Data/perm_unique_officers.csv')"
      ]
    },
    {
      "cell_type": "code",
      "execution_count": null,
      "metadata": {
        "id": "cXqRQv6AoGK8"
      },
      "outputs": [],
      "source": [
        "print(df.columns)\n",
        "print(df.head())\n",
        "print(officers.columns)"
      ]
    },
    {
      "cell_type": "code",
      "execution_count": null,
      "metadata": {
        "id": "zpYdTAv3oHNH"
      },
      "outputs": [],
      "source": [
        "# choose only OfficerID and Beat columns\n",
        "prep_df = df[['OfficerID', 'Beat', 'Beat Count', 'Beat Proportion']]\n",
        "prep_officers = officers[['OfficerID', 'Beat']]\n",
        "# group by CRID\n",
        "df_grouped = df[['CRID', 'OfficerID', 'Beat', 'Beat Count', 'Beat Proportion']].groupby('CRID')\n",
        "# make df_grouped into a numpy array\n",
        "np_grouped = df_grouped.apply(lambda x: x.to_numpy())\n",
        "# make np_grouped into a numpy array\n",
        "np_grouped = np_grouped.to_numpy()"
      ]
    },
    {
      "cell_type": "code",
      "execution_count": null,
      "metadata": {
        "id": "QNnqAXCPoIWR"
      },
      "outputs": [],
      "source": [
        "# make df into numpy\n",
        "np_df = prep_df.to_numpy()\n",
        "np_officers = prep_officers.to_numpy()\n",
        "# make array dtype object float\n",
        "np_df = np_df.astype(float)\n",
        "np_officers = np_officers.astype(float)"
      ]
    },
    {
      "cell_type": "code",
      "execution_count": null,
      "metadata": {
        "id": "drAvEK24oJkI"
      },
      "outputs": [],
      "source": [
        "# Column 0 is OfficerID, Column 1 is Beat\n",
        "# ----------- Start of Original -----------\n",
        "# get value counts of OfficerID\n",
        "officer_counts = np.unique(np_df[:, 0], return_counts=True)\n",
        "# get number of times each value appears in officer_counts\n",
        "# sort in descending order\n",
        "officer_counts = np.unique(officer_counts[1], return_counts=True)\n",
        "# if number of complaints exceed 20, make all of the counts into a single bin\n",
        "# make a copy of the original array to save for reference\n",
        "officer_counts_copy = np.copy(officer_counts)\n",
        "# this is to prevent the graph from being too stretched\n",
        "for i in range(len(officer_counts[0])):\n",
        "    if officer_counts[0][i] > 10:\n",
        "        officer_counts[0][i] = 10\n",
        "# plot density curve\n",
        "fig = go.Figure()\n",
        "fig.add_trace(go.Scatter(x=officer_counts[0], y=officer_counts[1], mode='lines', name='Data'))\n",
        "fig.update_layout(title_text='Original Data')\n",
        "fig.show()"
      ]
    },
    {
      "cell_type": "code",
      "execution_count": null,
      "metadata": {
        "id": "nFfz6eMaoK2K"
      },
      "outputs": [],
      "source": [
        "# print sum of counts\n",
        "print('Sum of Counts: ', np.sum(officer_counts[1]))"
      ]
    },
    {
      "cell_type": "code",
      "execution_count": null,
      "metadata": {
        "id": "9o0YJiv2oMG4"
      },
      "outputs": [],
      "source": [
        "num_simulations = 1000"
      ]
    },
    {
      "cell_type": "code",
      "execution_count": null,
      "metadata": {
        "id": "ovznEVdyoNJm"
      },
      "outputs": [],
      "source": [
        "# ----------- Start of Permutation Test -----------\n",
        "# permutation test loop 1000 simulations\n",
        "start_time = time.time()\n",
        "# perm_test_results to be a 3d array\n",
        "perm_test_results = []\n",
        "for i in range(num_simulations):\n",
        "    print(i)\n",
        "    # make 1d array of 0s, length of np_officers\n",
        "    perm_test = np.array([])\n",
        "    # for each element in np_grouped, get length of each individual element\n",
        "    for incident in np_grouped:\n",
        "        # get length of each individual element\n",
        "        num_officers = len(incident)\n",
        "        # get beat of group\n",
        "        beat = incident[0][2]\n",
        "        if beat not in np_officers[:, 1]:\n",
        "            continue\n",
        "        # get officers in beat\n",
        "        officers_in_beat = np_officers[np_officers[:, 1] == beat]\n",
        "        if len(officers_in_beat) < num_officers:\n",
        "            continue\n",
        "        # randomly sample officers without replacement from officers in beat\n",
        "        sample_officers = np.random.choice(officers_in_beat[:, 0], num_officers, replace=False)\n",
        "        # add sample officers to perm_test\n",
        "        perm_test = np.append(perm_test, sample_officers)\n",
        "    # get value counts of OfficerID in perm_test\n",
        "    perm_test_counts = np.unique(perm_test, return_counts=True)\n",
        "    # print(perm_test_counts)\n",
        "    # get number of times each value appears in perm_test_counts\n",
        "    # sort in descending order\n",
        "    perm_test_counts = np.unique(perm_test_counts[1], return_counts=True)\n",
        "    # add perm_test_counts to perm_test_results\n",
        "    perm_test_results.append(perm_test_counts)\n",
        "end_time = time.time()\n",
        "    "
      ]
    },
    {
      "cell_type": "code",
      "execution_count": null,
      "metadata": {
        "id": "3O2NMkiFoPKO"
      },
      "outputs": [],
      "source": [
        "print(end_time - start_time)\n",
        "# print(perm_test_results)"
      ]
    },
    {
      "cell_type": "code",
      "execution_count": null,
      "metadata": {
        "id": "W4d4JF9MoQRW"
      },
      "outputs": [],
      "source": [
        "# make perm_test_results into a pandas df\n",
        "perm_test_results = pd.DataFrame(perm_test_results)\n",
        "# rename columns\n",
        "perm_test_results.columns = ['Number of Complaints', 'Counts']\n",
        "# get proportion of each number of complaints by going through each value of number of complaints one by one"
      ]
    },
    {
      "cell_type": "code",
      "execution_count": null,
      "metadata": {
        "id": "K-GSyNhboQys"
      },
      "outputs": [],
      "source": [
        "perm_test_results.head(10)"
      ]
    },
    {
      "cell_type": "code",
      "execution_count": null,
      "metadata": {
        "id": "5vKrfc4joSE7"
      },
      "outputs": [],
      "source": [
        "# add 0 to each datapoint in Number of Complaints\n",
        "perm_test_results['Number of Complaints'] = perm_test_results['Number of Complaints'].apply(lambda x: np.concatenate(([0], x)))\n",
        "# and insert the np.sum(officer_counts[1]) - np.sum(polya_urn_results['Counts']) into the second column\n",
        "perm_test_results['Counts'] = perm_test_results['Counts'].apply(lambda x: np.concatenate(([np.sum(officer_counts[1]) - np.sum(x)], x)))\n",
        "# add 1 to all the counts to perm_test_results\n",
        "perm_test_results['Number of Complaints'] = perm_test_results['Number of Complaints'].apply(lambda x: x + 1)"
      ]
    },
    {
      "cell_type": "code",
      "execution_count": null,
      "metadata": {
        "id": "dVV_SaQpoTU3"
      },
      "outputs": [],
      "source": [
        "perm_test_results.head(10)"
      ]
    },
    {
      "cell_type": "code",
      "execution_count": null,
      "metadata": {
        "id": "h0LdP6YqoUl3"
      },
      "outputs": [],
      "source": [
        "# for each row in pem_test_results, print out sum of counts column\n",
        "perm_sum = []\n",
        "for i in range(len(perm_test_results)):\n",
        "    perm_sum.append(sum(perm_test_results.iloc[i, 1]))\n",
        "\n",
        "print(np.mean(perm_sum))"
      ]
    },
    {
      "cell_type": "code",
      "execution_count": null,
      "metadata": {
        "id": "zSO8knd-oWR9"
      },
      "outputs": [],
      "source": [
        "# explode the number of complaints column, then get max value\n",
        "max_complaints = max(perm_test_results['Number of Complaints'].explode())\n",
        "print(max_complaints)\n",
        "# create dictionary of number of complaints and counts, key is number of complaints, value is counts\n",
        "# keys should range from 1 to max_complaints\n",
        "complaints_dict = {}\n",
        "for i in range(1, 11):\n",
        "    complaints_dict[i] = []\n",
        "# for each row in perm_test_results, get the list of Number of Complaints, then get the list of Counts, then map them to the dictionary\n",
        "for index, row in perm_test_results.iterrows():\n",
        "    # get list of number of complaints\n",
        "    complaints = row['Number of Complaints']\n",
        "    # get list of counts\n",
        "    counts = row['Counts']\n",
        "    # map them to the dictionary\n",
        "    for i in range(len(complaints)):\n",
        "        if complaints[i] < 10:\n",
        "            complaints_dict[complaints[i]].append(counts[i])\n",
        "        else:\n",
        "            complaints_dict[10].append(counts[i])\n",
        "\n",
        "# if the list length is not equal to num_simulations, then add 0s to the list until it is equal to num_simulations\n",
        "for key in complaints_dict:\n",
        "    if len(complaints_dict[key]) != num_simulations:\n",
        "        complaints_dict[key] = complaints_dict[key] + [0] * (num_simulations - len(complaints_dict[key]))"
      ]
    },
    {
      "cell_type": "code",
      "execution_count": null,
      "metadata": {
        "id": "s09rmxftoXlT"
      },
      "outputs": [],
      "source": [
        "# get the average of each list in the dictionary\n",
        "perm_avg_complaints_dict = {}\n",
        "for key in complaints_dict:\n",
        "    perm_avg_complaints_dict[key] = sum(complaints_dict[key])/num_simulations"
      ]
    },
    {
      "cell_type": "code",
      "execution_count": null,
      "metadata": {
        "id": "6WVgxhPToZPA"
      },
      "outputs": [],
      "source": [
        "# get the 95% confidence interval of each list in the dictionary\n",
        "upper_perm_ci_complaints_dict = {}\n",
        "lower_perm_ci_complaints_dict = {}\n",
        "for key in complaints_dict:\n",
        "    # 95% confidence interval using quantile\n",
        "    upper_perm_ci_complaints_dict[key] = np.quantile(complaints_dict[key], 0.975)\n",
        "    lower_perm_ci_complaints_dict[key] = np.quantile(complaints_dict[key], 0.025)"
      ]
    },
    {
      "cell_type": "code",
      "execution_count": null,
      "metadata": {
        "id": "5myjgwHuoaiX"
      },
      "outputs": [],
      "source": [
        "# plot curve\n",
        "# Number of Complaints are on the x-axis, Counts are on the y-axis\n",
        "fig = go.Figure()\n",
        "fig.add_trace(go.Scatter(x=list(perm_avg_complaints_dict.keys()), y=list(perm_avg_complaints_dict.values()), mode='lines', name='Permutation Test Results'))\n",
        "# add line with color\n",
        "fig.add_trace(go.Scatter(x=list(upper_perm_ci_complaints_dict.keys()), y=list(upper_perm_ci_complaints_dict.values()), mode='lines', name='Permutation Test 95% Confidence Interval', line=dict(color='rgb(235, 52, 58)', dash='dash')))\n",
        "fig.add_trace(go.Scatter(x=list(lower_perm_ci_complaints_dict.keys()), y=list(lower_perm_ci_complaints_dict.values()), mode='lines', name='Permutation Test 95% Confidence Interval', line=dict(color='rgb(235, 52, 58)', dash='dash'), fill='tonexty', fillcolor='rgba(235, 52, 58,0.2)'))\n",
        "fig.add_trace(go.Scatter(x=officer_counts[0], y=officer_counts[1], mode='lines', name='Data'))\n",
        "fig.update_layout(title_text='Permutation Test Results')\n",
        "fig.show()"
      ]
    }
  ],
  "metadata": {
    "colab": {
      "provenance": []
    },
    "kernelspec": {
      "display_name": "base",
      "language": "python",
      "name": "python3"
    },
    "language_info": {
      "name": "python",
      "version": "3.9.12"
    },
    "vscode": {
      "interpreter": {
        "hash": "7d070d07219d78435f9a014cf028f78a39f3816bb48d44baa7b1c4c726092051"
      }
    }
  },
  "nbformat": 4,
  "nbformat_minor": 0
}

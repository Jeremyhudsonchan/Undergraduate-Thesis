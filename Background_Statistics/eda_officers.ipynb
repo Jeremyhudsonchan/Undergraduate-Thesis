{
 "cells": [
  {
   "cell_type": "code",
   "execution_count": null,
   "metadata": {},
   "outputs": [],
   "source": [
    "# This file is to see how many officers have changed Beats throught the dataset\n",
    "# As well as looking at the Appointment Dates of the officers to see whether many joined the force during the timeframe of the dataset."
   ]
  },
  {
   "cell_type": "code",
   "execution_count": 46,
   "metadata": {},
   "outputs": [],
   "source": [
    "import pandas as pd"
   ]
  },
  {
   "cell_type": "code",
   "execution_count": 47,
   "metadata": {},
   "outputs": [],
   "source": [
    "df = pd.read_csv(\n",
    "    '/Users/jeremyhudsonchan/Dropbox/Files/Boston_College_Courses/Thesis/Code/Undergraduate-Thesis/Preprocessing_Code/final/data/proportions.csv', low_memory=False)\n",
    "officers = pd.read_csv(\n",
    "    '/Users/jeremyhudsonchan/Dropbox/Files/Boston_College_Courses/Thesis/Code/Undergraduate-Thesis/Preprocessing_Code/final/data/perm_unique_officers.csv', low_memory=False)\n",
    "\n",
    "# group by CRID\n",
    "df_grouped = df.groupby('CRID')"
   ]
  },
  {
   "cell_type": "code",
   "execution_count": 48,
   "metadata": {},
   "outputs": [
    {
     "name": "stdout",
     "output_type": "stream",
     "text": [
      "Index(['CRID', 'OfficerID', 'OfficeFirst', 'OfficerLast', 'Category',\n",
      "       'Allegation', 'Beat', 'IncidentDate', 'Beat Count', 'Beat Proportion'],\n",
      "      dtype='object')\n",
      "Index(['OfficerID', 'OfficerFirst', 'OfficerLast', 'Gender', 'Race',\n",
      "       'ApptDate', 'Rank', 'Age', 'Beat'],\n",
      "      dtype='object')\n"
     ]
    }
   ],
   "source": [
    "print(df.columns)\n",
    "print(officers.columns)"
   ]
  },
  {
   "cell_type": "code",
   "execution_count": 49,
   "metadata": {},
   "outputs": [
    {
     "name": "stdout",
     "output_type": "stream",
     "text": [
      "   OfficerID OfficerFirst OfficerLast Gender           Race    ApptDate  \\\n",
      "0         13         Dale      Abbott      M          White  1982-11-29   \n",
      "1         34        Floyd       Abron      M          Black  1998-06-29   \n",
      "2         38      Abdalla    Abuzanat      M  Asian/Pacific  1998-06-29   \n",
      "3         44        Marco     Acevedo      M       Hispanic  1995-09-05   \n",
      "4         58       Manuel     Acevedo      M       Hispanic  1982-07-19   \n",
      "\n",
      "              Rank  Age  Beat  \n",
      "0   Police Officer   69  1655  \n",
      "1   Police Officer   49  1134  \n",
      "2  Po As Detective   51   813  \n",
      "3  Po As Detective   53  1433  \n",
      "4   Police Officer   66  1023  \n"
     ]
    }
   ],
   "source": [
    "print(officers.head())"
   ]
  },
  {
   "cell_type": "code",
   "execution_count": 50,
   "metadata": {},
   "outputs": [
    {
     "name": "stdout",
     "output_type": "stream",
     "text": [
      "8328\n"
     ]
    }
   ],
   "source": [
    "# See how many officers changed beats from their allegation Beat column\n",
    "changed_officers = {}\n",
    "# group by OfficerID\n",
    "df_grouped_officer = df.groupby('OfficerID')\n",
    "print(len(df_grouped_officer))\n",
    "for index, row in df_grouped_officer:\n",
    "    # get number of allegations for officer\n",
    "    num_allegations = len(row)\n",
    "    # get beat of first allegation\n",
    "    beat = row['Beat'].iloc[0]\n",
    "    # if officer has only one allegation, skip\n",
    "    if num_allegations == 1:\n",
    "        continue\n",
    "    # get list of all their beats\n",
    "    beat_list = row['Beat'].tolist()\n",
    "    # if beat list is all the same, skip\n",
    "    if beat_list.count(beat) == num_allegations:\n",
    "        continue\n",
    "    # get unique values in beat list\n",
    "    unique_beats = set(beat_list)\n",
    "    # add unique beats to changed_officers\n",
    "    changed_officers[index] = unique_beats"
   ]
  },
  {
   "cell_type": "code",
   "execution_count": 62,
   "metadata": {},
   "outputs": [
    {
     "name": "stdout",
     "output_type": "stream",
     "text": [
      "4528\n",
      "8328\n",
      "0.5437079731027857\n"
     ]
    }
   ],
   "source": [
    "print(len(changed_officers))\n",
    "print(len(df_grouped_officer))\n",
    "print(len(changed_officers) / len(df_grouped_officer))"
   ]
  },
  {
   "cell_type": "code",
   "execution_count": 52,
   "metadata": {},
   "outputs": [
    {
     "name": "stdout",
     "output_type": "stream",
     "text": [
      "[(2, {1524.0, 1511.0}), (7, {1211.0, 1831.0}), (16, {613.0, 621.0, 623.0, 632.0, 414.0}), (34, {1112.0, 1122.0, 1134.0}), (38, {812.0, 813.0}), (42, {2432.0, 2412.0, 2413.0}), (49, {1713.0, 1724.0}), (51, {621.0, 1134.0}), (52, {1723.0, 622.0}), (56, {1122.0, 1125.0, 1134.0, 1135.0, 1112.0, 1113.0})]\n"
     ]
    }
   ],
   "source": [
    "# print example of changed officers\n",
    "print(list(changed_officers.items())[:10])"
   ]
  },
  {
   "cell_type": "code",
   "execution_count": 57,
   "metadata": {},
   "outputs": [],
   "source": [
    "# Get the years of appointment dates\n",
    "years_dict = {}\n",
    "for index, row in officers.iterrows():\n",
    "    # get appointment date\n",
    "    date = str(row['ApptDate'])\n",
    "    # if date is nan, skip\n",
    "    if date == 'nan':\n",
    "        continue\n",
    "    # get year of appointment date\n",
    "    year = int(date.split('-')[0])\n",
    "    if year not in years_dict:\n",
    "        years_dict[year] = 0\n",
    "    # add year to years_dict\n",
    "    years_dict[year] += 1"
   ]
  },
  {
   "cell_type": "code",
   "execution_count": 58,
   "metadata": {},
   "outputs": [
    {
     "name": "stdout",
     "output_type": "stream",
     "text": [
      "{1982: 121, 1998: 540, 1995: 522, 1999: 550, 1997: 340, 1994: 482, 1964: 1, 1969: 9, 1959: 4, 1985: 113, 1989: 63, 1986: 337, 1992: 174, 1967: 5, 1978: 35, 1996: 351, 1991: 368, 1990: 195, 1976: 38, 1993: 196, 1988: 91, 1987: 130, 1977: 62, 2000: 469, 1981: 57, 1971: 28, 1970: 32, 1962: 2, 1983: 17, 1975: 14, 1973: 58, 1980: 45, 2008: 73, 1972: 26, 2006: 441, 1965: 5, 1968: 17, 1966: 11, 2007: 227, 2001: 388, 2004: 309, 1956: 2, 1948: 1, 2010: 79, 2002: 362, 2005: 313, 1957: 1, 2003: 308, 1963: 1, 2014: 18, 2013: 95, 1958: 1, 2009: 84, 1947: 1, 2011: 14, 2012: 93, 2016: 1, 2015: 6}\n"
     ]
    }
   ],
   "source": [
    "print(years_dict)"
   ]
  },
  {
   "cell_type": "code",
   "execution_count": 59,
   "metadata": {},
   "outputs": [],
   "source": [
    "# get number of officers that are appointed after the year 2000\n",
    "new_officers = 0\n",
    "for year in years_dict:\n",
    "    if int(year) > 2000:\n",
    "        new_officers += years_dict[year]"
   ]
  },
  {
   "cell_type": "code",
   "execution_count": 61,
   "metadata": {},
   "outputs": [
    {
     "name": "stdout",
     "output_type": "stream",
     "text": [
      "2811\n",
      "8328\n",
      "0.33753602305475505\n"
     ]
    }
   ],
   "source": [
    "print(new_officers)\n",
    "print(len(officers))\n",
    "print(new_officers / len(officers))"
   ]
  }
 ],
 "metadata": {
  "kernelspec": {
   "display_name": "base",
   "language": "python",
   "name": "python3"
  },
  "language_info": {
   "codemirror_mode": {
    "name": "ipython",
    "version": 3
   },
   "file_extension": ".py",
   "mimetype": "text/x-python",
   "name": "python",
   "nbconvert_exporter": "python",
   "pygments_lexer": "ipython3",
   "version": "3.9.12 (main, Apr  5 2022, 01:53:17) \n[Clang 12.0.0 ]"
  },
  "orig_nbformat": 4,
  "vscode": {
   "interpreter": {
    "hash": "7d070d07219d78435f9a014cf028f78a39f3816bb48d44baa7b1c4c726092051"
   }
  }
 },
 "nbformat": 4,
 "nbformat_minor": 2
}

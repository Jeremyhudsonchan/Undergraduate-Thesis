{
 "cells": [
  {
   "cell_type": "code",
   "execution_count": 1,
   "metadata": {},
   "outputs": [],
   "source": [
    "import pandas as pd\n",
    "import numpy as np\n",
    "import matplotlib.pyplot as plt\n",
    "import plotly.express as px"
   ]
  },
  {
   "cell_type": "code",
   "execution_count": 2,
   "metadata": {},
   "outputs": [],
   "source": [
    "df = pd.read_csv('/Users/jeremyhudsonchan/Dropbox/Files/Boston_College_Courses/Thesis/Data/2000-2016/allegations.csv', low_memory=False)"
   ]
  },
  {
   "cell_type": "code",
   "execution_count": 3,
   "metadata": {},
   "outputs": [
    {
     "data": {
      "text/plain": [
       "Index(['CRID', 'OfficerID', 'OfficeFirst', 'OfficerLast', 'AllegationCode',\n",
       "       'Category', 'Allegation', 'RecommendedFinding', 'RecommendedOutcome',\n",
       "       'FinalFinding', 'FinalOutcome', 'Finding', 'Outcome', 'Beat',\n",
       "       'Location', 'Add1', 'Add2', 'City', 'IncidentDate', 'StartDate',\n",
       "       'EndDate', 'InvestigatorName', 'InvestigatorRank', 'Latitude',\n",
       "       'Longitude'],\n",
       "      dtype='object')"
      ]
     },
     "execution_count": 3,
     "metadata": {},
     "output_type": "execute_result"
    }
   ],
   "source": [
    "df.columns"
   ]
  },
  {
   "cell_type": "code",
   "execution_count": 178,
   "metadata": {},
   "outputs": [
    {
     "data": {
      "text/plain": [
       "(138677, 25)"
      ]
     },
     "execution_count": 178,
     "metadata": {},
     "output_type": "execute_result"
    }
   ],
   "source": [
    "df.shape"
   ]
  },
  {
   "cell_type": "code",
   "execution_count": 4,
   "metadata": {},
   "outputs": [
    {
     "data": {
      "text/plain": [
       "75017"
      ]
     },
     "execution_count": 4,
     "metadata": {},
     "output_type": "execute_result"
    }
   ],
   "source": [
    "len(pd.unique(df['CRID']))"
   ]
  },
  {
   "cell_type": "code",
   "execution_count": 5,
   "metadata": {},
   "outputs": [],
   "source": [
    "# add beat count column\n",
    "df[\"Beat Count\"] = 0"
   ]
  },
  {
   "cell_type": "code",
   "execution_count": 6,
   "metadata": {},
   "outputs": [],
   "source": [
    "# if beat is nan, drop\n",
    "df = df.dropna(subset=['Beat'])"
   ]
  },
  {
   "cell_type": "code",
   "execution_count": 7,
   "metadata": {},
   "outputs": [],
   "source": [
    "# Drop all allegations that are not Use Of Force\n",
    "df = df[df['Category'] == 'Use Of Force']"
   ]
  },
  {
   "cell_type": "code",
   "execution_count": 8,
   "metadata": {},
   "outputs": [
    {
     "data": {
      "text/plain": [
       "531.0     302\n",
       "1134.0    301\n",
       "713.0     290\n",
       "1822.0    262\n",
       "3100.0    251\n",
       "         ... \n",
       "235.0       4\n",
       "1221.0      3\n",
       "1655.0      2\n",
       "1653.0      2\n",
       "1935.0      1\n",
       "Name: Beat, Length: 274, dtype: int64"
      ]
     },
     "execution_count": 8,
     "metadata": {},
     "output_type": "execute_result"
    }
   ],
   "source": [
    "# Count how many times each beat appears throughout the dataset, and add that count to the Beat Count column, for each row, matching the beat\n",
    "# use value counts on beat column\n",
    "beat_counts = df['Beat'].value_counts()\n",
    "beat_counts"
   ]
  },
  {
   "cell_type": "code",
   "execution_count": 9,
   "metadata": {},
   "outputs": [],
   "source": [
    "# match beat to beat count\n",
    "for index, row in df.iterrows():\n",
    "    df.loc[index, 'Beat Count'] = beat_counts[row['Beat']]"
   ]
  },
  {
   "cell_type": "code",
   "execution_count": 10,
   "metadata": {},
   "outputs": [
    {
     "data": {
      "text/html": [
       "<div>\n",
       "<style scoped>\n",
       "    .dataframe tbody tr th:only-of-type {\n",
       "        vertical-align: middle;\n",
       "    }\n",
       "\n",
       "    .dataframe tbody tr th {\n",
       "        vertical-align: top;\n",
       "    }\n",
       "\n",
       "    .dataframe thead th {\n",
       "        text-align: right;\n",
       "    }\n",
       "</style>\n",
       "<table border=\"1\" class=\"dataframe\">\n",
       "  <thead>\n",
       "    <tr style=\"text-align: right;\">\n",
       "      <th></th>\n",
       "      <th>CRID</th>\n",
       "      <th>OfficerID</th>\n",
       "      <th>OfficeFirst</th>\n",
       "      <th>OfficerLast</th>\n",
       "      <th>AllegationCode</th>\n",
       "      <th>Category</th>\n",
       "      <th>Allegation</th>\n",
       "      <th>RecommendedFinding</th>\n",
       "      <th>RecommendedOutcome</th>\n",
       "      <th>FinalFinding</th>\n",
       "      <th>...</th>\n",
       "      <th>Add2</th>\n",
       "      <th>City</th>\n",
       "      <th>IncidentDate</th>\n",
       "      <th>StartDate</th>\n",
       "      <th>EndDate</th>\n",
       "      <th>InvestigatorName</th>\n",
       "      <th>InvestigatorRank</th>\n",
       "      <th>Latitude</th>\n",
       "      <th>Longitude</th>\n",
       "      <th>Beat Count</th>\n",
       "    </tr>\n",
       "  </thead>\n",
       "  <tbody>\n",
       "    <tr>\n",
       "      <th>8797</th>\n",
       "      <td>259002</td>\n",
       "      <td>3055</td>\n",
       "      <td>Cornelius</td>\n",
       "      <td>Brown</td>\n",
       "      <td>05A</td>\n",
       "      <td>Use Of Force</td>\n",
       "      <td>Excessive Force / On Duty - Injury</td>\n",
       "      <td>NS</td>\n",
       "      <td>600.0</td>\n",
       "      <td>NS</td>\n",
       "      <td>...</td>\n",
       "      <td>S MARSHFIELD</td>\n",
       "      <td>CHICAGO IL</td>\n",
       "      <td>2000-01-01 00:00:00</td>\n",
       "      <td>2000-01-01</td>\n",
       "      <td>2001-02-09</td>\n",
       "      <td>NaN</td>\n",
       "      <td>NaN</td>\n",
       "      <td>41.734875</td>\n",
       "      <td>-87.664490</td>\n",
       "      <td>50</td>\n",
       "    </tr>\n",
       "    <tr>\n",
       "      <th>8798</th>\n",
       "      <td>259002</td>\n",
       "      <td>19347</td>\n",
       "      <td>Kenneth</td>\n",
       "      <td>Molesky</td>\n",
       "      <td>05A</td>\n",
       "      <td>Use Of Force</td>\n",
       "      <td>Excessive Force / On Duty - Injury</td>\n",
       "      <td>NS</td>\n",
       "      <td>600.0</td>\n",
       "      <td>NS</td>\n",
       "      <td>...</td>\n",
       "      <td>S MARSHFIELD</td>\n",
       "      <td>CHICAGO IL</td>\n",
       "      <td>2000-01-01 00:00:00</td>\n",
       "      <td>2000-01-01</td>\n",
       "      <td>2001-02-09</td>\n",
       "      <td>NaN</td>\n",
       "      <td>NaN</td>\n",
       "      <td>41.734875</td>\n",
       "      <td>-87.664490</td>\n",
       "      <td>50</td>\n",
       "    </tr>\n",
       "    <tr>\n",
       "      <th>8804</th>\n",
       "      <td>259011</td>\n",
       "      <td>10864</td>\n",
       "      <td>Mark</td>\n",
       "      <td>Grohovena</td>\n",
       "      <td>05D</td>\n",
       "      <td>Use Of Force</td>\n",
       "      <td>Excessive Force / Off Duty - No Injury</td>\n",
       "      <td>NS</td>\n",
       "      <td>600.0</td>\n",
       "      <td>NS</td>\n",
       "      <td>...</td>\n",
       "      <td>W 43RD PLACE</td>\n",
       "      <td>CHICAGO IL 60609</td>\n",
       "      <td>2000-01-01 00:00:00</td>\n",
       "      <td>2000-01-01</td>\n",
       "      <td>2000-12-11</td>\n",
       "      <td>NaN</td>\n",
       "      <td>NaN</td>\n",
       "      <td>41.815088</td>\n",
       "      <td>-87.643150</td>\n",
       "      <td>142</td>\n",
       "    </tr>\n",
       "    <tr>\n",
       "      <th>8807</th>\n",
       "      <td>259013</td>\n",
       "      <td>20651</td>\n",
       "      <td>James</td>\n",
       "      <td>Norwood</td>\n",
       "      <td>05C</td>\n",
       "      <td>Use Of Force</td>\n",
       "      <td>Excessive Force / Off Duty - Injury</td>\n",
       "      <td>NS</td>\n",
       "      <td>600.0</td>\n",
       "      <td>NS</td>\n",
       "      <td>...</td>\n",
       "      <td>W 105TH</td>\n",
       "      <td>CHICAGO IL 60643</td>\n",
       "      <td>2000-01-01 00:00:00</td>\n",
       "      <td>2000-01-01</td>\n",
       "      <td>2001-02-01</td>\n",
       "      <td>NaN</td>\n",
       "      <td>NaN</td>\n",
       "      <td>41.703681</td>\n",
       "      <td>-87.625984</td>\n",
       "      <td>105</td>\n",
       "    </tr>\n",
       "    <tr>\n",
       "      <th>8808</th>\n",
       "      <td>259013</td>\n",
       "      <td>3055</td>\n",
       "      <td>Cornelius</td>\n",
       "      <td>Brown</td>\n",
       "      <td>05A</td>\n",
       "      <td>Use Of Force</td>\n",
       "      <td>Excessive Force / On Duty - Injury</td>\n",
       "      <td>NS</td>\n",
       "      <td>600.0</td>\n",
       "      <td>NS</td>\n",
       "      <td>...</td>\n",
       "      <td>W 105TH</td>\n",
       "      <td>CHICAGO IL 60643</td>\n",
       "      <td>2000-01-01 00:00:00</td>\n",
       "      <td>2000-01-01</td>\n",
       "      <td>2001-02-01</td>\n",
       "      <td>NaN</td>\n",
       "      <td>NaN</td>\n",
       "      <td>41.703681</td>\n",
       "      <td>-87.625984</td>\n",
       "      <td>105</td>\n",
       "    </tr>\n",
       "  </tbody>\n",
       "</table>\n",
       "<p>5 rows × 26 columns</p>\n",
       "</div>"
      ],
      "text/plain": [
       "        CRID  OfficerID OfficeFirst OfficerLast AllegationCode      Category  \\\n",
       "8797  259002       3055   Cornelius       Brown            05A  Use Of Force   \n",
       "8798  259002      19347     Kenneth     Molesky            05A  Use Of Force   \n",
       "8804  259011      10864        Mark   Grohovena            05D  Use Of Force   \n",
       "8807  259013      20651       James     Norwood            05C  Use Of Force   \n",
       "8808  259013       3055   Cornelius       Brown            05A  Use Of Force   \n",
       "\n",
       "                                  Allegation RecommendedFinding  \\\n",
       "8797      Excessive Force / On Duty - Injury                 NS   \n",
       "8798      Excessive Force / On Duty - Injury                 NS   \n",
       "8804  Excessive Force / Off Duty - No Injury                 NS   \n",
       "8807     Excessive Force / Off Duty - Injury                 NS   \n",
       "8808      Excessive Force / On Duty - Injury                 NS   \n",
       "\n",
       "      RecommendedOutcome FinalFinding  ...          Add2              City  \\\n",
       "8797               600.0           NS  ...  S MARSHFIELD        CHICAGO IL   \n",
       "8798               600.0           NS  ...  S MARSHFIELD        CHICAGO IL   \n",
       "8804               600.0           NS  ...  W 43RD PLACE  CHICAGO IL 60609   \n",
       "8807               600.0           NS  ...       W 105TH  CHICAGO IL 60643   \n",
       "8808               600.0           NS  ...       W 105TH  CHICAGO IL 60643   \n",
       "\n",
       "             IncidentDate   StartDate     EndDate InvestigatorName  \\\n",
       "8797  2000-01-01 00:00:00  2000-01-01  2001-02-09              NaN   \n",
       "8798  2000-01-01 00:00:00  2000-01-01  2001-02-09              NaN   \n",
       "8804  2000-01-01 00:00:00  2000-01-01  2000-12-11              NaN   \n",
       "8807  2000-01-01 00:00:00  2000-01-01  2001-02-01              NaN   \n",
       "8808  2000-01-01 00:00:00  2000-01-01  2001-02-01              NaN   \n",
       "\n",
       "     InvestigatorRank   Latitude  Longitude Beat Count  \n",
       "8797              NaN  41.734875 -87.664490         50  \n",
       "8798              NaN  41.734875 -87.664490         50  \n",
       "8804              NaN  41.815088 -87.643150        142  \n",
       "8807              NaN  41.703681 -87.625984        105  \n",
       "8808              NaN  41.703681 -87.625984        105  \n",
       "\n",
       "[5 rows x 26 columns]"
      ]
     },
     "execution_count": 10,
     "metadata": {},
     "output_type": "execute_result"
    }
   ],
   "source": [
    "df.head()"
   ]
  },
  {
   "cell_type": "code",
   "execution_count": 11,
   "metadata": {},
   "outputs": [],
   "source": [
    "# calculate proportion of beat count to total number of allegations\n",
    "# normalize beat count with sum of all beat counts\n",
    "df['Beat Count'] = df['Beat Count'] / df['Beat Count'].sum()"
   ]
  },
  {
   "cell_type": "code",
   "execution_count": 12,
   "metadata": {},
   "outputs": [
    {
     "data": {
      "text/html": [
       "<div>\n",
       "<style scoped>\n",
       "    .dataframe tbody tr th:only-of-type {\n",
       "        vertical-align: middle;\n",
       "    }\n",
       "\n",
       "    .dataframe tbody tr th {\n",
       "        vertical-align: top;\n",
       "    }\n",
       "\n",
       "    .dataframe thead th {\n",
       "        text-align: right;\n",
       "    }\n",
       "</style>\n",
       "<table border=\"1\" class=\"dataframe\">\n",
       "  <thead>\n",
       "    <tr style=\"text-align: right;\">\n",
       "      <th></th>\n",
       "      <th>CRID</th>\n",
       "      <th>OfficerID</th>\n",
       "      <th>OfficeFirst</th>\n",
       "      <th>OfficerLast</th>\n",
       "      <th>AllegationCode</th>\n",
       "      <th>Category</th>\n",
       "      <th>Allegation</th>\n",
       "      <th>RecommendedFinding</th>\n",
       "      <th>RecommendedOutcome</th>\n",
       "      <th>FinalFinding</th>\n",
       "      <th>...</th>\n",
       "      <th>Add2</th>\n",
       "      <th>City</th>\n",
       "      <th>IncidentDate</th>\n",
       "      <th>StartDate</th>\n",
       "      <th>EndDate</th>\n",
       "      <th>InvestigatorName</th>\n",
       "      <th>InvestigatorRank</th>\n",
       "      <th>Latitude</th>\n",
       "      <th>Longitude</th>\n",
       "      <th>Beat Count</th>\n",
       "    </tr>\n",
       "  </thead>\n",
       "  <tbody>\n",
       "    <tr>\n",
       "      <th>8797</th>\n",
       "      <td>259002</td>\n",
       "      <td>3055</td>\n",
       "      <td>Cornelius</td>\n",
       "      <td>Brown</td>\n",
       "      <td>05A</td>\n",
       "      <td>Use Of Force</td>\n",
       "      <td>Excessive Force / On Duty - Injury</td>\n",
       "      <td>NS</td>\n",
       "      <td>600.0</td>\n",
       "      <td>NS</td>\n",
       "      <td>...</td>\n",
       "      <td>S MARSHFIELD</td>\n",
       "      <td>CHICAGO IL</td>\n",
       "      <td>2000-01-01 00:00:00</td>\n",
       "      <td>2000-01-01</td>\n",
       "      <td>2001-02-09</td>\n",
       "      <td>NaN</td>\n",
       "      <td>NaN</td>\n",
       "      <td>41.734875</td>\n",
       "      <td>-87.664490</td>\n",
       "      <td>0.000018</td>\n",
       "    </tr>\n",
       "    <tr>\n",
       "      <th>8798</th>\n",
       "      <td>259002</td>\n",
       "      <td>19347</td>\n",
       "      <td>Kenneth</td>\n",
       "      <td>Molesky</td>\n",
       "      <td>05A</td>\n",
       "      <td>Use Of Force</td>\n",
       "      <td>Excessive Force / On Duty - Injury</td>\n",
       "      <td>NS</td>\n",
       "      <td>600.0</td>\n",
       "      <td>NS</td>\n",
       "      <td>...</td>\n",
       "      <td>S MARSHFIELD</td>\n",
       "      <td>CHICAGO IL</td>\n",
       "      <td>2000-01-01 00:00:00</td>\n",
       "      <td>2000-01-01</td>\n",
       "      <td>2001-02-09</td>\n",
       "      <td>NaN</td>\n",
       "      <td>NaN</td>\n",
       "      <td>41.734875</td>\n",
       "      <td>-87.664490</td>\n",
       "      <td>0.000018</td>\n",
       "    </tr>\n",
       "    <tr>\n",
       "      <th>8804</th>\n",
       "      <td>259011</td>\n",
       "      <td>10864</td>\n",
       "      <td>Mark</td>\n",
       "      <td>Grohovena</td>\n",
       "      <td>05D</td>\n",
       "      <td>Use Of Force</td>\n",
       "      <td>Excessive Force / Off Duty - No Injury</td>\n",
       "      <td>NS</td>\n",
       "      <td>600.0</td>\n",
       "      <td>NS</td>\n",
       "      <td>...</td>\n",
       "      <td>W 43RD PLACE</td>\n",
       "      <td>CHICAGO IL 60609</td>\n",
       "      <td>2000-01-01 00:00:00</td>\n",
       "      <td>2000-01-01</td>\n",
       "      <td>2000-12-11</td>\n",
       "      <td>NaN</td>\n",
       "      <td>NaN</td>\n",
       "      <td>41.815088</td>\n",
       "      <td>-87.643150</td>\n",
       "      <td>0.000051</td>\n",
       "    </tr>\n",
       "    <tr>\n",
       "      <th>8807</th>\n",
       "      <td>259013</td>\n",
       "      <td>20651</td>\n",
       "      <td>James</td>\n",
       "      <td>Norwood</td>\n",
       "      <td>05C</td>\n",
       "      <td>Use Of Force</td>\n",
       "      <td>Excessive Force / Off Duty - Injury</td>\n",
       "      <td>NS</td>\n",
       "      <td>600.0</td>\n",
       "      <td>NS</td>\n",
       "      <td>...</td>\n",
       "      <td>W 105TH</td>\n",
       "      <td>CHICAGO IL 60643</td>\n",
       "      <td>2000-01-01 00:00:00</td>\n",
       "      <td>2000-01-01</td>\n",
       "      <td>2001-02-01</td>\n",
       "      <td>NaN</td>\n",
       "      <td>NaN</td>\n",
       "      <td>41.703681</td>\n",
       "      <td>-87.625984</td>\n",
       "      <td>0.000037</td>\n",
       "    </tr>\n",
       "    <tr>\n",
       "      <th>8808</th>\n",
       "      <td>259013</td>\n",
       "      <td>3055</td>\n",
       "      <td>Cornelius</td>\n",
       "      <td>Brown</td>\n",
       "      <td>05A</td>\n",
       "      <td>Use Of Force</td>\n",
       "      <td>Excessive Force / On Duty - Injury</td>\n",
       "      <td>NS</td>\n",
       "      <td>600.0</td>\n",
       "      <td>NS</td>\n",
       "      <td>...</td>\n",
       "      <td>W 105TH</td>\n",
       "      <td>CHICAGO IL 60643</td>\n",
       "      <td>2000-01-01 00:00:00</td>\n",
       "      <td>2000-01-01</td>\n",
       "      <td>2001-02-01</td>\n",
       "      <td>NaN</td>\n",
       "      <td>NaN</td>\n",
       "      <td>41.703681</td>\n",
       "      <td>-87.625984</td>\n",
       "      <td>0.000037</td>\n",
       "    </tr>\n",
       "  </tbody>\n",
       "</table>\n",
       "<p>5 rows × 26 columns</p>\n",
       "</div>"
      ],
      "text/plain": [
       "        CRID  OfficerID OfficeFirst OfficerLast AllegationCode      Category  \\\n",
       "8797  259002       3055   Cornelius       Brown            05A  Use Of Force   \n",
       "8798  259002      19347     Kenneth     Molesky            05A  Use Of Force   \n",
       "8804  259011      10864        Mark   Grohovena            05D  Use Of Force   \n",
       "8807  259013      20651       James     Norwood            05C  Use Of Force   \n",
       "8808  259013       3055   Cornelius       Brown            05A  Use Of Force   \n",
       "\n",
       "                                  Allegation RecommendedFinding  \\\n",
       "8797      Excessive Force / On Duty - Injury                 NS   \n",
       "8798      Excessive Force / On Duty - Injury                 NS   \n",
       "8804  Excessive Force / Off Duty - No Injury                 NS   \n",
       "8807     Excessive Force / Off Duty - Injury                 NS   \n",
       "8808      Excessive Force / On Duty - Injury                 NS   \n",
       "\n",
       "      RecommendedOutcome FinalFinding  ...          Add2              City  \\\n",
       "8797               600.0           NS  ...  S MARSHFIELD        CHICAGO IL   \n",
       "8798               600.0           NS  ...  S MARSHFIELD        CHICAGO IL   \n",
       "8804               600.0           NS  ...  W 43RD PLACE  CHICAGO IL 60609   \n",
       "8807               600.0           NS  ...       W 105TH  CHICAGO IL 60643   \n",
       "8808               600.0           NS  ...       W 105TH  CHICAGO IL 60643   \n",
       "\n",
       "             IncidentDate   StartDate     EndDate InvestigatorName  \\\n",
       "8797  2000-01-01 00:00:00  2000-01-01  2001-02-09              NaN   \n",
       "8798  2000-01-01 00:00:00  2000-01-01  2001-02-09              NaN   \n",
       "8804  2000-01-01 00:00:00  2000-01-01  2000-12-11              NaN   \n",
       "8807  2000-01-01 00:00:00  2000-01-01  2001-02-01              NaN   \n",
       "8808  2000-01-01 00:00:00  2000-01-01  2001-02-01              NaN   \n",
       "\n",
       "     InvestigatorRank   Latitude  Longitude Beat Count  \n",
       "8797              NaN  41.734875 -87.664490   0.000018  \n",
       "8798              NaN  41.734875 -87.664490   0.000018  \n",
       "8804              NaN  41.815088 -87.643150   0.000051  \n",
       "8807              NaN  41.703681 -87.625984   0.000037  \n",
       "8808              NaN  41.703681 -87.625984   0.000037  \n",
       "\n",
       "[5 rows x 26 columns]"
      ]
     },
     "execution_count": 12,
     "metadata": {},
     "output_type": "execute_result"
    }
   ],
   "source": [
    "df.head()"
   ]
  },
  {
   "cell_type": "code",
   "execution_count": 13,
   "metadata": {},
   "outputs": [],
   "source": [
    "# get list of unique officers in the dataset\n",
    "officer_list = pd.unique(df['OfficerID'])"
   ]
  },
  {
   "cell_type": "code",
   "execution_count": 14,
   "metadata": {},
   "outputs": [],
   "source": [
    "# group by CRID\n",
    "df_grouped = df.groupby('CRID')"
   ]
  },
  {
   "cell_type": "code",
   "execution_count": 15,
   "metadata": {},
   "outputs": [
    {
     "data": {
      "text/html": [
       "<div>\n",
       "<style scoped>\n",
       "    .dataframe tbody tr th:only-of-type {\n",
       "        vertical-align: middle;\n",
       "    }\n",
       "\n",
       "    .dataframe tbody tr th {\n",
       "        vertical-align: top;\n",
       "    }\n",
       "\n",
       "    .dataframe thead th {\n",
       "        text-align: right;\n",
       "    }\n",
       "</style>\n",
       "<table border=\"1\" class=\"dataframe\">\n",
       "  <thead>\n",
       "    <tr style=\"text-align: right;\">\n",
       "      <th></th>\n",
       "      <th>CRID</th>\n",
       "      <th>OfficerID</th>\n",
       "      <th>OfficeFirst</th>\n",
       "      <th>OfficerLast</th>\n",
       "      <th>AllegationCode</th>\n",
       "      <th>Category</th>\n",
       "      <th>Allegation</th>\n",
       "      <th>RecommendedFinding</th>\n",
       "      <th>RecommendedOutcome</th>\n",
       "      <th>FinalFinding</th>\n",
       "      <th>...</th>\n",
       "      <th>Add2</th>\n",
       "      <th>City</th>\n",
       "      <th>IncidentDate</th>\n",
       "      <th>StartDate</th>\n",
       "      <th>EndDate</th>\n",
       "      <th>InvestigatorName</th>\n",
       "      <th>InvestigatorRank</th>\n",
       "      <th>Latitude</th>\n",
       "      <th>Longitude</th>\n",
       "      <th>Beat Count</th>\n",
       "    </tr>\n",
       "  </thead>\n",
       "  <tbody>\n",
       "    <tr>\n",
       "      <th>8797</th>\n",
       "      <td>259002</td>\n",
       "      <td>3055</td>\n",
       "      <td>Cornelius</td>\n",
       "      <td>Brown</td>\n",
       "      <td>05A</td>\n",
       "      <td>Use Of Force</td>\n",
       "      <td>Excessive Force / On Duty - Injury</td>\n",
       "      <td>NS</td>\n",
       "      <td>600.0</td>\n",
       "      <td>NS</td>\n",
       "      <td>...</td>\n",
       "      <td>S MARSHFIELD</td>\n",
       "      <td>CHICAGO IL</td>\n",
       "      <td>2000-01-01 00:00:00</td>\n",
       "      <td>2000-01-01</td>\n",
       "      <td>2001-02-09</td>\n",
       "      <td>NaN</td>\n",
       "      <td>NaN</td>\n",
       "      <td>41.734875</td>\n",
       "      <td>-87.664490</td>\n",
       "      <td>0.000018</td>\n",
       "    </tr>\n",
       "    <tr>\n",
       "      <th>8798</th>\n",
       "      <td>259002</td>\n",
       "      <td>19347</td>\n",
       "      <td>Kenneth</td>\n",
       "      <td>Molesky</td>\n",
       "      <td>05A</td>\n",
       "      <td>Use Of Force</td>\n",
       "      <td>Excessive Force / On Duty - Injury</td>\n",
       "      <td>NS</td>\n",
       "      <td>600.0</td>\n",
       "      <td>NS</td>\n",
       "      <td>...</td>\n",
       "      <td>S MARSHFIELD</td>\n",
       "      <td>CHICAGO IL</td>\n",
       "      <td>2000-01-01 00:00:00</td>\n",
       "      <td>2000-01-01</td>\n",
       "      <td>2001-02-09</td>\n",
       "      <td>NaN</td>\n",
       "      <td>NaN</td>\n",
       "      <td>41.734875</td>\n",
       "      <td>-87.664490</td>\n",
       "      <td>0.000018</td>\n",
       "    </tr>\n",
       "    <tr>\n",
       "      <th>8804</th>\n",
       "      <td>259011</td>\n",
       "      <td>10864</td>\n",
       "      <td>Mark</td>\n",
       "      <td>Grohovena</td>\n",
       "      <td>05D</td>\n",
       "      <td>Use Of Force</td>\n",
       "      <td>Excessive Force / Off Duty - No Injury</td>\n",
       "      <td>NS</td>\n",
       "      <td>600.0</td>\n",
       "      <td>NS</td>\n",
       "      <td>...</td>\n",
       "      <td>W 43RD PLACE</td>\n",
       "      <td>CHICAGO IL 60609</td>\n",
       "      <td>2000-01-01 00:00:00</td>\n",
       "      <td>2000-01-01</td>\n",
       "      <td>2000-12-11</td>\n",
       "      <td>NaN</td>\n",
       "      <td>NaN</td>\n",
       "      <td>41.815088</td>\n",
       "      <td>-87.643150</td>\n",
       "      <td>0.000051</td>\n",
       "    </tr>\n",
       "    <tr>\n",
       "      <th>8807</th>\n",
       "      <td>259013</td>\n",
       "      <td>20651</td>\n",
       "      <td>James</td>\n",
       "      <td>Norwood</td>\n",
       "      <td>05C</td>\n",
       "      <td>Use Of Force</td>\n",
       "      <td>Excessive Force / Off Duty - Injury</td>\n",
       "      <td>NS</td>\n",
       "      <td>600.0</td>\n",
       "      <td>NS</td>\n",
       "      <td>...</td>\n",
       "      <td>W 105TH</td>\n",
       "      <td>CHICAGO IL 60643</td>\n",
       "      <td>2000-01-01 00:00:00</td>\n",
       "      <td>2000-01-01</td>\n",
       "      <td>2001-02-01</td>\n",
       "      <td>NaN</td>\n",
       "      <td>NaN</td>\n",
       "      <td>41.703681</td>\n",
       "      <td>-87.625984</td>\n",
       "      <td>0.000037</td>\n",
       "    </tr>\n",
       "    <tr>\n",
       "      <th>8808</th>\n",
       "      <td>259013</td>\n",
       "      <td>3055</td>\n",
       "      <td>Cornelius</td>\n",
       "      <td>Brown</td>\n",
       "      <td>05A</td>\n",
       "      <td>Use Of Force</td>\n",
       "      <td>Excessive Force / On Duty - Injury</td>\n",
       "      <td>NS</td>\n",
       "      <td>600.0</td>\n",
       "      <td>NS</td>\n",
       "      <td>...</td>\n",
       "      <td>W 105TH</td>\n",
       "      <td>CHICAGO IL 60643</td>\n",
       "      <td>2000-01-01 00:00:00</td>\n",
       "      <td>2000-01-01</td>\n",
       "      <td>2001-02-01</td>\n",
       "      <td>NaN</td>\n",
       "      <td>NaN</td>\n",
       "      <td>41.703681</td>\n",
       "      <td>-87.625984</td>\n",
       "      <td>0.000037</td>\n",
       "    </tr>\n",
       "    <tr>\n",
       "      <th>...</th>\n",
       "      <td>...</td>\n",
       "      <td>...</td>\n",
       "      <td>...</td>\n",
       "      <td>...</td>\n",
       "      <td>...</td>\n",
       "      <td>...</td>\n",
       "      <td>...</td>\n",
       "      <td>...</td>\n",
       "      <td>...</td>\n",
       "      <td>...</td>\n",
       "      <td>...</td>\n",
       "      <td>...</td>\n",
       "      <td>...</td>\n",
       "      <td>...</td>\n",
       "      <td>...</td>\n",
       "      <td>...</td>\n",
       "      <td>...</td>\n",
       "      <td>...</td>\n",
       "      <td>...</td>\n",
       "      <td>...</td>\n",
       "      <td>...</td>\n",
       "    </tr>\n",
       "    <tr>\n",
       "      <th>138652</th>\n",
       "      <td>1080707</td>\n",
       "      <td>403</td>\n",
       "      <td>Regan</td>\n",
       "      <td>Allen</td>\n",
       "      <td>05A</td>\n",
       "      <td>Use Of Force</td>\n",
       "      <td>Excessive Force / On Duty - Injury</td>\n",
       "      <td>NaN</td>\n",
       "      <td>NaN</td>\n",
       "      <td>NaN</td>\n",
       "      <td>...</td>\n",
       "      <td>S JEFFERY BLVD</td>\n",
       "      <td>CHICAGO IL</td>\n",
       "      <td>2016-04-16 00:00:00</td>\n",
       "      <td>2016-05-27</td>\n",
       "      <td>2016-09-30</td>\n",
       "      <td>NaN</td>\n",
       "      <td>NaN</td>\n",
       "      <td>41.771969</td>\n",
       "      <td>-87.576156</td>\n",
       "      <td>0.000038</td>\n",
       "    </tr>\n",
       "    <tr>\n",
       "      <th>138657</th>\n",
       "      <td>1081176</td>\n",
       "      <td>9597</td>\n",
       "      <td>Julio</td>\n",
       "      <td>Garcia</td>\n",
       "      <td>S021</td>\n",
       "      <td>Use Of Force</td>\n",
       "      <td>Miscellaneous</td>\n",
       "      <td>NaN</td>\n",
       "      <td>NaN</td>\n",
       "      <td>UN</td>\n",
       "      <td>...</td>\n",
       "      <td>East 71ST ST</td>\n",
       "      <td>CHICAGO ILLINOIS 60649</td>\n",
       "      <td>2016-06-28 00:00:00</td>\n",
       "      <td>2016-06-28</td>\n",
       "      <td>2017-03-03</td>\n",
       "      <td>NaN</td>\n",
       "      <td>NaN</td>\n",
       "      <td>41.766444</td>\n",
       "      <td>-87.575869</td>\n",
       "      <td>0.000038</td>\n",
       "    </tr>\n",
       "    <tr>\n",
       "      <th>138658</th>\n",
       "      <td>1080321</td>\n",
       "      <td>2425</td>\n",
       "      <td>Stephen</td>\n",
       "      <td>Borozan</td>\n",
       "      <td>S021</td>\n",
       "      <td>Use Of Force</td>\n",
       "      <td>Miscellaneous</td>\n",
       "      <td>NaN</td>\n",
       "      <td>NaN</td>\n",
       "      <td>UN</td>\n",
       "      <td>...</td>\n",
       "      <td>South MICHIGAN AVE</td>\n",
       "      <td>CHICAGO ILLINOIS 60628</td>\n",
       "      <td>2016-04-27 00:00:00</td>\n",
       "      <td>2016-04-29</td>\n",
       "      <td>2017-04-11</td>\n",
       "      <td>Alexis L. Serio</td>\n",
       "      <td>NaN</td>\n",
       "      <td>41.688973</td>\n",
       "      <td>-87.620994</td>\n",
       "      <td>0.000108</td>\n",
       "    </tr>\n",
       "    <tr>\n",
       "      <th>138671</th>\n",
       "      <td>1079449</td>\n",
       "      <td>21483</td>\n",
       "      <td>Joseph</td>\n",
       "      <td>Oskvarek</td>\n",
       "      <td>05A</td>\n",
       "      <td>Use Of Force</td>\n",
       "      <td>Excessive Force / On Duty - Injury</td>\n",
       "      <td>NaN</td>\n",
       "      <td>NaN</td>\n",
       "      <td>UN</td>\n",
       "      <td>...</td>\n",
       "      <td>NaN</td>\n",
       "      <td>NaN</td>\n",
       "      <td>2016-01-10 00:00:00</td>\n",
       "      <td>2016-03-01</td>\n",
       "      <td>NaN</td>\n",
       "      <td>NaN</td>\n",
       "      <td>NaN</td>\n",
       "      <td>NaN</td>\n",
       "      <td>NaN</td>\n",
       "      <td>0.000029</td>\n",
       "    </tr>\n",
       "    <tr>\n",
       "      <th>138673</th>\n",
       "      <td>1081570</td>\n",
       "      <td>27341</td>\n",
       "      <td>Todd</td>\n",
       "      <td>Stanley</td>\n",
       "      <td>05M</td>\n",
       "      <td>Use Of Force</td>\n",
       "      <td>Unnecessary Physical Contact / On Duty - No In...</td>\n",
       "      <td>NaN</td>\n",
       "      <td>NaN</td>\n",
       "      <td>NaN</td>\n",
       "      <td>...</td>\n",
       "      <td>East ROOSEVELT RD</td>\n",
       "      <td>CHICAGO ILLINOIS 60605</td>\n",
       "      <td>2016-07-23 00:00:00</td>\n",
       "      <td>2016-07-23</td>\n",
       "      <td>2016-10-31</td>\n",
       "      <td>NaN</td>\n",
       "      <td>NaN</td>\n",
       "      <td>41.874184</td>\n",
       "      <td>-87.626423</td>\n",
       "      <td>0.000022</td>\n",
       "    </tr>\n",
       "  </tbody>\n",
       "</table>\n",
       "<p>22045 rows × 26 columns</p>\n",
       "</div>"
      ],
      "text/plain": [
       "           CRID  OfficerID OfficeFirst OfficerLast AllegationCode  \\\n",
       "8797     259002       3055   Cornelius       Brown            05A   \n",
       "8798     259002      19347     Kenneth     Molesky            05A   \n",
       "8804     259011      10864        Mark   Grohovena            05D   \n",
       "8807     259013      20651       James     Norwood            05C   \n",
       "8808     259013       3055   Cornelius       Brown            05A   \n",
       "...         ...        ...         ...         ...            ...   \n",
       "138652  1080707        403       Regan       Allen            05A   \n",
       "138657  1081176       9597       Julio      Garcia           S021   \n",
       "138658  1080321       2425     Stephen     Borozan           S021   \n",
       "138671  1079449      21483      Joseph    Oskvarek            05A   \n",
       "138673  1081570      27341        Todd     Stanley            05M   \n",
       "\n",
       "            Category                                         Allegation  \\\n",
       "8797    Use Of Force                 Excessive Force / On Duty - Injury   \n",
       "8798    Use Of Force                 Excessive Force / On Duty - Injury   \n",
       "8804    Use Of Force             Excessive Force / Off Duty - No Injury   \n",
       "8807    Use Of Force                Excessive Force / Off Duty - Injury   \n",
       "8808    Use Of Force                 Excessive Force / On Duty - Injury   \n",
       "...              ...                                                ...   \n",
       "138652  Use Of Force                 Excessive Force / On Duty - Injury   \n",
       "138657  Use Of Force                                      Miscellaneous   \n",
       "138658  Use Of Force                                      Miscellaneous   \n",
       "138671  Use Of Force                 Excessive Force / On Duty - Injury   \n",
       "138673  Use Of Force  Unnecessary Physical Contact / On Duty - No In...   \n",
       "\n",
       "       RecommendedFinding  RecommendedOutcome FinalFinding  ...  \\\n",
       "8797                   NS               600.0           NS  ...   \n",
       "8798                   NS               600.0           NS  ...   \n",
       "8804                   NS               600.0           NS  ...   \n",
       "8807                   NS               600.0           NS  ...   \n",
       "8808                   NS               600.0           NS  ...   \n",
       "...                   ...                 ...          ...  ...   \n",
       "138652                NaN                 NaN          NaN  ...   \n",
       "138657                NaN                 NaN           UN  ...   \n",
       "138658                NaN                 NaN           UN  ...   \n",
       "138671                NaN                 NaN           UN  ...   \n",
       "138673                NaN                 NaN          NaN  ...   \n",
       "\n",
       "                      Add2                    City         IncidentDate  \\\n",
       "8797          S MARSHFIELD              CHICAGO IL  2000-01-01 00:00:00   \n",
       "8798          S MARSHFIELD              CHICAGO IL  2000-01-01 00:00:00   \n",
       "8804          W 43RD PLACE        CHICAGO IL 60609  2000-01-01 00:00:00   \n",
       "8807               W 105TH        CHICAGO IL 60643  2000-01-01 00:00:00   \n",
       "8808               W 105TH        CHICAGO IL 60643  2000-01-01 00:00:00   \n",
       "...                    ...                     ...                  ...   \n",
       "138652      S JEFFERY BLVD              CHICAGO IL  2016-04-16 00:00:00   \n",
       "138657        East 71ST ST  CHICAGO ILLINOIS 60649  2016-06-28 00:00:00   \n",
       "138658  South MICHIGAN AVE  CHICAGO ILLINOIS 60628  2016-04-27 00:00:00   \n",
       "138671                 NaN                     NaN  2016-01-10 00:00:00   \n",
       "138673   East ROOSEVELT RD  CHICAGO ILLINOIS 60605  2016-07-23 00:00:00   \n",
       "\n",
       "         StartDate     EndDate InvestigatorName InvestigatorRank   Latitude  \\\n",
       "8797    2000-01-01  2001-02-09              NaN              NaN  41.734875   \n",
       "8798    2000-01-01  2001-02-09              NaN              NaN  41.734875   \n",
       "8804    2000-01-01  2000-12-11              NaN              NaN  41.815088   \n",
       "8807    2000-01-01  2001-02-01              NaN              NaN  41.703681   \n",
       "8808    2000-01-01  2001-02-01              NaN              NaN  41.703681   \n",
       "...            ...         ...              ...              ...        ...   \n",
       "138652  2016-05-27  2016-09-30              NaN              NaN  41.771969   \n",
       "138657  2016-06-28  2017-03-03              NaN              NaN  41.766444   \n",
       "138658  2016-04-29  2017-04-11  Alexis L. Serio              NaN  41.688973   \n",
       "138671  2016-03-01         NaN              NaN              NaN        NaN   \n",
       "138673  2016-07-23  2016-10-31              NaN              NaN  41.874184   \n",
       "\n",
       "        Longitude Beat Count  \n",
       "8797   -87.664490   0.000018  \n",
       "8798   -87.664490   0.000018  \n",
       "8804   -87.643150   0.000051  \n",
       "8807   -87.625984   0.000037  \n",
       "8808   -87.625984   0.000037  \n",
       "...           ...        ...  \n",
       "138652 -87.576156   0.000038  \n",
       "138657 -87.575869   0.000038  \n",
       "138658 -87.620994   0.000108  \n",
       "138671        NaN   0.000029  \n",
       "138673 -87.626423   0.000022  \n",
       "\n",
       "[22045 rows x 26 columns]"
      ]
     },
     "execution_count": 15,
     "metadata": {},
     "output_type": "execute_result"
    }
   ],
   "source": [
    "df_grouped.head()"
   ]
  },
  {
   "cell_type": "code",
   "execution_count": 16,
   "metadata": {},
   "outputs": [
    {
     "data": {
      "text/plain": [
       "15998"
      ]
     },
     "execution_count": 16,
     "metadata": {},
     "output_type": "execute_result"
    }
   ],
   "source": [
    "# find number of groups that have more than one officer\n",
    "len(df_grouped.filter(lambda x: len(x) > 1))"
   ]
  },
  {
   "cell_type": "code",
   "execution_count": 48,
   "metadata": {},
   "outputs": [
    {
     "data": {
      "text/plain": [
       "(22852, 26)"
      ]
     },
     "execution_count": 48,
     "metadata": {},
     "output_type": "execute_result"
    }
   ],
   "source": [
    "# get size df_grouped\n",
    "# df_grouped.size()\n",
    "df.shape"
   ]
  },
  {
   "cell_type": "code",
   "execution_count": 17,
   "metadata": {},
   "outputs": [],
   "source": [
    "# permutation test\n",
    "# probabilities are in df[\"Beat Count\"]\n",
    "officers = pd.read_csv('/Users/jeremyhudsonchan/Dropbox/Files/Boston_College_Courses/Thesis/Data/2000-2016/officer_profile.csv', low_memory=False)"
   ]
  },
  {
   "cell_type": "code",
   "execution_count": 18,
   "metadata": {},
   "outputs": [],
   "source": [
    "# map beat of offcers in officer_list to officers dataframe\n",
    "officers['Beat'] = 0\n",
    "for index, row in officers.iterrows():\n",
    "    if row['OfficerID'] in officer_list:\n",
    "        officers.loc[index, 'Beat'] = df.loc[df['OfficerID'] == row['OfficerID'], 'Beat'].iloc[0]"
   ]
  },
  {
   "cell_type": "code",
   "execution_count": 19,
   "metadata": {},
   "outputs": [],
   "source": [
    "# if beat is 0, drop\n",
    "officers = officers[officers['Beat'] != 0]"
   ]
  },
  {
   "cell_type": "code",
   "execution_count": 20,
   "metadata": {},
   "outputs": [
    {
     "data": {
      "text/html": [
       "<div>\n",
       "<style scoped>\n",
       "    .dataframe tbody tr th:only-of-type {\n",
       "        vertical-align: middle;\n",
       "    }\n",
       "\n",
       "    .dataframe tbody tr th {\n",
       "        vertical-align: top;\n",
       "    }\n",
       "\n",
       "    .dataframe thead th {\n",
       "        text-align: right;\n",
       "    }\n",
       "</style>\n",
       "<table border=\"1\" class=\"dataframe\">\n",
       "  <thead>\n",
       "    <tr style=\"text-align: right;\">\n",
       "      <th></th>\n",
       "      <th>OfficerID</th>\n",
       "      <th>OfficerFirst</th>\n",
       "      <th>OfficerLast</th>\n",
       "      <th>Gender</th>\n",
       "      <th>Race</th>\n",
       "      <th>ApptDate</th>\n",
       "      <th>Unit</th>\n",
       "      <th>Rank</th>\n",
       "      <th>Star</th>\n",
       "      <th>Age</th>\n",
       "      <th>Beat</th>\n",
       "    </tr>\n",
       "  </thead>\n",
       "  <tbody>\n",
       "    <tr>\n",
       "      <th>1</th>\n",
       "      <td>13</td>\n",
       "      <td>Dale</td>\n",
       "      <td>Abbott</td>\n",
       "      <td>M</td>\n",
       "      <td>White</td>\n",
       "      <td>30284.0</td>\n",
       "      <td>NaN</td>\n",
       "      <td>Police Officer</td>\n",
       "      <td>NaN</td>\n",
       "      <td>69</td>\n",
       "      <td>1655</td>\n",
       "    </tr>\n",
       "    <tr>\n",
       "      <th>4</th>\n",
       "      <td>34</td>\n",
       "      <td>Floyd</td>\n",
       "      <td>Abron</td>\n",
       "      <td>M</td>\n",
       "      <td>Black</td>\n",
       "      <td>35975.0</td>\n",
       "      <td>NaN</td>\n",
       "      <td>Police Officer</td>\n",
       "      <td>NaN</td>\n",
       "      <td>49</td>\n",
       "      <td>1134</td>\n",
       "    </tr>\n",
       "    <tr>\n",
       "      <th>5</th>\n",
       "      <td>38</td>\n",
       "      <td>Abdalla</td>\n",
       "      <td>Abuzanat</td>\n",
       "      <td>M</td>\n",
       "      <td>Asian/Pacific</td>\n",
       "      <td>35975.0</td>\n",
       "      <td>NaN</td>\n",
       "      <td>Po As Detective</td>\n",
       "      <td>NaN</td>\n",
       "      <td>51</td>\n",
       "      <td>813</td>\n",
       "    </tr>\n",
       "    <tr>\n",
       "      <th>6</th>\n",
       "      <td>44</td>\n",
       "      <td>Marco</td>\n",
       "      <td>Acevedo</td>\n",
       "      <td>M</td>\n",
       "      <td>Hispanic</td>\n",
       "      <td>34947.0</td>\n",
       "      <td>NaN</td>\n",
       "      <td>Po As Detective</td>\n",
       "      <td>NaN</td>\n",
       "      <td>53</td>\n",
       "      <td>1433</td>\n",
       "    </tr>\n",
       "    <tr>\n",
       "      <th>7</th>\n",
       "      <td>58</td>\n",
       "      <td>Manuel</td>\n",
       "      <td>Acevedo</td>\n",
       "      <td>M</td>\n",
       "      <td>Hispanic</td>\n",
       "      <td>30151.0</td>\n",
       "      <td>NaN</td>\n",
       "      <td>Police Officer</td>\n",
       "      <td>NaN</td>\n",
       "      <td>66</td>\n",
       "      <td>1023</td>\n",
       "    </tr>\n",
       "  </tbody>\n",
       "</table>\n",
       "</div>"
      ],
      "text/plain": [
       "   OfficerID OfficerFirst OfficerLast Gender           Race  ApptDate  Unit  \\\n",
       "1         13         Dale      Abbott      M          White   30284.0   NaN   \n",
       "4         34        Floyd       Abron      M          Black   35975.0   NaN   \n",
       "5         38      Abdalla    Abuzanat      M  Asian/Pacific   35975.0   NaN   \n",
       "6         44        Marco     Acevedo      M       Hispanic   34947.0   NaN   \n",
       "7         58       Manuel     Acevedo      M       Hispanic   30151.0   NaN   \n",
       "\n",
       "              Rank  Star  Age  Beat  \n",
       "1   Police Officer   NaN   69  1655  \n",
       "4   Police Officer   NaN   49  1134  \n",
       "5  Po As Detective   NaN   51   813  \n",
       "6  Po As Detective   NaN   53  1433  \n",
       "7   Police Officer   NaN   66  1023  "
      ]
     },
     "execution_count": 20,
     "metadata": {},
     "output_type": "execute_result"
    }
   ],
   "source": [
    "officers.head()"
   ]
  },
  {
   "cell_type": "code",
   "execution_count": 50,
   "metadata": {},
   "outputs": [],
   "source": [
    "new_df = pd.DataFrame(columns=['OfficerID', 'Beat'])"
   ]
  },
  {
   "cell_type": "code",
   "execution_count": 42,
   "metadata": {},
   "outputs": [
    {
     "name": "stdout",
     "output_type": "stream",
     "text": [
      "          CRID  OfficerID OfficeFirst OfficerLast AllegationCode  \\\n",
      "69668  1000004      17197      Robert      Mangan            05N   \n",
      "72549  1000004      11090       Jorge      Guzman            05N   \n",
      "\n",
      "           Category                                         Allegation  \\\n",
      "69668  Use Of Force  Unnecessary Physical Contact / Off Duty - No I...   \n",
      "72549  Use Of Force  Unnecessary Physical Contact / Off Duty - No I...   \n",
      "\n",
      "      RecommendedFinding  RecommendedOutcome FinalFinding  ...          Add2  \\\n",
      "69668                 SU                 5.0           SU  ...  S ARCHER AVE   \n",
      "72549                 SU                 5.0           SU  ...  S ARCHER AVE   \n",
      "\n",
      "             City         IncidentDate   StartDate     EndDate  \\\n",
      "69668  CHICAGO IL  2006-09-26 00:00:00  2006-09-26  2009-07-08   \n",
      "72549  CHICAGO IL  2006-09-26 00:00:00  2006-09-26  2009-07-08   \n",
      "\n",
      "      InvestigatorName InvestigatorRank   Latitude  Longitude Beat Count  \n",
      "69668              NaN              NaN  41.803477 -87.722469   0.000022  \n",
      "72549              NaN              NaN  41.803477 -87.722469   0.000022  \n",
      "\n",
      "[2 rows x 26 columns]\n",
      "12879 22852\n"
     ]
    }
   ],
   "source": [
    "# # find crid with more than one officer and print them out\n",
    "# for index, row in df_grouped:\n",
    "#     if len(row) > 1:\n",
    "#         print(row)\n",
    "#         break\n",
    "# print(len(df_grouped), len(df))"
   ]
  },
  {
   "cell_type": "code",
   "execution_count": 51,
   "metadata": {},
   "outputs": [],
   "source": [
    "# permutation test\n",
    "# probabilities are in df_grouped[\"Beat Count\"]\n",
    "for index, row in df_grouped:\n",
    "    # get num officers in group\n",
    "    num_officers = len(row)\n",
    "    # get beat of group\n",
    "    beat = row['Beat'].iloc[0]\n",
    "    # get beat count of group\n",
    "    beat_count = row['Beat'].iloc[0]\n",
    "    # print(beat_count)\n",
    "    # randomly sample officers without replacement from officers dataframe\n",
    "    officers_sample = officers.sample(n=num_officers)\n",
    "    # add officers to new dataframe\n",
    "    for index, row in officers_sample.iterrows():\n",
    "        # pd concat\n",
    "        new_df = pd.concat([new_df, pd.DataFrame([[row['OfficerID'], row['Beat']]], columns=['OfficerID', 'Beat'])])"
   ]
  },
  {
   "cell_type": "code",
   "execution_count": 86,
   "metadata": {},
   "outputs": [
    {
     "name": "stdout",
     "output_type": "stream",
     "text": [
      "  OfficerID  Beat\n",
      "0     31892   735\n",
      "0      9105  1114\n",
      "0     14046   424\n",
      "0        34  1134\n",
      "0     17037  2422\n"
     ]
    }
   ],
   "source": [
    "print(new_df.head())"
   ]
  },
  {
   "cell_type": "code",
   "execution_count": 87,
   "metadata": {},
   "outputs": [
    {
     "data": {
      "text/plain": [
       "32122    15\n",
       "18340    13\n",
       "31964    13\n",
       "13781    13\n",
       "24457    13\n",
       "         ..\n",
       "2068      1\n",
       "1116      1\n",
       "15994     1\n",
       "11539     1\n",
       "26513     1\n",
       "Name: OfficerID, Length: 7177, dtype: int64"
      ]
     },
     "execution_count": 87,
     "metadata": {},
     "output_type": "execute_result"
    }
   ],
   "source": [
    "# value counts of officers appearing in new_df\n",
    "new_df_vc = new_df['OfficerID'].value_counts()\n",
    "new_df_vc"
   ]
  },
  {
   "cell_type": "code",
   "execution_count": 88,
   "metadata": {},
   "outputs": [
    {
     "data": {
      "text/plain": [
       "Number of Allegations\n",
       "1     1616\n",
       "2     1578\n",
       "3     1384\n",
       "4     1033\n",
       "5      662\n",
       "6      399\n",
       "7      210\n",
       "8      152\n",
       "9       71\n",
       "10      42\n",
       "11      20\n",
       "12       5\n",
       "13       4\n",
       "15       1\n",
       "Name: Number of Officers, dtype: int64"
      ]
     },
     "execution_count": 88,
     "metadata": {},
     "output_type": "execute_result"
    }
   ],
   "source": [
    "# get number of times each value appears in new_df_vc\n",
    "new_df_vc = new_df_vc.value_counts()\n",
    "# change index title to number of allegations, value to number of officers\n",
    "new_df_vc.index.name = 'Number of Allegations'\n",
    "new_df_vc.name = 'Number of Officers'\n",
    "new_df_vc"
   ]
  },
  {
   "cell_type": "code",
   "execution_count": 89,
   "metadata": {},
   "outputs": [],
   "source": [
    "df_vc = df['OfficerID'].value_counts()"
   ]
  },
  {
   "cell_type": "code",
   "execution_count": 90,
   "metadata": {},
   "outputs": [
    {
     "data": {
      "text/plain": [
       "Number of Allegations\n",
       "1     3592\n",
       "2     1729\n",
       "3     1010\n",
       "4      656\n",
       "5      403\n",
       "6      264\n",
       "7      192\n",
       "8      119\n",
       "9      112\n",
       "10      56\n",
       "11      47\n",
       "12      42\n",
       "13      26\n",
       "15      13\n",
       "16      12\n",
       "14      12\n",
       "17       9\n",
       "19       7\n",
       "20       5\n",
       "18       4\n",
       "21       2\n",
       "26       2\n",
       "31       1\n",
       "22       1\n",
       "23       1\n",
       "24       1\n",
       "25       1\n",
       "29       1\n",
       "30       1\n",
       "35       1\n",
       "Name: Number of Officers, dtype: int64"
      ]
     },
     "execution_count": 90,
     "metadata": {},
     "output_type": "execute_result"
    }
   ],
   "source": [
    "# get number of times each value appears in df_vc\n",
    "df_vc = df_vc.value_counts()\n",
    "# change index title to number of allegations, value to number of officers\n",
    "df_vc.index.name = 'Number of Allegations'\n",
    "df_vc.name = 'Number of Officers'\n",
    "df_vc"
   ]
  },
  {
   "cell_type": "code",
   "execution_count": 94,
   "metadata": {},
   "outputs": [
    {
     "data": {
      "application/vnd.plotly.v1+json": {
       "config": {
        "plotlyServerURL": "https://plot.ly"
       },
       "data": [
        {
         "hovertemplate": "Number of Allegations=%{x}<br>Number of Officers=%{y}<extra></extra>",
         "legendgroup": "",
         "line": {
          "color": "#636efa",
          "dash": "solid"
         },
         "marker": {
          "symbol": "circle"
         },
         "mode": "lines",
         "name": "",
         "orientation": "v",
         "showlegend": false,
         "type": "scatter",
         "x": [
          1,
          2,
          3,
          4,
          5,
          6,
          7,
          8,
          9,
          10,
          11,
          12,
          13,
          15,
          16,
          14,
          17,
          19,
          20,
          18,
          21,
          26,
          31,
          22,
          23,
          24,
          25,
          29,
          30,
          35
         ],
         "xaxis": "x",
         "y": [
          3592,
          1729,
          1010,
          656,
          403,
          264,
          192,
          119,
          112,
          56,
          47,
          42,
          26,
          13,
          12,
          12,
          9,
          7,
          5,
          4,
          2,
          2,
          1,
          1,
          1,
          1,
          1,
          1,
          1,
          1
         ],
         "yaxis": "y"
        }
       ],
       "layout": {
        "legend": {
         "tracegroupgap": 0
        },
        "margin": {
         "t": 60
        },
        "template": {
         "data": {
          "bar": [
           {
            "error_x": {
             "color": "#2a3f5f"
            },
            "error_y": {
             "color": "#2a3f5f"
            },
            "marker": {
             "line": {
              "color": "#E5ECF6",
              "width": 0.5
             },
             "pattern": {
              "fillmode": "overlay",
              "size": 10,
              "solidity": 0.2
             }
            },
            "type": "bar"
           }
          ],
          "barpolar": [
           {
            "marker": {
             "line": {
              "color": "#E5ECF6",
              "width": 0.5
             },
             "pattern": {
              "fillmode": "overlay",
              "size": 10,
              "solidity": 0.2
             }
            },
            "type": "barpolar"
           }
          ],
          "carpet": [
           {
            "aaxis": {
             "endlinecolor": "#2a3f5f",
             "gridcolor": "white",
             "linecolor": "white",
             "minorgridcolor": "white",
             "startlinecolor": "#2a3f5f"
            },
            "baxis": {
             "endlinecolor": "#2a3f5f",
             "gridcolor": "white",
             "linecolor": "white",
             "minorgridcolor": "white",
             "startlinecolor": "#2a3f5f"
            },
            "type": "carpet"
           }
          ],
          "choropleth": [
           {
            "colorbar": {
             "outlinewidth": 0,
             "ticks": ""
            },
            "type": "choropleth"
           }
          ],
          "contour": [
           {
            "colorbar": {
             "outlinewidth": 0,
             "ticks": ""
            },
            "colorscale": [
             [
              0,
              "#0d0887"
             ],
             [
              0.1111111111111111,
              "#46039f"
             ],
             [
              0.2222222222222222,
              "#7201a8"
             ],
             [
              0.3333333333333333,
              "#9c179e"
             ],
             [
              0.4444444444444444,
              "#bd3786"
             ],
             [
              0.5555555555555556,
              "#d8576b"
             ],
             [
              0.6666666666666666,
              "#ed7953"
             ],
             [
              0.7777777777777778,
              "#fb9f3a"
             ],
             [
              0.8888888888888888,
              "#fdca26"
             ],
             [
              1,
              "#f0f921"
             ]
            ],
            "type": "contour"
           }
          ],
          "contourcarpet": [
           {
            "colorbar": {
             "outlinewidth": 0,
             "ticks": ""
            },
            "type": "contourcarpet"
           }
          ],
          "heatmap": [
           {
            "colorbar": {
             "outlinewidth": 0,
             "ticks": ""
            },
            "colorscale": [
             [
              0,
              "#0d0887"
             ],
             [
              0.1111111111111111,
              "#46039f"
             ],
             [
              0.2222222222222222,
              "#7201a8"
             ],
             [
              0.3333333333333333,
              "#9c179e"
             ],
             [
              0.4444444444444444,
              "#bd3786"
             ],
             [
              0.5555555555555556,
              "#d8576b"
             ],
             [
              0.6666666666666666,
              "#ed7953"
             ],
             [
              0.7777777777777778,
              "#fb9f3a"
             ],
             [
              0.8888888888888888,
              "#fdca26"
             ],
             [
              1,
              "#f0f921"
             ]
            ],
            "type": "heatmap"
           }
          ],
          "heatmapgl": [
           {
            "colorbar": {
             "outlinewidth": 0,
             "ticks": ""
            },
            "colorscale": [
             [
              0,
              "#0d0887"
             ],
             [
              0.1111111111111111,
              "#46039f"
             ],
             [
              0.2222222222222222,
              "#7201a8"
             ],
             [
              0.3333333333333333,
              "#9c179e"
             ],
             [
              0.4444444444444444,
              "#bd3786"
             ],
             [
              0.5555555555555556,
              "#d8576b"
             ],
             [
              0.6666666666666666,
              "#ed7953"
             ],
             [
              0.7777777777777778,
              "#fb9f3a"
             ],
             [
              0.8888888888888888,
              "#fdca26"
             ],
             [
              1,
              "#f0f921"
             ]
            ],
            "type": "heatmapgl"
           }
          ],
          "histogram": [
           {
            "marker": {
             "pattern": {
              "fillmode": "overlay",
              "size": 10,
              "solidity": 0.2
             }
            },
            "type": "histogram"
           }
          ],
          "histogram2d": [
           {
            "colorbar": {
             "outlinewidth": 0,
             "ticks": ""
            },
            "colorscale": [
             [
              0,
              "#0d0887"
             ],
             [
              0.1111111111111111,
              "#46039f"
             ],
             [
              0.2222222222222222,
              "#7201a8"
             ],
             [
              0.3333333333333333,
              "#9c179e"
             ],
             [
              0.4444444444444444,
              "#bd3786"
             ],
             [
              0.5555555555555556,
              "#d8576b"
             ],
             [
              0.6666666666666666,
              "#ed7953"
             ],
             [
              0.7777777777777778,
              "#fb9f3a"
             ],
             [
              0.8888888888888888,
              "#fdca26"
             ],
             [
              1,
              "#f0f921"
             ]
            ],
            "type": "histogram2d"
           }
          ],
          "histogram2dcontour": [
           {
            "colorbar": {
             "outlinewidth": 0,
             "ticks": ""
            },
            "colorscale": [
             [
              0,
              "#0d0887"
             ],
             [
              0.1111111111111111,
              "#46039f"
             ],
             [
              0.2222222222222222,
              "#7201a8"
             ],
             [
              0.3333333333333333,
              "#9c179e"
             ],
             [
              0.4444444444444444,
              "#bd3786"
             ],
             [
              0.5555555555555556,
              "#d8576b"
             ],
             [
              0.6666666666666666,
              "#ed7953"
             ],
             [
              0.7777777777777778,
              "#fb9f3a"
             ],
             [
              0.8888888888888888,
              "#fdca26"
             ],
             [
              1,
              "#f0f921"
             ]
            ],
            "type": "histogram2dcontour"
           }
          ],
          "mesh3d": [
           {
            "colorbar": {
             "outlinewidth": 0,
             "ticks": ""
            },
            "type": "mesh3d"
           }
          ],
          "parcoords": [
           {
            "line": {
             "colorbar": {
              "outlinewidth": 0,
              "ticks": ""
             }
            },
            "type": "parcoords"
           }
          ],
          "pie": [
           {
            "automargin": true,
            "type": "pie"
           }
          ],
          "scatter": [
           {
            "marker": {
             "colorbar": {
              "outlinewidth": 0,
              "ticks": ""
             }
            },
            "type": "scatter"
           }
          ],
          "scatter3d": [
           {
            "line": {
             "colorbar": {
              "outlinewidth": 0,
              "ticks": ""
             }
            },
            "marker": {
             "colorbar": {
              "outlinewidth": 0,
              "ticks": ""
             }
            },
            "type": "scatter3d"
           }
          ],
          "scattercarpet": [
           {
            "marker": {
             "colorbar": {
              "outlinewidth": 0,
              "ticks": ""
             }
            },
            "type": "scattercarpet"
           }
          ],
          "scattergeo": [
           {
            "marker": {
             "colorbar": {
              "outlinewidth": 0,
              "ticks": ""
             }
            },
            "type": "scattergeo"
           }
          ],
          "scattergl": [
           {
            "marker": {
             "colorbar": {
              "outlinewidth": 0,
              "ticks": ""
             }
            },
            "type": "scattergl"
           }
          ],
          "scattermapbox": [
           {
            "marker": {
             "colorbar": {
              "outlinewidth": 0,
              "ticks": ""
             }
            },
            "type": "scattermapbox"
           }
          ],
          "scatterpolar": [
           {
            "marker": {
             "colorbar": {
              "outlinewidth": 0,
              "ticks": ""
             }
            },
            "type": "scatterpolar"
           }
          ],
          "scatterpolargl": [
           {
            "marker": {
             "colorbar": {
              "outlinewidth": 0,
              "ticks": ""
             }
            },
            "type": "scatterpolargl"
           }
          ],
          "scatterternary": [
           {
            "marker": {
             "colorbar": {
              "outlinewidth": 0,
              "ticks": ""
             }
            },
            "type": "scatterternary"
           }
          ],
          "surface": [
           {
            "colorbar": {
             "outlinewidth": 0,
             "ticks": ""
            },
            "colorscale": [
             [
              0,
              "#0d0887"
             ],
             [
              0.1111111111111111,
              "#46039f"
             ],
             [
              0.2222222222222222,
              "#7201a8"
             ],
             [
              0.3333333333333333,
              "#9c179e"
             ],
             [
              0.4444444444444444,
              "#bd3786"
             ],
             [
              0.5555555555555556,
              "#d8576b"
             ],
             [
              0.6666666666666666,
              "#ed7953"
             ],
             [
              0.7777777777777778,
              "#fb9f3a"
             ],
             [
              0.8888888888888888,
              "#fdca26"
             ],
             [
              1,
              "#f0f921"
             ]
            ],
            "type": "surface"
           }
          ],
          "table": [
           {
            "cells": {
             "fill": {
              "color": "#EBF0F8"
             },
             "line": {
              "color": "white"
             }
            },
            "header": {
             "fill": {
              "color": "#C8D4E3"
             },
             "line": {
              "color": "white"
             }
            },
            "type": "table"
           }
          ]
         },
         "layout": {
          "annotationdefaults": {
           "arrowcolor": "#2a3f5f",
           "arrowhead": 0,
           "arrowwidth": 1
          },
          "autotypenumbers": "strict",
          "coloraxis": {
           "colorbar": {
            "outlinewidth": 0,
            "ticks": ""
           }
          },
          "colorscale": {
           "diverging": [
            [
             0,
             "#8e0152"
            ],
            [
             0.1,
             "#c51b7d"
            ],
            [
             0.2,
             "#de77ae"
            ],
            [
             0.3,
             "#f1b6da"
            ],
            [
             0.4,
             "#fde0ef"
            ],
            [
             0.5,
             "#f7f7f7"
            ],
            [
             0.6,
             "#e6f5d0"
            ],
            [
             0.7,
             "#b8e186"
            ],
            [
             0.8,
             "#7fbc41"
            ],
            [
             0.9,
             "#4d9221"
            ],
            [
             1,
             "#276419"
            ]
           ],
           "sequential": [
            [
             0,
             "#0d0887"
            ],
            [
             0.1111111111111111,
             "#46039f"
            ],
            [
             0.2222222222222222,
             "#7201a8"
            ],
            [
             0.3333333333333333,
             "#9c179e"
            ],
            [
             0.4444444444444444,
             "#bd3786"
            ],
            [
             0.5555555555555556,
             "#d8576b"
            ],
            [
             0.6666666666666666,
             "#ed7953"
            ],
            [
             0.7777777777777778,
             "#fb9f3a"
            ],
            [
             0.8888888888888888,
             "#fdca26"
            ],
            [
             1,
             "#f0f921"
            ]
           ],
           "sequentialminus": [
            [
             0,
             "#0d0887"
            ],
            [
             0.1111111111111111,
             "#46039f"
            ],
            [
             0.2222222222222222,
             "#7201a8"
            ],
            [
             0.3333333333333333,
             "#9c179e"
            ],
            [
             0.4444444444444444,
             "#bd3786"
            ],
            [
             0.5555555555555556,
             "#d8576b"
            ],
            [
             0.6666666666666666,
             "#ed7953"
            ],
            [
             0.7777777777777778,
             "#fb9f3a"
            ],
            [
             0.8888888888888888,
             "#fdca26"
            ],
            [
             1,
             "#f0f921"
            ]
           ]
          },
          "colorway": [
           "#636efa",
           "#EF553B",
           "#00cc96",
           "#ab63fa",
           "#FFA15A",
           "#19d3f3",
           "#FF6692",
           "#B6E880",
           "#FF97FF",
           "#FECB52"
          ],
          "font": {
           "color": "#2a3f5f"
          },
          "geo": {
           "bgcolor": "white",
           "lakecolor": "white",
           "landcolor": "#E5ECF6",
           "showlakes": true,
           "showland": true,
           "subunitcolor": "white"
          },
          "hoverlabel": {
           "align": "left"
          },
          "hovermode": "closest",
          "mapbox": {
           "style": "light"
          },
          "paper_bgcolor": "white",
          "plot_bgcolor": "#E5ECF6",
          "polar": {
           "angularaxis": {
            "gridcolor": "white",
            "linecolor": "white",
            "ticks": ""
           },
           "bgcolor": "#E5ECF6",
           "radialaxis": {
            "gridcolor": "white",
            "linecolor": "white",
            "ticks": ""
           }
          },
          "scene": {
           "xaxis": {
            "backgroundcolor": "#E5ECF6",
            "gridcolor": "white",
            "gridwidth": 2,
            "linecolor": "white",
            "showbackground": true,
            "ticks": "",
            "zerolinecolor": "white"
           },
           "yaxis": {
            "backgroundcolor": "#E5ECF6",
            "gridcolor": "white",
            "gridwidth": 2,
            "linecolor": "white",
            "showbackground": true,
            "ticks": "",
            "zerolinecolor": "white"
           },
           "zaxis": {
            "backgroundcolor": "#E5ECF6",
            "gridcolor": "white",
            "gridwidth": 2,
            "linecolor": "white",
            "showbackground": true,
            "ticks": "",
            "zerolinecolor": "white"
           }
          },
          "shapedefaults": {
           "line": {
            "color": "#2a3f5f"
           }
          },
          "ternary": {
           "aaxis": {
            "gridcolor": "white",
            "linecolor": "white",
            "ticks": ""
           },
           "baxis": {
            "gridcolor": "white",
            "linecolor": "white",
            "ticks": ""
           },
           "bgcolor": "#E5ECF6",
           "caxis": {
            "gridcolor": "white",
            "linecolor": "white",
            "ticks": ""
           }
          },
          "title": {
           "x": 0.05
          },
          "xaxis": {
           "automargin": true,
           "gridcolor": "white",
           "linecolor": "white",
           "ticks": "",
           "title": {
            "standoff": 15
           },
           "zerolinecolor": "white",
           "zerolinewidth": 2
          },
          "yaxis": {
           "automargin": true,
           "gridcolor": "white",
           "linecolor": "white",
           "ticks": "",
           "title": {
            "standoff": 15
           },
           "zerolinecolor": "white",
           "zerolinewidth": 2
          }
         }
        },
        "title": {
         "text": "Original"
        },
        "xaxis": {
         "anchor": "y",
         "domain": [
          0,
          1
         ],
         "title": {
          "text": "Number of Allegations"
         }
        },
        "yaxis": {
         "anchor": "x",
         "domain": [
          0,
          1
         ],
         "title": {
          "text": "Number of Officers"
         }
        }
       }
      }
     },
     "metadata": {},
     "output_type": "display_data"
    }
   ],
   "source": [
    "# plot density curve of df_vc using plotly\n",
    "fig = px.line(df_vc, x=df_vc.index, y=df_vc.values, labels={'x':'Number of Allegations', 'y':'Number of Officers'})\n",
    "fig.update_layout(title_text='Original')\n",
    "fig.show()"
   ]
  },
  {
   "cell_type": "code",
   "execution_count": 93,
   "metadata": {},
   "outputs": [
    {
     "data": {
      "application/vnd.plotly.v1+json": {
       "config": {
        "plotlyServerURL": "https://plot.ly"
       },
       "data": [
        {
         "hovertemplate": "Number of Allegations=%{x}<br>Number of Officers=%{y}<extra></extra>",
         "legendgroup": "",
         "line": {
          "color": "#636efa",
          "dash": "solid"
         },
         "marker": {
          "symbol": "circle"
         },
         "mode": "lines",
         "name": "",
         "orientation": "v",
         "showlegend": false,
         "type": "scatter",
         "x": [
          1,
          2,
          3,
          4,
          5,
          6,
          7,
          8,
          9,
          10,
          11,
          12,
          13,
          15
         ],
         "xaxis": "x",
         "y": [
          1616,
          1578,
          1384,
          1033,
          662,
          399,
          210,
          152,
          71,
          42,
          20,
          5,
          4,
          1
         ],
         "yaxis": "y"
        }
       ],
       "layout": {
        "legend": {
         "tracegroupgap": 0
        },
        "margin": {
         "t": 60
        },
        "template": {
         "data": {
          "bar": [
           {
            "error_x": {
             "color": "#2a3f5f"
            },
            "error_y": {
             "color": "#2a3f5f"
            },
            "marker": {
             "line": {
              "color": "#E5ECF6",
              "width": 0.5
             },
             "pattern": {
              "fillmode": "overlay",
              "size": 10,
              "solidity": 0.2
             }
            },
            "type": "bar"
           }
          ],
          "barpolar": [
           {
            "marker": {
             "line": {
              "color": "#E5ECF6",
              "width": 0.5
             },
             "pattern": {
              "fillmode": "overlay",
              "size": 10,
              "solidity": 0.2
             }
            },
            "type": "barpolar"
           }
          ],
          "carpet": [
           {
            "aaxis": {
             "endlinecolor": "#2a3f5f",
             "gridcolor": "white",
             "linecolor": "white",
             "minorgridcolor": "white",
             "startlinecolor": "#2a3f5f"
            },
            "baxis": {
             "endlinecolor": "#2a3f5f",
             "gridcolor": "white",
             "linecolor": "white",
             "minorgridcolor": "white",
             "startlinecolor": "#2a3f5f"
            },
            "type": "carpet"
           }
          ],
          "choropleth": [
           {
            "colorbar": {
             "outlinewidth": 0,
             "ticks": ""
            },
            "type": "choropleth"
           }
          ],
          "contour": [
           {
            "colorbar": {
             "outlinewidth": 0,
             "ticks": ""
            },
            "colorscale": [
             [
              0,
              "#0d0887"
             ],
             [
              0.1111111111111111,
              "#46039f"
             ],
             [
              0.2222222222222222,
              "#7201a8"
             ],
             [
              0.3333333333333333,
              "#9c179e"
             ],
             [
              0.4444444444444444,
              "#bd3786"
             ],
             [
              0.5555555555555556,
              "#d8576b"
             ],
             [
              0.6666666666666666,
              "#ed7953"
             ],
             [
              0.7777777777777778,
              "#fb9f3a"
             ],
             [
              0.8888888888888888,
              "#fdca26"
             ],
             [
              1,
              "#f0f921"
             ]
            ],
            "type": "contour"
           }
          ],
          "contourcarpet": [
           {
            "colorbar": {
             "outlinewidth": 0,
             "ticks": ""
            },
            "type": "contourcarpet"
           }
          ],
          "heatmap": [
           {
            "colorbar": {
             "outlinewidth": 0,
             "ticks": ""
            },
            "colorscale": [
             [
              0,
              "#0d0887"
             ],
             [
              0.1111111111111111,
              "#46039f"
             ],
             [
              0.2222222222222222,
              "#7201a8"
             ],
             [
              0.3333333333333333,
              "#9c179e"
             ],
             [
              0.4444444444444444,
              "#bd3786"
             ],
             [
              0.5555555555555556,
              "#d8576b"
             ],
             [
              0.6666666666666666,
              "#ed7953"
             ],
             [
              0.7777777777777778,
              "#fb9f3a"
             ],
             [
              0.8888888888888888,
              "#fdca26"
             ],
             [
              1,
              "#f0f921"
             ]
            ],
            "type": "heatmap"
           }
          ],
          "heatmapgl": [
           {
            "colorbar": {
             "outlinewidth": 0,
             "ticks": ""
            },
            "colorscale": [
             [
              0,
              "#0d0887"
             ],
             [
              0.1111111111111111,
              "#46039f"
             ],
             [
              0.2222222222222222,
              "#7201a8"
             ],
             [
              0.3333333333333333,
              "#9c179e"
             ],
             [
              0.4444444444444444,
              "#bd3786"
             ],
             [
              0.5555555555555556,
              "#d8576b"
             ],
             [
              0.6666666666666666,
              "#ed7953"
             ],
             [
              0.7777777777777778,
              "#fb9f3a"
             ],
             [
              0.8888888888888888,
              "#fdca26"
             ],
             [
              1,
              "#f0f921"
             ]
            ],
            "type": "heatmapgl"
           }
          ],
          "histogram": [
           {
            "marker": {
             "pattern": {
              "fillmode": "overlay",
              "size": 10,
              "solidity": 0.2
             }
            },
            "type": "histogram"
           }
          ],
          "histogram2d": [
           {
            "colorbar": {
             "outlinewidth": 0,
             "ticks": ""
            },
            "colorscale": [
             [
              0,
              "#0d0887"
             ],
             [
              0.1111111111111111,
              "#46039f"
             ],
             [
              0.2222222222222222,
              "#7201a8"
             ],
             [
              0.3333333333333333,
              "#9c179e"
             ],
             [
              0.4444444444444444,
              "#bd3786"
             ],
             [
              0.5555555555555556,
              "#d8576b"
             ],
             [
              0.6666666666666666,
              "#ed7953"
             ],
             [
              0.7777777777777778,
              "#fb9f3a"
             ],
             [
              0.8888888888888888,
              "#fdca26"
             ],
             [
              1,
              "#f0f921"
             ]
            ],
            "type": "histogram2d"
           }
          ],
          "histogram2dcontour": [
           {
            "colorbar": {
             "outlinewidth": 0,
             "ticks": ""
            },
            "colorscale": [
             [
              0,
              "#0d0887"
             ],
             [
              0.1111111111111111,
              "#46039f"
             ],
             [
              0.2222222222222222,
              "#7201a8"
             ],
             [
              0.3333333333333333,
              "#9c179e"
             ],
             [
              0.4444444444444444,
              "#bd3786"
             ],
             [
              0.5555555555555556,
              "#d8576b"
             ],
             [
              0.6666666666666666,
              "#ed7953"
             ],
             [
              0.7777777777777778,
              "#fb9f3a"
             ],
             [
              0.8888888888888888,
              "#fdca26"
             ],
             [
              1,
              "#f0f921"
             ]
            ],
            "type": "histogram2dcontour"
           }
          ],
          "mesh3d": [
           {
            "colorbar": {
             "outlinewidth": 0,
             "ticks": ""
            },
            "type": "mesh3d"
           }
          ],
          "parcoords": [
           {
            "line": {
             "colorbar": {
              "outlinewidth": 0,
              "ticks": ""
             }
            },
            "type": "parcoords"
           }
          ],
          "pie": [
           {
            "automargin": true,
            "type": "pie"
           }
          ],
          "scatter": [
           {
            "marker": {
             "colorbar": {
              "outlinewidth": 0,
              "ticks": ""
             }
            },
            "type": "scatter"
           }
          ],
          "scatter3d": [
           {
            "line": {
             "colorbar": {
              "outlinewidth": 0,
              "ticks": ""
             }
            },
            "marker": {
             "colorbar": {
              "outlinewidth": 0,
              "ticks": ""
             }
            },
            "type": "scatter3d"
           }
          ],
          "scattercarpet": [
           {
            "marker": {
             "colorbar": {
              "outlinewidth": 0,
              "ticks": ""
             }
            },
            "type": "scattercarpet"
           }
          ],
          "scattergeo": [
           {
            "marker": {
             "colorbar": {
              "outlinewidth": 0,
              "ticks": ""
             }
            },
            "type": "scattergeo"
           }
          ],
          "scattergl": [
           {
            "marker": {
             "colorbar": {
              "outlinewidth": 0,
              "ticks": ""
             }
            },
            "type": "scattergl"
           }
          ],
          "scattermapbox": [
           {
            "marker": {
             "colorbar": {
              "outlinewidth": 0,
              "ticks": ""
             }
            },
            "type": "scattermapbox"
           }
          ],
          "scatterpolar": [
           {
            "marker": {
             "colorbar": {
              "outlinewidth": 0,
              "ticks": ""
             }
            },
            "type": "scatterpolar"
           }
          ],
          "scatterpolargl": [
           {
            "marker": {
             "colorbar": {
              "outlinewidth": 0,
              "ticks": ""
             }
            },
            "type": "scatterpolargl"
           }
          ],
          "scatterternary": [
           {
            "marker": {
             "colorbar": {
              "outlinewidth": 0,
              "ticks": ""
             }
            },
            "type": "scatterternary"
           }
          ],
          "surface": [
           {
            "colorbar": {
             "outlinewidth": 0,
             "ticks": ""
            },
            "colorscale": [
             [
              0,
              "#0d0887"
             ],
             [
              0.1111111111111111,
              "#46039f"
             ],
             [
              0.2222222222222222,
              "#7201a8"
             ],
             [
              0.3333333333333333,
              "#9c179e"
             ],
             [
              0.4444444444444444,
              "#bd3786"
             ],
             [
              0.5555555555555556,
              "#d8576b"
             ],
             [
              0.6666666666666666,
              "#ed7953"
             ],
             [
              0.7777777777777778,
              "#fb9f3a"
             ],
             [
              0.8888888888888888,
              "#fdca26"
             ],
             [
              1,
              "#f0f921"
             ]
            ],
            "type": "surface"
           }
          ],
          "table": [
           {
            "cells": {
             "fill": {
              "color": "#EBF0F8"
             },
             "line": {
              "color": "white"
             }
            },
            "header": {
             "fill": {
              "color": "#C8D4E3"
             },
             "line": {
              "color": "white"
             }
            },
            "type": "table"
           }
          ]
         },
         "layout": {
          "annotationdefaults": {
           "arrowcolor": "#2a3f5f",
           "arrowhead": 0,
           "arrowwidth": 1
          },
          "autotypenumbers": "strict",
          "coloraxis": {
           "colorbar": {
            "outlinewidth": 0,
            "ticks": ""
           }
          },
          "colorscale": {
           "diverging": [
            [
             0,
             "#8e0152"
            ],
            [
             0.1,
             "#c51b7d"
            ],
            [
             0.2,
             "#de77ae"
            ],
            [
             0.3,
             "#f1b6da"
            ],
            [
             0.4,
             "#fde0ef"
            ],
            [
             0.5,
             "#f7f7f7"
            ],
            [
             0.6,
             "#e6f5d0"
            ],
            [
             0.7,
             "#b8e186"
            ],
            [
             0.8,
             "#7fbc41"
            ],
            [
             0.9,
             "#4d9221"
            ],
            [
             1,
             "#276419"
            ]
           ],
           "sequential": [
            [
             0,
             "#0d0887"
            ],
            [
             0.1111111111111111,
             "#46039f"
            ],
            [
             0.2222222222222222,
             "#7201a8"
            ],
            [
             0.3333333333333333,
             "#9c179e"
            ],
            [
             0.4444444444444444,
             "#bd3786"
            ],
            [
             0.5555555555555556,
             "#d8576b"
            ],
            [
             0.6666666666666666,
             "#ed7953"
            ],
            [
             0.7777777777777778,
             "#fb9f3a"
            ],
            [
             0.8888888888888888,
             "#fdca26"
            ],
            [
             1,
             "#f0f921"
            ]
           ],
           "sequentialminus": [
            [
             0,
             "#0d0887"
            ],
            [
             0.1111111111111111,
             "#46039f"
            ],
            [
             0.2222222222222222,
             "#7201a8"
            ],
            [
             0.3333333333333333,
             "#9c179e"
            ],
            [
             0.4444444444444444,
             "#bd3786"
            ],
            [
             0.5555555555555556,
             "#d8576b"
            ],
            [
             0.6666666666666666,
             "#ed7953"
            ],
            [
             0.7777777777777778,
             "#fb9f3a"
            ],
            [
             0.8888888888888888,
             "#fdca26"
            ],
            [
             1,
             "#f0f921"
            ]
           ]
          },
          "colorway": [
           "#636efa",
           "#EF553B",
           "#00cc96",
           "#ab63fa",
           "#FFA15A",
           "#19d3f3",
           "#FF6692",
           "#B6E880",
           "#FF97FF",
           "#FECB52"
          ],
          "font": {
           "color": "#2a3f5f"
          },
          "geo": {
           "bgcolor": "white",
           "lakecolor": "white",
           "landcolor": "#E5ECF6",
           "showlakes": true,
           "showland": true,
           "subunitcolor": "white"
          },
          "hoverlabel": {
           "align": "left"
          },
          "hovermode": "closest",
          "mapbox": {
           "style": "light"
          },
          "paper_bgcolor": "white",
          "plot_bgcolor": "#E5ECF6",
          "polar": {
           "angularaxis": {
            "gridcolor": "white",
            "linecolor": "white",
            "ticks": ""
           },
           "bgcolor": "#E5ECF6",
           "radialaxis": {
            "gridcolor": "white",
            "linecolor": "white",
            "ticks": ""
           }
          },
          "scene": {
           "xaxis": {
            "backgroundcolor": "#E5ECF6",
            "gridcolor": "white",
            "gridwidth": 2,
            "linecolor": "white",
            "showbackground": true,
            "ticks": "",
            "zerolinecolor": "white"
           },
           "yaxis": {
            "backgroundcolor": "#E5ECF6",
            "gridcolor": "white",
            "gridwidth": 2,
            "linecolor": "white",
            "showbackground": true,
            "ticks": "",
            "zerolinecolor": "white"
           },
           "zaxis": {
            "backgroundcolor": "#E5ECF6",
            "gridcolor": "white",
            "gridwidth": 2,
            "linecolor": "white",
            "showbackground": true,
            "ticks": "",
            "zerolinecolor": "white"
           }
          },
          "shapedefaults": {
           "line": {
            "color": "#2a3f5f"
           }
          },
          "ternary": {
           "aaxis": {
            "gridcolor": "white",
            "linecolor": "white",
            "ticks": ""
           },
           "baxis": {
            "gridcolor": "white",
            "linecolor": "white",
            "ticks": ""
           },
           "bgcolor": "#E5ECF6",
           "caxis": {
            "gridcolor": "white",
            "linecolor": "white",
            "ticks": ""
           }
          },
          "title": {
           "x": 0.05
          },
          "xaxis": {
           "automargin": true,
           "gridcolor": "white",
           "linecolor": "white",
           "ticks": "",
           "title": {
            "standoff": 15
           },
           "zerolinecolor": "white",
           "zerolinewidth": 2
          },
          "yaxis": {
           "automargin": true,
           "gridcolor": "white",
           "linecolor": "white",
           "ticks": "",
           "title": {
            "standoff": 15
           },
           "zerolinecolor": "white",
           "zerolinewidth": 2
          }
         }
        },
        "title": {
         "text": "Permutation Test Results"
        },
        "xaxis": {
         "anchor": "y",
         "domain": [
          0,
          1
         ],
         "title": {
          "text": "Number of Allegations"
         }
        },
        "yaxis": {
         "anchor": "x",
         "domain": [
          0,
          1
         ],
         "title": {
          "text": "Number of Officers"
         }
        }
       }
      }
     },
     "metadata": {},
     "output_type": "display_data"
    }
   ],
   "source": [
    "# plot new_df_vc using plotly\n",
    "# title is Perumtation Test Results\n",
    "fig = px.line(new_df_vc, x=new_df_vc.index, y=new_df_vc.values, labels={'x':'Number of Allegations', 'y':'Number of Officers'})\n",
    "fig.update_layout(title_text='Permutation Test Results')\n",
    "fig.show()"
   ]
  }
 ],
 "metadata": {
  "kernelspec": {
   "display_name": "Python 3.9.12 ('base')",
   "language": "python",
   "name": "python3"
  },
  "language_info": {
   "codemirror_mode": {
    "name": "ipython",
    "version": 3
   },
   "file_extension": ".py",
   "mimetype": "text/x-python",
   "name": "python",
   "nbconvert_exporter": "python",
   "pygments_lexer": "ipython3",
   "version": "3.9.12"
  },
  "orig_nbformat": 4,
  "vscode": {
   "interpreter": {
    "hash": "7d070d07219d78435f9a014cf028f78a39f3816bb48d44baa7b1c4c726092051"
   }
  }
 },
 "nbformat": 4,
 "nbformat_minor": 2
}

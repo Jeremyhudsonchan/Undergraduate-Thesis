{
 "cells": [
  {
   "cell_type": "code",
   "execution_count": 83,
   "metadata": {},
   "outputs": [],
   "source": [
    "import pandas as pd\n",
    "from sklearn.linear_model import LinearRegression\n",
    "from sklearn.preprocessing import StandardScaler\n",
    "from sklearn.preprocessing import OneHotEncoder\n",
    "import matplotlib.pyplot as plt\n",
    "import numpy as np\n",
    "from catboost import CatBoostRegressor\n",
    "from sklearn.metrics import mean_absolute_error"
   ]
  },
  {
   "cell_type": "code",
   "execution_count": 84,
   "metadata": {},
   "outputs": [],
   "source": [
    "train = pd.read_csv(\"/Users/jeremyhudsonchan/Dropbox/Files/Boston_College_Courses/Thesis/Data/Processed/2010-2014/train/officer_profile.csv\", low_memory=False)\n",
    "test = pd.read_csv(\"/Users/jeremyhudsonchan/Dropbox/Files/Boston_College_Courses/Thesis/Data/Processed/Testing/officer_profile.csv\", low_memory=False)"
   ]
  },
  {
   "cell_type": "code",
   "execution_count": 85,
   "metadata": {},
   "outputs": [],
   "source": [
    "train = train.drop(columns = ['OfficerFirst', 'OfficerLast'])\n",
    "test = test.drop(columns = ['OfficerFirst', 'OfficerLast'])"
   ]
  },
  {
   "cell_type": "code",
   "execution_count": 86,
   "metadata": {},
   "outputs": [
    {
     "data": {
      "text/plain": [
       "(Index(['OfficerID', 'Gender', 'Race', 'ApptDate', 'Rank', 'Age', 'Beat',\n",
       "        'historic_counts', 'prev_allegations', 'new_allegations'],\n",
       "       dtype='object'),\n",
       " Index(['OfficerID', 'Gender', 'Race', 'ApptDate', 'Rank', 'Age', 'Beat',\n",
       "        'historic_counts', 'prev_allegations', 'new_allegation'],\n",
       "       dtype='object'))"
      ]
     },
     "execution_count": 86,
     "metadata": {},
     "output_type": "execute_result"
    }
   ],
   "source": [
    "train.columns, test.columns"
   ]
  },
  {
   "cell_type": "code",
   "execution_count": 87,
   "metadata": {},
   "outputs": [
    {
     "name": "stdout",
     "output_type": "stream",
     "text": [
      "(50218, 10)\n",
      "(14021, 10)\n"
     ]
    }
   ],
   "source": [
    "# if beat is nan, remove row\n",
    "print(train.shape)\n",
    "train = train.dropna(subset=['Beat'])\n",
    "print(train.shape)"
   ]
  },
  {
   "cell_type": "code",
   "execution_count": 88,
   "metadata": {},
   "outputs": [
    {
     "name": "stdout",
     "output_type": "stream",
     "text": [
      "(50218, 10)\n",
      "(15380, 10)\n"
     ]
    }
   ],
   "source": [
    "print(test.shape)\n",
    "test = test.dropna(subset=['Beat'])\n",
    "print(test.shape)"
   ]
  },
  {
   "cell_type": "code",
   "execution_count": 89,
   "metadata": {},
   "outputs": [],
   "source": [
    "# if there are nan values, drop the row\n",
    "train = train.dropna()\n",
    "test = test.dropna()"
   ]
  },
  {
   "cell_type": "code",
   "execution_count": 90,
   "metadata": {},
   "outputs": [],
   "source": [
    "train[\"Beat\"] = train[\"Beat\"].astype(int)\n",
    "test[\"Beat\"] = test[\"Beat\"].astype(int)"
   ]
  },
  {
   "cell_type": "code",
   "execution_count": 91,
   "metadata": {},
   "outputs": [],
   "source": [
    "train[\"ApptDate\"] = pd.to_datetime(train[\"ApptDate\"])\n",
    "test[\"ApptDate\"] = pd.to_datetime(test[\"ApptDate\"])"
   ]
  },
  {
   "cell_type": "code",
   "execution_count": 92,
   "metadata": {},
   "outputs": [
    {
     "data": {
      "text/plain": [
       "(Index(['OfficerID', 'Gender', 'Race', 'ApptDate', 'Rank', 'Age', 'Beat',\n",
       "        'historic_counts', 'prev_allegations', 'new_allegations'],\n",
       "       dtype='object'),\n",
       " Index(['OfficerID', 'Gender', 'Race', 'ApptDate', 'Rank', 'Age', 'Beat',\n",
       "        'historic_counts', 'prev_allegations', 'new_allegation'],\n",
       "       dtype='object'))"
      ]
     },
     "execution_count": 92,
     "metadata": {},
     "output_type": "execute_result"
    }
   ],
   "source": [
    "train.columns, test.columns"
   ]
  },
  {
   "cell_type": "code",
   "execution_count": 93,
   "metadata": {},
   "outputs": [],
   "source": [
    "# change ApptDate to int\n",
    "train[\"ApptDate\"] = train[\"ApptDate\"].astype(int)\n",
    "test[\"ApptDate\"] = test[\"ApptDate\"].astype(int)"
   ]
  },
  {
   "cell_type": "code",
   "execution_count": 94,
   "metadata": {},
   "outputs": [],
   "source": [
    "# change column name of new_allegation to new_allegations\n",
    "test = test.rename(columns={\"new_allegation\": \"new_allegations\"})"
   ]
  },
  {
   "cell_type": "code",
   "execution_count": 95,
   "metadata": {},
   "outputs": [],
   "source": [
    "# new_allegation is target\n",
    "X_train = train.drop(columns = ['new_allegations'])\n",
    "y_train = train['new_allegations']\n",
    "X_test = test.drop(columns = ['new_allegations'])\n",
    "y_test = test['new_allegations']"
   ]
  },
  {
   "cell_type": "code",
   "execution_count": 96,
   "metadata": {},
   "outputs": [],
   "source": [
    "model = CatBoostRegressor(iterations=2, depth=2, learning_rate=1, loss_function='RMSE', cat_features=['Gender', 'Race', 'ApptDate', 'Beat', \"Rank\"])"
   ]
  },
  {
   "cell_type": "code",
   "execution_count": 97,
   "metadata": {},
   "outputs": [
    {
     "name": "stdout",
     "output_type": "stream",
     "text": [
      "0:\tlearn: 2.3836423\ttotal: 3.21ms\tremaining: 3.21ms\n",
      "1:\tlearn: 2.3343250\ttotal: 6ms\tremaining: 0us\n"
     ]
    },
    {
     "data": {
      "text/plain": [
       "<catboost.core.CatBoostRegressor at 0x1507132e0>"
      ]
     },
     "execution_count": 97,
     "metadata": {},
     "output_type": "execute_result"
    }
   ],
   "source": [
    "model.fit(X_train, y_train)"
   ]
  },
  {
   "cell_type": "code",
   "execution_count": 98,
   "metadata": {},
   "outputs": [
    {
     "data": {
      "text/plain": [
       "array([ 0.        ,  0.58661328,  0.        ,  0.        ,  0.        ,\n",
       "       17.3249927 ,  0.        ,  0.        , 82.08839403])"
      ]
     },
     "execution_count": 98,
     "metadata": {},
     "output_type": "execute_result"
    }
   ],
   "source": [
    "model.get_feature_importance()"
   ]
  },
  {
   "cell_type": "code",
   "execution_count": 99,
   "metadata": {},
   "outputs": [
    {
     "data": {
      "text/plain": [
       "1.4763245792127841"
      ]
     },
     "execution_count": 99,
     "metadata": {},
     "output_type": "execute_result"
    }
   ],
   "source": [
    "# get predicited results, compare to actual results\n",
    "y_pred = model.predict(X_test)\n",
    "# round to nearest integer\n",
    "y_pred = np.round(y_pred)\n",
    "mean_absolute_error(y_test, y_pred)"
   ]
  },
  {
   "cell_type": "code",
   "execution_count": 100,
   "metadata": {},
   "outputs": [
    {
     "name": "stdout",
     "output_type": "stream",
     "text": [
      "(15269, 2)\n"
     ]
    }
   ],
   "source": [
    "# make y_pred and y_test into a dataframe\n",
    "y_pred = pd.DataFrame(y_pred)\n",
    "y_test = pd.DataFrame(y_test)\n",
    "# combine y_pred and y_test into one dataframe\n",
    "y_pred = y_pred.rename(columns={0: \"y_pred\"})\n",
    "y_test = y_test.rename(columns={\"new_allegations\": \"y_test\"})\n",
    "y_pred = y_pred.reset_index(drop=True)\n",
    "y_test = y_test.reset_index(drop=True)\n",
    "y_pred = pd.concat([y_pred, y_test], axis=1)\n",
    "print(y_pred.shape)"
   ]
  },
  {
   "cell_type": "code",
   "execution_count": 101,
   "metadata": {},
   "outputs": [
    {
     "name": "stdout",
     "output_type": "stream",
     "text": [
      "    y_pred  y_test\n",
      "0      0.0     0.0\n",
      "1      0.0     0.0\n",
      "2      4.0     0.0\n",
      "3      0.0     0.0\n",
      "4      1.0     1.0\n",
      "5      1.0     0.0\n",
      "6      1.0     0.0\n",
      "7      0.0     0.0\n",
      "8      1.0     0.0\n",
      "9      1.0     0.0\n",
      "10     4.0     1.0\n",
      "11     1.0     0.0\n",
      "12     4.0     0.0\n",
      "13     1.0     0.0\n",
      "14     0.0     0.0\n",
      "15     1.0     0.0\n",
      "16     0.0     0.0\n",
      "17     0.0     0.0\n",
      "18     1.0     1.0\n",
      "19     0.0     0.0\n",
      "20     1.0     0.0\n",
      "21     0.0     1.0\n",
      "22     1.0     0.0\n",
      "23     0.0     0.0\n",
      "24     0.0     0.0\n",
      "25     1.0     0.0\n",
      "26     0.0     0.0\n",
      "27     1.0     0.0\n",
      "28     2.0     0.0\n",
      "29     4.0     1.0\n"
     ]
    }
   ],
   "source": [
    "print(y_pred.head(30))"
   ]
  }
 ],
 "metadata": {
  "kernelspec": {
   "display_name": "Python 3.10.7 64-bit",
   "language": "python",
   "name": "python3"
  },
  "language_info": {
   "codemirror_mode": {
    "name": "ipython",
    "version": 3
   },
   "file_extension": ".py",
   "mimetype": "text/x-python",
   "name": "python",
   "nbconvert_exporter": "python",
   "pygments_lexer": "ipython3",
   "version": "3.10.7"
  },
  "orig_nbformat": 4,
  "vscode": {
   "interpreter": {
    "hash": "aee8b7b246df8f9039afb4144a1f6fd8d2ca17a180786b69acc140d282b71a49"
   }
  }
 },
 "nbformat": 4,
 "nbformat_minor": 2
}

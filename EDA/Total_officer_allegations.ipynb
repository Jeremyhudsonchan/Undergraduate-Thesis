{
 "cells": [
  {
   "cell_type": "code",
   "execution_count": 91,
   "metadata": {},
   "outputs": [],
   "source": [
    "import pandas as pd\n",
    "from sklearn.linear_model import LinearRegression\n",
    "from sklearn.model_selection import train_test_split\n",
    "from sklearn.preprocessing import StandardScaler\n",
    "from sklearn.preprocessing import OneHotEncoder"
   ]
  },
  {
   "cell_type": "code",
   "execution_count": 92,
   "metadata": {},
   "outputs": [],
   "source": [
    "# Load in Dataset\n",
    "df = pd.read_csv(\"/Users/jeremyhudsonchan/Dropbox/Files/Boston_College_Courses/Thesis/Data/Processed/unique_officers.csv\")"
   ]
  },
  {
   "cell_type": "code",
   "execution_count": 93,
   "metadata": {},
   "outputs": [
    {
     "name": "stdout",
     "output_type": "stream",
     "text": [
      "Index(['OfficerID', 'OfficerFirst', 'OfficerLast', 'Gender', 'Race',\n",
      "       'ApptDate', 'Unit', 'Rank', 'Star', 'Age', 'Beat', 'num_allegations'],\n",
      "      dtype='object')\n"
     ]
    }
   ],
   "source": [
    "# Get Columns\n",
    "print(df.columns)"
   ]
  },
  {
   "cell_type": "code",
   "execution_count": 94,
   "metadata": {},
   "outputs": [],
   "source": [
    "# Drop Columns\n",
    "df = df.drop(columns=['OfficerFirst', 'OfficerLast', 'Unit', \"Star\"])"
   ]
  },
  {
   "cell_type": "code",
   "execution_count": 95,
   "metadata": {},
   "outputs": [
    {
     "name": "stdout",
     "output_type": "stream",
     "text": [
      "      OfficerID  Gender   Race  ApptDate   Rank    Age   Beat  num_allegations\n",
      "0         False   False  False     False  False  False  False            False\n",
      "1         False   False  False     False  False  False  False            False\n",
      "2         False   False  False     False  False  False  False            False\n",
      "3         False   False  False     False  False  False  False            False\n",
      "4         False   False  False     False  False  False  False            False\n",
      "...         ...     ...    ...       ...    ...    ...    ...              ...\n",
      "9396      False   False  False     False   True  False  False            False\n",
      "9397      False   False  False      True   True  False  False            False\n",
      "9398      False   False  False      True   True  False  False            False\n",
      "9399      False   False  False      True   True  False  False            False\n",
      "9400      False   False  False      True   True  False  False            False\n",
      "\n",
      "[9401 rows x 8 columns]\n",
      "      OfficerID Gender           Race  ApptDate Rank  Age    Beat  \\\n",
      "3686      31998      M       Hispanic   36458.0  NaN   46   314.0   \n",
      "3774      32183      M       Hispanic   38769.0  NaN   40  1212.0   \n",
      "3789      32219      M          White   36809.0  NaN   46  1513.0   \n",
      "3893      33782      F          Black       NaN  NaN   61  1134.0   \n",
      "3894      33832      M          Black       NaN  NaN   32   111.0   \n",
      "3895      33833      F          Black       NaN  NaN   62   213.0   \n",
      "3965       1403      M          White   20323.0  NaN   90  1833.0   \n",
      "5647      31960      M          White   36066.0  NaN   48   532.0   \n",
      "5692      32448      M          Black   31110.0  NaN   62  1811.0   \n",
      "5693      33778      M          Black       NaN  NaN   61   211.0   \n",
      "5694      33845      F          Black       NaN  NaN   39   211.0   \n",
      "6785      32340      F          Black   30284.0  NaN   62   832.0   \n",
      "7607      33848      M          White       NaN  NaN   56   122.0   \n",
      "9003      33841      F          Black       NaN  NaN   43   213.0   \n",
      "9395      32362      F  Asian/Pacific   37404.0  NaN   50  1924.0   \n",
      "9396      32463      M          White   30284.0  NaN   63   213.0   \n",
      "9397      33685      M          Black       NaN  NaN   54   213.0   \n",
      "9398      33780      F       Hispanic       NaN  NaN   57  2515.0   \n",
      "9399      33793      F          White       NaN  NaN   51   213.0   \n",
      "9400      33835      M          White       NaN  NaN   34   213.0   \n",
      "\n",
      "      num_allegations  \n",
      "3686                1  \n",
      "3774                3  \n",
      "3789                7  \n",
      "3893                1  \n",
      "3894                1  \n",
      "3895                3  \n",
      "3965                1  \n",
      "5647                2  \n",
      "5692                2  \n",
      "5693                1  \n",
      "5694                1  \n",
      "6785                1  \n",
      "7607                1  \n",
      "9003                1  \n",
      "9395                1  \n",
      "9396                1  \n",
      "9397                1  \n",
      "9398                1  \n",
      "9399                2  \n",
      "9400                1  \n",
      "      OfficerID Gender           Race  ApptDate                Rank  Age  \\\n",
      "0             1      M          White   38621.0  Sergeant Of Police   51   \n",
      "1             2      F       Hispanic   38621.0      Police Officer   42   \n",
      "2             7      M          White   35037.0      Police Officer   50   \n",
      "3            13      M          White   30284.0      Police Officer   69   \n",
      "4            16      M  Asian/Pacific   39566.0      Police Officer   38   \n",
      "...         ...    ...            ...       ...                 ...  ...   \n",
      "9390      32138      M          White   35675.0  Sergeant Of Police   59   \n",
      "9391      32140      M          White   34456.0                  Po   53   \n",
      "9392      32298      M          White   36696.0                  Po   45   \n",
      "9393      32300      M          White   36584.0                 Det   46   \n",
      "9394      32354      M  Asian/Pacific   38285.0                  Po   43   \n",
      "\n",
      "        Beat  num_allegations  \n",
      "0     1121.0                4  \n",
      "1     1511.0                5  \n",
      "2     1613.0                2  \n",
      "3     1655.0                1  \n",
      "4      832.0               14  \n",
      "...      ...              ...  \n",
      "9390  1112.0                1  \n",
      "9391   522.0                1  \n",
      "9392   421.0                2  \n",
      "9393  1923.0                1  \n",
      "9394  1513.0                1  \n",
      "\n",
      "[9381 rows x 8 columns]\n"
     ]
    }
   ],
   "source": [
    "print(df.isnull())\n",
    "# get index of rows with null values\n",
    "null_data = df[df.isnull().any(axis=1)]\n",
    "print(null_data)\n",
    "# drop rows with null values\n",
    "df = df.dropna()\n",
    "print(df)"
   ]
  },
  {
   "cell_type": "code",
   "execution_count": 96,
   "metadata": {},
   "outputs": [
    {
     "name": "stdout",
     "output_type": "stream",
     "text": [
      "      OfficerID Gender           Race  ApptDate                Rank  Age  \\\n",
      "0             1      M          White   38621.0  Sergeant Of Police   51   \n",
      "1             2      F       Hispanic   38621.0      Police Officer   42   \n",
      "2             7      M          White   35037.0      Police Officer   50   \n",
      "3            13      M          White   30284.0      Police Officer   69   \n",
      "4            16      M  Asian/Pacific   39566.0      Police Officer   38   \n",
      "...         ...    ...            ...       ...                 ...  ...   \n",
      "9390      32138      M          White   35675.0  Sergeant Of Police   59   \n",
      "9391      32140      M          White   34456.0                  Po   53   \n",
      "9392      32298      M          White   36696.0                  Po   45   \n",
      "9393      32300      M          White   36584.0                 Det   46   \n",
      "9394      32354      M  Asian/Pacific   38285.0                  Po   43   \n",
      "\n",
      "        Beat  \n",
      "0     1121.0  \n",
      "1     1511.0  \n",
      "2     1613.0  \n",
      "3     1655.0  \n",
      "4      832.0  \n",
      "...      ...  \n",
      "9390  1112.0  \n",
      "9391   522.0  \n",
      "9392   421.0  \n",
      "9393  1923.0  \n",
      "9394  1513.0  \n",
      "\n",
      "[9381 rows x 7 columns] 0        4\n",
      "1        5\n",
      "2        2\n",
      "3        1\n",
      "4       14\n",
      "        ..\n",
      "9390     1\n",
      "9391     1\n",
      "9392     2\n",
      "9393     1\n",
      "9394     1\n",
      "Name: num_allegations, Length: 9381, dtype: int64\n"
     ]
    }
   ],
   "source": [
    "target = df[\"num_allegations\"]\n",
    "data = df.drop(columns=[\"num_allegations\"])\n",
    "print(data, target)"
   ]
  },
  {
   "cell_type": "code",
   "execution_count": 97,
   "metadata": {},
   "outputs": [
    {
     "name": "stdout",
     "output_type": "stream",
     "text": [
      "       1    2    3    4    5    6    7    8    9    10  ...   30   31   32  \\\n",
      "0     1.0  0.0  0.0  0.0  0.0  1.0  0.0  0.0  0.0  0.0  ...  0.0  0.0  0.0   \n",
      "1     0.0  0.0  0.0  1.0  0.0  0.0  0.0  0.0  0.0  0.0  ...  0.0  0.0  0.0   \n",
      "2     1.0  0.0  0.0  0.0  0.0  1.0  0.0  0.0  0.0  0.0  ...  0.0  0.0  0.0   \n",
      "3     1.0  0.0  0.0  0.0  0.0  1.0  0.0  0.0  0.0  0.0  ...  0.0  0.0  0.0   \n",
      "4     1.0  1.0  0.0  0.0  0.0  0.0  0.0  0.0  0.0  0.0  ...  0.0  0.0  0.0   \n",
      "...   ...  ...  ...  ...  ...  ...  ...  ...  ...  ...  ...  ...  ...  ...   \n",
      "9376  1.0  0.0  0.0  0.0  0.0  1.0  0.0  0.0  0.0  0.0  ...  0.0  0.0  0.0   \n",
      "9377  1.0  0.0  0.0  0.0  0.0  1.0  0.0  0.0  0.0  0.0  ...  0.0  0.0  0.0   \n",
      "9378  1.0  0.0  0.0  0.0  0.0  1.0  0.0  0.0  0.0  0.0  ...  0.0  0.0  0.0   \n",
      "9379  1.0  0.0  0.0  0.0  0.0  1.0  0.0  0.0  0.0  0.0  ...  0.0  0.0  0.0   \n",
      "9380  1.0  1.0  0.0  0.0  0.0  0.0  0.0  0.0  0.0  0.0  ...  0.0  0.0  0.0   \n",
      "\n",
      "       33   34   35   36   37   38   39  \n",
      "0     0.0  0.0  0.0  0.0  1.0  0.0  0.0  \n",
      "1     0.0  0.0  0.0  1.0  0.0  0.0  0.0  \n",
      "2     0.0  0.0  0.0  1.0  0.0  0.0  0.0  \n",
      "3     0.0  0.0  0.0  1.0  0.0  0.0  0.0  \n",
      "4     0.0  0.0  0.0  1.0  0.0  0.0  0.0  \n",
      "...   ...  ...  ...  ...  ...  ...  ...  \n",
      "9376  0.0  0.0  0.0  0.0  1.0  0.0  0.0  \n",
      "9377  0.0  0.0  0.0  0.0  0.0  0.0  0.0  \n",
      "9378  0.0  0.0  0.0  0.0  0.0  0.0  0.0  \n",
      "9379  0.0  0.0  0.0  0.0  0.0  0.0  0.0  \n",
      "9380  0.0  0.0  0.0  0.0  0.0  0.0  0.0  \n",
      "\n",
      "[9381 rows x 39 columns]\n"
     ]
    }
   ],
   "source": [
    "# Use one hot encoding on the columns: Gender, Race, Rank\n",
    "enc = OneHotEncoder(handle_unknown='ignore')\n",
    "temp_df = data[[\"Gender\", \"Race\", \"Rank\"]]\n",
    "enc_df = pd.DataFrame(enc.fit_transform(temp_df).toarray())\n",
    "# drop index column\n",
    "enc_df = enc_df.drop(columns=[0])\n",
    "print(enc_df)"
   ]
  },
  {
   "cell_type": "code",
   "execution_count": 98,
   "metadata": {},
   "outputs": [
    {
     "name": "stdout",
     "output_type": "stream",
     "text": [
      "      OfficerID  ApptDate  Age    Beat    1    2    3    4    5    6  ...  \\\n",
      "0             1   38621.0   51  1121.0  1.0  0.0  0.0  0.0  0.0  1.0  ...   \n",
      "1             2   38621.0   42  1511.0  0.0  0.0  0.0  1.0  0.0  0.0  ...   \n",
      "2             7   35037.0   50  1613.0  1.0  0.0  0.0  0.0  0.0  1.0  ...   \n",
      "3            13   30284.0   69  1655.0  1.0  0.0  0.0  0.0  0.0  1.0  ...   \n",
      "4            16   39566.0   38   832.0  1.0  1.0  0.0  0.0  0.0  0.0  ...   \n",
      "...         ...       ...  ...     ...  ...  ...  ...  ...  ...  ...  ...   \n",
      "9390      32138   35675.0   59  1112.0  NaN  NaN  NaN  NaN  NaN  NaN  ...   \n",
      "9391      32140   34456.0   53   522.0  NaN  NaN  NaN  NaN  NaN  NaN  ...   \n",
      "9392      32298   36696.0   45   421.0  NaN  NaN  NaN  NaN  NaN  NaN  ...   \n",
      "9393      32300   36584.0   46  1923.0  NaN  NaN  NaN  NaN  NaN  NaN  ...   \n",
      "9394      32354   38285.0   43  1513.0  NaN  NaN  NaN  NaN  NaN  NaN  ...   \n",
      "\n",
      "       30   31   32   33   34   35   36   37   38   39  \n",
      "0     0.0  0.0  0.0  0.0  0.0  0.0  0.0  1.0  0.0  0.0  \n",
      "1     0.0  0.0  0.0  0.0  0.0  0.0  1.0  0.0  0.0  0.0  \n",
      "2     0.0  0.0  0.0  0.0  0.0  0.0  1.0  0.0  0.0  0.0  \n",
      "3     0.0  0.0  0.0  0.0  0.0  0.0  1.0  0.0  0.0  0.0  \n",
      "4     0.0  0.0  0.0  0.0  0.0  0.0  1.0  0.0  0.0  0.0  \n",
      "...   ...  ...  ...  ...  ...  ...  ...  ...  ...  ...  \n",
      "9390  NaN  NaN  NaN  NaN  NaN  NaN  NaN  NaN  NaN  NaN  \n",
      "9391  NaN  NaN  NaN  NaN  NaN  NaN  NaN  NaN  NaN  NaN  \n",
      "9392  NaN  NaN  NaN  NaN  NaN  NaN  NaN  NaN  NaN  NaN  \n",
      "9393  NaN  NaN  NaN  NaN  NaN  NaN  NaN  NaN  NaN  NaN  \n",
      "9394  NaN  NaN  NaN  NaN  NaN  NaN  NaN  NaN  NaN  NaN  \n",
      "\n",
      "[9381 rows x 43 columns]\n"
     ]
    }
   ],
   "source": [
    "# join with the original dataframe, index column is the common column\n",
    "data = data.join(enc_df, how='left')\n",
    "data = data.drop(columns=[\"Gender\", \"Race\", \"Rank\"])\n",
    "print(data)"
   ]
  },
  {
   "cell_type": "code",
   "execution_count": 99,
   "metadata": {},
   "outputs": [],
   "source": [
    "# frequency encoding on the column Beat\n",
    "beat_freq = data[\"Beat\"].value_counts()\n",
    "data[\"Beat\"] = data[\"Beat\"].map(beat_freq)\n",
    "\n",
    "officerid = data[\"OfficerID\"].value_counts()\n",
    "data[\"OfficerID\"] = data[\"OfficerID\"].map(officerid)\n",
    "\n",
    "# divide ApptDate column by 1000\n",
    "data[\"ApptDate\"] = data[\"ApptDate\"] / 1000\n",
    "\n",
    "# combine data and target\n",
    "data = data.join(target, how='left')\n",
    "# drop rows with null values\n",
    "data = data.dropna()\n",
    "# separate data and target\n",
    "target = data[\"num_allegations\"]\n",
    "data = data.drop(columns=[\"num_allegations\"])\n"
   ]
  },
  {
   "cell_type": "code",
   "execution_count": 100,
   "metadata": {},
   "outputs": [
    {
     "name": "stdout",
     "output_type": "stream",
     "text": [
      "0.06574998603396431\n"
     ]
    },
    {
     "name": "stderr",
     "output_type": "stream",
     "text": [
      "/Users/jeremyhudsonchan/opt/anaconda3/lib/python3.9/site-packages/sklearn/utils/validation.py:1688: FutureWarning: Feature names only support names that are all strings. Got feature names with dtypes: ['int', 'str']. An error will be raised in 1.2.\n",
      "  warnings.warn(\n",
      "/Users/jeremyhudsonchan/opt/anaconda3/lib/python3.9/site-packages/sklearn/utils/validation.py:1688: FutureWarning: Feature names only support names that are all strings. Got feature names with dtypes: ['int', 'str']. An error will be raised in 1.2.\n",
      "  warnings.warn(\n"
     ]
    }
   ],
   "source": [
    "lr = LinearRegression()\n",
    "\n",
    "X_train, X_test, y_train, y_test = train_test_split(data, target, test_size=0.2, random_state=42)\n",
    "\n",
    "lr.fit(X_train, y_train)\n",
    "print(lr.score(X_test, y_test))\n"
   ]
  }
 ],
 "metadata": {
  "kernelspec": {
   "display_name": "Python 3.9.12 ('base')",
   "language": "python",
   "name": "python3"
  },
  "language_info": {
   "codemirror_mode": {
    "name": "ipython",
    "version": 3
   },
   "file_extension": ".py",
   "mimetype": "text/x-python",
   "name": "python",
   "nbconvert_exporter": "python",
   "pygments_lexer": "ipython3",
   "version": "3.9.12"
  },
  "orig_nbformat": 4,
  "vscode": {
   "interpreter": {
    "hash": "7d070d07219d78435f9a014cf028f78a39f3816bb48d44baa7b1c4c726092051"
   }
  }
 },
 "nbformat": 4,
 "nbformat_minor": 2
}

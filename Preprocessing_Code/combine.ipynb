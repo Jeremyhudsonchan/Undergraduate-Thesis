{
  "cells": [
    {
      "cell_type": "code",
      "execution_count": null,
      "metadata": {
        "id": "q_KjFWN122nw"
      },
      "outputs": [],
      "source": [
        "import pandas as pd"
      ]
    },
    {
      "cell_type": "code",
      "execution_count": null,
      "metadata": {
        "id": "vYFT1xgC3vhN"
      },
      "outputs": [],
      "source": [
        "\n",
        "# Load Excel Sheets using ExcelFile\n",
        "ten = pd.ExcelFile('Data/Website/2010_allegation.xlsx')\n",
        "eleven = pd.ExcelFile('Data/Website/2011_allegation.xlsx')\n",
        "twelve = pd.ExcelFile('Data/Website/2012_allegation.xlsx')\n",
        "thirteen = pd.ExcelFile('Data/Website/2013_allegation.xlsx')\n",
        "fourteen = pd.ExcelFile('Data/Website/2014_allegation.xlsx')\n",
        "fifteen = pd.ExcelFile('Data/Website/2015_allegation.xlsx')\n",
        "sixteen = pd.ExcelFile('Data/Website/2016_allegation.xlsx')\n",
        "\n",
        "# Select excel sheet allegations from excel file\n",
        "allegations_10 = ten.parse('Allegations')\n",
        "allegations_11 = eleven.parse('Allegations')\n",
        "allegations_12 = twelve.parse('Allegations')\n",
        "allegations_13 = thirteen.parse('Allegations')\n",
        "allegations_14 = fourteen.parse('Allegations')\n",
        "allegations_15 = fifteen.parse('Allegations')\n",
        "allegations_16 = sixteen.parse('Allegations')\n",
        "\n",
        "# combine allegations from 2010-2016 into one csv\n",
        "allegations = pd.concat([allegations_10, allegations_11, allegations_12, allegations_13,\n",
        "                        allegations_14, allegations_15, allegations_16], ignore_index=True)\n",
        "# save to csv\n",
        "allegations.to_csv('Data/allegations.csv', index=False)"
      ]
    },
    {
      "cell_type": "code",
      "execution_count": null,
      "metadata": {
        "id": "J-7_cNaz3zqk"
      },
      "outputs": [],
      "source": [
        "# Select excel sheet Police Witnesses from excel file\n",
        "police_witnesses_10 = ten.parse('Police Witnesses')\n",
        "police_witnesses_11 = eleven.parse('Police Witnesses')\n",
        "police_witnesses_12 = twelve.parse('Police Witnesses')\n",
        "police_witnesses_13 = thirteen.parse('Police Witnesses')\n",
        "police_witnesses_14 = fourteen.parse('Police Witnesses')\n",
        "police_witnesses_15 = fifteen.parse('Police Witnesses')\n",
        "police_witnesses_16 = sixteen.parse('Police Witnesses')\n",
        "\n",
        "# combine police_witnesses from 2010-2016 into one csv\n",
        "police_witnesses = pd.concat([police_witnesses_10, police_witnesses_11, police_witnesses_12, police_witnesses_13,\n",
        "                              police_witnesses_14, police_witnesses_15, police_witnesses_16], ignore_index=True)\n",
        "# combine police_witnesses from 2010-2016 into one csv\n",
        "police_witnesses.to_csv('Data/police_witnesses.csv', index=False)"
      ]
    },
    {
      "cell_type": "code",
      "execution_count": null,
      "metadata": {
        "id": "uxjz6y4231cH"
      },
      "outputs": [],
      "source": [
        "# Get Complaining Witnesses from excel file\n",
        "complaining_witnesses_10 = ten.parse('Complaining Witnesses')\n",
        "complaining_witnesses_11 = eleven.parse('Complaining Witnesses')\n",
        "complaining_witnesses_12 = twelve.parse('Complaining Witnesses')\n",
        "complaining_witnesses_13 = thirteen.parse('Complaining Witnesses')\n",
        "complaining_witnesses_14 = fourteen.parse('Complaining Witnesses')\n",
        "complaining_witnesses_15 = fifteen.parse('Complaining Witnesses')\n",
        "complaining_witnesses_16 = sixteen.parse('Complaining Witnesses')\n",
        "\n",
        "# combine complaining_witnesses from 2010-2016 into one csv\n",
        "complaining_witnesses = pd.concat([complaining_witnesses_10, complaining_witnesses_11, complaining_witnesses_12, complaining_witnesses_13,\n",
        "                                   complaining_witnesses_14, complaining_witnesses_15, complaining_witnesses_16], ignore_index=True)\n",
        "# save to csv\n",
        "complaining_witnesses.to_csv('Data/complaining_witnesses.csv', index=False)"
      ]
    },
    {
      "cell_type": "code",
      "execution_count": null,
      "metadata": {
        "id": "qpBWcVn63358"
      },
      "outputs": [],
      "source": [
        "# Select Excel Sheet Officer Profile from excel file\n",
        "officer_profile_10 = ten.parse('Officer Profile')\n",
        "officer_profile_11 = eleven.parse('Officer Profile')\n",
        "officer_profile_12 = twelve.parse('Officer Profile')\n",
        "officer_profile_13 = thirteen.parse('Officer Profile')\n",
        "officer_profile_14 = fourteen.parse('Officer Profile')\n",
        "officer_profile_15 = fifteen.parse('Officer Profile')\n",
        "officer_profile_16 = sixteen.parse('Officer Profile')\n",
        "\n",
        "# Combine Officer Profile from 2010-2016 into one csv\n",
        "officer_profile = pd.concat([officer_profile_10, officer_profile_11, officer_profile_12, officer_profile_13,\n",
        "                            officer_profile_14, officer_profile_15, officer_profile_16], ignore_index=True)\n",
        "# combine all officer progiles into one csv\n",
        "officer_profile.to_csv('Data/officer_profile.csv', index=False)"
      ]
    }
  ],
  "metadata": {
    "colab": {
      "collapsed_sections": [],
      "provenance": []
    },
    "kernelspec": {
      "display_name": "Python 3.9.12 ('base')",
      "language": "python",
      "name": "python3"
    },
    "language_info": {
      "name": "python",
      "version": "3.9.12"
    },
    "vscode": {
      "interpreter": {
        "hash": "7d070d07219d78435f9a014cf028f78a39f3816bb48d44baa7b1c4c726092051"
      }
    }
  },
  "nbformat": 4,
  "nbformat_minor": 0
}

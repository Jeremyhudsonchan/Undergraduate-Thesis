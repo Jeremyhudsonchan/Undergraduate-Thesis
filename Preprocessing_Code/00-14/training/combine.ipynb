{
  "cells": [
    {
      "cell_type": "code",
      "execution_count": 1,
      "metadata": {
        "id": "q_KjFWN122nw"
      },
      "outputs": [],
      "source": [
        "import pandas as pd"
      ]
    },
    {
      "cell_type": "code",
      "execution_count": 2,
      "metadata": {
        "id": "vYFT1xgC3vhN"
      },
      "outputs": [],
      "source": [
        "\n",
        "# Load Excel Sheets using ExcelFile\n",
        "zero = pd.ExcelFile('/Users/jeremyhudsonchan/Dropbox/Files/Boston_College_Courses/Thesis/Data/Website/2000_allegation.xlsx')\n",
        "one = pd.ExcelFile('/Users/jeremyhudsonchan/Dropbox/Files/Boston_College_Courses/Thesis//Data/Website/2001_allegation.xlsx')\n",
        "two = pd.ExcelFile('/Users/jeremyhudsonchan/Dropbox/Files/Boston_College_Courses/Thesis/Data/Website/2002_allegation.xlsx')\n",
        "three = pd.ExcelFile('/Users/jeremyhudsonchan/Dropbox/Files/Boston_College_Courses/Thesis/Data/Website/2003_allegation.xlsx')\n",
        "four = pd.ExcelFile('/Users/jeremyhudsonchan/Dropbox/Files/Boston_College_Courses/Thesis/Data/Website/2004_allegation.xlsx')\n",
        "five = pd.ExcelFile('/Users/jeremyhudsonchan/Dropbox/Files/Boston_College_Courses/Thesis/Data/Website/2005_allegation.xlsx')\n",
        "six = pd.ExcelFile('/Users/jeremyhudsonchan/Dropbox/Files/Boston_College_Courses/Thesis/Data/Website/2006_allegation.xlsx')\n",
        "seven = pd.ExcelFile('/Users/jeremyhudsonchan/Dropbox/Files/Boston_College_Courses/Thesis/Data/Website/2007_allegation.xlsx')\n",
        "eight = pd.ExcelFile('/Users/jeremyhudsonchan/Dropbox/Files/Boston_College_Courses/Thesis/Data/Website/2008_allegation.xlsx')\n",
        "nine = pd.ExcelFile('/Users/jeremyhudsonchan/Dropbox/Files/Boston_College_Courses/Thesis/Data/Website/2009_allegation.xlsx')\n",
        "ten = pd.ExcelFile('/Users/jeremyhudsonchan/Dropbox/Files/Boston_College_Courses/Thesis/Data/Website/2010_allegation.xlsx')\n",
        "eleven = pd.ExcelFile('/Users/jeremyhudsonchan/Dropbox/Files/Boston_College_Courses/Thesis//Data/Website/2011_allegation.xlsx')\n",
        "twelve = pd.ExcelFile('/Users/jeremyhudsonchan/Dropbox/Files/Boston_College_Courses/Thesis/Data/Website/2012_allegation.xlsx')\n",
        "thirteen = pd.ExcelFile('/Users/jeremyhudsonchan/Dropbox/Files/Boston_College_Courses/Thesis/Data/Website/2013_allegation.xlsx')\n",
        "fourteen = pd.ExcelFile('/Users/jeremyhudsonchan/Dropbox/Files/Boston_College_Courses/Thesis/Data/Website/2014_allegation.xlsx')\n",
        "# fifteen = pd.ExcelFile('/Users/jeremyhudsonchan/Dropbox/Files/Boston_College_Courses/Thesis/Data/Website/2015_allegation.xlsx')\n",
        "# sixteen = pd.ExcelFile('/Users/jeremyhudsonchan/Dropbox/Files/Boston_College_Courses/Thesis/Data/Website/2016_allegation.xlsx')\n",
        "\n",
        "# Select excel sheet allegations from excel file\n",
        "allegations_00 = zero.parse('Allegations')\n",
        "allegations_01 = one.parse('Allegations')\n",
        "allegations_02 = two.parse('Allegations')\n",
        "allegations_03 = three.parse('Allegations')\n",
        "allegations_04 = four.parse('Allegations')\n",
        "allegations_05 = five.parse('Allegations')\n",
        "allegations_06 = six.parse('Allegations')\n",
        "allegations_07 = seven.parse('Allegations')\n",
        "allegations_08 = eight.parse('Allegations')\n",
        "allegations_09 = nine.parse('Allegations')\n",
        "allegations_10 = ten.parse('Allegations')\n",
        "allegations_11 = eleven.parse('Allegations')\n",
        "allegations_12 = twelve.parse('Allegations')\n",
        "allegations_13 = thirteen.parse('Allegations')\n",
        "allegations_14 = fourteen.parse('Allegations')\n",
        "# allegations_15 = fifteen.parse('Allegations')\n",
        "# allegations_16 = sixteen.parse('Allegations')\n",
        "\n",
        "# combine allegations from 2010-2016 into one csv\n",
        "allegations = pd.concat([allegations_00, allegations_01, allegations_02, allegations_03, allegations_04, allegations_05, allegations_06, allegations_07, allegations_08, allegations_09, allegations_10, allegations_11, allegations_12, allegations_13,\n",
        "                        allegations_14], ignore_index=True)\n",
        "# save to csv\n",
        "allegations.to_csv('/Users/jeremyhudsonchan/Dropbox/Files/Boston_College_Courses/Thesis/Data/2000-2014/allegations.csv', index=False)"
      ]
    },
    {
      "cell_type": "code",
      "execution_count": 3,
      "metadata": {
        "id": "J-7_cNaz3zqk"
      },
      "outputs": [],
      "source": [
        "# Select excel sheet Police Witnesses from excel file\n",
        "police_witnesses_00 = zero.parse('Police Witnesses')\n",
        "police_witnesses_01 = one.parse('Police Witnesses')\n",
        "police_witnesses_02 = two.parse('Police Witnesses')\n",
        "police_witnesses_03 = three.parse('Police Witnesses')\n",
        "police_witnesses_04 = four.parse('Police Witnesses')\n",
        "police_witnesses_05 = five.parse('Police Witnesses')\n",
        "police_witnesses_06 = six.parse('Police Witnesses')\n",
        "police_witnesses_07 = seven.parse('Police Witnesses')\n",
        "police_witnesses_08 = eight.parse('Police Witnesses')\n",
        "police_witnesses_09 = nine.parse('Police Witnesses')\n",
        "police_witnesses_10 = ten.parse('Police Witnesses')\n",
        "police_witnesses_11 = eleven.parse('Police Witnesses')\n",
        "police_witnesses_12 = twelve.parse('Police Witnesses')\n",
        "police_witnesses_13 = thirteen.parse('Police Witnesses')\n",
        "police_witnesses_14 = fourteen.parse('Police Witnesses')\n",
        "# police_witnesses_15 = fifteen.parse('Police Witnesses')\n",
        "# police_witnesses_16 = sixteen.parse('Police Witnesses')\n",
        "\n",
        "# combine police_witnesses from 2010-2016 into one csv\n",
        "police_witnesses = pd.concat([police_witnesses_00, police_witnesses_01, police_witnesses_02, police_witnesses_03, police_witnesses_04, police_witnesses_05, police_witnesses_06, police_witnesses_07, police_witnesses_08, police_witnesses_09, police_witnesses_10, police_witnesses_11, police_witnesses_12, police_witnesses_13,\n",
        "                              police_witnesses_14], ignore_index=True)\n",
        "# combine police_witnesses from 2010-2016 into one csv\n",
        "police_witnesses.to_csv('/Users/jeremyhudsonchan/Dropbox/Files/Boston_College_Courses/Thesis/Data/2000-2014/police_witnesses.csv', index=False)"
      ]
    },
    {
      "cell_type": "code",
      "execution_count": 5,
      "metadata": {
        "id": "uxjz6y4231cH"
      },
      "outputs": [],
      "source": [
        "# Get Complaining Witnesses from excel file\n",
        "complaining_witnesses_00 = zero.parse('Complaining Witnesses')\n",
        "complaining_witnesses_01 = one.parse('Complaining Witnesses')\n",
        "complaining_witnesses_02 = two.parse('Complaining Witnesses')\n",
        "complaining_witnesses_03 = three.parse('Complaining Witnesses')\n",
        "complaining_witnesses_04 = four.parse('Complaining Witnesses')\n",
        "complaining_witnesses_05 = five.parse('Complaining Witnesses')\n",
        "complaining_witnesses_06 = six.parse('Complaining Witnesses')\n",
        "complaining_witnesses_07 = seven.parse('Complaining Witnesses')\n",
        "complaining_witnesses_08 = eight.parse('Complaining Witnesses')\n",
        "complaining_witnesses_09 = nine.parse('Complaining Witnesses')\n",
        "complaining_witnesses_10 = ten.parse('Complaining Witnesses')\n",
        "complaining_witnesses_11 = eleven.parse('Complaining Witnesses')\n",
        "complaining_witnesses_12 = twelve.parse('Complaining Witnesses')\n",
        "complaining_witnesses_13 = thirteen.parse('Complaining Witnesses')\n",
        "complaining_witnesses_14 = fourteen.parse('Complaining Witnesses')\n",
        "# complaining_witnesses_15 = fifteen.parse('Complaining Witnesses')\n",
        "# complaining_witnesses_16 = sixteen.parse('Complaining Witnesses')\n",
        "\n",
        "# combine complaining_witnesses from 2010-2016 into one csv\n",
        "complaining_witnesses = pd.concat([complaining_witnesses_00, complaining_witnesses_01, complaining_witnesses_02, complaining_witnesses_03, complaining_witnesses_04, complaining_witnesses_05, complaining_witnesses_06, complaining_witnesses_07, complaining_witnesses_08, complaining_witnesses_09, complaining_witnesses_10, complaining_witnesses_11, complaining_witnesses_12, complaining_witnesses_13,\n",
        "                                   complaining_witnesses_14], ignore_index=True)\n",
        "# save to csv\n",
        "complaining_witnesses.to_csv('/Users/jeremyhudsonchan/Dropbox/Files/Boston_College_Courses/Thesis/Data/2000-2014/complaining_witnesses.csv', index=False)"
      ]
    },
    {
      "cell_type": "code",
      "execution_count": 6,
      "metadata": {
        "id": "qpBWcVn63358"
      },
      "outputs": [],
      "source": [
        "# Select Excel Sheet Officer Profile from excel file\n",
        "officer_profile_00 = zero.parse('Officer Profile')\n",
        "officer_profile_01 = one.parse('Officer Profile')\n",
        "officer_profile_02 = two.parse('Officer Profile')\n",
        "officer_profile_03 = three.parse('Officer Profile')\n",
        "officer_profile_04 = four.parse('Officer Profile')\n",
        "officer_profile_05 = five.parse('Officer Profile')\n",
        "officer_profile_06 = six.parse('Officer Profile')\n",
        "officer_profile_07 = seven.parse('Officer Profile')\n",
        "officer_profile_08 = eight.parse('Officer Profile')\n",
        "officer_profile_09 = nine.parse('Officer Profile')\n",
        "officer_profile_10 = ten.parse('Officer Profile')\n",
        "officer_profile_11 = eleven.parse('Officer Profile')\n",
        "officer_profile_12 = twelve.parse('Officer Profile')\n",
        "officer_profile_13 = thirteen.parse('Officer Profile')\n",
        "officer_profile_14 = fourteen.parse('Officer Profile')\n",
        "# officer_profile_15 = fifteen.parse('Officer Profile')\n",
        "# officer_profile_16 = sixteen.parse('Officer Profile')\n",
        "\n",
        "# Combine Officer Profile from 2010-2016 into one csv\n",
        "officer_profile = pd.concat([officer_profile_00, officer_profile_01, officer_profile_02, officer_profile_03, officer_profile_04, officer_profile_05, officer_profile_06, officer_profile_07, officer_profile_08, officer_profile_09, officer_profile_10, officer_profile_11, officer_profile_12, officer_profile_13,\n",
        "                            officer_profile_14], ignore_index=True)\n",
        "# combine all officer progiles into one csv\n",
        "officer_profile.to_csv('/Users/jeremyhudsonchan/Dropbox/Files/Boston_College_Courses/Thesis/Data/2000-2014/officer_profile.csv', index=False)"
      ]
    }
  ],
  "metadata": {
    "colab": {
      "collapsed_sections": [],
      "provenance": []
    },
    "kernelspec": {
      "display_name": "Python 3.9.12 ('base')",
      "language": "python",
      "name": "python3"
    },
    "language_info": {
      "codemirror_mode": {
        "name": "ipython",
        "version": 3
      },
      "file_extension": ".py",
      "mimetype": "text/x-python",
      "name": "python",
      "nbconvert_exporter": "python",
      "pygments_lexer": "ipython3",
      "version": "3.9.12"
    },
    "vscode": {
      "interpreter": {
        "hash": "7d070d07219d78435f9a014cf028f78a39f3816bb48d44baa7b1c4c726092051"
      }
    }
  },
  "nbformat": 4,
  "nbformat_minor": 0
}

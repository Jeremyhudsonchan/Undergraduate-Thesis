{
  "cells": [
    {
      "cell_type": "code",
      "execution_count": 8,
      "metadata": {
        "id": "Te7CXvWA8K-1"
      },
      "outputs": [],
      "source": [
        "import pandas as pd"
      ]
    },
    {
      "cell_type": "code",
      "execution_count": 9,
      "metadata": {
        "id": "CfhNcC2c8Yop"
      },
      "outputs": [],
      "source": [
        "df = pd.read_csv(\"/Users/jeremyhudsonchan/Dropbox/Files/Boston_College_Courses/Thesis/Data/Pre-2010/00-09_allegations.csv\", low_memory=False)\n",
        "profile_df = pd.read_csv(\"/Users/jeremyhudsonchan/Dropbox/Files/Boston_College_Courses/Thesis/Data/Pre-2010/00-09_officer_profile.csv\", low_memory=False)"
      ]
    },
    {
      "cell_type": "code",
      "execution_count": 10,
      "metadata": {},
      "outputs": [],
      "source": [
        "# count number of times each beat appers in the allegations dataset\n",
        "beat_counts = df['Beat'].value_counts()"
      ]
    },
    {
      "cell_type": "code",
      "execution_count": 11,
      "metadata": {},
      "outputs": [
        {
          "name": "stdout",
          "output_type": "stream",
          "text": [
            "1134.0    1267\n",
            "531.0     1262\n",
            "3100.0    1214\n",
            "713.0     1176\n",
            "621.0     1096\n",
            "          ... \n",
            "114.0        2\n",
            "1221.0       1\n",
            "1235.0       1\n",
            "235.0        1\n",
            "1934.0       1\n",
            "Name: Beat, Length: 269, dtype: int64\n"
          ]
        }
      ],
      "source": [
        "print(beat_counts)"
      ]
    },
    {
      "cell_type": "code",
      "execution_count": 13,
      "metadata": {},
      "outputs": [
        {
          "name": "stdout",
          "output_type": "stream",
          "text": [
            "       Beat  Count\n",
            "0    1134.0   1267\n",
            "1     531.0   1262\n",
            "2    3100.0   1214\n",
            "3     713.0   1176\n",
            "4     621.0   1096\n",
            "..      ...    ...\n",
            "264   114.0      2\n",
            "265  1221.0      1\n",
            "266  1235.0      1\n",
            "267   235.0      1\n",
            "268  1934.0      1\n",
            "\n",
            "[269 rows x 2 columns]\n"
          ]
        }
      ],
      "source": [
        "# export this to a csv, first column is Beat, second column is count\n",
        "# make into a dataframe\n",
        "beat_counts_df = pd.DataFrame(beat_counts)\n",
        "beat_counts_df.reset_index(level=0, inplace=True)\n",
        "beat_counts_df.columns = ['Beat', 'Count']\n",
        "print(beat_counts_df)"
      ]
    },
    {
      "cell_type": "code",
      "execution_count": 15,
      "metadata": {},
      "outputs": [],
      "source": [
        "# drop indexes\n",
        "beat_counts_df = beat_counts_df.reset_index(drop=True)\n",
        "beat_counts_df.to_csv(\"/Users/jeremyhudsonchan/Dropbox/Files/Boston_College_Courses/Thesis/Data/Pre-2010/00-09_beat_counts.csv\")\n"
      ]
    }
  ],
  "metadata": {
    "colab": {
      "collapsed_sections": [],
      "provenance": []
    },
    "kernelspec": {
      "display_name": "Python 3.9.12 ('base')",
      "language": "python",
      "name": "python3"
    },
    "language_info": {
      "codemirror_mode": {
        "name": "ipython",
        "version": 3
      },
      "file_extension": ".py",
      "mimetype": "text/x-python",
      "name": "python",
      "nbconvert_exporter": "python",
      "pygments_lexer": "ipython3",
      "version": "3.9.12"
    },
    "vscode": {
      "interpreter": {
        "hash": "7d070d07219d78435f9a014cf028f78a39f3816bb48d44baa7b1c4c726092051"
      }
    }
  },
  "nbformat": 4,
  "nbformat_minor": 0
}

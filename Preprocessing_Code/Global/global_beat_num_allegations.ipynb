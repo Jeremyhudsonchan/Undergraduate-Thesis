{
  "cells": [
    {
      "cell_type": "code",
      "execution_count": 36,
      "metadata": {
        "id": "Te7CXvWA8K-1"
      },
      "outputs": [],
      "source": [
        "import pandas as pd"
      ]
    },
    {
      "cell_type": "code",
      "execution_count": 37,
      "metadata": {
        "id": "CfhNcC2c8Yop"
      },
      "outputs": [],
      "source": [
        "df = pd.read_csv(\"/Users/jeremyhudsonchan/Dropbox/Files/Boston_College_Courses/Thesis/Data/2000-2016/allegations.csv\", low_memory=False)\n",
        "profile_df = pd.read_csv(\"/Users/jeremyhudsonchan/Dropbox/Files/Boston_College_Courses/Thesis/Data/2000-2016/officer_profile.csv\", low_memory=False)"
      ]
    },
    {
      "cell_type": "code",
      "execution_count": 38,
      "metadata": {
        "colab": {
          "base_uri": "https://localhost:8080/"
        },
        "id": "NTPaqzVq8roX",
        "outputId": "01cc0591-34bc-45c2-daf8-08ce714e7073"
      },
      "outputs": [
        {
          "data": {
            "text/plain": [
              "Index(['CRID', 'OfficerID', 'OfficeFirst', 'OfficerLast', 'AllegationCode',\n",
              "       'Category', 'Allegation', 'RecommendedFinding', 'RecommendedOutcome',\n",
              "       'FinalFinding', 'FinalOutcome', 'Finding', 'Outcome', 'Beat',\n",
              "       'Location', 'Add1', 'Add2', 'City', 'IncidentDate', 'StartDate',\n",
              "       'EndDate', 'InvestigatorName', 'InvestigatorRank', 'Latitude',\n",
              "       'Longitude'],\n",
              "      dtype='object')"
            ]
          },
          "execution_count": 38,
          "metadata": {},
          "output_type": "execute_result"
        }
      ],
      "source": [
        "df.shape\n",
        "df.columns"
      ]
    },
    {
      "cell_type": "code",
      "execution_count": 39,
      "metadata": {
        "colab": {
          "base_uri": "https://localhost:8080/",
          "height": 508
        },
        "id": "FdkGt0P59UWX",
        "outputId": "20b4fca5-3dca-4e64-d470-dc76012674c7"
      },
      "outputs": [
        {
          "data": {
            "text/html": [
              "<div>\n",
              "<style scoped>\n",
              "    .dataframe tbody tr th:only-of-type {\n",
              "        vertical-align: middle;\n",
              "    }\n",
              "\n",
              "    .dataframe tbody tr th {\n",
              "        vertical-align: top;\n",
              "    }\n",
              "\n",
              "    .dataframe thead th {\n",
              "        text-align: right;\n",
              "    }\n",
              "</style>\n",
              "<table border=\"1\" class=\"dataframe\">\n",
              "  <thead>\n",
              "    <tr style=\"text-align: right;\">\n",
              "      <th></th>\n",
              "      <th>CRID</th>\n",
              "      <th>OfficerID</th>\n",
              "      <th>OfficeFirst</th>\n",
              "      <th>OfficerLast</th>\n",
              "      <th>AllegationCode</th>\n",
              "      <th>Category</th>\n",
              "      <th>Allegation</th>\n",
              "      <th>RecommendedFinding</th>\n",
              "      <th>RecommendedOutcome</th>\n",
              "      <th>FinalFinding</th>\n",
              "      <th>...</th>\n",
              "      <th>Beat</th>\n",
              "      <th>Location</th>\n",
              "      <th>Add1</th>\n",
              "      <th>Add2</th>\n",
              "      <th>City</th>\n",
              "      <th>IncidentDate</th>\n",
              "      <th>StartDate</th>\n",
              "      <th>EndDate</th>\n",
              "      <th>InvestigatorName</th>\n",
              "      <th>InvestigatorRank</th>\n",
              "    </tr>\n",
              "  </thead>\n",
              "  <tbody>\n",
              "    <tr>\n",
              "      <th>0</th>\n",
              "      <td>C251775</td>\n",
              "      <td>29265</td>\n",
              "      <td>James</td>\n",
              "      <td>Valenzano</td>\n",
              "      <td>08M</td>\n",
              "      <td>Criminal Misconduct</td>\n",
              "      <td>Other Felony</td>\n",
              "      <td>NaN</td>\n",
              "      <td>NaN</td>\n",
              "      <td>NS</td>\n",
              "      <td>...</td>\n",
              "      <td>NaN</td>\n",
              "      <td>NaN</td>\n",
              "      <td>NaN</td>\n",
              "      <td>NaN</td>\n",
              "      <td>NaN</td>\n",
              "      <td>2000-02-19 00:00:00</td>\n",
              "      <td>1999-02-19</td>\n",
              "      <td>2000-04-04</td>\n",
              "      <td>NaN</td>\n",
              "      <td>NaN</td>\n",
              "    </tr>\n",
              "    <tr>\n",
              "      <th>1</th>\n",
              "      <td>C255605</td>\n",
              "      <td>22231</td>\n",
              "      <td>Albert</td>\n",
              "      <td>Perez</td>\n",
              "      <td>10Z</td>\n",
              "      <td>Operation/Personnel Violations</td>\n",
              "      <td>Miscellaneous</td>\n",
              "      <td>NaN</td>\n",
              "      <td>NaN</td>\n",
              "      <td>NS</td>\n",
              "      <td>...</td>\n",
              "      <td>NaN</td>\n",
              "      <td>NaN</td>\n",
              "      <td>NaN</td>\n",
              "      <td>NaN</td>\n",
              "      <td>NaN</td>\n",
              "      <td>2000-08-06 00:00:00</td>\n",
              "      <td>1999-08-05</td>\n",
              "      <td>2001-06-04</td>\n",
              "      <td>NaN</td>\n",
              "      <td>NaN</td>\n",
              "    </tr>\n",
              "    <tr>\n",
              "      <th>2</th>\n",
              "      <td>C255605</td>\n",
              "      <td>15930</td>\n",
              "      <td>Allen</td>\n",
              "      <td>Lee</td>\n",
              "      <td>10Z</td>\n",
              "      <td>Operation/Personnel Violations</td>\n",
              "      <td>Miscellaneous</td>\n",
              "      <td>NaN</td>\n",
              "      <td>NaN</td>\n",
              "      <td>NS</td>\n",
              "      <td>...</td>\n",
              "      <td>NaN</td>\n",
              "      <td>NaN</td>\n",
              "      <td>NaN</td>\n",
              "      <td>NaN</td>\n",
              "      <td>NaN</td>\n",
              "      <td>2000-08-06 00:00:00</td>\n",
              "      <td>1999-08-05</td>\n",
              "      <td>2001-06-04</td>\n",
              "      <td>NaN</td>\n",
              "      <td>NaN</td>\n",
              "    </tr>\n",
              "    <tr>\n",
              "      <th>3</th>\n",
              "      <td>C255605</td>\n",
              "      <td>1314</td>\n",
              "      <td>Donald</td>\n",
              "      <td>Barker</td>\n",
              "      <td>10Z</td>\n",
              "      <td>Operation/Personnel Violations</td>\n",
              "      <td>Miscellaneous</td>\n",
              "      <td>NaN</td>\n",
              "      <td>NaN</td>\n",
              "      <td>NS</td>\n",
              "      <td>...</td>\n",
              "      <td>NaN</td>\n",
              "      <td>NaN</td>\n",
              "      <td>NaN</td>\n",
              "      <td>NaN</td>\n",
              "      <td>NaN</td>\n",
              "      <td>2000-08-06 00:00:00</td>\n",
              "      <td>1999-08-05</td>\n",
              "      <td>2001-06-04</td>\n",
              "      <td>NaN</td>\n",
              "      <td>NaN</td>\n",
              "    </tr>\n",
              "    <tr>\n",
              "      <th>4</th>\n",
              "      <td>C255605</td>\n",
              "      <td>23634</td>\n",
              "      <td>Mark</td>\n",
              "      <td>Regal</td>\n",
              "      <td>10Z</td>\n",
              "      <td>Operation/Personnel Violations</td>\n",
              "      <td>Miscellaneous</td>\n",
              "      <td>NaN</td>\n",
              "      <td>NaN</td>\n",
              "      <td>NS</td>\n",
              "      <td>...</td>\n",
              "      <td>NaN</td>\n",
              "      <td>NaN</td>\n",
              "      <td>NaN</td>\n",
              "      <td>NaN</td>\n",
              "      <td>NaN</td>\n",
              "      <td>2000-08-06 00:00:00</td>\n",
              "      <td>1999-08-05</td>\n",
              "      <td>2001-06-04</td>\n",
              "      <td>NaN</td>\n",
              "      <td>NaN</td>\n",
              "    </tr>\n",
              "  </tbody>\n",
              "</table>\n",
              "<p>5 rows × 23 columns</p>\n",
              "</div>"
            ],
            "text/plain": [
              "      CRID  OfficerID OfficeFirst OfficerLast AllegationCode  \\\n",
              "0  C251775      29265       James   Valenzano            08M   \n",
              "1  C255605      22231      Albert       Perez            10Z   \n",
              "2  C255605      15930       Allen         Lee            10Z   \n",
              "3  C255605       1314      Donald      Barker            10Z   \n",
              "4  C255605      23634        Mark       Regal            10Z   \n",
              "\n",
              "                         Category     Allegation RecommendedFinding  \\\n",
              "0             Criminal Misconduct   Other Felony                NaN   \n",
              "1  Operation/Personnel Violations  Miscellaneous                NaN   \n",
              "2  Operation/Personnel Violations  Miscellaneous                NaN   \n",
              "3  Operation/Personnel Violations  Miscellaneous                NaN   \n",
              "4  Operation/Personnel Violations  Miscellaneous                NaN   \n",
              "\n",
              "   RecommendedOutcome FinalFinding  ...  Beat Location Add1  Add2 City  \\\n",
              "0                 NaN           NS  ...   NaN      NaN  NaN   NaN  NaN   \n",
              "1                 NaN           NS  ...   NaN      NaN  NaN   NaN  NaN   \n",
              "2                 NaN           NS  ...   NaN      NaN  NaN   NaN  NaN   \n",
              "3                 NaN           NS  ...   NaN      NaN  NaN   NaN  NaN   \n",
              "4                 NaN           NS  ...   NaN      NaN  NaN   NaN  NaN   \n",
              "\n",
              "          IncidentDate   StartDate     EndDate InvestigatorName  \\\n",
              "0  2000-02-19 00:00:00  1999-02-19  2000-04-04              NaN   \n",
              "1  2000-08-06 00:00:00  1999-08-05  2001-06-04              NaN   \n",
              "2  2000-08-06 00:00:00  1999-08-05  2001-06-04              NaN   \n",
              "3  2000-08-06 00:00:00  1999-08-05  2001-06-04              NaN   \n",
              "4  2000-08-06 00:00:00  1999-08-05  2001-06-04              NaN   \n",
              "\n",
              "  InvestigatorRank  \n",
              "0              NaN  \n",
              "1              NaN  \n",
              "2              NaN  \n",
              "3              NaN  \n",
              "4              NaN  \n",
              "\n",
              "[5 rows x 23 columns]"
            ]
          },
          "execution_count": 39,
          "metadata": {},
          "output_type": "execute_result"
        }
      ],
      "source": [
        "df.dropna()\n",
        "df = df.drop([\"Latitude\",\"Longitude\"], axis=1)\n",
        "df.shape\n",
        "df.head()"
      ]
    },
    {
      "cell_type": "code",
      "execution_count": 40,
      "metadata": {
        "colab": {
          "base_uri": "https://localhost:8080/",
          "height": 206
        },
        "id": "2KT_Hy8tB1f5",
        "outputId": "0052dceb-fa92-4f71-d182-f247356ab272"
      },
      "outputs": [
        {
          "data": {
            "text/html": [
              "<div>\n",
              "<style scoped>\n",
              "    .dataframe tbody tr th:only-of-type {\n",
              "        vertical-align: middle;\n",
              "    }\n",
              "\n",
              "    .dataframe tbody tr th {\n",
              "        vertical-align: top;\n",
              "    }\n",
              "\n",
              "    .dataframe thead th {\n",
              "        text-align: right;\n",
              "    }\n",
              "</style>\n",
              "<table border=\"1\" class=\"dataframe\">\n",
              "  <thead>\n",
              "    <tr style=\"text-align: right;\">\n",
              "      <th></th>\n",
              "      <th>OfficerID</th>\n",
              "      <th>OfficeFirst</th>\n",
              "      <th>OfficerLast</th>\n",
              "    </tr>\n",
              "  </thead>\n",
              "  <tbody>\n",
              "    <tr>\n",
              "      <th>0</th>\n",
              "      <td>29265</td>\n",
              "      <td>James</td>\n",
              "      <td>Valenzano</td>\n",
              "    </tr>\n",
              "    <tr>\n",
              "      <th>1</th>\n",
              "      <td>22231</td>\n",
              "      <td>Albert</td>\n",
              "      <td>Perez</td>\n",
              "    </tr>\n",
              "    <tr>\n",
              "      <th>2</th>\n",
              "      <td>15930</td>\n",
              "      <td>Allen</td>\n",
              "      <td>Lee</td>\n",
              "    </tr>\n",
              "    <tr>\n",
              "      <th>3</th>\n",
              "      <td>1314</td>\n",
              "      <td>Donald</td>\n",
              "      <td>Barker</td>\n",
              "    </tr>\n",
              "    <tr>\n",
              "      <th>4</th>\n",
              "      <td>23634</td>\n",
              "      <td>Mark</td>\n",
              "      <td>Regal</td>\n",
              "    </tr>\n",
              "  </tbody>\n",
              "</table>\n",
              "</div>"
            ],
            "text/plain": [
              "   OfficerID OfficeFirst OfficerLast\n",
              "0      29265       James   Valenzano\n",
              "1      22231      Albert       Perez\n",
              "2      15930       Allen         Lee\n",
              "3       1314      Donald      Barker\n",
              "4      23634        Mark       Regal"
            ]
          },
          "execution_count": 40,
          "metadata": {},
          "output_type": "execute_result"
        }
      ],
      "source": [
        "# Note Complaint Register ID Number (CRID)\n",
        "allegations_officers_df = df[[\"OfficerID\",\"OfficeFirst\",\"OfficerLast\"]]\n",
        "allegations_officers_df.head()"
      ]
    },
    {
      "cell_type": "code",
      "execution_count": 41,
      "metadata": {
        "id": "8iQIA2tkCogP"
      },
      "outputs": [],
      "source": [
        "officers = pd.unique(allegations_officers_df[\"OfficerID\"]).shape"
      ]
    },
    {
      "cell_type": "code",
      "execution_count": 42,
      "metadata": {
        "colab": {
          "base_uri": "https://localhost:8080/"
        },
        "id": "4LVcO8EKR7Vz",
        "outputId": "a781a55b-4a67-40b4-c02f-4d02c74f20ef"
      },
      "outputs": [
        {
          "data": {
            "text/plain": [
              "(276,)"
            ]
          },
          "execution_count": 42,
          "metadata": {},
          "output_type": "execute_result"
        }
      ],
      "source": [
        "pd.unique(df[\"Beat\"]).shape"
      ]
    },
    {
      "cell_type": "code",
      "execution_count": 43,
      "metadata": {
        "colab": {
          "base_uri": "https://localhost:8080/"
        },
        "id": "BrCWZeDwD1ih",
        "outputId": "d16dce37-738c-4e42-c734-7068f7faf6c7"
      },
      "outputs": [
        {
          "data": {
            "text/plain": [
              "Index(['OfficerID', 'OfficerFirst', 'OfficerLast', 'Gender', 'Race',\n",
              "       'ApptDate', 'Unit', 'Rank', 'Star', 'Age'],\n",
              "      dtype='object')"
            ]
          },
          "execution_count": 43,
          "metadata": {},
          "output_type": "execute_result"
        }
      ],
      "source": [
        "profile_df.columns"
      ]
    },
    {
      "cell_type": "code",
      "execution_count": 44,
      "metadata": {
        "id": "hbNSE1EGF1kF"
      },
      "outputs": [],
      "source": [
        "officers_2 = pd.unique(profile_df[\"OfficerID\"]).shape"
      ]
    },
    {
      "cell_type": "code",
      "execution_count": 45,
      "metadata": {
        "colab": {
          "base_uri": "https://localhost:8080/"
        },
        "id": "dzYaP4NRJz9O",
        "outputId": "ab85a6f0-53f8-46ca-e2e8-b58ba41d7b83"
      },
      "outputs": [
        {
          "data": {
            "text/plain": [
              "(16368, 10)"
            ]
          },
          "execution_count": 45,
          "metadata": {},
          "output_type": "execute_result"
        }
      ],
      "source": [
        "unique_officers = profile_df.drop_duplicates(subset=\"OfficerID\")\n",
        "unique_officers.shape"
      ]
    },
    {
      "cell_type": "code",
      "execution_count": 48,
      "metadata": {
        "colab": {
          "base_uri": "https://localhost:8080/"
        },
        "id": "g6ww4gx_W_6l",
        "outputId": "471f6952-460d-4d36-f882-0a7e7fca87eb"
      },
      "outputs": [
        {
          "name": "stderr",
          "output_type": "stream",
          "text": [
            "/var/folders/64/7cc975tn74sb3dg4ztck8zsw0000gn/T/ipykernel_54179/2406453936.py:2: SettingWithCopyWarning: \n",
            "A value is trying to be set on a copy of a slice from a DataFrame.\n",
            "Try using .loc[row_indexer,col_indexer] = value instead\n",
            "\n",
            "See the caveats in the documentation: https://pandas.pydata.org/pandas-docs/stable/user_guide/indexing.html#returning-a-view-versus-a-copy\n",
            "  unique_officers[\"Beat\"] = 0\n",
            "/var/folders/64/7cc975tn74sb3dg4ztck8zsw0000gn/T/ipykernel_54179/2406453936.py:3: SettingWithCopyWarning: \n",
            "A value is trying to be set on a copy of a slice from a DataFrame.\n",
            "Try using .loc[row_indexer,col_indexer] = value instead\n",
            "\n",
            "See the caveats in the documentation: https://pandas.pydata.org/pandas-docs/stable/user_guide/indexing.html#returning-a-view-versus-a-copy\n",
            "  unique_officers[\"Beat\"] = unique_officers[\"Beat\"].astype(float)\n"
          ]
        },
        {
          "data": {
            "text/plain": [
              "Index(['OfficerID', 'OfficerFirst', 'OfficerLast', 'Gender', 'Race',\n",
              "       'ApptDate', 'Unit', 'Rank', 'Star', 'Age', 'Beat'],\n",
              "      dtype='object')"
            ]
          },
          "execution_count": 48,
          "metadata": {},
          "output_type": "execute_result"
        }
      ],
      "source": [
        "# Make a new column in unique_officers called \"Beat\" where the value is a float\n",
        "unique_officers[\"Beat\"] = 0\n",
        "unique_officers[\"Beat\"] = unique_officers[\"Beat\"].astype(float)\n",
        "# unique_officers[\"Beat\"] = 0.0\n",
        "unique_officers.columns"
      ]
    },
    {
      "cell_type": "code",
      "execution_count": 49,
      "metadata": {
        "colab": {
          "base_uri": "https://localhost:8080/"
        },
        "id": "Q6liHoA6be8O",
        "outputId": "19fd41cc-703a-46aa-a76f-5a75a3cc1aa2"
      },
      "outputs": [],
      "source": [
        "for index, row in unique_officers.iterrows():\n",
        "  unique_officers.loc[index, \"Beat\"] = df.loc[df[\"OfficerID\"] == row[\"OfficerID\"], \"Beat\"].iloc[0]"
      ]
    },
    {
      "cell_type": "code",
      "execution_count": 50,
      "metadata": {},
      "outputs": [],
      "source": [
        "# Load Excel Sheets using ExcelFile\n",
        "zero = pd.ExcelFile('/Users/jeremyhudsonchan/Dropbox/Files/Boston_College_Courses/Thesis/Data/Website/2000_allegation.xlsx')\n",
        "one = pd.ExcelFile('/Users/jeremyhudsonchan/Dropbox/Files/Boston_College_Courses/Thesis//Data/Website/2001_allegation.xlsx')\n",
        "two = pd.ExcelFile('/Users/jeremyhudsonchan/Dropbox/Files/Boston_College_Courses/Thesis/Data/Website/2002_allegation.xlsx')\n",
        "three = pd.ExcelFile('/Users/jeremyhudsonchan/Dropbox/Files/Boston_College_Courses/Thesis/Data/Website/2003_allegation.xlsx')\n",
        "four = pd.ExcelFile('/Users/jeremyhudsonchan/Dropbox/Files/Boston_College_Courses/Thesis/Data/Website/2004_allegation.xlsx')\n",
        "five = pd.ExcelFile('/Users/jeremyhudsonchan/Dropbox/Files/Boston_College_Courses/Thesis/Data/Website/2005_allegation.xlsx')\n",
        "six = pd.ExcelFile('/Users/jeremyhudsonchan/Dropbox/Files/Boston_College_Courses/Thesis/Data/Website/2006_allegation.xlsx')\n",
        "seven = pd.ExcelFile('/Users/jeremyhudsonchan/Dropbox/Files/Boston_College_Courses/Thesis/Data/Website/2007_allegation.xlsx')\n",
        "eight = pd.ExcelFile('/Users/jeremyhudsonchan/Dropbox/Files/Boston_College_Courses/Thesis/Data/Website/2008_allegation.xlsx')\n",
        "nine = pd.ExcelFile('/Users/jeremyhudsonchan/Dropbox/Files/Boston_College_Courses/Thesis/Data/Website/2009_allegation.xlsx')\n",
        "ten = pd.ExcelFile('/Users/jeremyhudsonchan/Dropbox/Files/Boston_College_Courses/Thesis/Data/Website/2010_allegation.xlsx')\n",
        "eleven = pd.ExcelFile('/Users/jeremyhudsonchan/Dropbox/Files/Boston_College_Courses/Thesis//Data/Website/2011_allegation.xlsx')\n",
        "twelve = pd.ExcelFile('/Users/jeremyhudsonchan/Dropbox/Files/Boston_College_Courses/Thesis/Data/Website/2012_allegation.xlsx')\n",
        "thirteen = pd.ExcelFile('/Users/jeremyhudsonchan/Dropbox/Files/Boston_College_Courses/Thesis/Data/Website/2013_allegation.xlsx')\n",
        "fourteen = pd.ExcelFile('/Users/jeremyhudsonchan/Dropbox/Files/Boston_College_Courses/Thesis/Data/Website/2014_allegation.xlsx')\n",
        "fifteen = pd.ExcelFile('/Users/jeremyhudsonchan/Dropbox/Files/Boston_College_Courses/Thesis/Data/Website/2015_allegation.xlsx')\n",
        "sixteen = pd.ExcelFile('/Users/jeremyhudsonchan/Dropbox/Files/Boston_College_Courses/Thesis/Data/Website/2016_allegation.xlsx')"
      ]
    },
    {
      "cell_type": "code",
      "execution_count": 51,
      "metadata": {},
      "outputs": [],
      "source": [
        "# Select excel sheet allegations from excel file\n",
        "allegations_00 = zero.parse('Allegations')\n",
        "allegations_01 = one.parse('Allegations')\n",
        "allegations_02 = two.parse('Allegations')\n",
        "allegations_03 = three.parse('Allegations')\n",
        "allegations_04 = four.parse('Allegations')\n",
        "allegations_05 = five.parse('Allegations')\n",
        "allegations_06 = six.parse('Allegations')\n",
        "allegations_07 = seven.parse('Allegations')\n",
        "allegations_08 = eight.parse('Allegations')\n",
        "allegations_09 = nine.parse('Allegations')\n",
        "allegations_10 = ten.parse('Allegations')\n",
        "allegations_11 = eleven.parse('Allegations')\n",
        "allegations_12 = twelve.parse('Allegations')\n",
        "allegations_13 = thirteen.parse('Allegations')\n",
        "allegations_14 = fourteen.parse('Allegations')\n",
        "allegations_15 = fifteen.parse('Allegations')\n",
        "allegations_16 = sixteen.parse('Allegations')\n",
        "\n",
        "# combine allegations from 2010-2016 into one csv\n",
        "allegations = pd.concat([allegations_00, allegations_01, allegations_02, allegations_03, allegations_04, allegations_05, allegations_06, allegations_07, allegations_08, allegations_09, allegations_10, allegations_11, allegations_12, allegations_13,\n",
        "                        allegations_14, allegations_15, allegations_16], ignore_index=True)"
      ]
    },
    {
      "cell_type": "code",
      "execution_count": 52,
      "metadata": {},
      "outputs": [
        {
          "name": "stdout",
          "output_type": "stream",
          "text": [
            "   OfficerID  allegations\n",
            "0          1            6\n",
            "1          2            8\n",
            "2          4            2\n",
            "3          6            4\n",
            "4          7            5\n"
          ]
        },
        {
          "name": "stderr",
          "output_type": "stream",
          "text": [
            "/var/folders/64/7cc975tn74sb3dg4ztck8zsw0000gn/T/ipykernel_54179/3749225212.py:3: SettingWithCopyWarning: \n",
            "A value is trying to be set on a copy of a slice from a DataFrame.\n",
            "Try using .loc[row_indexer,col_indexer] = value instead\n",
            "\n",
            "See the caveats in the documentation: https://pandas.pydata.org/pandas-docs/stable/user_guide/indexing.html#returning-a-view-versus-a-copy\n",
            "  unique_officers['num_allegations'] = unique_officers['OfficerID'].map(allegations_count.set_index('OfficerID')['allegations'])\n"
          ]
        }
      ],
      "source": [
        "allegations_count = allegations.groupby('OfficerID').size().reset_index(name='allegations')\n",
        "print(allegations_count.head())\n",
        "unique_officers['num_allegations'] = unique_officers['OfficerID'].map(allegations_count.set_index('OfficerID')['allegations'])"
      ]
    },
    {
      "cell_type": "code",
      "execution_count": 53,
      "metadata": {
        "colab": {
          "base_uri": "https://localhost:8080/"
        },
        "id": "MabiLQ9FjWWQ",
        "outputId": "1f52925d-1e7f-4858-aff3-aaa2be8a59e4"
      },
      "outputs": [
        {
          "data": {
            "text/plain": [
              "(16368, 12)"
            ]
          },
          "execution_count": 53,
          "metadata": {},
          "output_type": "execute_result"
        }
      ],
      "source": [
        "unique_officers.shape"
      ]
    },
    {
      "cell_type": "code",
      "execution_count": 54,
      "metadata": {
        "colab": {
          "base_uri": "https://localhost:8080/"
        },
        "id": "3T3Sn0VejBV2",
        "outputId": "1dcda1b5-ac5a-4443-cbeb-68684d06c7e9"
      },
      "outputs": [
        {
          "data": {
            "text/plain": [
              "(10038, 12)"
            ]
          },
          "execution_count": 54,
          "metadata": {},
          "output_type": "execute_result"
        }
      ],
      "source": [
        "unique_officers = unique_officers.dropna(subset=[\"Beat\"])\n",
        "unique_officers.shape"
      ]
    },
    {
      "cell_type": "code",
      "execution_count": 55,
      "metadata": {},
      "outputs": [
        {
          "name": "stdout",
          "output_type": "stream",
          "text": [
            "    OfficerID OfficerFirst OfficerLast Gender      Race  ApptDate  Unit  \\\n",
            "18         92        James       Adams      M     White   34485.0   NaN   \n",
            "21         95        Jerry       Adams      M     White   21900.0   NaN   \n",
            "32        143      Juanita    Adegbore      F     Black   35555.0   NaN   \n",
            "40        190       Daniel    Aguilera      M  Hispanic   33588.0   NaN   \n",
            "43        200      Richard    Aguinaga      M  Hispanic   26231.0   NaN   \n",
            "\n",
            "                  Rank  Star  Age    Beat  num_allegations  \n",
            "18     Po As Detective   NaN   52  2532.0               14  \n",
            "21  Sergeant Of Police   NaN   88   131.0               12  \n",
            "32      Police Officer   NaN   57   531.0                9  \n",
            "40      Police Officer   NaN   66   511.0               13  \n",
            "43   Captain Of Police   NaN   72  1134.0                9  \n"
          ]
        }
      ],
      "source": [
        "print(unique_officers.head())"
      ]
    },
    {
      "cell_type": "code",
      "execution_count": 57,
      "metadata": {
        "id": "Bd-sB0HSKET1"
      },
      "outputs": [],
      "source": [
        "unique_officers.to_csv(\"/Users/jeremyhudsonchan/Dropbox/Files/Boston_College_Courses/Thesis/Data/Processed/unique_officers.csv\", index=False)"
      ]
    }
  ],
  "metadata": {
    "colab": {
      "collapsed_sections": [],
      "provenance": []
    },
    "kernelspec": {
      "display_name": "Python 3.9.12 ('base')",
      "language": "python",
      "name": "python3"
    },
    "language_info": {
      "codemirror_mode": {
        "name": "ipython",
        "version": 3
      },
      "file_extension": ".py",
      "mimetype": "text/x-python",
      "name": "python",
      "nbconvert_exporter": "python",
      "pygments_lexer": "ipython3",
      "version": "3.9.12"
    },
    "vscode": {
      "interpreter": {
        "hash": "7d070d07219d78435f9a014cf028f78a39f3816bb48d44baa7b1c4c726092051"
      }
    }
  },
  "nbformat": 4,
  "nbformat_minor": 0
}

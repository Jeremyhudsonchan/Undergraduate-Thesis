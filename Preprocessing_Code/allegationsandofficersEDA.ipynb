{
  "cells": [
    {
      "cell_type": "code",
      "execution_count": 1,
      "metadata": {
        "id": "Te7CXvWA8K-1"
      },
      "outputs": [],
      "source": [
        "import pandas as pd"
      ]
    },
    {
      "cell_type": "code",
      "execution_count": 5,
      "metadata": {
        "id": "CfhNcC2c8Yop"
      },
      "outputs": [],
      "source": [
        "df = pd.read_csv(\"/Users/jeremyhudsonchan/Dropbox/Files/Boston_College_Courses/Thesis/Data/Totals/allegations.csv\", low_memory=False)\n",
        "profile_df = pd.read_csv(\"/Users/jeremyhudsonchan/Dropbox/Files/Boston_College_Courses/Thesis/Data/Totals/officer_profile.csv\", low_memory=False)"
      ]
    },
    {
      "cell_type": "code",
      "execution_count": 6,
      "metadata": {
        "colab": {
          "base_uri": "https://localhost:8080/"
        },
        "id": "NTPaqzVq8roX",
        "outputId": "01cc0591-34bc-45c2-daf8-08ce714e7073"
      },
      "outputs": [
        {
          "data": {
            "text/plain": [
              "Index(['CRID', 'OfficerID', 'OfficeFirst', 'OfficerLast', 'AllegationCode',\n",
              "       'Category', 'Allegation', 'RecommendedFinding', 'RecommendedOutcome',\n",
              "       'FinalFinding', 'FinalOutcome', 'Finding', 'Outcome', 'Beat',\n",
              "       'Location', 'Add1', 'Add2', 'City', 'IncidentDate', 'StartDate',\n",
              "       'EndDate', 'InvestigatorName', 'InvestigatorRank', 'Latitude',\n",
              "       'Longitude'],\n",
              "      dtype='object')"
            ]
          },
          "execution_count": 6,
          "metadata": {},
          "output_type": "execute_result"
        }
      ],
      "source": [
        "df.shape\n",
        "df.columns"
      ]
    },
    {
      "cell_type": "code",
      "execution_count": 7,
      "metadata": {
        "colab": {
          "base_uri": "https://localhost:8080/",
          "height": 508
        },
        "id": "FdkGt0P59UWX",
        "outputId": "20b4fca5-3dca-4e64-d470-dc76012674c7"
      },
      "outputs": [
        {
          "data": {
            "text/html": [
              "<div>\n",
              "<style scoped>\n",
              "    .dataframe tbody tr th:only-of-type {\n",
              "        vertical-align: middle;\n",
              "    }\n",
              "\n",
              "    .dataframe tbody tr th {\n",
              "        vertical-align: top;\n",
              "    }\n",
              "\n",
              "    .dataframe thead th {\n",
              "        text-align: right;\n",
              "    }\n",
              "</style>\n",
              "<table border=\"1\" class=\"dataframe\">\n",
              "  <thead>\n",
              "    <tr style=\"text-align: right;\">\n",
              "      <th></th>\n",
              "      <th>CRID</th>\n",
              "      <th>OfficerID</th>\n",
              "      <th>OfficeFirst</th>\n",
              "      <th>OfficerLast</th>\n",
              "      <th>AllegationCode</th>\n",
              "      <th>Category</th>\n",
              "      <th>Allegation</th>\n",
              "      <th>RecommendedFinding</th>\n",
              "      <th>RecommendedOutcome</th>\n",
              "      <th>FinalFinding</th>\n",
              "      <th>...</th>\n",
              "      <th>Beat</th>\n",
              "      <th>Location</th>\n",
              "      <th>Add1</th>\n",
              "      <th>Add2</th>\n",
              "      <th>City</th>\n",
              "      <th>IncidentDate</th>\n",
              "      <th>StartDate</th>\n",
              "      <th>EndDate</th>\n",
              "      <th>InvestigatorName</th>\n",
              "      <th>InvestigatorRank</th>\n",
              "    </tr>\n",
              "  </thead>\n",
              "  <tbody>\n",
              "    <tr>\n",
              "      <th>0</th>\n",
              "      <td>1038477</td>\n",
              "      <td>3388</td>\n",
              "      <td>Jennifer</td>\n",
              "      <td>Burmistrz</td>\n",
              "      <td>03C</td>\n",
              "      <td>Illegal Search</td>\n",
              "      <td>Search Of Premise Without Warrant</td>\n",
              "      <td>NS</td>\n",
              "      <td>600.0</td>\n",
              "      <td>NS</td>\n",
              "      <td>...</td>\n",
              "      <td>614.0</td>\n",
              "      <td>Public Way - Other</td>\n",
              "      <td>86XX</td>\n",
              "      <td>S ASHLAND AVE</td>\n",
              "      <td>CHICAGO IL 60620</td>\n",
              "      <td>2010-07-29 00:00:00</td>\n",
              "      <td>2010-07-29</td>\n",
              "      <td>2010-11-16</td>\n",
              "      <td>NaN</td>\n",
              "      <td>NaN</td>\n",
              "    </tr>\n",
              "    <tr>\n",
              "      <th>1</th>\n",
              "      <td>1033910</td>\n",
              "      <td>1440</td>\n",
              "      <td>Anthony</td>\n",
              "      <td>Barsano</td>\n",
              "      <td>07F</td>\n",
              "      <td>Traffic</td>\n",
              "      <td>Miscellaneous</td>\n",
              "      <td>NaN</td>\n",
              "      <td>600.0</td>\n",
              "      <td>NaN</td>\n",
              "      <td>...</td>\n",
              "      <td>2012.0</td>\n",
              "      <td>Public Way - Other</td>\n",
              "      <td>19XX</td>\n",
              "      <td>W BRYN MAWR AVE</td>\n",
              "      <td>CHICAGO IL</td>\n",
              "      <td>2010-02-13 00:00:00</td>\n",
              "      <td>2010-02-16</td>\n",
              "      <td>2010-05-14</td>\n",
              "      <td>NaN</td>\n",
              "      <td>NaN</td>\n",
              "    </tr>\n",
              "    <tr>\n",
              "      <th>2</th>\n",
              "      <td>1038675</td>\n",
              "      <td>13495</td>\n",
              "      <td>Dwayne</td>\n",
              "      <td>Johnson</td>\n",
              "      <td>16E</td>\n",
              "      <td>Illegal Search</td>\n",
              "      <td>Improper Service Of Warrant</td>\n",
              "      <td>NaN</td>\n",
              "      <td>NaN</td>\n",
              "      <td>NaN</td>\n",
              "      <td>...</td>\n",
              "      <td>713.0</td>\n",
              "      <td>Private Residence</td>\n",
              "      <td>NaN</td>\n",
              "      <td>NaN</td>\n",
              "      <td>NaN</td>\n",
              "      <td>2010-08-06 00:00:00</td>\n",
              "      <td>2010-08-06</td>\n",
              "      <td>2010-09-02</td>\n",
              "      <td>NaN</td>\n",
              "      <td>NaN</td>\n",
              "    </tr>\n",
              "    <tr>\n",
              "      <th>3</th>\n",
              "      <td>1036600</td>\n",
              "      <td>24844</td>\n",
              "      <td>Robert</td>\n",
              "      <td>Rubio</td>\n",
              "      <td>05A</td>\n",
              "      <td>Use Of Force</td>\n",
              "      <td>Excessive Force / On Duty - Injury</td>\n",
              "      <td>NS</td>\n",
              "      <td>600.0</td>\n",
              "      <td>NS</td>\n",
              "      <td>...</td>\n",
              "      <td>2515.0</td>\n",
              "      <td>Police Building</td>\n",
              "      <td>55XX</td>\n",
              "      <td>W GRAND AVE</td>\n",
              "      <td>CHICAGO IL 60639</td>\n",
              "      <td>2010-05-22 00:00:00</td>\n",
              "      <td>2010-05-25</td>\n",
              "      <td>2014-07-09</td>\n",
              "      <td>NaN</td>\n",
              "      <td>NaN</td>\n",
              "    </tr>\n",
              "    <tr>\n",
              "      <th>4</th>\n",
              "      <td>1038784</td>\n",
              "      <td>4835</td>\n",
              "      <td>Angela</td>\n",
              "      <td>Cleveland</td>\n",
              "      <td>10U</td>\n",
              "      <td>Operation/Personnel Violations</td>\n",
              "      <td>Inadequate / Failure To Provide Service</td>\n",
              "      <td>NaN</td>\n",
              "      <td>600.0</td>\n",
              "      <td>NaN</td>\n",
              "      <td>...</td>\n",
              "      <td>1822.0</td>\n",
              "      <td>Private Residence</td>\n",
              "      <td>NaN</td>\n",
              "      <td>NaN</td>\n",
              "      <td>NaN</td>\n",
              "      <td>2010-08-04 00:00:00</td>\n",
              "      <td>2010-08-10</td>\n",
              "      <td>2010-11-12</td>\n",
              "      <td>Paul Mclaughlin</td>\n",
              "      <td>Captain Of Police</td>\n",
              "    </tr>\n",
              "  </tbody>\n",
              "</table>\n",
              "<p>5 rows × 23 columns</p>\n",
              "</div>"
            ],
            "text/plain": [
              "      CRID  OfficerID OfficeFirst OfficerLast AllegationCode  \\\n",
              "0  1038477       3388    Jennifer   Burmistrz            03C   \n",
              "1  1033910       1440     Anthony     Barsano            07F   \n",
              "2  1038675      13495      Dwayne     Johnson            16E   \n",
              "3  1036600      24844      Robert       Rubio            05A   \n",
              "4  1038784       4835      Angela   Cleveland            10U   \n",
              "\n",
              "                         Category                               Allegation  \\\n",
              "0                  Illegal Search        Search Of Premise Without Warrant   \n",
              "1                         Traffic                            Miscellaneous   \n",
              "2                  Illegal Search              Improper Service Of Warrant   \n",
              "3                    Use Of Force       Excessive Force / On Duty - Injury   \n",
              "4  Operation/Personnel Violations  Inadequate / Failure To Provide Service   \n",
              "\n",
              "  RecommendedFinding  RecommendedOutcome FinalFinding  ...    Beat  \\\n",
              "0                 NS               600.0           NS  ...   614.0   \n",
              "1                NaN               600.0          NaN  ...  2012.0   \n",
              "2                NaN                 NaN          NaN  ...   713.0   \n",
              "3                 NS               600.0           NS  ...  2515.0   \n",
              "4                NaN               600.0          NaN  ...  1822.0   \n",
              "\n",
              "             Location  Add1             Add2              City  \\\n",
              "0  Public Way - Other  86XX    S ASHLAND AVE  CHICAGO IL 60620   \n",
              "1  Public Way - Other  19XX  W BRYN MAWR AVE        CHICAGO IL   \n",
              "2   Private Residence   NaN              NaN               NaN   \n",
              "3     Police Building  55XX      W GRAND AVE  CHICAGO IL 60639   \n",
              "4   Private Residence   NaN              NaN               NaN   \n",
              "\n",
              "          IncidentDate   StartDate     EndDate InvestigatorName  \\\n",
              "0  2010-07-29 00:00:00  2010-07-29  2010-11-16              NaN   \n",
              "1  2010-02-13 00:00:00  2010-02-16  2010-05-14              NaN   \n",
              "2  2010-08-06 00:00:00  2010-08-06  2010-09-02              NaN   \n",
              "3  2010-05-22 00:00:00  2010-05-25  2014-07-09              NaN   \n",
              "4  2010-08-04 00:00:00  2010-08-10  2010-11-12  Paul Mclaughlin   \n",
              "\n",
              "    InvestigatorRank  \n",
              "0                NaN  \n",
              "1                NaN  \n",
              "2                NaN  \n",
              "3                NaN  \n",
              "4  Captain Of Police  \n",
              "\n",
              "[5 rows x 23 columns]"
            ]
          },
          "execution_count": 7,
          "metadata": {},
          "output_type": "execute_result"
        }
      ],
      "source": [
        "df.dropna()\n",
        "df = df.drop([\"Latitude\",\"Longitude\"], axis=1)\n",
        "df.shape\n",
        "df.head()"
      ]
    },
    {
      "cell_type": "code",
      "execution_count": 8,
      "metadata": {
        "colab": {
          "base_uri": "https://localhost:8080/",
          "height": 206
        },
        "id": "2KT_Hy8tB1f5",
        "outputId": "0052dceb-fa92-4f71-d182-f247356ab272"
      },
      "outputs": [
        {
          "data": {
            "text/html": [
              "<div>\n",
              "<style scoped>\n",
              "    .dataframe tbody tr th:only-of-type {\n",
              "        vertical-align: middle;\n",
              "    }\n",
              "\n",
              "    .dataframe tbody tr th {\n",
              "        vertical-align: top;\n",
              "    }\n",
              "\n",
              "    .dataframe thead th {\n",
              "        text-align: right;\n",
              "    }\n",
              "</style>\n",
              "<table border=\"1\" class=\"dataframe\">\n",
              "  <thead>\n",
              "    <tr style=\"text-align: right;\">\n",
              "      <th></th>\n",
              "      <th>OfficerID</th>\n",
              "      <th>OfficeFirst</th>\n",
              "      <th>OfficerLast</th>\n",
              "    </tr>\n",
              "  </thead>\n",
              "  <tbody>\n",
              "    <tr>\n",
              "      <th>0</th>\n",
              "      <td>3388</td>\n",
              "      <td>Jennifer</td>\n",
              "      <td>Burmistrz</td>\n",
              "    </tr>\n",
              "    <tr>\n",
              "      <th>1</th>\n",
              "      <td>1440</td>\n",
              "      <td>Anthony</td>\n",
              "      <td>Barsano</td>\n",
              "    </tr>\n",
              "    <tr>\n",
              "      <th>2</th>\n",
              "      <td>13495</td>\n",
              "      <td>Dwayne</td>\n",
              "      <td>Johnson</td>\n",
              "    </tr>\n",
              "    <tr>\n",
              "      <th>3</th>\n",
              "      <td>24844</td>\n",
              "      <td>Robert</td>\n",
              "      <td>Rubio</td>\n",
              "    </tr>\n",
              "    <tr>\n",
              "      <th>4</th>\n",
              "      <td>4835</td>\n",
              "      <td>Angela</td>\n",
              "      <td>Cleveland</td>\n",
              "    </tr>\n",
              "  </tbody>\n",
              "</table>\n",
              "</div>"
            ],
            "text/plain": [
              "   OfficerID OfficeFirst OfficerLast\n",
              "0       3388    Jennifer   Burmistrz\n",
              "1       1440     Anthony     Barsano\n",
              "2      13495      Dwayne     Johnson\n",
              "3      24844      Robert       Rubio\n",
              "4       4835      Angela   Cleveland"
            ]
          },
          "execution_count": 8,
          "metadata": {},
          "output_type": "execute_result"
        }
      ],
      "source": [
        "# Note Complaint Register ID Number (CRID)\n",
        "allegations_officers_df = df[[\"OfficerID\",\"OfficeFirst\",\"OfficerLast\"]]\n",
        "allegations_officers_df.head()"
      ]
    },
    {
      "cell_type": "code",
      "execution_count": 9,
      "metadata": {
        "id": "8iQIA2tkCogP"
      },
      "outputs": [],
      "source": [
        "officers = pd.unique(allegations_officers_df[\"OfficerID\"]).shape"
      ]
    },
    {
      "cell_type": "code",
      "execution_count": 10,
      "metadata": {
        "colab": {
          "base_uri": "https://localhost:8080/"
        },
        "id": "4LVcO8EKR7Vz",
        "outputId": "a781a55b-4a67-40b4-c02f-4d02c74f20ef"
      },
      "outputs": [
        {
          "data": {
            "text/plain": [
              "(276,)"
            ]
          },
          "execution_count": 10,
          "metadata": {},
          "output_type": "execute_result"
        }
      ],
      "source": [
        "pd.unique(df[\"Beat\"]).shape"
      ]
    },
    {
      "cell_type": "code",
      "execution_count": 11,
      "metadata": {
        "colab": {
          "base_uri": "https://localhost:8080/"
        },
        "id": "BrCWZeDwD1ih",
        "outputId": "d16dce37-738c-4e42-c734-7068f7faf6c7"
      },
      "outputs": [
        {
          "data": {
            "text/plain": [
              "Index(['OfficerID', 'OfficerFirst', 'OfficerLast', 'Gender', 'Race',\n",
              "       'ApptDate', 'Unit', 'Rank', 'Star', 'Age'],\n",
              "      dtype='object')"
            ]
          },
          "execution_count": 11,
          "metadata": {},
          "output_type": "execute_result"
        }
      ],
      "source": [
        "profile_df.columns"
      ]
    },
    {
      "cell_type": "code",
      "execution_count": 12,
      "metadata": {
        "id": "hbNSE1EGF1kF"
      },
      "outputs": [],
      "source": [
        "officers_2 = pd.unique(profile_df[\"OfficerID\"]).shape"
      ]
    },
    {
      "cell_type": "code",
      "execution_count": 13,
      "metadata": {
        "colab": {
          "base_uri": "https://localhost:8080/"
        },
        "id": "dzYaP4NRJz9O",
        "outputId": "ab85a6f0-53f8-46ca-e2e8-b58ba41d7b83"
      },
      "outputs": [
        {
          "data": {
            "text/plain": [
              "(9953, 10)"
            ]
          },
          "execution_count": 13,
          "metadata": {},
          "output_type": "execute_result"
        }
      ],
      "source": [
        "unique_officers = profile_df.drop_duplicates(subset=\"OfficerID\")\n",
        "unique_officers.shape"
      ]
    },
    {
      "cell_type": "code",
      "execution_count": 15,
      "metadata": {
        "colab": {
          "base_uri": "https://localhost:8080/"
        },
        "id": "g6ww4gx_W_6l",
        "outputId": "471f6952-460d-4d36-f882-0a7e7fca87eb"
      },
      "outputs": [
        {
          "name": "stderr",
          "output_type": "stream",
          "text": [
            "/var/folders/64/7cc975tn74sb3dg4ztck8zsw0000gn/T/ipykernel_32148/2012791940.py:1: SettingWithCopyWarning: \n",
            "A value is trying to be set on a copy of a slice from a DataFrame.\n",
            "Try using .loc[row_indexer,col_indexer] = value instead\n",
            "\n",
            "See the caveats in the documentation: https://pandas.pydata.org/pandas-docs/stable/user_guide/indexing.html#returning-a-view-versus-a-copy\n",
            "  unique_officers[\"Beat\"] = \"\"\n"
          ]
        },
        {
          "data": {
            "text/plain": [
              "Index(['OfficerID', 'OfficerFirst', 'OfficerLast', 'Gender', 'Race',\n",
              "       'ApptDate', 'Unit', 'Rank', 'Star', 'Age', 'Beat'],\n",
              "      dtype='object')"
            ]
          },
          "execution_count": 15,
          "metadata": {},
          "output_type": "execute_result"
        }
      ],
      "source": [
        "unique_officers[\"Beat\"] = \"\"\n",
        "unique_officers.columns"
      ]
    },
    {
      "cell_type": "code",
      "execution_count": 16,
      "metadata": {
        "colab": {
          "base_uri": "https://localhost:8080/"
        },
        "id": "Q6liHoA6be8O",
        "outputId": "19fd41cc-703a-46aa-a76f-5a75a3cc1aa2"
      },
      "outputs": [],
      "source": [
        "for index, row in unique_officers.iterrows():\n",
        "  unique_officers.loc[index, \"Beat\"] = df.loc[df[\"OfficerID\"] == row[\"OfficerID\"], \"Beat\"].iloc[0]"
      ]
    },
    {
      "cell_type": "code",
      "execution_count": 17,
      "metadata": {},
      "outputs": [],
      "source": [
        "# Load Excel Sheets using ExcelFile\n",
        "ten = pd.ExcelFile('/Users/jeremyhudsonchan/Dropbox/Files/Boston_College_Courses/Thesis/Data/Website/2010_allegation.xlsx')\n",
        "eleven = pd.ExcelFile('/Users/jeremyhudsonchan/Dropbox/Files/Boston_College_Courses/Thesis//Data/Website/2011_allegation.xlsx')\n",
        "twelve = pd.ExcelFile('/Users/jeremyhudsonchan/Dropbox/Files/Boston_College_Courses/Thesis/Data/Website/2012_allegation.xlsx')\n",
        "thirteen = pd.ExcelFile('/Users/jeremyhudsonchan/Dropbox/Files/Boston_College_Courses/Thesis/Data/Website/2013_allegation.xlsx')\n",
        "fourteen = pd.ExcelFile('/Users/jeremyhudsonchan/Dropbox/Files/Boston_College_Courses/Thesis/Data/Website/2014_allegation.xlsx')\n",
        "fifteen = pd.ExcelFile('/Users/jeremyhudsonchan/Dropbox/Files/Boston_College_Courses/Thesis/Data/Website/2015_allegation.xlsx')\n",
        "sixteen = pd.ExcelFile('/Users/jeremyhudsonchan/Dropbox/Files/Boston_College_Courses/Thesis/Data/Website/2016_allegation.xlsx')"
      ]
    },
    {
      "cell_type": "code",
      "execution_count": 18,
      "metadata": {},
      "outputs": [],
      "source": [
        "# Select excel sheet allegations from excel file\n",
        "allegations_10 = ten.parse('Allegations')\n",
        "allegations_11 = eleven.parse('Allegations')\n",
        "allegations_12 = twelve.parse('Allegations')\n",
        "allegations_13 = thirteen.parse('Allegations')\n",
        "allegations_14 = fourteen.parse('Allegations')\n",
        "allegations_15 = fifteen.parse('Allegations')\n",
        "allegations_16 = sixteen.parse('Allegations')\n",
        "\n",
        "# combine allegations from 2010-2016 into one csv\n",
        "allegations = pd.concat([allegations_10, allegations_11, allegations_12, allegations_13,\n",
        "                        allegations_14, allegations_15, allegations_16], ignore_index=True)"
      ]
    },
    {
      "cell_type": "code",
      "execution_count": 19,
      "metadata": {},
      "outputs": [
        {
          "name": "stdout",
          "output_type": "stream",
          "text": [
            "   OfficerID  allegations\n",
            "0          1            4\n",
            "1          2            5\n",
            "2          7            2\n",
            "3         13            1\n",
            "4         15            1\n"
          ]
        },
        {
          "name": "stderr",
          "output_type": "stream",
          "text": [
            "/var/folders/64/7cc975tn74sb3dg4ztck8zsw0000gn/T/ipykernel_32148/3749225212.py:3: SettingWithCopyWarning: \n",
            "A value is trying to be set on a copy of a slice from a DataFrame.\n",
            "Try using .loc[row_indexer,col_indexer] = value instead\n",
            "\n",
            "See the caveats in the documentation: https://pandas.pydata.org/pandas-docs/stable/user_guide/indexing.html#returning-a-view-versus-a-copy\n",
            "  unique_officers['num_allegations'] = unique_officers['OfficerID'].map(allegations_count.set_index('OfficerID')['allegations'])\n"
          ]
        }
      ],
      "source": [
        "allegations_count = allegations.groupby('OfficerID').size().reset_index(name='allegations')\n",
        "print(allegations_count.head())\n",
        "unique_officers['num_allegations'] = unique_officers['OfficerID'].map(allegations_count.set_index('OfficerID')['allegations'])"
      ]
    },
    {
      "cell_type": "code",
      "execution_count": 20,
      "metadata": {
        "colab": {
          "base_uri": "https://localhost:8080/"
        },
        "id": "MabiLQ9FjWWQ",
        "outputId": "1f52925d-1e7f-4858-aff3-aaa2be8a59e4"
      },
      "outputs": [
        {
          "data": {
            "text/plain": [
              "(9953, 12)"
            ]
          },
          "execution_count": 20,
          "metadata": {},
          "output_type": "execute_result"
        }
      ],
      "source": [
        "unique_officers.shape"
      ]
    },
    {
      "cell_type": "code",
      "execution_count": 21,
      "metadata": {
        "colab": {
          "base_uri": "https://localhost:8080/"
        },
        "id": "3T3Sn0VejBV2",
        "outputId": "1dcda1b5-ac5a-4443-cbeb-68684d06c7e9"
      },
      "outputs": [
        {
          "data": {
            "text/plain": [
              "(9401, 12)"
            ]
          },
          "execution_count": 21,
          "metadata": {},
          "output_type": "execute_result"
        }
      ],
      "source": [
        "unique_officers = unique_officers.dropna(subset=[\"Beat\"])\n",
        "unique_officers.shape"
      ]
    },
    {
      "cell_type": "code",
      "execution_count": 22,
      "metadata": {
        "id": "Bd-sB0HSKET1"
      },
      "outputs": [],
      "source": [
        "unique_officers.to_csv(\"unique_officers.csv\", index=False)"
      ]
    }
  ],
  "metadata": {
    "colab": {
      "collapsed_sections": [],
      "provenance": []
    },
    "kernelspec": {
      "display_name": "Python 3.9.12 ('base')",
      "language": "python",
      "name": "python3"
    },
    "language_info": {
      "codemirror_mode": {
        "name": "ipython",
        "version": 3
      },
      "file_extension": ".py",
      "mimetype": "text/x-python",
      "name": "python",
      "nbconvert_exporter": "python",
      "pygments_lexer": "ipython3",
      "version": "3.9.12"
    },
    "vscode": {
      "interpreter": {
        "hash": "7d070d07219d78435f9a014cf028f78a39f3816bb48d44baa7b1c4c726092051"
      }
    }
  },
  "nbformat": 4,
  "nbformat_minor": 0
}

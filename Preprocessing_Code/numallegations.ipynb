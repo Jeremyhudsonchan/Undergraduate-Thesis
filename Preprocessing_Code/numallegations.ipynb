{
 "cells": [
  {
   "cell_type": "code",
   "execution_count": 3,
   "metadata": {},
   "outputs": [],
   "source": [
    "import pandas as pd"
   ]
  },
  {
   "cell_type": "code",
   "execution_count": 4,
   "metadata": {},
   "outputs": [],
   "source": [
    "# Load Excel Sheets using ExcelFile\n",
    "ten = pd.ExcelFile('/Users/jeremyhudsonchan/Dropbox/Files/Boston_College_Courses/Thesis/Data/Website/2010_allegation.xlsx')\n",
    "eleven = pd.ExcelFile('/Users/jeremyhudsonchan/Dropbox/Files/Boston_College_Courses/Thesis//Data/Website/2011_allegation.xlsx')\n",
    "twelve = pd.ExcelFile('/Users/jeremyhudsonchan/Dropbox/Files/Boston_College_Courses/Thesis/Data/Website/2012_allegation.xlsx')\n",
    "thirteen = pd.ExcelFile('/Users/jeremyhudsonchan/Dropbox/Files/Boston_College_Courses/Thesis/Data/Website/2013_allegation.xlsx')\n",
    "fourteen = pd.ExcelFile('/Users/jeremyhudsonchan/Dropbox/Files/Boston_College_Courses/Thesis/Data/Website/2014_allegation.xlsx')\n",
    "fifteen = pd.ExcelFile('/Users/jeremyhudsonchan/Dropbox/Files/Boston_College_Courses/Thesis/Data/Website/2015_allegation.xlsx')\n",
    "sixteen = pd.ExcelFile('/Users/jeremyhudsonchan/Dropbox/Files/Boston_College_Courses/Thesis/Data/Website/2016_allegation.xlsx')\n",
    "\n",
    "# Select excel sheet allegations from excel file\n",
    "allegations_10 = ten.parse('Allegations')\n",
    "allegations_11 = eleven.parse('Allegations')\n",
    "allegations_12 = twelve.parse('Allegations')\n",
    "allegations_13 = thirteen.parse('Allegations')\n",
    "allegations_14 = fourteen.parse('Allegations')\n",
    "allegations_15 = fifteen.parse('Allegations')\n",
    "allegations_16 = sixteen.parse('Allegations')\n",
    "\n",
    "# combine allegations from 2010-2016 into one csv\n",
    "allegations = pd.concat([allegations_10, allegations_11, allegations_12, allegations_13,\n",
    "                        allegations_14, allegations_15, allegations_16], ignore_index=True)"
   ]
  },
  {
   "cell_type": "code",
   "execution_count": null,
   "metadata": {},
   "outputs": [],
   "source": [
    "# add number of allegations to officer profile\n",
    "# count number of allegations officer has been involved in in allegations df\n",
    "allegations_count = allegations.groupby('OfficerID').size().reset_index(name='allegations')\n",
    "print(allegations_count.head())\n",
    "officer_profile['num_allegations'] = officer_profile['OfficerID'].map(allegations_count.set_index('OfficerID')['allegations'])\n",
    "# save to csv\n",
    "# officer_profile.to_csv('Data/officer_profile.csv', index=False)"
   ]
  }
 ],
 "metadata": {
  "kernelspec": {
   "display_name": "Python 3.9.12 ('base')",
   "language": "python",
   "name": "python3"
  },
  "language_info": {
   "codemirror_mode": {
    "name": "ipython",
    "version": 3
   },
   "file_extension": ".py",
   "mimetype": "text/x-python",
   "name": "python",
   "nbconvert_exporter": "python",
   "pygments_lexer": "ipython3",
   "version": "3.9.12"
  },
  "orig_nbformat": 4,
  "vscode": {
   "interpreter": {
    "hash": "7d070d07219d78435f9a014cf028f78a39f3816bb48d44baa7b1c4c726092051"
   }
  }
 },
 "nbformat": 4,
 "nbformat_minor": 2
}

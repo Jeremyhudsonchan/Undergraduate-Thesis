{
 "cells": [
  {
   "cell_type": "code",
   "execution_count": 1,
   "metadata": {},
   "outputs": [],
   "source": [
    "import pandas as pd"
   ]
  },
  {
   "cell_type": "code",
   "execution_count": 2,
   "metadata": {},
   "outputs": [],
   "source": [
    "train = pd.read_csv(\"/Users/jeremyhudsonchan/Dropbox/Files/Boston_College_Courses/Thesis/Data/Processed/2010-2014/train/officer_profile.csv\", low_memory=False)\n",
    "test = pd.read_csv(\"/Users/jeremyhudsonchan/Dropbox/Files/Boston_College_Courses/Thesis/Data/Processed/Testing/officer_profile.csv\", low_memory=False)"
   ]
  },
  {
   "cell_type": "code",
   "execution_count": 3,
   "metadata": {},
   "outputs": [
    {
     "name": "stdout",
     "output_type": "stream",
     "text": [
      "0    1969-01-06\n",
      "1    1982-11-29\n",
      "2    1989-12-26\n",
      "3    1999-12-13\n",
      "4    1998-06-29\n",
      "Name: ApptDate, dtype: object\n"
     ]
    }
   ],
   "source": [
    "print(train['ApptDate'].head())"
   ]
  },
  {
   "cell_type": "code",
   "execution_count": 4,
   "metadata": {},
   "outputs": [
    {
     "data": {
      "text/plain": [
       "(Index(['OfficerID', 'OfficerFirst', 'OfficerLast', 'Gender', 'Race',\n",
       "        'ApptDate', 'Rank', 'Age', 'Beat', 'historic_counts',\n",
       "        'prev_allegations', 'new_allegations', 'ApptYear'],\n",
       "       dtype='object'),\n",
       " Index(['OfficerID', 'OfficerFirst', 'OfficerLast', 'Gender', 'Race',\n",
       "        'ApptDate', 'Rank', 'Age', 'Beat', 'historic_counts',\n",
       "        'prev_allegations', 'new_allegations', 'ApptYear'],\n",
       "       dtype='object'))"
      ]
     },
     "execution_count": 4,
     "metadata": {},
     "output_type": "execute_result"
    }
   ],
   "source": [
    "train.columns, test.columns"
   ]
  },
  {
   "cell_type": "code",
   "execution_count": 5,
   "metadata": {},
   "outputs": [
    {
     "name": "stdout",
     "output_type": "stream",
     "text": [
      "0   1969-01-06\n",
      "1   1982-11-29\n",
      "2   1989-12-26\n",
      "3   1999-12-13\n",
      "4   1998-06-29\n",
      "Name: ApptDate, dtype: datetime64[ns]\n"
     ]
    }
   ],
   "source": [
    "# ApptDate column, get year, calculate years in force from ApptDate to 2010\n",
    "train['ApptDate'] = pd.to_datetime(train['ApptDate'])\n",
    "train['ApptYear'] = train['ApptDate'].dt.year\n",
    "print(train['ApptDate'].head())"
   ]
  },
  {
   "cell_type": "code",
   "execution_count": 6,
   "metadata": {},
   "outputs": [],
   "source": [
    "train['YearsInForce'] = 2010 - train['ApptYear']"
   ]
  },
  {
   "cell_type": "code",
   "execution_count": 7,
   "metadata": {},
   "outputs": [
    {
     "name": "stdout",
     "output_type": "stream",
     "text": [
      "0   1969-01-06\n",
      "1   1982-11-29\n",
      "2   1989-12-26\n",
      "3   1999-12-13\n",
      "4   1998-06-29\n",
      "Name: ApptDate, dtype: datetime64[ns]\n"
     ]
    }
   ],
   "source": [
    "# ApptDate column, get year, calculate years in force from ApptDate to 2015\n",
    "test['ApptDate'] = pd.to_datetime(test['ApptDate'])\n",
    "test['ApptYear'] = test['ApptDate'].dt.year\n",
    "print(test['ApptDate'].head())"
   ]
  },
  {
   "cell_type": "code",
   "execution_count": 8,
   "metadata": {},
   "outputs": [],
   "source": [
    "test['YearsInForce'] = 2015 - test['ApptYear']"
   ]
  },
  {
   "cell_type": "code",
   "execution_count": 9,
   "metadata": {},
   "outputs": [],
   "source": [
    "# convert to csv\n",
    "train.to_csv(\"/Users/jeremyhudsonchan/Dropbox/Files/Boston_College_Courses/Thesis/Data/Processed/2010-2014/train/officer_profile.csv\", index=False)\n",
    "test.to_csv(\"/Users/jeremyhudsonchan/Dropbox/Files/Boston_College_Courses/Thesis/Data/Processed/Testing/officer_profile.csv\", index=False)"
   ]
  }
 ],
 "metadata": {
  "kernelspec": {
   "display_name": "Python 3.9.12 ('base')",
   "language": "python",
   "name": "python3"
  },
  "language_info": {
   "codemirror_mode": {
    "name": "ipython",
    "version": 3
   },
   "file_extension": ".py",
   "mimetype": "text/x-python",
   "name": "python",
   "nbconvert_exporter": "python",
   "pygments_lexer": "ipython3",
   "version": "3.9.12"
  },
  "orig_nbformat": 4,
  "vscode": {
   "interpreter": {
    "hash": "7d070d07219d78435f9a014cf028f78a39f3816bb48d44baa7b1c4c726092051"
   }
  }
 },
 "nbformat": 4,
 "nbformat_minor": 2
}

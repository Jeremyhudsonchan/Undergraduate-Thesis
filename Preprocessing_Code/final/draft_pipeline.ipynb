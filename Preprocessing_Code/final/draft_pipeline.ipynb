{
 "cells": [
  {
   "cell_type": "code",
   "execution_count": 58,
   "metadata": {},
   "outputs": [],
   "source": [
    "import pandas as pd"
   ]
  },
  {
   "cell_type": "code",
   "execution_count": 59,
   "metadata": {},
   "outputs": [],
   "source": [
    "df = pd.read_csv(\n",
    "    \"/Users/jeremyhudsonchan/Dropbox/Files/Boston_College_Courses/Thesis/Data/2000-2016/allegations.csv\", low_memory=False)\n",
    "profile_df = pd.read_csv(\n",
    "    \"/Users/jeremyhudsonchan/Dropbox/Files/Boston_College_Courses/Thesis/Data/2000-2016/officer_profile.csv\", low_memory=False)\n",
    "# Drop all allegations that are not Use Of Force, Excessive Force\n",
    "df = df[(df['Category'] == 'Use Of Force') | (df['Category'] == 'Excessive Force')]\n",
    "# Drop unused columns\n",
    "df = df.drop([\"AllegationCode\", \"Latitude\", \"Longitude\", \"Location\", \"Add1\", \"Add2\", \"City\", \"RecommendedFinding\", \"RecommendedOutcome\", \"FinalFinding\", \"FinalOutcome\", \"Finding\", \"Outcome\", \"InvestigatorName\", \"InvestigatorRank\", \"StartDate\", \"EndDate\"], axis=1)"
   ]
  },
  {
   "cell_type": "code",
   "execution_count": 60,
   "metadata": {},
   "outputs": [
    {
     "data": {
      "text/plain": [
       "Index(['CRID', 'OfficerID', 'OfficeFirst', 'OfficerLast', 'Category',\n",
       "       'Allegation', 'Beat', 'IncidentDate'],\n",
       "      dtype='object')"
      ]
     },
     "execution_count": 60,
     "metadata": {},
     "output_type": "execute_result"
    }
   ],
   "source": [
    "df.columns"
   ]
  },
  {
   "cell_type": "code",
   "execution_count": 61,
   "metadata": {},
   "outputs": [
    {
     "data": {
      "text/html": [
       "<div>\n",
       "<style scoped>\n",
       "    .dataframe tbody tr th:only-of-type {\n",
       "        vertical-align: middle;\n",
       "    }\n",
       "\n",
       "    .dataframe tbody tr th {\n",
       "        vertical-align: top;\n",
       "    }\n",
       "\n",
       "    .dataframe thead th {\n",
       "        text-align: right;\n",
       "    }\n",
       "</style>\n",
       "<table border=\"1\" class=\"dataframe\">\n",
       "  <thead>\n",
       "    <tr style=\"text-align: right;\">\n",
       "      <th></th>\n",
       "      <th>CRID</th>\n",
       "      <th>OfficerID</th>\n",
       "      <th>OfficeFirst</th>\n",
       "      <th>OfficerLast</th>\n",
       "      <th>Category</th>\n",
       "      <th>Allegation</th>\n",
       "      <th>Beat</th>\n",
       "      <th>IncidentDate</th>\n",
       "    </tr>\n",
       "  </thead>\n",
       "  <tbody>\n",
       "    <tr>\n",
       "      <th>20</th>\n",
       "      <td>C259003</td>\n",
       "      <td>6587</td>\n",
       "      <td>David</td>\n",
       "      <td>Deja</td>\n",
       "      <td>Use Of Force</td>\n",
       "      <td>Excessive Force / On Duty - No Injury</td>\n",
       "      <td>NaN</td>\n",
       "      <td>2000-01-01 00:00:00</td>\n",
       "    </tr>\n",
       "    <tr>\n",
       "      <th>24</th>\n",
       "      <td>C259010</td>\n",
       "      <td>13689</td>\n",
       "      <td>Charles</td>\n",
       "      <td>Jones</td>\n",
       "      <td>Use Of Force</td>\n",
       "      <td>Excessive Force / Off Duty - No Injury</td>\n",
       "      <td>NaN</td>\n",
       "      <td>2000-01-01 00:00:00</td>\n",
       "    </tr>\n",
       "    <tr>\n",
       "      <th>25</th>\n",
       "      <td>C259010</td>\n",
       "      <td>12961</td>\n",
       "      <td>Keith</td>\n",
       "      <td>Irvin</td>\n",
       "      <td>Use Of Force</td>\n",
       "      <td>Excessive Force / Off Duty - No Injury</td>\n",
       "      <td>NaN</td>\n",
       "      <td>2000-01-01 00:00:00</td>\n",
       "    </tr>\n",
       "    <tr>\n",
       "      <th>26</th>\n",
       "      <td>C259011</td>\n",
       "      <td>10864</td>\n",
       "      <td>Mark</td>\n",
       "      <td>Grohovena</td>\n",
       "      <td>Use Of Force</td>\n",
       "      <td>Excessive Force / Off Duty - No Injury</td>\n",
       "      <td>NaN</td>\n",
       "      <td>2000-01-01 00:00:00</td>\n",
       "    </tr>\n",
       "    <tr>\n",
       "      <th>29</th>\n",
       "      <td>C259013</td>\n",
       "      <td>3055</td>\n",
       "      <td>Cornelius</td>\n",
       "      <td>Brown</td>\n",
       "      <td>Use Of Force</td>\n",
       "      <td>Excessive Force / On Duty - Injury</td>\n",
       "      <td>NaN</td>\n",
       "      <td>2000-01-01 00:00:00</td>\n",
       "    </tr>\n",
       "  </tbody>\n",
       "</table>\n",
       "</div>"
      ],
      "text/plain": [
       "       CRID  OfficerID OfficeFirst OfficerLast      Category  \\\n",
       "20  C259003       6587       David        Deja  Use Of Force   \n",
       "24  C259010      13689     Charles       Jones  Use Of Force   \n",
       "25  C259010      12961       Keith       Irvin  Use Of Force   \n",
       "26  C259011      10864        Mark   Grohovena  Use Of Force   \n",
       "29  C259013       3055   Cornelius       Brown  Use Of Force   \n",
       "\n",
       "                                Allegation  Beat         IncidentDate  \n",
       "20   Excessive Force / On Duty - No Injury   NaN  2000-01-01 00:00:00  \n",
       "24  Excessive Force / Off Duty - No Injury   NaN  2000-01-01 00:00:00  \n",
       "25  Excessive Force / Off Duty - No Injury   NaN  2000-01-01 00:00:00  \n",
       "26  Excessive Force / Off Duty - No Injury   NaN  2000-01-01 00:00:00  \n",
       "29      Excessive Force / On Duty - Injury   NaN  2000-01-01 00:00:00  "
      ]
     },
     "execution_count": 61,
     "metadata": {},
     "output_type": "execute_result"
    }
   ],
   "source": [
    "df.head()"
   ]
  },
  {
   "cell_type": "code",
   "execution_count": 62,
   "metadata": {},
   "outputs": [
    {
     "data": {
      "text/plain": [
       "(26720, 8)"
      ]
     },
     "execution_count": 62,
     "metadata": {},
     "output_type": "execute_result"
    }
   ],
   "source": [
    "df.shape"
   ]
  },
  {
   "cell_type": "code",
   "execution_count": 63,
   "metadata": {},
   "outputs": [
    {
     "data": {
      "text/html": [
       "<div>\n",
       "<style scoped>\n",
       "    .dataframe tbody tr th:only-of-type {\n",
       "        vertical-align: middle;\n",
       "    }\n",
       "\n",
       "    .dataframe tbody tr th {\n",
       "        vertical-align: top;\n",
       "    }\n",
       "\n",
       "    .dataframe thead th {\n",
       "        text-align: right;\n",
       "    }\n",
       "</style>\n",
       "<table border=\"1\" class=\"dataframe\">\n",
       "  <thead>\n",
       "    <tr style=\"text-align: right;\">\n",
       "      <th></th>\n",
       "      <th>OfficerID</th>\n",
       "      <th>OfficeFirst</th>\n",
       "      <th>OfficerLast</th>\n",
       "    </tr>\n",
       "  </thead>\n",
       "  <tbody>\n",
       "    <tr>\n",
       "      <th>20</th>\n",
       "      <td>6587</td>\n",
       "      <td>David</td>\n",
       "      <td>Deja</td>\n",
       "    </tr>\n",
       "    <tr>\n",
       "      <th>24</th>\n",
       "      <td>13689</td>\n",
       "      <td>Charles</td>\n",
       "      <td>Jones</td>\n",
       "    </tr>\n",
       "    <tr>\n",
       "      <th>25</th>\n",
       "      <td>12961</td>\n",
       "      <td>Keith</td>\n",
       "      <td>Irvin</td>\n",
       "    </tr>\n",
       "    <tr>\n",
       "      <th>26</th>\n",
       "      <td>10864</td>\n",
       "      <td>Mark</td>\n",
       "      <td>Grohovena</td>\n",
       "    </tr>\n",
       "    <tr>\n",
       "      <th>29</th>\n",
       "      <td>3055</td>\n",
       "      <td>Cornelius</td>\n",
       "      <td>Brown</td>\n",
       "    </tr>\n",
       "  </tbody>\n",
       "</table>\n",
       "</div>"
      ],
      "text/plain": [
       "    OfficerID OfficeFirst OfficerLast\n",
       "20       6587       David        Deja\n",
       "24      13689     Charles       Jones\n",
       "25      12961       Keith       Irvin\n",
       "26      10864        Mark   Grohovena\n",
       "29       3055   Cornelius       Brown"
      ]
     },
     "execution_count": 63,
     "metadata": {},
     "output_type": "execute_result"
    }
   ],
   "source": [
    "# Note Complaint Register ID Number (CRID)\n",
    "allegations_officers_df = df[[\"OfficerID\",\"OfficeFirst\",\"OfficerLast\"]]\n",
    "allegations_officers_df.head()"
   ]
  },
  {
   "cell_type": "code",
   "execution_count": 64,
   "metadata": {},
   "outputs": [],
   "source": [
    "officers = pd.unique(allegations_officers_df[\"OfficerID\"]).shape"
   ]
  },
  {
   "cell_type": "code",
   "execution_count": 65,
   "metadata": {},
   "outputs": [
    {
     "data": {
      "text/plain": [
       "(275,)"
      ]
     },
     "execution_count": 65,
     "metadata": {},
     "output_type": "execute_result"
    }
   ],
   "source": [
    "pd.unique(df[\"Beat\"]).shape"
   ]
  },
  {
   "cell_type": "code",
   "execution_count": 66,
   "metadata": {},
   "outputs": [
    {
     "data": {
      "text/plain": [
       "Index(['OfficerID', 'OfficerFirst', 'OfficerLast', 'Gender', 'Race',\n",
       "       'ApptDate', 'Unit', 'Rank', 'Star', 'Age'],\n",
       "      dtype='object')"
      ]
     },
     "execution_count": 66,
     "metadata": {},
     "output_type": "execute_result"
    }
   ],
   "source": [
    "profile_df.columns"
   ]
  },
  {
   "cell_type": "code",
   "execution_count": 67,
   "metadata": {},
   "outputs": [],
   "source": [
    "officers_2 = pd.unique(profile_df[\"OfficerID\"]).shape"
   ]
  },
  {
   "cell_type": "code",
   "execution_count": 68,
   "metadata": {},
   "outputs": [
    {
     "data": {
      "text/plain": [
       "(16368, 10)"
      ]
     },
     "execution_count": 68,
     "metadata": {},
     "output_type": "execute_result"
    }
   ],
   "source": [
    "unique_officers = profile_df.drop_duplicates(subset=\"OfficerID\")\n",
    "unique_officers.shape"
   ]
  },
  {
   "cell_type": "code",
   "execution_count": 69,
   "metadata": {},
   "outputs": [
    {
     "name": "stderr",
     "output_type": "stream",
     "text": [
      "/var/folders/64/7cc975tn74sb3dg4ztck8zsw0000gn/T/ipykernel_37908/2406453936.py:2: SettingWithCopyWarning: \n",
      "A value is trying to be set on a copy of a slice from a DataFrame.\n",
      "Try using .loc[row_indexer,col_indexer] = value instead\n",
      "\n",
      "See the caveats in the documentation: https://pandas.pydata.org/pandas-docs/stable/user_guide/indexing.html#returning-a-view-versus-a-copy\n",
      "  unique_officers[\"Beat\"] = 0\n",
      "/var/folders/64/7cc975tn74sb3dg4ztck8zsw0000gn/T/ipykernel_37908/2406453936.py:3: SettingWithCopyWarning: \n",
      "A value is trying to be set on a copy of a slice from a DataFrame.\n",
      "Try using .loc[row_indexer,col_indexer] = value instead\n",
      "\n",
      "See the caveats in the documentation: https://pandas.pydata.org/pandas-docs/stable/user_guide/indexing.html#returning-a-view-versus-a-copy\n",
      "  unique_officers[\"Beat\"] = unique_officers[\"Beat\"].astype(float)\n"
     ]
    },
    {
     "data": {
      "text/plain": [
       "Index(['OfficerID', 'OfficerFirst', 'OfficerLast', 'Gender', 'Race',\n",
       "       'ApptDate', 'Unit', 'Rank', 'Star', 'Age', 'Beat'],\n",
       "      dtype='object')"
      ]
     },
     "execution_count": 69,
     "metadata": {},
     "output_type": "execute_result"
    }
   ],
   "source": [
    "# Make a new column in unique_officers called \"Beat\" where the value is a float\n",
    "unique_officers[\"Beat\"] = 0\n",
    "unique_officers[\"Beat\"] = unique_officers[\"Beat\"].astype(float)\n",
    "# unique_officers[\"Beat\"] = 0.0\n",
    "unique_officers.columns"
   ]
  },
  {
   "cell_type": "code",
   "execution_count": 71,
   "metadata": {},
   "outputs": [
    {
     "data": {
      "text/html": [
       "<div>\n",
       "<style scoped>\n",
       "    .dataframe tbody tr th:only-of-type {\n",
       "        vertical-align: middle;\n",
       "    }\n",
       "\n",
       "    .dataframe tbody tr th {\n",
       "        vertical-align: top;\n",
       "    }\n",
       "\n",
       "    .dataframe thead th {\n",
       "        text-align: right;\n",
       "    }\n",
       "</style>\n",
       "<table border=\"1\" class=\"dataframe\">\n",
       "  <thead>\n",
       "    <tr style=\"text-align: right;\">\n",
       "      <th></th>\n",
       "      <th>OfficerID</th>\n",
       "      <th>OfficerFirst</th>\n",
       "      <th>OfficerLast</th>\n",
       "      <th>Gender</th>\n",
       "      <th>Race</th>\n",
       "      <th>ApptDate</th>\n",
       "      <th>Unit</th>\n",
       "      <th>Rank</th>\n",
       "      <th>Star</th>\n",
       "      <th>Age</th>\n",
       "      <th>Beat</th>\n",
       "    </tr>\n",
       "  </thead>\n",
       "  <tbody>\n",
       "    <tr>\n",
       "      <th>0</th>\n",
       "      <td>4</td>\n",
       "      <td>Carmel</td>\n",
       "      <td>Abbate</td>\n",
       "      <td>M</td>\n",
       "      <td>White</td>\n",
       "      <td>25209.0</td>\n",
       "      <td>NaN</td>\n",
       "      <td>Po As Detective</td>\n",
       "      <td>NaN</td>\n",
       "      <td>80</td>\n",
       "      <td>0.0</td>\n",
       "    </tr>\n",
       "    <tr>\n",
       "      <th>1</th>\n",
       "      <td>13</td>\n",
       "      <td>Dale</td>\n",
       "      <td>Abbott</td>\n",
       "      <td>M</td>\n",
       "      <td>White</td>\n",
       "      <td>30284.0</td>\n",
       "      <td>NaN</td>\n",
       "      <td>Police Officer</td>\n",
       "      <td>NaN</td>\n",
       "      <td>69</td>\n",
       "      <td>0.0</td>\n",
       "    </tr>\n",
       "    <tr>\n",
       "      <th>2</th>\n",
       "      <td>17</td>\n",
       "      <td>Moulay</td>\n",
       "      <td>Abdullah</td>\n",
       "      <td>M</td>\n",
       "      <td>Black</td>\n",
       "      <td>32868.0</td>\n",
       "      <td>NaN</td>\n",
       "      <td>Police Officer</td>\n",
       "      <td>NaN</td>\n",
       "      <td>64</td>\n",
       "      <td>0.0</td>\n",
       "    </tr>\n",
       "    <tr>\n",
       "      <th>3</th>\n",
       "      <td>19</td>\n",
       "      <td>Restituto</td>\n",
       "      <td>Abejero</td>\n",
       "      <td>M</td>\n",
       "      <td>Asian/Pacific</td>\n",
       "      <td>36507.0</td>\n",
       "      <td>NaN</td>\n",
       "      <td>Police Officer</td>\n",
       "      <td>NaN</td>\n",
       "      <td>73</td>\n",
       "      <td>0.0</td>\n",
       "    </tr>\n",
       "    <tr>\n",
       "      <th>4</th>\n",
       "      <td>34</td>\n",
       "      <td>Floyd</td>\n",
       "      <td>Abron</td>\n",
       "      <td>M</td>\n",
       "      <td>Black</td>\n",
       "      <td>35975.0</td>\n",
       "      <td>NaN</td>\n",
       "      <td>Police Officer</td>\n",
       "      <td>NaN</td>\n",
       "      <td>49</td>\n",
       "      <td>0.0</td>\n",
       "    </tr>\n",
       "    <tr>\n",
       "      <th>...</th>\n",
       "      <td>...</td>\n",
       "      <td>...</td>\n",
       "      <td>...</td>\n",
       "      <td>...</td>\n",
       "      <td>...</td>\n",
       "      <td>...</td>\n",
       "      <td>...</td>\n",
       "      <td>...</td>\n",
       "      <td>...</td>\n",
       "      <td>...</td>\n",
       "      <td>...</td>\n",
       "    </tr>\n",
       "    <tr>\n",
       "      <th>73789</th>\n",
       "      <td>31666</td>\n",
       "      <td>Agnieszka</td>\n",
       "      <td>Zieba</td>\n",
       "      <td>F</td>\n",
       "      <td>White</td>\n",
       "      <td>41338.0</td>\n",
       "      <td>NaN</td>\n",
       "      <td>Police Officer</td>\n",
       "      <td>NaN</td>\n",
       "      <td>38</td>\n",
       "      <td>0.0</td>\n",
       "    </tr>\n",
       "    <tr>\n",
       "      <th>73794</th>\n",
       "      <td>31750</td>\n",
       "      <td>Alen</td>\n",
       "      <td>Zulfic</td>\n",
       "      <td>M</td>\n",
       "      <td>White</td>\n",
       "      <td>41786.0</td>\n",
       "      <td>NaN</td>\n",
       "      <td>Police Officer</td>\n",
       "      <td>NaN</td>\n",
       "      <td>38</td>\n",
       "      <td>0.0</td>\n",
       "    </tr>\n",
       "    <tr>\n",
       "      <th>73925</th>\n",
       "      <td>32362</td>\n",
       "      <td>Jun</td>\n",
       "      <td>Sun</td>\n",
       "      <td>F</td>\n",
       "      <td>Asian/Pacific</td>\n",
       "      <td>37404.0</td>\n",
       "      <td>NaN</td>\n",
       "      <td>NaN</td>\n",
       "      <td>NaN</td>\n",
       "      <td>50</td>\n",
       "      <td>0.0</td>\n",
       "    </tr>\n",
       "    <tr>\n",
       "      <th>73951</th>\n",
       "      <td>33793</td>\n",
       "      <td>Cherie</td>\n",
       "      <td>Maureaux</td>\n",
       "      <td>F</td>\n",
       "      <td>White</td>\n",
       "      <td>NaN</td>\n",
       "      <td>NaN</td>\n",
       "      <td>NaN</td>\n",
       "      <td>NaN</td>\n",
       "      <td>51</td>\n",
       "      <td>0.0</td>\n",
       "    </tr>\n",
       "    <tr>\n",
       "      <th>73952</th>\n",
       "      <td>33835</td>\n",
       "      <td>Derrick</td>\n",
       "      <td>Dougherty</td>\n",
       "      <td>M</td>\n",
       "      <td>White</td>\n",
       "      <td>NaN</td>\n",
       "      <td>NaN</td>\n",
       "      <td>NaN</td>\n",
       "      <td>NaN</td>\n",
       "      <td>34</td>\n",
       "      <td>0.0</td>\n",
       "    </tr>\n",
       "  </tbody>\n",
       "</table>\n",
       "<p>16368 rows × 11 columns</p>\n",
       "</div>"
      ],
      "text/plain": [
       "       OfficerID OfficerFirst OfficerLast Gender           Race  ApptDate  \\\n",
       "0              4       Carmel      Abbate      M          White   25209.0   \n",
       "1             13         Dale      Abbott      M          White   30284.0   \n",
       "2             17       Moulay    Abdullah      M          Black   32868.0   \n",
       "3             19    Restituto     Abejero      M  Asian/Pacific   36507.0   \n",
       "4             34        Floyd       Abron      M          Black   35975.0   \n",
       "...          ...          ...         ...    ...            ...       ...   \n",
       "73789      31666    Agnieszka       Zieba      F          White   41338.0   \n",
       "73794      31750         Alen      Zulfic      M          White   41786.0   \n",
       "73925      32362          Jun         Sun      F  Asian/Pacific   37404.0   \n",
       "73951      33793       Cherie    Maureaux      F          White       NaN   \n",
       "73952      33835      Derrick   Dougherty      M          White       NaN   \n",
       "\n",
       "       Unit             Rank  Star  Age  Beat  \n",
       "0       NaN  Po As Detective   NaN   80   0.0  \n",
       "1       NaN   Police Officer   NaN   69   0.0  \n",
       "2       NaN   Police Officer   NaN   64   0.0  \n",
       "3       NaN   Police Officer   NaN   73   0.0  \n",
       "4       NaN   Police Officer   NaN   49   0.0  \n",
       "...     ...              ...   ...  ...   ...  \n",
       "73789   NaN   Police Officer   NaN   38   0.0  \n",
       "73794   NaN   Police Officer   NaN   38   0.0  \n",
       "73925   NaN              NaN   NaN   50   0.0  \n",
       "73951   NaN              NaN   NaN   51   0.0  \n",
       "73952   NaN              NaN   NaN   34   0.0  \n",
       "\n",
       "[16368 rows x 11 columns]"
      ]
     },
     "execution_count": 71,
     "metadata": {},
     "output_type": "execute_result"
    }
   ],
   "source": [
    "unique_officers"
   ]
  },
  {
   "cell_type": "code",
   "execution_count": 77,
   "metadata": {},
   "outputs": [],
   "source": [
    "for index, row in unique_officers.iterrows():\n",
    "  # check if officer in df, if not then skip\n",
    "  if row[\"OfficerID\"] not in pd.unique(df[\"OfficerID\"]):\n",
    "    continue\n",
    "  unique_officers.loc[index, \"Beat\"] = df.loc[df[\"OfficerID\"] == row[\"OfficerID\"], \"Beat\"].iloc[0]"
   ]
  },
  {
   "cell_type": "code",
   "execution_count": 78,
   "metadata": {},
   "outputs": [],
   "source": [
    "# Load Excel Sheets using ExcelFile\n",
    "zero = pd.ExcelFile('/Users/jeremyhudsonchan/Dropbox/Files/Boston_College_Courses/Thesis/Data/Website/2000_allegation.xlsx')\n",
    "one = pd.ExcelFile('/Users/jeremyhudsonchan/Dropbox/Files/Boston_College_Courses/Thesis//Data/Website/2001_allegation.xlsx')\n",
    "two = pd.ExcelFile('/Users/jeremyhudsonchan/Dropbox/Files/Boston_College_Courses/Thesis/Data/Website/2002_allegation.xlsx')\n",
    "three = pd.ExcelFile('/Users/jeremyhudsonchan/Dropbox/Files/Boston_College_Courses/Thesis/Data/Website/2003_allegation.xlsx')\n",
    "four = pd.ExcelFile('/Users/jeremyhudsonchan/Dropbox/Files/Boston_College_Courses/Thesis/Data/Website/2004_allegation.xlsx')\n",
    "five = pd.ExcelFile('/Users/jeremyhudsonchan/Dropbox/Files/Boston_College_Courses/Thesis/Data/Website/2005_allegation.xlsx')\n",
    "six = pd.ExcelFile('/Users/jeremyhudsonchan/Dropbox/Files/Boston_College_Courses/Thesis/Data/Website/2006_allegation.xlsx')\n",
    "seven = pd.ExcelFile('/Users/jeremyhudsonchan/Dropbox/Files/Boston_College_Courses/Thesis/Data/Website/2007_allegation.xlsx')\n",
    "eight = pd.ExcelFile('/Users/jeremyhudsonchan/Dropbox/Files/Boston_College_Courses/Thesis/Data/Website/2008_allegation.xlsx')\n",
    "nine = pd.ExcelFile('/Users/jeremyhudsonchan/Dropbox/Files/Boston_College_Courses/Thesis/Data/Website/2009_allegation.xlsx')\n",
    "ten = pd.ExcelFile('/Users/jeremyhudsonchan/Dropbox/Files/Boston_College_Courses/Thesis/Data/Website/2010_allegation.xlsx')\n",
    "eleven = pd.ExcelFile('/Users/jeremyhudsonchan/Dropbox/Files/Boston_College_Courses/Thesis//Data/Website/2011_allegation.xlsx')\n",
    "twelve = pd.ExcelFile('/Users/jeremyhudsonchan/Dropbox/Files/Boston_College_Courses/Thesis/Data/Website/2012_allegation.xlsx')\n",
    "thirteen = pd.ExcelFile('/Users/jeremyhudsonchan/Dropbox/Files/Boston_College_Courses/Thesis/Data/Website/2013_allegation.xlsx')\n",
    "fourteen = pd.ExcelFile('/Users/jeremyhudsonchan/Dropbox/Files/Boston_College_Courses/Thesis/Data/Website/2014_allegation.xlsx')\n",
    "fifteen = pd.ExcelFile('/Users/jeremyhudsonchan/Dropbox/Files/Boston_College_Courses/Thesis/Data/Website/2015_allegation.xlsx')\n",
    "sixteen = pd.ExcelFile('/Users/jeremyhudsonchan/Dropbox/Files/Boston_College_Courses/Thesis/Data/Website/2016_allegation.xlsx')"
   ]
  },
  {
   "cell_type": "code",
   "execution_count": 79,
   "metadata": {},
   "outputs": [],
   "source": [
    "# Select excel sheet allegations from excel file\n",
    "allegations_00 = zero.parse('Allegations')\n",
    "allegations_01 = one.parse('Allegations')\n",
    "allegations_02 = two.parse('Allegations')\n",
    "allegations_03 = three.parse('Allegations')\n",
    "allegations_04 = four.parse('Allegations')\n",
    "allegations_05 = five.parse('Allegations')\n",
    "allegations_06 = six.parse('Allegations')\n",
    "allegations_07 = seven.parse('Allegations')\n",
    "allegations_08 = eight.parse('Allegations')\n",
    "allegations_09 = nine.parse('Allegations')\n",
    "allegations_10 = ten.parse('Allegations')\n",
    "allegations_11 = eleven.parse('Allegations')\n",
    "allegations_12 = twelve.parse('Allegations')\n",
    "allegations_13 = thirteen.parse('Allegations')\n",
    "allegations_14 = fourteen.parse('Allegations')\n",
    "allegations_15 = fifteen.parse('Allegations')\n",
    "allegations_16 = sixteen.parse('Allegations')\n",
    "\n",
    "# combine allegations from 2010-2016 into one csv\n",
    "allegations = pd.concat([allegations_00, allegations_01, allegations_02, allegations_03, allegations_04, allegations_05, allegations_06, allegations_07, allegations_08, allegations_09, allegations_10, allegations_11, allegations_12, allegations_13,\n",
    "                        allegations_14, allegations_15, allegations_16], ignore_index=True)"
   ]
  },
  {
   "cell_type": "code",
   "execution_count": 80,
   "metadata": {},
   "outputs": [
    {
     "name": "stdout",
     "output_type": "stream",
     "text": [
      "   OfficerID  allegations\n",
      "0          1            6\n",
      "1          2            8\n",
      "2          4            2\n",
      "3          6            4\n",
      "4          7            5\n"
     ]
    },
    {
     "name": "stderr",
     "output_type": "stream",
     "text": [
      "/var/folders/64/7cc975tn74sb3dg4ztck8zsw0000gn/T/ipykernel_37908/3749225212.py:3: SettingWithCopyWarning: \n",
      "A value is trying to be set on a copy of a slice from a DataFrame.\n",
      "Try using .loc[row_indexer,col_indexer] = value instead\n",
      "\n",
      "See the caveats in the documentation: https://pandas.pydata.org/pandas-docs/stable/user_guide/indexing.html#returning-a-view-versus-a-copy\n",
      "  unique_officers['num_allegations'] = unique_officers['OfficerID'].map(allegations_count.set_index('OfficerID')['allegations'])\n"
     ]
    }
   ],
   "source": [
    "allegations_count = allegations.groupby('OfficerID').size().reset_index(name='allegations')\n",
    "print(allegations_count.head())\n",
    "unique_officers['num_allegations'] = unique_officers['OfficerID'].map(allegations_count.set_index('OfficerID')['allegations'])"
   ]
  },
  {
   "cell_type": "code",
   "execution_count": 81,
   "metadata": {},
   "outputs": [
    {
     "data": {
      "text/plain": [
       "(16368, 12)"
      ]
     },
     "execution_count": 81,
     "metadata": {},
     "output_type": "execute_result"
    }
   ],
   "source": [
    "unique_officers.shape"
   ]
  },
  {
   "cell_type": "code",
   "execution_count": 82,
   "metadata": {},
   "outputs": [
    {
     "data": {
      "text/plain": [
       "(14340, 12)"
      ]
     },
     "execution_count": 82,
     "metadata": {},
     "output_type": "execute_result"
    }
   ],
   "source": [
    "unique_officers = unique_officers.dropna(subset=[\"Beat\"])\n",
    "unique_officers.shape"
   ]
  },
  {
   "cell_type": "code",
   "execution_count": 86,
   "metadata": {},
   "outputs": [
    {
     "data": {
      "text/plain": [
       "(6771, 12)"
      ]
     },
     "execution_count": 86,
     "metadata": {},
     "output_type": "execute_result"
    }
   ],
   "source": [
    "# if Beat = 0.0, then drop row\n",
    "unique_officers = unique_officers[unique_officers.Beat != 0.0]\n",
    "unique_officers.shape"
   ]
  },
  {
   "cell_type": "code",
   "execution_count": 87,
   "metadata": {},
   "outputs": [
    {
     "name": "stdout",
     "output_type": "stream",
     "text": [
      "    OfficerID OfficerFirst OfficerLast Gender           Race  ApptDate  Unit  \\\n",
      "1          13         Dale      Abbott      M          White   30284.0   NaN   \n",
      "5          38      Abdalla    Abuzanat      M  Asian/Pacific   35975.0   NaN   \n",
      "7          58       Manuel     Acevedo      M       Hispanic   30151.0   NaN   \n",
      "9          61       Martin     Acevedo      M       Hispanic   36290.0   NaN   \n",
      "16         90        Craig       Adams      M          Black   23550.0   NaN   \n",
      "\n",
      "               Rank  Star  Age    Beat  num_allegations  \n",
      "1    Police Officer   NaN   69  1655.0                3  \n",
      "5   Po As Detective   NaN   51   813.0               13  \n",
      "7    Police Officer   NaN   66  1023.0                6  \n",
      "9    Police Officer   NaN   49  1032.0                8  \n",
      "16   Police Officer   NaN   80   123.0                8  \n"
     ]
    }
   ],
   "source": [
    "print(unique_officers.head())"
   ]
  },
  {
   "cell_type": "code",
   "execution_count": 88,
   "metadata": {},
   "outputs": [],
   "source": [
    "unique_officers.to_csv(\"/Users/jeremyhudsonchan/Dropbox/Files/Boston_College_Courses/Thesis/Data/Processed/unique_officers.csv\", index=False)"
   ]
  }
 ],
 "metadata": {
  "kernelspec": {
   "display_name": "base",
   "language": "python",
   "name": "python3"
  },
  "language_info": {
   "codemirror_mode": {
    "name": "ipython",
    "version": 3
   },
   "file_extension": ".py",
   "mimetype": "text/x-python",
   "name": "python",
   "nbconvert_exporter": "python",
   "pygments_lexer": "ipython3",
   "version": "3.9.12"
  },
  "orig_nbformat": 4,
  "vscode": {
   "interpreter": {
    "hash": "7d070d07219d78435f9a014cf028f78a39f3816bb48d44baa7b1c4c726092051"
   }
  }
 },
 "nbformat": 4,
 "nbformat_minor": 2
}
